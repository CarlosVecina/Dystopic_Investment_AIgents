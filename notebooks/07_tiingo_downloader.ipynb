{
 "cells": [
  {
   "cell_type": "markdown",
   "metadata": {},
   "source": [
    "## Available stocks"
   ]
  },
  {
   "cell_type": "code",
   "execution_count": null,
   "metadata": {},
   "outputs": [],
   "source": [
    "from dotenv import load_dotenv\n",
    "import pandas as pd\n",
    "import requests\n",
    "import datetime\n",
    "import os\n",
    "\n",
    "from sqlalchemy import text\n",
    "\n",
    "load_dotenv()\n",
    "\n",
    "TIINGO_API = os.environ[\"TIINGO_API\"]"
   ]
  },
  {
   "cell_type": "code",
   "execution_count": null,
   "metadata": {},
   "outputs": [],
   "source": [
    "headers = {\n",
    "    'Content-Type': 'application/json'\n",
    "}\n",
    "response = requests.get(f\"https://api.tiingo.com/tiingo/daily/meta?token={TIINGO_API}&columns=permaTicker,ticker,exchange,isActive\", headers=headers).json()"
   ]
  },
  {
   "cell_type": "code",
   "execution_count": null,
   "metadata": {},
   "outputs": [],
   "source": [
    "all_tickers = pd.DataFrame(response)\n",
    "\n",
    "today = datetime.datetime.now()\n",
    "all_tickers[\"created_at\"] = today"
   ]
  },
  {
   "cell_type": "code",
   "execution_count": null,
   "metadata": {},
   "outputs": [],
   "source": [
    "all_tickers.to_csv(f\"config/supported_tickers_{today}.csv\", index=False)"
   ]
  },
  {
   "cell_type": "markdown",
   "metadata": {},
   "source": [
    "### Export NSYE and NASDAQ tickers"
   ]
  },
  {
   "cell_type": "code",
   "execution_count": null,
   "metadata": {},
   "outputs": [],
   "source": [
    "import os\n",
    "from src.data_ingestion.db.postgres_db import PostgresConfig, PostgresDB\n",
    "\n",
    "\n",
    "db_config = PostgresConfig(\n",
    "    host=os.environ[\"SB_DDBB_HOST\"],\n",
    "    port=os.environ[\"SB_DDBB_PORT\"],\n",
    "    database=os.environ[\"SB_DDBB_DATABASE\"],\n",
    "    user=os.environ[\"SB_DDBB_USER\"],\n",
    "    password=os.environ[\"SB_DDBB_PWD\"]\n",
    ")\n",
    "db = PostgresDB(config=db_config)\n"
   ]
  },
  {
   "cell_type": "code",
   "execution_count": null,
   "metadata": {},
   "outputs": [],
   "source": [
    "all_tickers[all_tickers[\"exchange\"].isin([\"NASDAQ\", \"NYSE\"]) & all_tickers[\"isActive\"]].to_sql(\"active_tickers\", db.engine, if_exists='append', index=False)"
   ]
  },
  {
   "cell_type": "markdown",
   "metadata": {},
   "source": [
    "Check database insertion"
   ]
  },
  {
   "cell_type": "code",
   "execution_count": null,
   "metadata": {},
   "outputs": [],
   "source": [
    "# Query based\n",
    "df_all_tickers = pd.read_sql(text(\"SELECT ticker FROM active_tickers WHERE created_at = :date_filter\"), db.engine, params={\"date_filter\": pd.read_sql(text(\"SELECT max(created_at) FROM active_tickers\"), db.engine)[\"max\"].to_list()[0]})"
   ]
  },
  {
   "cell_type": "code",
   "execution_count": null,
   "metadata": {},
   "outputs": [],
   "source": [
    "# In our object. To be decoupled\n",
    "from src.data_ingestion.downloader.tiingo_ticker_downloader import TiingoDownloader\n",
    "\n",
    "dwn = TiingoDownloader(engine=db.engine)  \n",
    "dwn.available_tickers(date=None)"
   ]
  },
  {
   "cell_type": "markdown",
   "metadata": {},
   "source": [
    "## End day OHLC"
   ]
  },
  {
   "cell_type": "code",
   "execution_count": null,
   "metadata": {},
   "outputs": [],
   "source": [
    "import datetime\n",
    "\n",
    "ticker = \"aapl\"\n",
    "yesteday_close_date = datetime.datetime(2024, 7 ,18)"
   ]
  },
  {
   "cell_type": "code",
   "execution_count": null,
   "metadata": {},
   "outputs": [],
   "source": [
    "from src.data_ingestion.downloader.tiingo_ticker_downloader import TiingoDownloader\n",
    "\n",
    "dwn = TiingoDownloader(engine=db.engine)  \n",
    "tickers = dwn.available_tickers(date=None)[\"ticker\"].to_list()"
   ]
  },
  {
   "cell_type": "code",
   "execution_count": null,
   "metadata": {},
   "outputs": [],
   "source": [
    "df = dwn.get_prices(tickers[0:5], yesteday_close_date)"
   ]
  },
  {
   "cell_type": "code",
   "execution_count": null,
   "metadata": {},
   "outputs": [],
   "source": [
    "df"
   ]
  },
  {
   "cell_type": "code",
   "execution_count": null,
   "metadata": {},
   "outputs": [],
   "source": [
    "df = dwn.get_daily_prices(tickers[0:5], yesteday_close_date)"
   ]
  },
  {
   "cell_type": "code",
   "execution_count": null,
   "metadata": {},
   "outputs": [],
   "source": [
    "df"
   ]
  },
  {
   "cell_type": "markdown",
   "metadata": {},
   "source": [
    "## News"
   ]
  },
  {
   "cell_type": "code",
   "execution_count": null,
   "metadata": {},
   "outputs": [],
   "source": [
    "import os\n",
    "import datetime\n",
    "import pandas as pd\n",
    "\n",
    "from src.data_ingestion.db.postgres_db import PostgresConfig, PostgresDB\n",
    "\n",
    "\n",
    "db_config = PostgresConfig(\n",
    "    host=os.environ[\"SB_DDBB_HOST\"],\n",
    "    port=os.environ[\"SB_DDBB_PORT\"],\n",
    "    database=os.environ[\"SB_DDBB_DATABASE\"],\n",
    "    user=os.environ[\"SB_DDBB_USER\"],\n",
    "    password=os.environ[\"SB_DDBB_PWD\"]\n",
    ")\n",
    "db = PostgresDB(config=db_config)"
   ]
  },
  {
   "cell_type": "code",
   "execution_count": null,
   "metadata": {},
   "outputs": [],
   "source": [
    "from src.data_ingestion.downloader.tiingo_ticker_downloader import TiingoDownloader\n",
    "\n",
    "dwn = TiingoDownloader(engine=db.engine)  "
   ]
  },
  {
   "cell_type": "code",
   "execution_count": null,
   "metadata": {},
   "outputs": [],
   "source": [
    "df_news_composed = dwn.get_news_composed([\"aapl\",\"googl\"], start_date=datetime.datetime(2024, 7, 18), end_date=datetime.datetime(2024, 7, 19))"
   ]
  },
  {
   "cell_type": "code",
   "execution_count": null,
   "metadata": {},
   "outputs": [],
   "source": [
    "df_news = dwn.get_news([\"aapl\",\"googl\"], start_date=datetime.datetime(2024, 7, 18), end_date=datetime.datetime(2024, 7, 19), limit=10)"
   ]
  },
  {
   "cell_type": "markdown",
   "metadata": {},
   "source": [
    "Get all the news in batch between dates"
   ]
  },
  {
   "cell_type": "code",
   "execution_count": 8,
   "metadata": {},
   "outputs": [],
   "source": [
    "tickers = dwn.available_tickers(date=None)"
   ]
  },
  {
   "cell_type": "code",
   "execution_count": null,
   "metadata": {},
   "outputs": [],
   "source": [
    "import requests\n",
    "headers = {\"Content-Type\": \"application/json\"}\n",
    "\n",
    "response = requests.get(\n",
    "    f\"https://api.tiingo.com/tiingo/news?token={os.environ['TIINGO_API']}&tickers=amc&startDate=2024-07-20&limit=2&offset=2\",\n",
    "    headers=headers,\n",
    ").json()\n",
    "response"
   ]
  },
  {
   "cell_type": "code",
   "execution_count": null,
   "metadata": {},
   "outputs": [],
   "source": [
    "len(tickers['ticker'].to_list()) / 50"
   ]
  },
  {
   "cell_type": "code",
   "execution_count": null,
   "metadata": {},
   "outputs": [],
   "source": [
    "n_elements = len(tickers['ticker'].to_list())\n",
    "n_elements_per_batch = 50\n",
    "batches = [(i-n_elements_per_batch,i) for i in range(n_elements_per_batch, n_elements, n_elements_per_batch)]\n",
    "batches.append((batches[-1][1], n_elements))"
   ]
  },
  {
   "cell_type": "code",
   "execution_count": null,
   "metadata": {},
   "outputs": [],
   "source": [
    "init_date = '2024-03-01'\n",
    "end_date = '2024-04-01'\n",
    "list_tickers = ','.join(tickers['ticker'].to_list())\n",
    "ticker_batch = 50\n",
    "\n",
    "\n",
    "df_news = pd.DataFrame()\n",
    "for start, end in batches:\n",
    "    offset = 0\n",
    "    exhausted = False\n",
    "    while not exhausted:\n",
    "        print(offset, response)\n",
    "        limit = 100\n",
    "        response = requests.get(\n",
    "            f\"https://api.tiingo.com/tiingo/news?token={os.environ['TIINGO_API']}&tickers={list_tickers[start : end]}&startDate={init_date}&endDate={end_date}&limit={limit}&offset={offset}\",\n",
    "            headers=headers,\n",
    "        ).json()\n",
    "        offset += limit\n",
    "        exhausted = len(response) == 0\n",
    "        df_news = pd.concat([df_news, pd.DataFrame(response)])\n",
    "\n"
   ]
  },
  {
   "cell_type": "code",
   "execution_count": null,
   "metadata": {},
   "outputs": [],
   "source": [
    "df_news.to_csv(\"news_2024_04_01_2024_05_01.csv\", index=False, sep=\",\")"
   ]
  },
  {
   "cell_type": "code",
   "execution_count": null,
   "metadata": {},
   "outputs": [],
   "source": [
    "dwn.get_news_composed(\n",
    "    tickers=[\"aapl\"],\n",
    "    start_date=datetime.datetime(2024, 7, 22),\n",
    "    end_date=datetime.datetime(2024, 7, 23),\n",
    "    limit=10,\n",
    ")"
   ]
  },
  {
   "cell_type": "code",
   "execution_count": null,
   "metadata": {},
   "outputs": [],
   "source": [
    "dwn.get_daily_news_composed(\n",
    "    tickers=[\"aapl\"],\n",
    "    date=datetime.datetime(2024, 7, 22),\n",
    "    limit=10,\n",
    ")"
   ]
  },
  {
   "cell_type": "code",
   "execution_count": null,
   "metadata": {},
   "outputs": [],
   "source": []
  }
 ],
 "metadata": {
  "kernelspec": {
   "display_name": ".venv",
   "language": "python",
   "name": "python3"
  },
  "language_info": {
   "codemirror_mode": {
    "name": "ipython",
    "version": 3
   },
   "file_extension": ".py",
   "mimetype": "text/x-python",
   "name": "python",
   "nbconvert_exporter": "python",
   "pygments_lexer": "ipython3",
   "version": "3.10.14"
  }
 },
 "nbformat": 4,
 "nbformat_minor": 2
}
