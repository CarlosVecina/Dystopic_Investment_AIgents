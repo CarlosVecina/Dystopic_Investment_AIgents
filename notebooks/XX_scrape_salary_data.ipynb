{
 "cells": [
  {
   "cell_type": "code",
   "execution_count": 1,
   "metadata": {},
   "outputs": [],
   "source": [
    "import time\n",
    "from bs4 import BeautifulSoup\n",
    "from selenium import webdriver\n",
    "from selenium.webdriver.chrome.options import Options\n",
    "from webdriver_manager.chrome import ChromeDriverManager\n",
    "from selenium.webdriver.support.ui import WebDriverWait\n",
    "from selenium.webdriver.common.by import By\n",
    "from selenium.webdriver.support import expected_conditions as EC\n",
    "import numpy as np\n",
    "\n",
    "from selenium import webdriver\n",
    "from selenium.webdriver.chrome.service import Service\n",
    "\n",
    "\n",
    "def get_driver(use_proxy=False):\n",
    "\n",
    "    chrome_options = Options()\n",
    "    chrome_options = webdriver.ChromeOptions()\n",
    "\n",
    "    if use_proxy:\n",
    "        driver = webdriver.Chrome(ChromeDriverManager().install(), chrome_options=chrome_options)\n",
    "        driver.get(\"https://sslproxies.org/\")\n",
    "        driver.execute_script(\"return arguments[0].scrollIntoView(true);\", WebDriverWait(driver, 20).until(EC.visibility_of_element_located((By.XPATH, \"//table[@class='table table-striped table-bordered dataTable']//th[contains(., 'IP Address')]\"))))\n",
    "        ips = [my_elem.get_attribute(\"innerHTML\") for my_elem in WebDriverWait(driver, 5).until(EC.visibility_of_all_elements_located((By.XPATH, \"//table[@class='table table-striped table-bordered dataTable']//tbody//tr[@role='row']/td[position() = 1]\")))]\n",
    "        ports = [my_elem.get_attribute(\"innerHTML\") for my_elem in WebDriverWait(driver, 5).until(EC.visibility_of_all_elements_located((By.XPATH, \"//table[@class='table table-striped table-bordered dataTable']//tbody//tr[@role='row']/td[position() = 2]\")))]\n",
    "        proxies = []\n",
    "        for i in range(0, len(ips)):\n",
    "            proxies.append(ips[i]+':'+ports[i])\n",
    "        chrome_options = webdriver.ChromeOptions()\n",
    "        i = int(np.random.randint(low=0, high=5, size=(1,)))\n",
    "        chrome_options.add_argument('--proxy-server={}'.format(proxies[i]))\n",
    "        chrome_options.add_argument(\"start-maximized\")\n",
    "        chrome_options.add_experimental_option(\"excludeSwitches\", [\"enable-automation\"])\n",
    "        chrome_options.add_experimental_option('useAutomationExtension', False)\n",
    "\n",
    "    chrome_options.add_argument(\"start-maximized\")\n",
    "    service = Service()\n",
    "    driver = webdriver.Chrome(service=service, options=chrome_options)\n",
    "    driver.execute_cdp_cmd(\"Page.addScriptToEvaluateOnNewDocument\", {\n",
    "    \"source\":\n",
    "        \"const newProto = navigator.__proto__;\"\n",
    "        \"delete newProto.webdriver;\"\n",
    "        \"navigator.__proto__ = newProto;\"\n",
    "    })\n",
    "\n",
    "    return driver"
   ]
  },
  {
   "cell_type": "code",
   "execution_count": 2,
   "metadata": {},
   "outputs": [
    {
     "name": "stderr",
     "output_type": "stream",
     "text": [
      "Error sending stats to Plausible: error sending request for url (https://plausible.io/api/event)\n"
     ]
    }
   ],
   "source": [
    "driver = get_driver()"
   ]
  },
  {
   "cell_type": "code",
   "execution_count": 6,
   "metadata": {},
   "outputs": [
    {
     "data": {
      "text/plain": [
       "'https://www.levels.fyi/t/data-scientist/locations/singapore?limit=50'"
      ]
     },
     "execution_count": 6,
     "metadata": {},
     "output_type": "execute_result"
    }
   ],
   "source": [
    "BASE_URL = \"https://www.levels.fyi/t\"\n",
    "\n",
    "role = \"data-scientist\"\n",
    "location = \"singapore\"\n",
    "\n",
    "composed_url = f\"{BASE_URL}/{role}/locations/{location}?limit=50\"\n",
    "composed_url"
   ]
  },
  {
   "cell_type": "code",
   "execution_count": 8,
   "metadata": {},
   "outputs": [],
   "source": [
    "driver.get(composed_url)"
   ]
  },
  {
   "cell_type": "code",
   "execution_count": 9,
   "metadata": {},
   "outputs": [],
   "source": [
    "html = driver.page_source\n",
    "soup = BeautifulSoup(html)\n",
    "dict_data = dict()"
   ]
  },
  {
   "cell_type": "code",
   "execution_count": 29,
   "metadata": {},
   "outputs": [
    {
     "data": {
      "text/plain": [
       "'CompanyLocation | DateLevel NameTagYears of ExperienceTotal / At CompanyTotal Compensation (SGD)Base | Stock (yr) | Bonus Illumina Singapore, SG, Singapore | a day agoP3ML / AI5  yrs 3  yrs138.000\\xa0S$130\\xa0mil | 8\\xa0mil | N/ATencent Singapore, SG, Singapore | 3 days agoT11Data5  yrs 2  yrs290.001\\xa0S$200\\xa0mil | 40\\xa0mil | 50\\xa0milGrab Singapore, SG, Singapore | 4 days agoG4Analytics7  yrs 4  yrs172.001\\xa0S$133\\xa0mil | 20\\xa0mil | 19\\xa0milInfoCepts Singapore, SG, Singapore | 6 days agoL2Data3  yrs 3  yrs57.500\\xa0S$57,5\\xa0mil | N/A | N/AGrab Singapore, SG, Singapore | 7 days agoG5hidden7  yrs 3  yrs305.001\\xa0S$180\\xa0mil | 89\\xa0mil | 36\\xa0milReview your resume with a recruiterStart ReviewStartGrab Singapore, SG, Singapore | 01/08/2024G6Data Science8  yrs 5  yrs332.001\\xa0S$192\\xa0mil | 100\\xa0mil | 40\\xa0milNanyang Technolog... Singapore, SG, Singapore | 01/08/2024Project ManagerAI/Computer Vision6  yrs 6  yrs93.600\\xa0S$93,6\\xa0mil | N/A | N/AHPE Singapore, SG, Singapore | 30/07/2024SpecialistNLP5  yrs 3  yrs87.000\\xa0S$75\\xa0mil | N/A | 12\\xa0milGrab Singapore, SG, Singapore | 19/07/2024G4Product6  yrs 6  yrs188.801\\xa0S$142,8\\xa0mil | 20\\xa0mil | 26\\xa0milVerisk Singapore, SG, Singapore | 18/07/2024L1Data2  yrs 2  yrs56.000\\xa0S$56\\xa0mil | N/A | N/ACarro Singapore, SG, Singapore | 17/07/2024Data Scientist IIIi2  yrs 2  yrs84.500\\xa0S$78\\xa0mil | N/A | 6,5\\xa0milTemasek Singapore, SG, Singapore | 13/07/2024AnalystData2  yrs 2  yrs150.000\\xa0S$100\\xa0mil | N/A | 50\\xa0milEnvision Singapore, SG, Singapore | 11/07/2024EntryData Science0  yrs 0  yrs60.000\\xa0S$60\\xa0mil | N/A | N/ALazada Singapore, SG, Singapore | 05/07/2024hiddenhidden5-10  yrs 2-4  yrs160.000\\xa0S$120\\xa0mil | N/A | 40\\xa0milDSO National LabsSingapore, SG, Singapore | 05/07/20247MTS4  yrs 4  yrs123.760\\xa0S$88\\xa0mil | N/A | 35,8\\xa0milFacebook Singapore, SG, Singapore | 29/06/2024IC5Data7  yrs 3  yrs407.999\\xa0S$218\\xa0mil | 150\\xa0mil | 40\\xa0milAccenture Singapore, SG, Singapore | 19/06/2024Associate Data ScientistAnalytics3  yrs 3  yrs100.000\\xa0S$100\\xa0mil | N/A | N/AData ScientistSingapore, SG, Singapore | 14/06/2024-hidden0  yrs 0  yrs72.000\\xa0S$72\\xa0mil | N/A | N/AOCBC Singapore, SG, Singapore | 13/06/2024AVPML6  yrs 3  yrs134.000\\xa0S$104\\xa0mil | N/A | 30\\xa0milHPE Singapore, SG, Singapore | 12/06/2024L3Data2  yrs 0  yrs70.000\\xa0S$70\\xa0mil | N/A | N/AGojek Tech Singapore, SG, Singapore | 31/05/2024L3AI4  yrs 0  yrs110.000\\xa0S$110\\xa0mil | N/A | N/AAMILISingapore, SG, Singapore | 30/05/2024-Bio6  yrs 0  yrs102.000\\xa0S$102\\xa0mil | N/A | N/AMcKinsey Singapore, SG, Singapore | 27/05/2024Data ScientistData2  yrs 2  yrs110.000\\xa0S$100\\xa0mil | N/A | 10\\xa0milLouis Dreyfus Com...Singapore, SG, Singapore | 25/05/2024-Commodities6  yrs 0  yrs195.001\\xa0S$150\\xa0mil | N/A | 45\\xa0milByteDance Singapore, SG, Singapore | 23/05/20242-2Analytics5  yrs 0  yrs209.000\\xa0S$151,2\\xa0mil | 20\\xa0mil | 37,8\\xa0milAgency for Scienc... Singapore, SG, Singapore | 18/05/20245RTS12  yrs 5  yrs156.000\\xa0S$136\\xa0mil | N/A | 20\\xa0milByteDance Singapore, SG, Singapore | 16/05/20242-2hidden15  yrs 2  yrs213.001\\xa0S$170,4\\xa0mil | N/A | 42,6\\xa0milQualtrics Singapore, SG, Singapore | 15/05/2024L5Hi12  yrs 3  yrs120.000\\xa0S$120\\xa0mil | N/A | N/AGrab Singapore, SG, Singapore | 15/05/2024G4CV3  yrs 3  yrs165.960\\xa0S$112\\xa0mil | 37\\xa0mil | 17\\xa0milDBS Bank Singapore, SG, Singapore | 14/05/2024AVPCustomer7  yrs 2  yrs140.000\\xa0S$120\\xa0mil | N/A | 20\\xa0milGovTech Singapore, SG, Singapore | 08/05/2024HDS9  yrs 3  yrs152.001\\xa0S$152\\xa0mil | N/A | N/ADBS Bank Singapore, SG, Singapore | 01/05/2024VPData13  yrs 3  yrs+1\\xa0mil\\xa0S$120.000\\xa0S$100\\xa0mil | N/A | 20\\xa0milShopee Singapore, SG, Singapore | 26/04/2024Fresh GraduateRisk0  yrs 0  yrs92.000\\xa0S$78\\xa0mil | 1\\xa0mil | 13\\xa0milMicron Technology Singapore, SG, Singapore | 23/04/2024E4Manufacturing4  yrs 4  yrs153.817\\xa0S$153,8\\xa0mil | N/A | N/AThales Singapore, SG, Singapore | 17/04/2024LR7Reinforcement learning6  yrs 6  yrs83.616\\xa0S$83,6\\xa0mil | N/A | N/AExpedia Singapore, SG, Singapore | 16/04/2024Data Scientist IIIB2B8  yrs 0  yrs123.000\\xa0S$123\\xa0mil | N/A | N/AMcKinsey Singapore, SG, Singapore | 08/04/2024Data ScientistDS1  yr 1  yr101.500\\xa0S$101,5\\xa0mil | N/A | N/AGojek Tech Singapore, SG, Singapore | 07/04/2024L3Marketplace3  yrs 3  yrs122.000\\xa0S$110\\xa0mil | N/A | 12\\xa0milCargill Singapore, SG, Singapore | 04/04/2024DS LeadCommodities7  yrs 4  yrs180.001\\xa0S$150\\xa0mil | N/A | 30\\xa0milTencent Singapore, SG, Singapore | 01/04/2024T9Data7  yrs 1  yr135.261\\xa0S$135,3\\xa0mil | N/A | N/AJohnson & Johnson Singapore, SG, Singapore | 01/04/202423Data5  yrs 3  yrs140.000\\xa0S$140\\xa0mil | N/A | N/ATencent Singapore, SG, Singapore | 27/03/2024T9ML / AI7  yrs 0  yrs132.000\\xa0S$132\\xa0mil | N/A | N/AData ScientistSingapore, SG, Singapore | 27/03/2024hiddenhidden11+  yrs 11+  yrs360.001\\xa0S$240\\xa0mil | N/A | 120\\xa0milGrab Singapore, SG, Singapore | 27/03/2024G4Analytics5  yrs 3  yrs158.000\\xa0S$108\\xa0mil | 50\\xa0mil | N/AMastercard Singapore, SG, Singapore | 23/03/2024L7Senior5  yrs 5  yrs84.000\\xa0S$84\\xa0mil | N/A | N/AGIC Singapore, SG, Singapore | 22/03/2024L0Intern0  yrs 0  yrs48.000\\xa0S$48\\xa0mil | N/A | N/A4 submissions are hidden to maintain anonymity. Add your salary anonymously.Rows Per Page50Rows Per Page1 - 46 of 3951234...8'"
      ]
     },
     "execution_count": 29,
     "metadata": {},
     "output_type": "execute_result"
    }
   ],
   "source": [
    "soup.find_all(\"div\", class_=\"MuiTableContainer-root\")[0].text#.split(\"|\")#.split(\"\\xa0\")[0]#.split(\" | \")"
   ]
  },
  {
   "cell_type": "code",
   "execution_count": 32,
   "metadata": {},
   "outputs": [
    {
     "name": "stdout",
     "output_type": "stream",
     "text": [
      "Scrapping offset 100\n",
      "Scrapping offset 150\n",
      "Scrapping offset 200\n",
      "Scrapping offset 250\n",
      "Scrapping offset 300\n",
      "Scrapping offset 350\n"
     ]
    }
   ],
   "source": [
    "list_scraped = []\n",
    "\n",
    "for i in range(100, 400, 50):\n",
    "    print(f\"Scrapping offset {i}\")\n",
    "    # Abrimos el navegador en esta pagina\n",
    "    driver.get(composed_url + f\"&offset={i}\")\n",
    "    # Te 'descarga' la pagina como un string\n",
    "    html = driver.page_source\n",
    "    # Te convierte el string con HTML dentro en un objeto de BeautifulSoup con metodos handys\n",
    "    soup = BeautifulSoup(html)\n",
    "    # Buscamos la tabla de la pagina\n",
    "    tabla_iteracion = soup.find_all(\"div\", class_=\"MuiTableContainer-root\")[0].text\n",
    "    # LO añadimos a nuestra lista\n",
    "    list_scraped.append(tabla_iteracion)\n",
    "    # Ponemos un pequeño sleep para que la pagina no detecte que es un bot\n",
    "    import time \n",
    "    time.sleep(1)\n",
    "    "
   ]
  },
  {
   "cell_type": "code",
   "execution_count": 42,
   "metadata": {},
   "outputs": [
    {
     "data": {
      "text/plain": [
       "'CompanyLocation | DateLevel NameTagYears of ExperienceTotal / At CompanyTotal Compensation (SGD)Base | Stock (yr) | Bonus Grab Singapore, SG, Singapore | 16/07/2021G5Data6  yrs 1  yr135.428\\xa0S$108,3\\xa0mil | 13,5\\xa0mil | 13,5\\xa0milGrab Singapore, SG, Singapore | 30/06/2021G4Product3  yrs 3  yrs126.200\\xa0S$94,2\\xa0mil | 10\\xa0mil | 22\\xa0milShopee Singapore, SG, Singapore | 27/06/2021L3General1  yr 1  yr126.209\\xa0S$91,3\\xa0mil | 18,8\\xa0mil | 16,1\\xa0milShopee Singapore, SG, Singapore | 13/06/2021SeniorGeneral4  yrs 2  yrs160.413\\xa0S$82,2\\xa0mil | 67,6\\xa0mil | 10,6\\xa0milGojek Tech Singapore, SG, Singapore | 31/05/2021L3-2  yrs 2  yrs96.000\\xa0S$96\\xa0mil | N/A | N/ANegotiate up, or your money back+$25k+$19k+$13kNegotiate your offerMake MoreIndeed Singapore, SG, Singapore | 31/05/2021L1-3  yrs 0  yrs140.250\\xa0S$115\\xa0mil | 13,3\\xa0mil | 12\\xa0milFacebook Singapore, SG, Singapore | 30/05/2021IC4Legal3  yrs 0  yrs133.652\\xa0S$113,8\\xa0mil | 7,9\\xa0mil | 11,9\\xa0milShopee Singapore, SG, Singapore | 09/05/2021Senior ExpertRecommendation7  yrs 7  yrs317.922\\xa0S$238,4\\xa0mil | 39,7\\xa0mil | 39,7\\xa0milBioMindSingapore, SG, Singapore | 30/04/2021L3Other2  yrs 2  yrs72.000\\xa0S$72\\xa0mil | N/A | N/ATencent Singapore, SG, Singapore | 30/04/2021hiddenhidden0-1  yrs 0-1  yrs78.000\\xa0S$78\\xa0mil | N/A | N/AGrab Singapore, SG, Singapore | 16/04/2021G4General4  yrs 2  yrs160.127\\xa0S$108,1\\xa0mil | 14,7\\xa0mil | 37,4\\xa0milGojek Tech Singapore, SG, Singapore | 31/03/2021L2Data Scientist1  yr 1  yr130.000\\xa0S$120\\xa0mil | N/A | 10\\xa0milGojek Tech Singapore, SG, Singapore | 31/03/2021L2Data Scientist1  yr 1  yr130.000\\xa0S$120\\xa0mil | N/A | 10\\xa0milGojek Tech Singapore, SG, Singapore | 31/03/2021L2-2  yrs 1  yr135.000\\xa0S$120\\xa0mil | N/A | 15\\xa0milAgoda Singapore, SG, Singapore | 23/03/2021SeniorGeneral5  yrs 0  yrs145.416\\xa0S$121,2\\xa0mil | 10,8\\xa0mil | 13,5\\xa0milFacebook Singapore, SG, Singapore | 10/03/2021IC4Mobile5  yrs 2  yrs224.463\\xa0S$146,5\\xa0mil | 45,7\\xa0mil | 32,3\\xa0milGrab Singapore, SG, Singapore | 04/02/2021G4Machine Learning4  yrs 2  yrs132.354\\xa0S$100,3\\xa0mil | 12\\xa0mil | 20,1\\xa0milDyson Singapore, SG, Singapore | 31/01/2021-Data3  yrs 0  yrs108.499\\xa0S$93\\xa0mil | N/A | 15,5\\xa0milByteDance Singapore, SG, Singapore | 19/01/20212-1ML / AI0  yrs 0  yrs110.225\\xa0S$90,3\\xa0mil | 5,3\\xa0mil | 14,6\\xa0milGrab Singapore, SG, Singapore | 23/12/2020G3Data0  yrs 0  yrs94.781\\xa0S$73,4\\xa0mil | 1,3\\xa0mil | 20\\xa0milShopee Singapore, SG, Singapore | 19/11/2020SeniorML / AI1  yr 1  yr131.862\\xa0S$102,3\\xa0mil | 12,1\\xa0mil | 17,5\\xa0milGrab Singapore, SG, Singapore | 05/10/2020G3Data0  yrs 0  yrs81.588\\xa0S$61,2\\xa0mil | 6,8\\xa0mil | 13,6\\xa0milGIC Singapore, SG, Singapore | 19/09/2020AVPML / AI3  yrs 3  yrs190.269\\xa0S$130,5\\xa0mil | N/A | 59,8\\xa0milGrab Singapore, SG, Singapore | 28/08/2020G5ML / AI7  yrs 0  yrs152.154\\xa0S$122,3\\xa0mil | 17,7\\xa0mil | 12,2\\xa0milGrab Singapore, SG, Singapore | 24/08/2020G6iOS10  yrs 0  yrs301.495\\xa0S$216,5\\xa0mil | 41,1\\xa0mil | 43,9\\xa0milApple Singapore, SG, Singapore | 19/08/2020ICT5ML / AI12  yrs 0  yrs424.657\\xa0S$253,4\\xa0mil | 137\\xa0mil | 34,2\\xa0milNational Universi... Singapore, SG, Singapore | 31/07/2020L3IORA1  yr 1  yr74.400\\xa0S$74,4\\xa0mil | N/A | N/AShopee Singapore, SG, Singapore | 23/07/2020SeniorML / AI3  yrs 2  yrs138.600\\xa0S$83,2\\xa0mil | 44,4\\xa0mil | 11,1\\xa0milDBS Bank Singapore, SG, Singapore | 20/07/2020VPML / AI15  yrs 2  yrs291.627\\xa0S$222,2\\xa0mil | N/A | 69,4\\xa0milGrab Singapore, SG, Singapore | 14/07/2020G3ML / AI2  yrs 2  yrs79.244\\xa0S$62,6\\xa0mil | 7\\xa0mil | 9,7\\xa0milPrudentialSingapore, SG, Singapore | 01/07/2020L2AI4  yrs 4  yrs90.000\\xa0S$90\\xa0mil | N/A | N/ALazada Singapore, SG, Singapore | 30/06/2020P41Algorithm4  yrs 0  yrs105.000\\xa0S$90\\xa0mil | N/A | 15\\xa0milPrudential Financial Singapore, SG, Singapore | 01/06/2020L1N/A5  yrs 3  yrs80.000\\xa0S$80\\xa0mil | N/A | N/AShopee Singapore, SG, Singapore | 31/05/2020JuniorML / AI1  yr 1  yr80.475\\xa0S$67,8\\xa0mil | 1,4\\xa0mil | 11,3\\xa0milShopee Singapore, SG, Singapore | 16/05/2020StaffML / AI0  yrs 0  yrs88.609\\xa0S$71,5\\xa0mil | N/A | 17,2\\xa0milMicrosoft Singapore, SG, Singapore | 16/01/2020SeniorML / AI5  yrs 5  yrs228.926\\xa0S$175,1\\xa0mil | 20,2\\xa0mil | 33,7\\xa0milGrab Singapore, SG, Singapore | 12/12/2019G5ML / AI8  yrs 1  yr216.333\\xa0S$135,2\\xa0mil | 60,8\\xa0mil | 20,3\\xa0milGrab Singapore, SG, Singapore | 15/11/2019G4ML / AI3  yrs 0  yrs127.891\\xa0S$100,7\\xa0mil | 12,2\\xa0mil | 15\\xa0milDBS Bank Singapore, SG, Singapore | 30/09/2019Senior AssociateData Science4  yrs 0  yrs72.000\\xa0S$72\\xa0mil | N/A | N/AFacebook Singapore, SG, Singapore | 18/06/2018IC3ML / AI0  yrs 0  yrs283.746\\xa0S$202,7\\xa0mil | 40,5\\xa0mil | 40,5\\xa0mil5 submissions are hidden to maintain anonymity. Add your salary anonymously.Rows Per Page50Rows Per Page3501 - 35040 of 3951...5678'"
      ]
     },
     "execution_count": 42,
     "metadata": {},
     "output_type": "execute_result"
    }
   ],
   "source": [
    "list_scraped[5]"
   ]
  }
 ],
 "metadata": {
  "kernelspec": {
   "display_name": ".venv",
   "language": "python",
   "name": "python3"
  },
  "language_info": {
   "codemirror_mode": {
    "name": "ipython",
    "version": 3
   },
   "file_extension": ".py",
   "mimetype": "text/x-python",
   "name": "python",
   "nbconvert_exporter": "python",
   "pygments_lexer": "ipython3",
   "version": "3.11.9"
  }
 },
 "nbformat": 4,
 "nbformat_minor": 2
}
