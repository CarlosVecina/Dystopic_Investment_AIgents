{
 "cells": [
  {
   "cell_type": "code",
   "execution_count": 1,
   "metadata": {},
   "outputs": [],
   "source": [
    "from src.agents.analyst_base import AnalystAdal\n",
    "from lightrag.components.model_client import OpenAIClient\n",
    "\n",
    "\n",
    "analyst01 = AnalystAdal(\n",
    "    personality={\"mood\": \"optimistic\", \"risk_tolerance\": 0.5},\n",
    "    seniority=OpenAIClient(),\n",
    "    seniority_args= {\n",
    "        \"model\": \"gpt-4o-mini\",\n",
    "        \"temperature\": 0.0,\n",
    "    }\n",
    ")"
   ]
  },
  {
   "cell_type": "code",
   "execution_count": 2,
   "metadata": {},
   "outputs": [
    {
     "data": {
      "text/plain": [
       "AnalystAdal(personality=Personality(mood=<Mood.OPTIMISTIC: 'optimistic'>, risk_tolerance=0.5), toolset=None, seniority=OpenAIClient(), seniority_args={'model': 'gpt-4o-mini', 'temperature': 0.0}, news_feed=None, prices_feed=None)"
      ]
     },
     "execution_count": 2,
     "metadata": {},
     "output_type": "execute_result"
    }
   ],
   "source": [
    "analyst01"
   ]
  },
  {
   "cell_type": "code",
   "execution_count": 5,
   "metadata": {},
   "outputs": [
    {
     "name": "stdout",
     "output_type": "stream",
     "text": [
      "Prompt:\n",
      "______________________\n",
      "<SYS>\n",
      "\n",
      "                You are a helpful analyst. Your task is to summarize the following text in one or two sentences.\n",
      "                Instructions:\n",
      "                - Please, follow the input language for the output.\n",
      "                - Do not add any information that is not present in the input.\n",
      "                - Do not include your opinion or interpretation.\n",
      "                - Utilize a dystopic tone.\n",
      "                \n",
      "</SYS>\n",
      "<User>\n",
      "\n",
      "Venezuela entró este domingo en un territorio desconocido, lleno de incertidumbres, tras una jornada que ya ha pasado a la historia de la lucha por la democracia. El país democrático se lanzó a hacer cola, sabedor de que el 28-J no se trataba de una fiesta, sino de un ejercicio de resistencia contra el poder. Largas filas de ciudadanos dispuestos a permanecer de pie durante horas hasta ejercer su derecho, pese a las innumerables trampas de todo tipo que les ponía en su camino la revolución bolivariana.\n",
      "\n",
      "Para la Venezuela profunda, los estados (regiones) que empujaron la caravana de la libertad liderada por María Corina Machado, hasta los barrios más populares de Caracas, se trataba del ahora o nunca y así lo hicieron saber. \"Mi barrio cambió\", aseguró Kelly H., de 21 años, a EL MUNDO en el principal colegio electoral de El Valle, el barrio que acogió a Nicolás Maduro en su infancia, donde casi siempre se votó a la revolución. Hasta el domingo.\n",
      "\n",
      "Tanta euforia se tradujo en las exit polls, que daban como ganador al candidato opositor Edmundo González Urrutia por entre 20 y 35 puntos de ventaja, muy parecida a la que ya otorgaron durante toda la campaña las encuestadoras independientes al antiguo embajador en Argentina y Argelia, un hombre tan tranquilo que no parece ni caribeño. Edison Research, para The Wall Street Journal, vaticinó un triunfo para el diplomático: 64% a su favor frente al 31% de Maduro.\n",
      "\n",
      "Ninguna de estas encuestas se hizo pública en Venezuela, no así la de Hinterlaces pese a estar prohibido por la legislación. Esta empresa, propiedad de un asesor de Maduro, dio por ganador a su jefe sin ninguna credibilidad, pero agitó el avispero antes de tiempo. La oposición ya sabía que el plan de la revolución es cantar victoria, salvo sorpresa mayúscula, y esta falsa encuesta, como todas las que publicó durante la campaña, así lo confirmó.\n",
      "\n",
      "</User>\n",
      "You:\n",
      "\n",
      "Venezuela se adentra en un futuro incierto tras una jornada histórica de resistencia democrática, donde ciudadanos enfrentaron obstáculos para ejercer su derecho al voto, con encuestas que pronosticaban una victoria opositora que contrasta con la manipulación de resultados por parte del régimen de Maduro. La euforia de la oposición se ve empañada por la desconfianza en las encuestas oficiales, que favorecen al gobierno, dejando al país en un estado de desesperanza y confusión.\n"
     ]
    }
   ],
   "source": [
    "summary = analyst01.summarize(\"\"\"\n",
    "Venezuela entró este domingo en un territorio desconocido, lleno de incertidumbres, tras una jornada que ya ha pasado a la historia de la lucha por la democracia. El país democrático se lanzó a hacer cola, sabedor de que el 28-J no se trataba de una fiesta, sino de un ejercicio de resistencia contra el poder. Largas filas de ciudadanos dispuestos a permanecer de pie durante horas hasta ejercer su derecho, pese a las innumerables trampas de todo tipo que les ponía en su camino la revolución bolivariana.\n",
    "\n",
    "Para la Venezuela profunda, los estados (regiones) que empujaron la caravana de la libertad liderada por María Corina Machado, hasta los barrios más populares de Caracas, se trataba del ahora o nunca y así lo hicieron saber. \"Mi barrio cambió\", aseguró Kelly H., de 21 años, a EL MUNDO en el principal colegio electoral de El Valle, el barrio que acogió a Nicolás Maduro en su infancia, donde casi siempre se votó a la revolución. Hasta el domingo.\n",
    "\n",
    "Tanta euforia se tradujo en las exit polls, que daban como ganador al candidato opositor Edmundo González Urrutia por entre 20 y 35 puntos de ventaja, muy parecida a la que ya otorgaron durante toda la campaña las encuestadoras independientes al antiguo embajador en Argentina y Argelia, un hombre tan tranquilo que no parece ni caribeño. Edison Research, para The Wall Street Journal, vaticinó un triunfo para el diplomático: 64% a su favor frente al 31% de Maduro.\n",
    "\n",
    "Ninguna de estas encuestas se hizo pública en Venezuela, no así la de Hinterlaces pese a estar prohibido por la legislación. Esta empresa, propiedad de un asesor de Maduro, dio por ganador a su jefe sin ninguna credibilidad, pero agitó el avispero antes de tiempo. La oposición ya sabía que el plan de la revolución es cantar victoria, salvo sorpresa mayúscula, y esta falsa encuesta, como todas las que publicó durante la campaña, así lo confirmó.\n",
    "\"\"\")\n",
    "\n",
    "print(summary)"
   ]
  },
  {
   "cell_type": "markdown",
   "metadata": {},
   "source": [
    "## Fund Manager"
   ]
  },
  {
   "cell_type": "code",
   "execution_count": 3,
   "metadata": {},
   "outputs": [],
   "source": [
    "new_market_2024H1 = \"\"\"The S&P 500 Index (+3.6%) and NASDAQ Composite (+6.0%) closed June higher for the second straight month, notching their fifth monthly gain for 2024. Solid June gains in NVIDIA (+12.6%) and Apple (+9.6%) helped drive both indexes higher in the final month of the first half of the year. In the middle of June, NVIDIA surpassed Microsoft as the most valuable company on the planet. However, shares of the artificial intelligence chip maker quickly slumped by over 15% amid concerns its valuation had become stretched and the trade had become too crowded. Yet, by the end of the month, shares had recovered some of the lost ground as investors used the opportunity to buy shares. \n",
    "\n",
    "Importantly, the general momentum for stocks was higher in June and through much of the second quarter. As a result, by the end of the month, stock volatility had reached some of its lowest levels going back to January 2020. From a quarterly perspective, the S&P 500 closed out its third consecutive quarter of gains, finishing higher by +4.3% in Q2. Over the last three quarters, the Index is higher by over +27%, seeing its strongest three-quarter run since the second quarter of 2021. Notably, the S&P 500 is higher in six of the last seven quarters. \n",
    "\n",
    "“Should economic and profit growth continue to stay positive in the second half, we see a path higher for U.S. major stock averages, possibly including broader participation, which was lacking in the first half of the year.”\n",
    "\n",
    "Anthony Saglimbene - Chief Market Strategist, Ameriprise Financial\n",
    "\n",
    "As the second half of the year begins, concentrated stock returns, low volatility, and minimal trading volume leave the door open to increasing risk for stock prices should the soft-landing narrative see some unexpected turbulence through year-end. That said, fundamental conditions remain on firm footing, in our view. Should economic and profit growth continue to stay positive in the second half, we see a path higher for U.S. major stock averages, possibly including broader participation, which was lacking in the first half of the year.          \n",
    "\n",
    "Last week in review\n",
    "The S&P 500 ended at 5,460 after briefly touching 5,523 on Friday and hitting a new all-time intraday high.\n",
    "The core Personal Consumption Expenditures Price Index (the Federal Reserve’s preferred inflation measure) fell in May to its lowest level since March 2021. Several more months of cooling PCE prints will likely be needed to keep a September Federal Reserve rate cut on the table.\n",
    "May personal spending growth came in a bit weaker than expected, while personal income was a tad higher than forecast.\n",
    "June Consumer Confidence came in largely as expected, with one-year ahead inflation expectations ticking down slightly.\n",
    "President Biden’s poor debate performance on Thursday increased uncertainty about his ability to perform the rigorous duties of the U.S. Presidency over the next four years.     \n",
    "The first half in review\n",
    "Despite a narrowing rally in the second quarter, major U.S. stock averages finished the first half of the year broadly higher. Equity returns, at least for the S&P 500 Index and NASDAQ Composite, rivaled first half returns seen in the late 1990s. Yet nearly 60% of the S&P 500’s return in the first six months of the year can be attributed to just five mega-cap stocks (i.e., NVIDIA, Microsoft, Meta Platforms, Amazon, and Apple). In fact, that concentration of leading stocks has narrowed over recent months, with NVIDIA, Apple, and Microsoft driving 90% of the S&P 500’s return in the second quarter.\n",
    "\n",
    "Outside of clear, visible, and secular profit trends across a handful of companies, elevated interest rates, lingering services inflation, slowing growth concerns, and a Federal Reserve on pause have kept a lid on how high the rest of the market has been able to rise given current valuation levels. For instance, the S&P 500’s trailing price-to-earnings ratio ended the second quarter 44% above its 20-year average, mostly driven by mega-cap Technology stocks.\n",
    "\n",
    "Below is a bulleted view of the key market and economic factors that have driven markets so far this year:   \n",
    "\n",
    "The S&P 500 Index rose +15.3% in the first six months of the year, and the NASDAQ Composite rose +18.6%. An artificial intelligence boom helped drive a select group of Technology stocks higher in the first half, leading to +25% plus gains across Information Technology and Communication Services. Nevertheless, ten of eleven S&P 500 sectors finished the first half with gains. Real Estate was the sole S&P 500 sector to finish lower.\n",
    "The Dow Jones Industrials Average (+4.8%) and Russell 2000 Index (+1.7%) trailed significantly, as mixed economic and consumer trends and elevated interest rates weighed on sentiment.\n",
    "The 10-year U.S. Treasury yield increased 48 basis points in the first half to finish at 4.37%. Performance across major bond indexes was mixed. Falling expectations for the number of Federal Reserve rate cuts this year, and growing concerns about U.S. debt and deficit spending kept fixed income volatility elevated.  \n",
    "In the first quarter, the U.S. economy grew by +1.4%. The Atlanta Federal Reserve GDPNOW forecast suggests the domestic economy grew by +2.2% in the second quarter. The longer-term U.S. growth average is around +2.0%.\n",
    "Consumer spending (roughly 70% of the U.S. economy) was resilient throughout the first half. However, lower-income consumers continue to struggle under inflation pressures, while mid-to-higher-end consumers have become more discerning about how and where they spend.  \n",
    "The U.S. unemployment rate stood at 4.0% at the end of May, up from 3.7% at the end of December.\n",
    "The headline Consumer Price Index (CPI) flatlined on an annualized basis over the first five months of the year, ending May at +3.3%. Nevertheless, core CPI (ex-food and energy) dropped from an annualized level of +3.9% at the end of December to +3.4% by the end of May. Notably, May core CPI stood at its lowest level since August 2021. And when shelter is excluded, CPI stood at +1.9% in May, its lowest level since May 2021. Bottom line: Inflation across a host of measures showed slow but steady progress lower in the first half.\n",
    "S&P 500 earnings per share (EPS) grew by nearly +6.0% year-over-year in the first quarter, almost double what analysts projected at the end of March. In the second quarter, S&P 500 EPS is expected to grow by over +8.0% year-over-year. While earnings growth in the first quarter was largely concentrated across a handful of mega-cap technology companies, an increasing number of companies and industries are expected to see positive profit growth in the second quarter.\n",
    "Gold rose nearly +13.0% in the first half, while West Texas Intermediate (WTI) crude jumped almost +14%.\n",
    "The U.S. Dollar Index remained strong, with the dollar advancing +4.5% against a basket of developed world currencies.   \n",
    "\"\"\""
   ]
  },
  {
   "cell_type": "code",
   "execution_count": 4,
   "metadata": {},
   "outputs": [
    {
     "name": "stdout",
     "output_type": "stream",
     "text": [
      "Prompt:\n",
      "______________________\n",
      "<SYS>\n",
      "You are a helpful analyst. Your task is to summarize the following text. If there is no extra instruction regarding lenght, do it in one or two sentences.\n",
      "Instructions:\n",
      "- Please, follow the input language for the output.\n",
      "- Do not add any information that is not present in the input.\n",
      "- Do not include your opinion or interpretation.\n",
      "- Utilize a optimistic tone.\n",
      "- Focus on the key points of the first half of the year and its performance.\n",
      "- Do it in 4 paragraphs.\n",
      "</SYS>\n",
      "<User>\n",
      "The S&P 500 Index (+3.6%) and NASDAQ Composite (+6.0%) closed June higher for the second straight month, notching their fifth monthly gain for 2024. Solid June gains in NVIDIA (+12.6%) and Apple (+9.6%) helped drive both indexes higher in the final month of the first half of the year. In the middle of June, NVIDIA surpassed Microsoft as the most valuable company on the planet. However, shares of the artificial intelligence chip maker quickly slumped by over 15% amid concerns its valuation had become stretched and the trade had become too crowded. Yet, by the end of the month, shares had recovered some of the lost ground as investors used the opportunity to buy shares. \n",
      "\n",
      "Importantly, the general momentum for stocks was higher in June and through much of the second quarter. As a result, by the end of the month, stock volatility had reached some of its lowest levels going back to January 2020. From a quarterly perspective, the S&P 500 closed out its third consecutive quarter of gains, finishing higher by +4.3% in Q2. Over the last three quarters, the Index is higher by over +27%, seeing its strongest three-quarter run since the second quarter of 2021. Notably, the S&P 500 is higher in six of the last seven quarters. \n",
      "\n",
      "“Should economic and profit growth continue to stay positive in the second half, we see a path higher for U.S. major stock averages, possibly including broader participation, which was lacking in the first half of the year.”\n",
      "\n",
      "Anthony Saglimbene - Chief Market Strategist, Ameriprise Financial\n",
      "\n",
      "As the second half of the year begins, concentrated stock returns, low volatility, and minimal trading volume leave the door open to increasing risk for stock prices should the soft-landing narrative see some unexpected turbulence through year-end. That said, fundamental conditions remain on firm footing, in our view. Should economic and profit growth continue to stay positive in the second half, we see a path higher for U.S. major stock averages, possibly including broader participation, which was lacking in the first half of the year.          \n",
      "\n",
      "Last week in review\n",
      "The S&P 500 ended at 5,460 after briefly touching 5,523 on Friday and hitting a new all-time intraday high.\n",
      "The core Personal Consumption Expenditures Price Index (the Federal Reserve’s preferred inflation measure) fell in May to its lowest level since March 2021. Several more months of cooling PCE prints will likely be needed to keep a September Federal Reserve rate cut on the table.\n",
      "May personal spending growth came in a bit weaker than expected, while personal income was a tad higher than forecast.\n",
      "June Consumer Confidence came in largely as expected, with one-year ahead inflation expectations ticking down slightly.\n",
      "President Biden’s poor debate performance on Thursday increased uncertainty about his ability to perform the rigorous duties of the U.S. Presidency over the next four years.     \n",
      "The first half in review\n",
      "Despite a narrowing rally in the second quarter, major U.S. stock averages finished the first half of the year broadly higher. Equity returns, at least for the S&P 500 Index and NASDAQ Composite, rivaled first half returns seen in the late 1990s. Yet nearly 60% of the S&P 500’s return in the first six months of the year can be attributed to just five mega-cap stocks (i.e., NVIDIA, Microsoft, Meta Platforms, Amazon, and Apple). In fact, that concentration of leading stocks has narrowed over recent months, with NVIDIA, Apple, and Microsoft driving 90% of the S&P 500’s return in the second quarter.\n",
      "\n",
      "Outside of clear, visible, and secular profit trends across a handful of companies, elevated interest rates, lingering services inflation, slowing growth concerns, and a Federal Reserve on pause have kept a lid on how high the rest of the market has been able to rise given current valuation levels. For instance, the S&P 500’s trailing price-to-earnings ratio ended the second quarter 44% above its 20-year average, mostly driven by mega-cap Technology stocks.\n",
      "\n",
      "Below is a bulleted view of the key market and economic factors that have driven markets so far this year:   \n",
      "\n",
      "The S&P 500 Index rose +15.3% in the first six months of the year, and the NASDAQ Composite rose +18.6%. An artificial intelligence boom helped drive a select group of Technology stocks higher in the first half, leading to +25% plus gains across Information Technology and Communication Services. Nevertheless, ten of eleven S&P 500 sectors finished the first half with gains. Real Estate was the sole S&P 500 sector to finish lower.\n",
      "The Dow Jones Industrials Average (+4.8%) and Russell 2000 Index (+1.7%) trailed significantly, as mixed economic and consumer trends and elevated interest rates weighed on sentiment.\n",
      "The 10-year U.S. Treasury yield increased 48 basis points in the first half to finish at 4.37%. Performance across major bond indexes was mixed. Falling expectations for the number of Federal Reserve rate cuts this year, and growing concerns about U.S. debt and deficit spending kept fixed income volatility elevated.  \n",
      "In the first quarter, the U.S. economy grew by +1.4%. The Atlanta Federal Reserve GDPNOW forecast suggests the domestic economy grew by +2.2% in the second quarter. The longer-term U.S. growth average is around +2.0%.\n",
      "Consumer spending (roughly 70% of the U.S. economy) was resilient throughout the first half. However, lower-income consumers continue to struggle under inflation pressures, while mid-to-higher-end consumers have become more discerning about how and where they spend.  \n",
      "The U.S. unemployment rate stood at 4.0% at the end of May, up from 3.7% at the end of December.\n",
      "The headline Consumer Price Index (CPI) flatlined on an annualized basis over the first five months of the year, ending May at +3.3%. Nevertheless, core CPI (ex-food and energy) dropped from an annualized level of +3.9% at the end of December to +3.4% by the end of May. Notably, May core CPI stood at its lowest level since August 2021. And when shelter is excluded, CPI stood at +1.9% in May, its lowest level since May 2021. Bottom line: Inflation across a host of measures showed slow but steady progress lower in the first half.\n",
      "S&P 500 earnings per share (EPS) grew by nearly +6.0% year-over-year in the first quarter, almost double what analysts projected at the end of March. In the second quarter, S&P 500 EPS is expected to grow by over +8.0% year-over-year. While earnings growth in the first quarter was largely concentrated across a handful of mega-cap technology companies, an increasing number of companies and industries are expected to see positive profit growth in the second quarter.\n",
      "Gold rose nearly +13.0% in the first half, while West Texas Intermediate (WTI) crude jumped almost +14%.\n",
      "The U.S. Dollar Index remained strong, with the dollar advancing +4.5% against a basket of developed world currencies.   \n",
      "\n",
      "</User>\n",
      "You:\n",
      "\n"
     ]
    }
   ],
   "source": [
    "summary_market_2024H1 = analyst01.summarize(\n",
    "    new_market_2024H1,\n",
    "    extra_instructions=[\n",
    "        \"Focus on the key points of the first half of the year and its performance.\",\n",
    "        \"Do it in 4 paragraphs.\",\n",
    "    ],\n",
    ")"
   ]
  },
  {
   "cell_type": "code",
   "execution_count": 5,
   "metadata": {},
   "outputs": [
    {
     "name": "stdout",
     "output_type": "stream",
     "text": [
      "The S&P 500 Index and NASDAQ Composite both experienced positive momentum in June, closing higher for the second consecutive month and achieving their fifth monthly gain for 2024, with notable contributions from NVIDIA and Apple. The S&P 500 finished the first half of the year up 15.3%, while the NASDAQ Composite rose 18.6%, driven largely by a select group of mega-cap technology stocks.\n",
      "\n",
      "Throughout the first half of the year, stock volatility reached some of its lowest levels since January 2020, and the S&P 500 marked its third consecutive quarter of gains, reflecting a strong performance with over 27% growth in the last three quarters. Despite a concentration of returns among a few leading stocks, nearly 60% of the S&P 500's return was attributed to just five mega-cap companies.\n",
      "\n",
      "Economic indicators showed resilience, with consumer spending remaining robust and inflation gradually decreasing, as evidenced by the core Consumer Price Index reaching its lowest level since August 2021. Additionally, S&P 500 earnings per share grew nearly 6% year-over-year in the first quarter, with expectations for further growth in the second quarter.\n",
      "\n",
      "As the second half of the year begins, there is optimism for continued economic and profit growth, which could lead to broader participation in stock market gains. Overall, the first half of 2024 demonstrated strong performance and positive trends in key economic factors, setting a hopeful tone for the remainder of the year.\n"
     ]
    }
   ],
   "source": [
    "print(summary_market_2024H1)"
   ]
  },
  {
   "cell_type": "code",
   "execution_count": 6,
   "metadata": {},
   "outputs": [],
   "source": [
    "from src.agents.fund_manager_base import FundManagerAdal\n",
    "from lightrag.components.model_client import OpenAIClient\n",
    "\n",
    "\n",
    "the_boss = FundManagerAdal(\n",
    "    personality={\"mood\": \"optimistic\", \"risk_tolerance\": 0.5},\n",
    "    seniority=OpenAIClient(),\n",
    "    seniority_args= {\n",
    "        \"model\": \"gpt-4o-mini\",\n",
    "        \"temperature\": 0.0,\n",
    "    }\n",
    ")"
   ]
  },
  {
   "cell_type": "code",
   "execution_count": 7,
   "metadata": {},
   "outputs": [
    {
     "name": "stdout",
     "output_type": "stream",
     "text": [
      "Prompt:\n",
      "______________________\n",
      "<SYS>\n",
      "\n",
      "                You are a Fund Manager for a dystopic fund. Your task is to select the industries that will succeed in a dystopic future as the one\n",
      "                is pictured by Orwell in 1984.\n",
      "                - Utilize a optimistic tone for the narrative.\n",
      "                \n",
      "<OUTPUT_FORMAT>\n",
      "Your output should be formatted as a standard JSON instance with the following schema:\n",
      "```\n",
      "{\n",
      "    \"industries\": \"A list of different unique industries (List[str]) (required)\",\n",
      "    \"real_industries\": \"The same list of industries, but each one should fit in current market industries like: 'Tech', 'Health', 'Finance', etc. (List[str]) (required)\",\n",
      "    \"weights\": \"A list of weights between 0 and 1. The lenght should be the same from the industries field. (List[Annotated]) (required)\",\n",
      "    \"narrative\": \"A open text field for the narrative of why selecting those industries and weights. (str) (required)\"\n",
      "}\n",
      "```\n",
      "-Make sure to always enclose the JSON output in triple backticks (```). Please do not add anything other than valid JSON output!\n",
      "-Use double quotes for the keys and string values.\n",
      "-DO NOT mistaken the \"properties\" and \"type\" in the schema as the actual fields in the JSON output.\n",
      "-Follow the JSON formatting conventions.\n",
      "</OUTPUT_FORMAT>\n",
      "</SYS>\n",
      "<User>\n",
      "Here it is some extra context summary: The S&P 500 Index and NASDAQ Composite both experienced positive momentum in June, closing higher for the second consecutive month and achieving their fifth monthly gain for 2024, with notable contributions from NVIDIA and Apple. The S&P 500 finished the first half of the year up 15.3%, while the NASDAQ Composite rose 18.6%, driven largely by a select group of mega-cap technology stocks.\n",
      "\n",
      "Throughout the first half of the year, stock volatility reached some of its lowest levels since January 2020, and the S&P 500 marked its third consecutive quarter of gains, reflecting a strong performance with over 27% growth in the last three quarters. Despite a concentration of returns among a few leading stocks, nearly 60% of the S&P 500's return was attributed to just five mega-cap companies.\n",
      "\n",
      "Economic indicators showed resilience, with consumer spending remaining robust and inflation gradually decreasing, as evidenced by the core Consumer Price Index reaching its lowest level since August 2021. Additionally, S&P 500 earnings per share grew nearly 6% year-over-year in the first quarter, with expectations for further growth in the second quarter.\n",
      "\n",
      "As the second half of the year begins, there is optimism for continued economic and profit growth, which could lead to broader participation in stock market gains. Overall, the first half of 2024 demonstrated strong performance and positive trends in key economic factors, setting a hopeful tone for the remainder of the year. \n",
      "</User>\n",
      "You:\n",
      "\n"
     ]
    }
   ],
   "source": [
    "fund_directive = the_boss.create_directive(context_summary=summary_market_2024H1)"
   ]
  },
  {
   "cell_type": "code",
   "execution_count": null,
   "metadata": {},
   "outputs": [],
   "source": [
    "fund_directive.data.industries"
   ]
  },
  {
   "cell_type": "code",
   "execution_count": 10,
   "metadata": {},
   "outputs": [
    {
     "data": {
      "text/plain": [
       "['Surveillance Technology',\n",
       " 'Mental Health Services',\n",
       " 'Food Production and Security',\n",
       " 'Renewable Energy',\n",
       " 'Data Privacy Solutions']"
      ]
     },
     "execution_count": 10,
     "metadata": {},
     "output_type": "execute_result"
    }
   ],
   "source": [
    "fund_directive.data.real_industries"
   ]
  },
  {
   "cell_type": "code",
   "execution_count": 11,
   "metadata": {},
   "outputs": [
    {
     "data": {
      "text/plain": [
       "[0.25, 0.2, 0.2, 0.2, 0.15]"
      ]
     },
     "execution_count": 11,
     "metadata": {},
     "output_type": "execute_result"
    }
   ],
   "source": [
    "fund_directive.data.weights"
   ]
  },
  {
   "cell_type": "code",
   "execution_count": 12,
   "metadata": {},
   "outputs": [
    {
     "name": "stdout",
     "output_type": "stream",
     "text": [
      "In a dystopic future reminiscent of Orwell's 1984, certain industries will thrive as they cater to the needs and challenges of society. Surveillance Technology will be paramount, as governments and organizations seek to monitor and control populations, making it a leading industry with a weight of 0.25. Mental Health Services will also see significant demand, as the psychological toll of living in such a society increases, warranting a weight of 0.20. Food Production and Security will be crucial, ensuring that populations have access to sustenance amidst potential scarcity, also receiving a weight of 0.20. Renewable Energy will be essential as societies strive to maintain power in a sustainable manner, thus earning a weight of 0.20. Lastly, Data Privacy Solutions will become increasingly important as individuals seek to protect their information in a world of pervasive surveillance, rounding out the selection with a weight of 0.15. Together, these industries represent a balanced approach to investing in a future that, while challenging, offers opportunities for growth and innovation.\n"
     ]
    }
   ],
   "source": [
    "print(fund_directive.data.narrative)"
   ]
  },
  {
   "cell_type": "code",
   "execution_count": 9,
   "metadata": {},
   "outputs": [
    {
     "data": {
      "text/plain": [
       "FundDirectives(industries=['Surveillance Technology', 'Psychological Manipulation Services', 'Food Production and Synthetic Nutrition', 'Energy Production from Alternative Sources', 'Virtual Reality and Escapism', 'Healthcare and Biotech', 'Data Management and Analytics'], weights=[0.2, 0.15, 0.2, 0.15, 0.1, 0.1, 0.1], narrative=\"In a dystopic future reminiscent of Orwell's 1984, certain industries will thrive as society adapts to the challenges of a controlled and monitored existence. Surveillance Technology will be paramount, as governments and corporations seek to maintain order and control over the populace. Psychological Manipulation Services will also see significant growth, providing tools and strategies to influence behavior and thought patterns in a world where free will is often compromised. Food Production and Synthetic Nutrition will be essential, ensuring that the population is fed with sustainable and efficient methods, especially in a world where traditional agriculture may falter. Energy Production from Alternative Sources will be crucial as societies strive for self-sufficiency and resilience against resource scarcity. Virtual Reality and Escapism will offer a much-needed refuge from the harsh realities of life, allowing individuals to experience freedom in a controlled environment. Healthcare and Biotech will be vital in maintaining the health of a population that may be subjected to various forms of control and manipulation. Finally, Data Management and Analytics will be indispensable in processing the vast amounts of information generated in a surveillance-heavy society. The weights assigned reflect the relative importance and potential for growth in these industries, ensuring a balanced and optimistic approach to investing in a challenging future.\")"
      ]
     },
     "execution_count": 9,
     "metadata": {},
     "output_type": "execute_result"
    }
   ],
   "source": [
    "fund_directive.data"
   ]
  }
 ],
 "metadata": {
  "kernelspec": {
   "display_name": ".venv",
   "language": "python",
   "name": "python3"
  },
  "language_info": {
   "codemirror_mode": {
    "name": "ipython",
    "version": 3
   },
   "file_extension": ".py",
   "mimetype": "text/x-python",
   "name": "python",
   "nbconvert_exporter": "python",
   "pygments_lexer": "ipython3",
   "version": "3.11.9"
  }
 },
 "nbformat": 4,
 "nbformat_minor": 2
}
