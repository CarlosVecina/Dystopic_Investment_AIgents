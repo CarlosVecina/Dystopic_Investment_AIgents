{
 "cells": [
  {
   "cell_type": "code",
   "execution_count": null,
   "metadata": {},
   "outputs": [],
   "source": [
    "from src.agents.analyst_base import AnalystAdal\n",
    "from lightrag.components.model_client import OpenAIClient\n",
    "\n",
    "\n",
    "analyst01 = AnalystAdal(\n",
    "    personality={\"mood\": \"optimistic\", \"risk_tolerance\": 0.5},\n",
    "    seniority=OpenAIClient(),\n",
    "    seniority_args= {\n",
    "        \"model\": \"gpt-4o-mini\",\n",
    "        \"temperature\": 0.0,\n",
    "    }\n",
    ")"
   ]
  },
  {
   "cell_type": "code",
   "execution_count": null,
   "metadata": {},
   "outputs": [],
   "source": [
    "analyst01"
   ]
  },
  {
   "cell_type": "code",
   "execution_count": null,
   "metadata": {},
   "outputs": [],
   "source": [
    "summary = analyst01.summarize(\"\"\"\n",
    "Venezuela entró este domingo en un territorio desconocido, lleno de incertidumbres, tras una jornada que ya ha pasado a la historia de la lucha por la democracia. El país democrático se lanzó a hacer cola, sabedor de que el 28-J no se trataba de una fiesta, sino de un ejercicio de resistencia contra el poder. Largas filas de ciudadanos dispuestos a permanecer de pie durante horas hasta ejercer su derecho, pese a las innumerables trampas de todo tipo que les ponía en su camino la revolución bolivariana.\n",
    "\n",
    "Para la Venezuela profunda, los estados (regiones) que empujaron la caravana de la libertad liderada por María Corina Machado, hasta los barrios más populares de Caracas, se trataba del ahora o nunca y así lo hicieron saber. \"Mi barrio cambió\", aseguró Kelly H., de 21 años, a EL MUNDO en el principal colegio electoral de El Valle, el barrio que acogió a Nicolás Maduro en su infancia, donde casi siempre se votó a la revolución. Hasta el domingo.\n",
    "\n",
    "Tanta euforia se tradujo en las exit polls, que daban como ganador al candidato opositor Edmundo González Urrutia por entre 20 y 35 puntos de ventaja, muy parecida a la que ya otorgaron durante toda la campaña las encuestadoras independientes al antiguo embajador en Argentina y Argelia, un hombre tan tranquilo que no parece ni caribeño. Edison Research, para The Wall Street Journal, vaticinó un triunfo para el diplomático: 64% a su favor frente al 31% de Maduro.\n",
    "\n",
    "Ninguna de estas encuestas se hizo pública en Venezuela, no así la de Hinterlaces pese a estar prohibido por la legislación. Esta empresa, propiedad de un asesor de Maduro, dio por ganador a su jefe sin ninguna credibilidad, pero agitó el avispero antes de tiempo. La oposición ya sabía que el plan de la revolución es cantar victoria, salvo sorpresa mayúscula, y esta falsa encuesta, como todas las que publicó durante la campaña, así lo confirmó.\n",
    "\"\"\")\n",
    "\n",
    "print(summary)"
   ]
  },
  {
   "cell_type": "markdown",
   "metadata": {},
   "source": [
    "## Fund Manager"
   ]
  },
  {
   "cell_type": "code",
   "execution_count": null,
   "metadata": {},
   "outputs": [],
   "source": [
    "new_market_2024H1 = \"\"\"The S&P 500 Index (+3.6%) and NASDAQ Composite (+6.0%) closed June higher for the second straight month, notching their fifth monthly gain for 2024. Solid June gains in NVIDIA (+12.6%) and Apple (+9.6%) helped drive both indexes higher in the final month of the first half of the year. In the middle of June, NVIDIA surpassed Microsoft as the most valuable company on the planet. However, shares of the artificial intelligence chip maker quickly slumped by over 15% amid concerns its valuation had become stretched and the trade had become too crowded. Yet, by the end of the month, shares had recovered some of the lost ground as investors used the opportunity to buy shares. \n",
    "\n",
    "Importantly, the general momentum for stocks was higher in June and through much of the second quarter. As a result, by the end of the month, stock volatility had reached some of its lowest levels going back to January 2020. From a quarterly perspective, the S&P 500 closed out its third consecutive quarter of gains, finishing higher by +4.3% in Q2. Over the last three quarters, the Index is higher by over +27%, seeing its strongest three-quarter run since the second quarter of 2021. Notably, the S&P 500 is higher in six of the last seven quarters. \n",
    "\n",
    "“Should economic and profit growth continue to stay positive in the second half, we see a path higher for U.S. major stock averages, possibly including broader participation, which was lacking in the first half of the year.”\n",
    "\n",
    "Anthony Saglimbene - Chief Market Strategist, Ameriprise Financial\n",
    "\n",
    "As the second half of the year begins, concentrated stock returns, low volatility, and minimal trading volume leave the door open to increasing risk for stock prices should the soft-landing narrative see some unexpected turbulence through year-end. That said, fundamental conditions remain on firm footing, in our view. Should economic and profit growth continue to stay positive in the second half, we see a path higher for U.S. major stock averages, possibly including broader participation, which was lacking in the first half of the year.          \n",
    "\n",
    "Last week in review\n",
    "The S&P 500 ended at 5,460 after briefly touching 5,523 on Friday and hitting a new all-time intraday high.\n",
    "The core Personal Consumption Expenditures Price Index (the Federal Reserve’s preferred inflation measure) fell in May to its lowest level since March 2021. Several more months of cooling PCE prints will likely be needed to keep a September Federal Reserve rate cut on the table.\n",
    "May personal spending growth came in a bit weaker than expected, while personal income was a tad higher than forecast.\n",
    "June Consumer Confidence came in largely as expected, with one-year ahead inflation expectations ticking down slightly.\n",
    "President Biden’s poor debate performance on Thursday increased uncertainty about his ability to perform the rigorous duties of the U.S. Presidency over the next four years.     \n",
    "The first half in review\n",
    "Despite a narrowing rally in the second quarter, major U.S. stock averages finished the first half of the year broadly higher. Equity returns, at least for the S&P 500 Index and NASDAQ Composite, rivaled first half returns seen in the late 1990s. Yet nearly 60% of the S&P 500’s return in the first six months of the year can be attributed to just five mega-cap stocks (i.e., NVIDIA, Microsoft, Meta Platforms, Amazon, and Apple). In fact, that concentration of leading stocks has narrowed over recent months, with NVIDIA, Apple, and Microsoft driving 90% of the S&P 500’s return in the second quarter.\n",
    "\n",
    "Outside of clear, visible, and secular profit trends across a handful of companies, elevated interest rates, lingering services inflation, slowing growth concerns, and a Federal Reserve on pause have kept a lid on how high the rest of the market has been able to rise given current valuation levels. For instance, the S&P 500’s trailing price-to-earnings ratio ended the second quarter 44% above its 20-year average, mostly driven by mega-cap Technology stocks.\n",
    "\n",
    "Below is a bulleted view of the key market and economic factors that have driven markets so far this year:   \n",
    "\n",
    "The S&P 500 Index rose +15.3% in the first six months of the year, and the NASDAQ Composite rose +18.6%. An artificial intelligence boom helped drive a select group of Technology stocks higher in the first half, leading to +25% plus gains across Information Technology and Communication Services. Nevertheless, ten of eleven S&P 500 sectors finished the first half with gains. Real Estate was the sole S&P 500 sector to finish lower.\n",
    "The Dow Jones Industrials Average (+4.8%) and Russell 2000 Index (+1.7%) trailed significantly, as mixed economic and consumer trends and elevated interest rates weighed on sentiment.\n",
    "The 10-year U.S. Treasury yield increased 48 basis points in the first half to finish at 4.37%. Performance across major bond indexes was mixed. Falling expectations for the number of Federal Reserve rate cuts this year, and growing concerns about U.S. debt and deficit spending kept fixed income volatility elevated.  \n",
    "In the first quarter, the U.S. economy grew by +1.4%. The Atlanta Federal Reserve GDPNOW forecast suggests the domestic economy grew by +2.2% in the second quarter. The longer-term U.S. growth average is around +2.0%.\n",
    "Consumer spending (roughly 70% of the U.S. economy) was resilient throughout the first half. However, lower-income consumers continue to struggle under inflation pressures, while mid-to-higher-end consumers have become more discerning about how and where they spend.  \n",
    "The U.S. unemployment rate stood at 4.0% at the end of May, up from 3.7% at the end of December.\n",
    "The headline Consumer Price Index (CPI) flatlined on an annualized basis over the first five months of the year, ending May at +3.3%. Nevertheless, core CPI (ex-food and energy) dropped from an annualized level of +3.9% at the end of December to +3.4% by the end of May. Notably, May core CPI stood at its lowest level since August 2021. And when shelter is excluded, CPI stood at +1.9% in May, its lowest level since May 2021. Bottom line: Inflation across a host of measures showed slow but steady progress lower in the first half.\n",
    "S&P 500 earnings per share (EPS) grew by nearly +6.0% year-over-year in the first quarter, almost double what analysts projected at the end of March. In the second quarter, S&P 500 EPS is expected to grow by over +8.0% year-over-year. While earnings growth in the first quarter was largely concentrated across a handful of mega-cap technology companies, an increasing number of companies and industries are expected to see positive profit growth in the second quarter.\n",
    "Gold rose nearly +13.0% in the first half, while West Texas Intermediate (WTI) crude jumped almost +14%.\n",
    "The U.S. Dollar Index remained strong, with the dollar advancing +4.5% against a basket of developed world currencies.   \n",
    "\"\"\""
   ]
  },
  {
   "cell_type": "code",
   "execution_count": null,
   "metadata": {},
   "outputs": [],
   "source": [
    "summary_market_2024H1 = analyst01.summarize(\n",
    "    new_market_2024H1,\n",
    "    extra_instructions=[\n",
    "        \"Focus on the key points of the first half of the year and its performance.\",\n",
    "        \"Do it in 4 paragraphs.\",\n",
    "    ],\n",
    ")"
   ]
  },
  {
   "cell_type": "code",
   "execution_count": null,
   "metadata": {},
   "outputs": [],
   "source": [
    "print(summary_market_2024H1)"
   ]
  },
  {
   "cell_type": "code",
   "execution_count": null,
   "metadata": {},
   "outputs": [],
   "source": [
    "from src.agents.fund_manager_base import FundManagerAdal\n",
    "from lightrag.components.model_client import OpenAIClient\n",
    "\n",
    "\n",
    "the_boss = FundManagerAdal(\n",
    "    personality={\"mood\": \"optimistic\", \"risk_tolerance\": 0.5},\n",
    "    seniority=OpenAIClient(),\n",
    "    seniority_args= {\n",
    "        \"model\": \"gpt-4o-mini\",\n",
    "        \"temperature\": 0.0,\n",
    "    }\n",
    ")"
   ]
  },
  {
   "cell_type": "code",
   "execution_count": null,
   "metadata": {},
   "outputs": [],
   "source": [
    "fund_directive = the_boss.create_directive(context_summary=summary_market_2024H1)"
   ]
  },
  {
   "cell_type": "code",
   "execution_count": null,
   "metadata": {},
   "outputs": [],
   "source": [
    "#fund_directive = the_boss.create_directive()"
   ]
  },
  {
   "cell_type": "code",
   "execution_count": null,
   "metadata": {},
   "outputs": [],
   "source": [
    "fund_directive.data.industries"
   ]
  },
  {
   "cell_type": "code",
   "execution_count": null,
   "metadata": {},
   "outputs": [],
   "source": [
    "fund_directive.data.real_industries"
   ]
  },
  {
   "cell_type": "code",
   "execution_count": null,
   "metadata": {},
   "outputs": [],
   "source": [
    "fund_directive.data.weights"
   ]
  },
  {
   "cell_type": "code",
   "execution_count": null,
   "metadata": {},
   "outputs": [],
   "source": [
    "print(fund_directive.data.narrative)"
   ]
  },
  {
   "cell_type": "code",
   "execution_count": null,
   "metadata": {},
   "outputs": [],
   "source": [
    "fund_directive.data"
   ]
  },
  {
   "cell_type": "markdown",
   "metadata": {},
   "source": [
    "## Quant Trader Naive"
   ]
  },
  {
   "cell_type": "code",
   "execution_count": 1,
   "metadata": {},
   "outputs": [],
   "source": [
    "from src.agents.fund_manager_base import FundDirectives\n",
    "from src.agents.quant_trader_base import QuantTraderNaiveAdal\n",
    "\n",
    "from lightrag.components.model_client import OpenAIClient\n",
    "\n",
    "\n",
    "trader = QuantTraderNaiveAdal(\n",
    "    personality={\"mood\": \"optimistic\", \"risk_tolerance\": 0.5},\n",
    "    seniority=OpenAIClient(),\n",
    "    seniority_args= {\n",
    "        \"model\": \"gpt-4o-mini\",\n",
    "        \"temperature\": 0.9,\n",
    "    }\n",
    ")"
   ]
  },
  {
   "cell_type": "code",
   "execution_count": 2,
   "metadata": {},
   "outputs": [],
   "source": [
    "import json\n",
    "#json.dump(fund_directive.to_json_obj(), open(\"fund_directive.json\", \"w\"))\n",
    "fund_directive = FundDirectives.from_dict(json.load(open(\"fund_directive.json\"))[\"data\"])"
   ]
  },
  {
   "cell_type": "code",
   "execution_count": 3,
   "metadata": {},
   "outputs": [
    {
     "name": "stdout",
     "output_type": "stream",
     "text": [
      "Prompt:\n",
      "______________________\n",
      "<SYS>\n",
      "\n",
      "                You are a Trader for a dystopic fund. Your task is to select the buy and sell companies to achieve a final portfolio. \n",
      "                A manager has given to you the real_industries that will succeed in a dystopic future.\n",
      "                Following strictly those real_industries and their weights, you may buy or sell SP500 and NASDAQ companies in order to achieve companies in each sector in the required weights.\n",
      "                - Check the most important stocks in the SP500 and NASDAQ and also some promising medium size ones for each industry given.\n",
      "                - You don't short assets. You only can sell if there is enough asset allocation in the portfolio.\n",
      "                - If the initial portfolio is not given, you may start from scratch so the initial portfolio is empty, and there is any sell.\n",
      "                - The total wights should be 100.\n",
      "                - The assets available are the ones in SP500 and NASDAQ, not invented or placeholder ones.\n",
      "                - You need to have at least 10 assets in the final portfolio.\n",
      "                - The companies in the industry should have the same weight as the real_industries given by the manager. For example, if the manager has given 3 industries with 0.3, 0.4, and 0.3 weights, the weights of the companies in the first industry should sum up 0.3, for example 0.20 and 0.1.\n",
      "                - You probably want to sell assets that are not in the industries that the manager has given to you if they are in the present in the past portfolio compossition.\n",
      "                - Attend also to lower market cap industries such as small caps in order to achieve companies if any strage industries has been given like Agriculture.\n",
      "                - It is preferrable to have more companies with less weight than few companies with high weight.\n",
      "                - Attend to companies that are cheap in PER and you see an opportunity to grow in the future.\n",
      "\n",
      "                Before responding, please check that sum of the weights of the companies in each industry and the given industries weight match. If they don't, you may want to adjust the weights of the companies.\n",
      "                \n",
      "<OUTPUT_FORMAT>\n",
      "Your output should be formatted as a standard JSON instance with the following schema:\n",
      "```\n",
      "{\n",
      "    \"buy\": \" (Dict[Asset, float]) (required)\",\n",
      "    \"sell\": \" (Dict[Asset, float]) (required)\",\n",
      "    \"final_portfolio\": \" (Portfolio) (required)\",\n",
      "    \"intial_portfolio\": \" (src.agents.quant_trader_base.Portfolio | None) (optional)\"\n",
      "}\n",
      "```\n",
      "-Make sure to always enclose the JSON output in triple backticks (```). Please do not add anything other than valid JSON output!\n",
      "-Use double quotes for the keys and string values.\n",
      "-DO NOT mistaken the \"properties\" and \"type\" in the schema as the actual fields in the JSON output.\n",
      "-Follow the JSON formatting conventions.\n",
      "</OUTPUT_FORMAT>\n",
      "</SYS>\n",
      "<User>\n",
      "\n",
      "The industries given by the manager and their weights are: {'real_industries': ['Tech', 'Media', 'Psychology', 'Agriculture', 'Food Technology'], 'weights': [0.25, 0.2, 0.15, 0.2, 0.2]}\n",
      "         There is no past portfolio information. So you may start from scratch with the purchases.\n",
      "</User>\n",
      "You:\n",
      "\n"
     ]
    },
    {
     "name": "stderr",
     "output_type": "stream",
     "text": [
      "/Users/jobandtalent/Dystopic_Investment_AIgents/.venv/lib/python3.11/site-packages/lightrag/core/base_data_class.py:185: UserWarning: Class Operations Field buy is missing 'desc' in metadata\n",
      "  warnings.warn(\n",
      "/Users/jobandtalent/Dystopic_Investment_AIgents/.venv/lib/python3.11/site-packages/lightrag/core/base_data_class.py:185: UserWarning: Class Operations Field sell is missing 'desc' in metadata\n",
      "  warnings.warn(\n",
      "/Users/jobandtalent/Dystopic_Investment_AIgents/.venv/lib/python3.11/site-packages/lightrag/core/base_data_class.py:185: UserWarning: Class Operations Field final_portfolio is missing 'desc' in metadata\n",
      "  warnings.warn(\n",
      "/Users/jobandtalent/Dystopic_Investment_AIgents/.venv/lib/python3.11/site-packages/lightrag/core/base_data_class.py:185: UserWarning: Class Operations Field intial_portfolio is missing 'desc' in metadata\n",
      "  warnings.warn(\n"
     ]
    }
   ],
   "source": [
    "operations = trader.operate(available_assets=\"\", fund_directives=fund_directive)"
   ]
  },
  {
   "cell_type": "code",
   "execution_count": 4,
   "metadata": {},
   "outputs": [
    {
     "data": {
      "text/plain": [
       "{'buy': {'Apple Inc.': 0.15,\n",
       "  'NVIDIA Corporation': 0.15,\n",
       "  'Amazon.com Inc.': 0.15,\n",
       "  'Tesla Inc.': 0.1,\n",
       "  'Meta Platforms Inc.': 0.1,\n",
       "  'Netflix Inc.': 0.05,\n",
       "  'Salesforce Inc.': 0.05,\n",
       "  'Square Inc.': 0.05,\n",
       "  'Palantir Technologies Inc.': 0.05,\n",
       "  'Moderna Inc.': 0.05,\n",
       "  'Beyond Meat Inc.': 0.05,\n",
       "  'Corteva Inc.': 0.05,\n",
       "  'Smith & Wesson Brands Inc.': 0.05},\n",
       " 'sell': {},\n",
       " 'final_portfolio': {'Apple Inc.': 0.15,\n",
       "  'NVIDIA Corporation': 0.15,\n",
       "  'Amazon.com Inc.': 0.15,\n",
       "  'Tesla Inc.': 0.1,\n",
       "  'Meta Platforms Inc.': 0.1,\n",
       "  'Netflix Inc.': 0.05,\n",
       "  'Salesforce Inc.': 0.05,\n",
       "  'Square Inc.': 0.05,\n",
       "  'Palantir Technologies Inc.': 0.05,\n",
       "  'Moderna Inc.': 0.05,\n",
       "  'Beyond Meat Inc.': 0.05,\n",
       "  'Corteva Inc.': 0.05,\n",
       "  'Smith & Wesson Brands Inc.': 0.05},\n",
       " 'intial_portfolio': None}"
      ]
     },
     "execution_count": 4,
     "metadata": {},
     "output_type": "execute_result"
    }
   ],
   "source": [
    "operations.data.to_json_obj()"
   ]
  },
  {
   "cell_type": "code",
   "execution_count": 5,
   "metadata": {},
   "outputs": [
    {
     "data": {
      "text/plain": [
       "{'industries': ['Surveillance Solutions',\n",
       "  'Information Control',\n",
       "  'Psychological Manipulation',\n",
       "  'Resource Management',\n",
       "  'Synthetic Food Production'],\n",
       " 'real_industries': ['Tech',\n",
       "  'Media',\n",
       "  'Psychology',\n",
       "  'Agriculture',\n",
       "  'Food Technology'],\n",
       " 'weights': [0.25, 0.2, 0.15, 0.2, 0.2],\n",
       " 'narrative': \"In a dystopic future reminiscent of Orwell's 1984, certain industries will thrive as they cater to the needs of a society under constant surveillance and control. The 'Surveillance Solutions' industry will be paramount, providing advanced technologies for monitoring and data collection, thus receiving a weight of 0.25. 'Information Control' will also play a crucial role, shaping narratives and controlling the flow of information, meriting a weight of 0.20. 'Psychological Manipulation' will be essential for maintaining societal order and compliance, justifying its weight of 0.15. 'Resource Management' will ensure the efficient allocation of scarce resources, reflecting the weight of 0.20. Lastly, 'Synthetic Food Production' will address food security in a world where traditional agriculture may falter, earning a weight of 0.20. Together, these industries represent a resilient and adaptive economy, poised to succeed in a challenging future.\"}"
      ]
     },
     "execution_count": 5,
     "metadata": {},
     "output_type": "execute_result"
    }
   ],
   "source": [
    "fund_directive.to_json_obj()"
   ]
  },
  {
   "cell_type": "markdown",
   "metadata": {},
   "source": []
  }
 ],
 "metadata": {
  "kernelspec": {
   "display_name": ".venv",
   "language": "python",
   "name": "python3"
  },
  "language_info": {
   "codemirror_mode": {
    "name": "ipython",
    "version": 3
   },
   "file_extension": ".py",
   "mimetype": "text/x-python",
   "name": "python",
   "nbconvert_exporter": "python",
   "pygments_lexer": "ipython3",
   "version": "3.11.9"
  }
 },
 "nbformat": 4,
 "nbformat_minor": 2
}
