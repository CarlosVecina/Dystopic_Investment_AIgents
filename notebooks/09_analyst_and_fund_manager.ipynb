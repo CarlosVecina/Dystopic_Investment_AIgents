{
 "cells": [
  {
   "cell_type": "code",
   "execution_count": 1,
   "metadata": {},
   "outputs": [],
   "source": [
    "from src.agents.analyst_base import AnalystAdal\n",
    "from lightrag.components.model_client import OpenAIClient\n",
    "\n",
    "\n",
    "analyst01 = AnalystAdal(\n",
    "    personality={\"mood\": \"optimistic\", \"risk_tolerance\": 0.5},\n",
    "    seniority=OpenAIClient(),\n",
    "    seniority_args= {\n",
    "        \"model\": \"gpt-4o-mini\",\n",
    "        \"temperature\": 0.0,\n",
    "    }\n",
    ")"
   ]
  },
  {
   "cell_type": "code",
   "execution_count": 3,
   "metadata": {},
   "outputs": [
    {
     "data": {
      "text/plain": [
       "AnalystAdal(personality=Personality(mood=<Mood.OPTIMISTIC: 'optimistic'>, risk_tolerance=0.5), toolset=None, seniority=OpenAIClient(), seniority_args={'model': 'gpt-4o-mini', 'temperature': 0.0}, news_feed=None, prices_feed=None)"
      ]
     },
     "execution_count": 3,
     "metadata": {},
     "output_type": "execute_result"
    }
   ],
   "source": [
    "analyst01"
   ]
  },
  {
   "cell_type": "code",
   "execution_count": 5,
   "metadata": {},
   "outputs": [
    {
     "name": "stdout",
     "output_type": "stream",
     "text": [
      "Prompt:\n",
      "______________________\n",
      "<SYS>\n",
      "\n",
      "                You are a helpful analyst. Your task is to summarize the following text in one or two sentences.\n",
      "                Instructions:\n",
      "                - Please, follow the input language for the output.\n",
      "                - Do not add any information that is not present in the input.\n",
      "                - Do not include your opinion or interpretation.\n",
      "                - Utilize a dystopic tone.\n",
      "                \n",
      "</SYS>\n",
      "<User>\n",
      "\n",
      "Venezuela entró este domingo en un territorio desconocido, lleno de incertidumbres, tras una jornada que ya ha pasado a la historia de la lucha por la democracia. El país democrático se lanzó a hacer cola, sabedor de que el 28-J no se trataba de una fiesta, sino de un ejercicio de resistencia contra el poder. Largas filas de ciudadanos dispuestos a permanecer de pie durante horas hasta ejercer su derecho, pese a las innumerables trampas de todo tipo que les ponía en su camino la revolución bolivariana.\n",
      "\n",
      "Para la Venezuela profunda, los estados (regiones) que empujaron la caravana de la libertad liderada por María Corina Machado, hasta los barrios más populares de Caracas, se trataba del ahora o nunca y así lo hicieron saber. \"Mi barrio cambió\", aseguró Kelly H., de 21 años, a EL MUNDO en el principal colegio electoral de El Valle, el barrio que acogió a Nicolás Maduro en su infancia, donde casi siempre se votó a la revolución. Hasta el domingo.\n",
      "\n",
      "Tanta euforia se tradujo en las exit polls, que daban como ganador al candidato opositor Edmundo González Urrutia por entre 20 y 35 puntos de ventaja, muy parecida a la que ya otorgaron durante toda la campaña las encuestadoras independientes al antiguo embajador en Argentina y Argelia, un hombre tan tranquilo que no parece ni caribeño. Edison Research, para The Wall Street Journal, vaticinó un triunfo para el diplomático: 64% a su favor frente al 31% de Maduro.\n",
      "\n",
      "Ninguna de estas encuestas se hizo pública en Venezuela, no así la de Hinterlaces pese a estar prohibido por la legislación. Esta empresa, propiedad de un asesor de Maduro, dio por ganador a su jefe sin ninguna credibilidad, pero agitó el avispero antes de tiempo. La oposición ya sabía que el plan de la revolución es cantar victoria, salvo sorpresa mayúscula, y esta falsa encuesta, como todas las que publicó durante la campaña, así lo confirmó.\n",
      "\n",
      "</User>\n",
      "You:\n",
      "\n",
      "Venezuela se adentra en un futuro incierto tras una jornada histórica de resistencia democrática, donde ciudadanos enfrentaron obstáculos para ejercer su derecho al voto, con encuestas que pronosticaban una victoria opositora que contrasta con la manipulación de resultados por parte del régimen de Maduro. La euforia de la oposición se ve empañada por la desconfianza en las encuestas oficiales, que favorecen al gobierno, dejando al país en un estado de desesperanza y confusión.\n"
     ]
    }
   ],
   "source": [
    "summary = analyst01.summarize(\"\"\"\n",
    "Venezuela entró este domingo en un territorio desconocido, lleno de incertidumbres, tras una jornada que ya ha pasado a la historia de la lucha por la democracia. El país democrático se lanzó a hacer cola, sabedor de que el 28-J no se trataba de una fiesta, sino de un ejercicio de resistencia contra el poder. Largas filas de ciudadanos dispuestos a permanecer de pie durante horas hasta ejercer su derecho, pese a las innumerables trampas de todo tipo que les ponía en su camino la revolución bolivariana.\n",
    "\n",
    "Para la Venezuela profunda, los estados (regiones) que empujaron la caravana de la libertad liderada por María Corina Machado, hasta los barrios más populares de Caracas, se trataba del ahora o nunca y así lo hicieron saber. \"Mi barrio cambió\", aseguró Kelly H., de 21 años, a EL MUNDO en el principal colegio electoral de El Valle, el barrio que acogió a Nicolás Maduro en su infancia, donde casi siempre se votó a la revolución. Hasta el domingo.\n",
    "\n",
    "Tanta euforia se tradujo en las exit polls, que daban como ganador al candidato opositor Edmundo González Urrutia por entre 20 y 35 puntos de ventaja, muy parecida a la que ya otorgaron durante toda la campaña las encuestadoras independientes al antiguo embajador en Argentina y Argelia, un hombre tan tranquilo que no parece ni caribeño. Edison Research, para The Wall Street Journal, vaticinó un triunfo para el diplomático: 64% a su favor frente al 31% de Maduro.\n",
    "\n",
    "Ninguna de estas encuestas se hizo pública en Venezuela, no así la de Hinterlaces pese a estar prohibido por la legislación. Esta empresa, propiedad de un asesor de Maduro, dio por ganador a su jefe sin ninguna credibilidad, pero agitó el avispero antes de tiempo. La oposición ya sabía que el plan de la revolución es cantar victoria, salvo sorpresa mayúscula, y esta falsa encuesta, como todas las que publicó durante la campaña, así lo confirmó.\n",
    "\"\"\")\n",
    "\n",
    "print(summary)"
   ]
  },
  {
   "cell_type": "markdown",
   "metadata": {},
   "source": [
    "## Fund Manager"
   ]
  },
  {
   "cell_type": "code",
   "execution_count": 1,
   "metadata": {},
   "outputs": [],
   "source": [
    "from src.agents.fund_manager_base import FundManagerAdal\n",
    "from lightrag.components.model_client import OpenAIClient\n",
    "\n",
    "\n",
    "the_boss = FundManagerAdal(\n",
    "    personality={\"mood\": \"optimistic\", \"risk_tolerance\": 0.5},\n",
    "    seniority=OpenAIClient(),\n",
    "    seniority_args= {\n",
    "        \"model\": \"gpt-4o-mini\",\n",
    "        \"temperature\": 0.0,\n",
    "    }\n",
    ")"
   ]
  },
  {
   "cell_type": "code",
   "execution_count": 3,
   "metadata": {},
   "outputs": [
    {
     "name": "stdout",
     "output_type": "stream",
     "text": [
      "Prompt:\n",
      "______________________\n",
      "<SYS>\n",
      "\n",
      "                You are a Fund Manager for a dystopic fund. Your task is to select the industries that will succeed in a dystopic future as the one\n",
      "                is pictured by Orwell in 1984.\n",
      "                - Utilize a optimistic tone for the narrative.\n",
      "                \n",
      "<OUTPUT_FORMAT>\n",
      "Your output should be formatted as a standard JSON instance with the following schema:\n",
      "```\n",
      "{\n",
      "    \"industries\": \"A list of different unique industries (List[str]) (required)\",\n",
      "    \"weights\": \"A list of weights between 0 and 1. The lenght should be the same from the industries field. (List[Annotated]) (required)\",\n",
      "    \"narrative\": \"A open text field for the narrative of why selecting those industries and weights. (str) (required)\"\n",
      "}\n",
      "```\n",
      "-Make sure to always enclose the JSON output in triple backticks (```). Please do not add anything other than valid JSON output!\n",
      "-Use double quotes for the keys and string values.\n",
      "-DO NOT mistaken the \"properties\" and \"type\" in the schema as the actual fields in the JSON output.\n",
      "-Follow the JSON formatting conventions.\n",
      "</OUTPUT_FORMAT>\n",
      "</SYS>\n",
      "You:\n",
      "\n"
     ]
    }
   ],
   "source": [
    "fund_directive = the_boss.create_directive()"
   ]
  },
  {
   "cell_type": "code",
   "execution_count": 5,
   "metadata": {},
   "outputs": [
    {
     "data": {
      "text/plain": [
       "['Surveillance Technology',\n",
       " 'Psychological Manipulation Services',\n",
       " 'Food Production and Synthetic Nutrition',\n",
       " 'Energy Production from Alternative Sources',\n",
       " 'Virtual Reality and Escapism',\n",
       " 'Healthcare and Biotech',\n",
       " 'Data Management and Analytics']"
      ]
     },
     "execution_count": 5,
     "metadata": {},
     "output_type": "execute_result"
    }
   ],
   "source": [
    "fund_directive.data.industries"
   ]
  },
  {
   "cell_type": "code",
   "execution_count": 6,
   "metadata": {},
   "outputs": [
    {
     "data": {
      "text/plain": [
       "[0.2, 0.15, 0.2, 0.15, 0.1, 0.1, 0.1]"
      ]
     },
     "execution_count": 6,
     "metadata": {},
     "output_type": "execute_result"
    }
   ],
   "source": [
    "fund_directive.data.weights"
   ]
  },
  {
   "cell_type": "code",
   "execution_count": 8,
   "metadata": {},
   "outputs": [
    {
     "name": "stdout",
     "output_type": "stream",
     "text": [
      "In a dystopic future reminiscent of Orwell's 1984, certain industries will thrive as society adapts to the challenges of a controlled and monitored existence. Surveillance Technology will be paramount, as governments and corporations seek to maintain order and control over the populace. Psychological Manipulation Services will also see significant growth, providing tools and strategies to influence behavior and thought patterns in a world where free will is often compromised. Food Production and Synthetic Nutrition will be essential, ensuring that the population is fed with sustainable and efficient methods, especially in a world where traditional agriculture may falter. Energy Production from Alternative Sources will be crucial as societies strive for self-sufficiency and resilience against resource scarcity. Virtual Reality and Escapism will offer a much-needed refuge from the harsh realities of life, allowing individuals to experience freedom in a controlled environment. Healthcare and Biotech will be vital in maintaining the health of a population that may be subjected to various forms of control and manipulation. Finally, Data Management and Analytics will be indispensable in processing the vast amounts of information generated in a surveillance-heavy society. The weights assigned reflect the relative importance and potential for growth in these industries, ensuring a balanced and optimistic approach to investing in a challenging future.\n"
     ]
    }
   ],
   "source": [
    "print(fund_directive.data.narrative)"
   ]
  },
  {
   "cell_type": "code",
   "execution_count": 9,
   "metadata": {},
   "outputs": [
    {
     "data": {
      "text/plain": [
       "FundDirectives(industries=['Surveillance Technology', 'Psychological Manipulation Services', 'Food Production and Synthetic Nutrition', 'Energy Production from Alternative Sources', 'Virtual Reality and Escapism', 'Healthcare and Biotech', 'Data Management and Analytics'], weights=[0.2, 0.15, 0.2, 0.15, 0.1, 0.1, 0.1], narrative=\"In a dystopic future reminiscent of Orwell's 1984, certain industries will thrive as society adapts to the challenges of a controlled and monitored existence. Surveillance Technology will be paramount, as governments and corporations seek to maintain order and control over the populace. Psychological Manipulation Services will also see significant growth, providing tools and strategies to influence behavior and thought patterns in a world where free will is often compromised. Food Production and Synthetic Nutrition will be essential, ensuring that the population is fed with sustainable and efficient methods, especially in a world where traditional agriculture may falter. Energy Production from Alternative Sources will be crucial as societies strive for self-sufficiency and resilience against resource scarcity. Virtual Reality and Escapism will offer a much-needed refuge from the harsh realities of life, allowing individuals to experience freedom in a controlled environment. Healthcare and Biotech will be vital in maintaining the health of a population that may be subjected to various forms of control and manipulation. Finally, Data Management and Analytics will be indispensable in processing the vast amounts of information generated in a surveillance-heavy society. The weights assigned reflect the relative importance and potential for growth in these industries, ensuring a balanced and optimistic approach to investing in a challenging future.\")"
      ]
     },
     "execution_count": 9,
     "metadata": {},
     "output_type": "execute_result"
    }
   ],
   "source": [
    "fund_directive.data"
   ]
  }
 ],
 "metadata": {
  "kernelspec": {
   "display_name": ".venv",
   "language": "python",
   "name": "python3"
  },
  "language_info": {
   "codemirror_mode": {
    "name": "ipython",
    "version": 3
   },
   "file_extension": ".py",
   "mimetype": "text/x-python",
   "name": "python",
   "nbconvert_exporter": "python",
   "pygments_lexer": "ipython3",
   "version": "3.11.9"
  }
 },
 "nbformat": 4,
 "nbformat_minor": 2
}
