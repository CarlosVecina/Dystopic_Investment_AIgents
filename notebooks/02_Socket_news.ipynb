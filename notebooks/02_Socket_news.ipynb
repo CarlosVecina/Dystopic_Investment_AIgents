{
 "cells": [
  {
   "cell_type": "code",
   "execution_count": 6,
   "metadata": {},
   "outputs": [
    {
     "name": "stdout",
     "output_type": "stream",
     "text": [
      "b'{\"stream\":\"authorization\",\"data\":{\"action\":\"authenticate\",\"status\":\"authorized\"}}'\n"
     ]
    }
   ],
   "source": [
    "from websockets.client import connect\n",
    "import json\n",
    "import os\n",
    "import dotenv\n",
    "\n",
    "from src.data_ingestion.listen_news import send_new\n",
    "\n",
    "dotenv.load_dotenv()\n",
    "\n",
    "auth_msg = {\n",
    "  \"action\": \"auth\",\n",
    "  \"key\": os.environ[\"APCA_API_KEY_ID\"],\n",
    "  \"secret\": os.environ[\"APCA_API_SECRET_KEY\"]\n",
    "}\n",
    "start_listen_msg= {\n",
    "      \"action\": \"listen\",\n",
    "      \"data\": {\n",
    "        \"streams\": [\"trade_updates\"]\n",
    "      }\n",
    "    }\n",
    "async with connect(\"wss://paper-api.alpaca.markets/stream\") as websocket:\n",
    "    await websocket.send(json.dumps(auth_msg))\n",
    "    await websocket.send(json.dumps(start_listen_msg))\n",
    "    data = await websocket.recv()\n",
    "\n",
    "    async for message in websocket:\n",
    "      print(data)\n",
    "      send_new(json.loads(data))\n"
   ]
  },
  {
   "cell_type": "code",
   "execution_count": null,
   "metadata": {},
   "outputs": [
    {
     "data": {
      "text/plain": [
       "{'action': 'auth',\n",
       " 'key': 'PKVUS0LW2MYNR51ID5ZS',\n",
       " 'secret': 'AUuz3zFpHVisDsfhUKeBkMUeUEXOjOXX9BRSUilE'}"
      ]
     },
     "execution_count": 30,
     "metadata": {},
     "output_type": "execute_result"
    }
   ],
   "source": [
    "auth"
   ]
  },
  {
   "cell_type": "code",
   "execution_count": null,
   "metadata": {},
   "outputs": [
    {
     "name": "stderr",
     "output_type": "stream",
     "text": [
      "--- request header ---\n",
      "GET /stream HTTP/1.1\n",
      "Upgrade: websocket\n",
      "Host: paper-api.alpaca.markets\n",
      "Origin: https://paper-api.alpaca.markets\n",
      "Sec-WebSocket-Key: N/jCdOoHTW65rlQ6IB0wuQ==\n",
      "Sec-WebSocket-Version: 13\n",
      "Connection: Upgrade\n",
      "\n",
      "\n",
      "-----------------------\n",
      "--- response header ---\n",
      "HTTP/1.1 101 Switching Protocols\n",
      "Date: Tue, 16 Apr 2024 01:01:38 GMT\n",
      "Connection: upgrade\n",
      "Upgrade: websocket\n",
      "Sec-WebSocket-Accept: v3xXd2EPS/nf+1+/q5Q6UsS0MnQ=\n",
      "Strict-Transport-Security: max-age=31536000; includeSubDomains\n",
      "X-Request-ID: 9901c1b40e2129466b70e094e3340e5a\n",
      "Access-Control-Allow-Origin: *\n",
      "Access-Control-Allow-Credentials: true\n",
      "Access-Control-Allow-Methods: GET, OPTIONS, PUT, DELETE, POST, PATCH\n",
      "Access-Control-Allow-Headers: Apca-Api-Key-Id, Apca-Api-Secret-Key, Authorization\n",
      "Access-Control-Max-Age: 1728000\n",
      "-----------------------\n",
      "++Sent raw: b'\\x81\\xe7<GXzGe9\\x19H.7\\x14\\x1e}xX]2,\\x12\\x1ekxXW\"!X\\x06gz*w\\x11\\r)\\x0c\\x0b\\x0fHq\\x1e\\x16(\\tv\\x11>\\t\\x1d\\x0bX\\x10gz\\tY$*\\x1fHebZ\\x1e\\x06\\r\\x0fFt\"<L\\x0f\\x0e\\x13O\\x03+\\x1cT\\x12\\x13\\x1f~,\\x15/Y\\x12\\x1d\"s-\\x17\"d~\\x1a(o\\x121\\x16ye%'\n",
      "++Sent decoded: fin=1 opcode=1 data=b'{\"action\": \"auth\", \"key\": \"PKVUS0LW2MYNR51ID5ZS\", \"secret\": \"AUuz3zFpHVisDsfhUKeBkMUeUEXOjOXX9BRSUilE\"}'\n",
      "++Sent raw: b'\\x81\\xbc\\x89\\x9d\\xea\\x1c\\xf2\\xbf\\x8b\\x7f\\xfd\\xf4\\x85r\\xab\\xa7\\xca>\\xe5\\xf4\\x99h\\xec\\xf3\\xc80\\xa9\\xbf\\x8e}\\xfd\\xfc\\xc8&\\xa9\\xe6\\xc8o\\xfd\\xef\\x8f}\\xe4\\xee\\xc8&\\xa9\\xc6\\xc8h\\xfb\\xfc\\x8ey\\xd6\\xe8\\x9ax\\xe8\\xe9\\x8fo\\xab\\xc0\\x97a'\n",
      "++Sent decoded: fin=1 opcode=1 data=b'{\"action\": \"listen\", \"data\": {\"streams\": [\"trade_updates\"]}}'\n",
      "++Rcv raw: b'\\x82Q{\"stream\":\"authorization\",\"data\":{\"action\":\"authenticate\",\"status\":\"authorized\"}}'\n",
      "++Rcv decoded: fin=1 opcode=2 data=b'{\"stream\":\"authorization\",\"data\":{\"action\":\"authenticate\",\"status\":\"authorized\"}}'\n"
     ]
    },
    {
     "name": "stdout",
     "output_type": "stream",
     "text": [
      "Result: b'{\"stream\":\"authorization\",\"data\":{\"action\":\"authenticate\",\"status\":\"authorized\"}}'\n"
     ]
    }
   ],
   "source": [
    "import json\n",
    "from websocket import create_connection\n",
    "import websocket \n",
    "\n",
    "m = {\n",
    "  \"action\": \"listen\",\n",
    "  \"data\": {\n",
    "    \"streams\": [\"trade_updates\"]\n",
    "  }\n",
    "}\n",
    "\n",
    "websocket.enableTrace(True)\n",
    "ws = create_connection(\"wss://paper-api.alpaca.markets/stream\", extra_headers=auth)\n",
    "ws.send(json.dumps(auth))\n",
    "ws.send(json.dumps(m))\n",
    "\n",
    "result = ws.recv()\n",
    "print('Result: {}'.format(result))"
   ]
  },
  {
   "cell_type": "code",
   "execution_count": null,
   "metadata": {},
   "outputs": [
    {
     "name": "stderr",
     "output_type": "stream",
     "text": [
      "++Rcv raw: b'\\x89\\x00'\n",
      "++Rcv decoded: fin=1 opcode=9 data=b''\n",
      "++Sent raw: b'\\x8a\\x80\\xbe\\x10\\xe6x'\n",
      "++Sent decoded: fin=1 opcode=10 data=b''\n",
      "++Rcv raw: b'\\x89\\x00'\n",
      "++Rcv decoded: fin=1 opcode=9 data=b''\n",
      "++Sent raw: b'\\x8a\\x80\\xb1\\xd33\\xa3'\n",
      "++Sent decoded: fin=1 opcode=10 data=b''\n",
      "++Rcv raw: b'\\x89\\x00'\n",
      "++Rcv decoded: fin=1 opcode=9 data=b''\n",
      "++Sent raw: b'\\x8a\\x80\\xd5\\x8c\\x84\\r'\n",
      "++Sent decoded: fin=1 opcode=10 data=b''\n",
      "++Rcv raw: b'\\x89\\x00'\n",
      "++Rcv decoded: fin=1 opcode=9 data=b''\n",
      "++Sent raw: b'\\x8a\\x80\\xe9\\xdfc\\xa5'\n",
      "++Sent decoded: fin=1 opcode=10 data=b''\n",
      "++Rcv raw: b'\\x89\\x00'\n",
      "++Rcv decoded: fin=1 opcode=9 data=b''\n",
      "++Sent raw: b'\\x8a\\x80T\\x06^\\xbe'\n",
      "++Sent decoded: fin=1 opcode=10 data=b''\n"
     ]
    },
    {
     "ename": "KeyboardInterrupt",
     "evalue": "",
     "output_type": "error",
     "traceback": [
      "\u001b[0;31m---------------------------------------------------------------------------\u001b[0m",
      "\u001b[0;31mKeyboardInterrupt\u001b[0m                         Traceback (most recent call last)",
      "Cell \u001b[0;32mIn[35], line 1\u001b[0m\n\u001b[0;32m----> 1\u001b[0m \u001b[43mws\u001b[49m\u001b[38;5;241;43m.\u001b[39;49m\u001b[43mrecv\u001b[49m\u001b[43m(\u001b[49m\u001b[43m)\u001b[49m\n",
      "File \u001b[0;32m~/Dystopic_Investment_AIgents/.venv/lib/python3.11/site-packages/websocket/_core.py:388\u001b[0m, in \u001b[0;36mWebSocket.recv\u001b[0;34m(self)\u001b[0m\n\u001b[1;32m    380\u001b[0m \u001b[38;5;250m\u001b[39m\u001b[38;5;124;03m\"\"\"\u001b[39;00m\n\u001b[1;32m    381\u001b[0m \u001b[38;5;124;03mReceive string data(byte array) from the server.\u001b[39;00m\n\u001b[1;32m    382\u001b[0m \n\u001b[0;32m   (...)\u001b[0m\n\u001b[1;32m    385\u001b[0m \u001b[38;5;124;03mdata: string (byte array) value.\u001b[39;00m\n\u001b[1;32m    386\u001b[0m \u001b[38;5;124;03m\"\"\"\u001b[39;00m\n\u001b[1;32m    387\u001b[0m \u001b[38;5;28;01mwith\u001b[39;00m \u001b[38;5;28mself\u001b[39m\u001b[38;5;241m.\u001b[39mreadlock:\n\u001b[0;32m--> 388\u001b[0m     opcode, data \u001b[38;5;241m=\u001b[39m \u001b[38;5;28;43mself\u001b[39;49m\u001b[38;5;241;43m.\u001b[39;49m\u001b[43mrecv_data\u001b[49m\u001b[43m(\u001b[49m\u001b[43m)\u001b[49m\n\u001b[1;32m    389\u001b[0m \u001b[38;5;28;01mif\u001b[39;00m opcode \u001b[38;5;241m==\u001b[39m ABNF\u001b[38;5;241m.\u001b[39mOPCODE_TEXT:\n\u001b[1;32m    390\u001b[0m     data_received: Union[\u001b[38;5;28mbytes\u001b[39m, \u001b[38;5;28mstr\u001b[39m] \u001b[38;5;241m=\u001b[39m data\n",
      "File \u001b[0;32m~/Dystopic_Investment_AIgents/.venv/lib/python3.11/site-packages/websocket/_core.py:416\u001b[0m, in \u001b[0;36mWebSocket.recv_data\u001b[0;34m(self, control_frame)\u001b[0m\n\u001b[1;32m    401\u001b[0m \u001b[38;5;28;01mdef\u001b[39;00m \u001b[38;5;21mrecv_data\u001b[39m(\u001b[38;5;28mself\u001b[39m, control_frame: \u001b[38;5;28mbool\u001b[39m \u001b[38;5;241m=\u001b[39m \u001b[38;5;28;01mFalse\u001b[39;00m) \u001b[38;5;241m-\u001b[39m\u001b[38;5;241m>\u001b[39m \u001b[38;5;28mtuple\u001b[39m:\n\u001b[1;32m    402\u001b[0m \u001b[38;5;250m    \u001b[39m\u001b[38;5;124;03m\"\"\"\u001b[39;00m\n\u001b[1;32m    403\u001b[0m \u001b[38;5;124;03m    Receive data with operation code.\u001b[39;00m\n\u001b[1;32m    404\u001b[0m \n\u001b[0;32m   (...)\u001b[0m\n\u001b[1;32m    414\u001b[0m \u001b[38;5;124;03m        tuple of operation code and string(byte array) value.\u001b[39;00m\n\u001b[1;32m    415\u001b[0m \u001b[38;5;124;03m    \"\"\"\u001b[39;00m\n\u001b[0;32m--> 416\u001b[0m     opcode, frame \u001b[38;5;241m=\u001b[39m \u001b[38;5;28;43mself\u001b[39;49m\u001b[38;5;241;43m.\u001b[39;49m\u001b[43mrecv_data_frame\u001b[49m\u001b[43m(\u001b[49m\u001b[43mcontrol_frame\u001b[49m\u001b[43m)\u001b[49m\n\u001b[1;32m    417\u001b[0m     \u001b[38;5;28;01mreturn\u001b[39;00m opcode, frame\u001b[38;5;241m.\u001b[39mdata\n",
      "File \u001b[0;32m~/Dystopic_Investment_AIgents/.venv/lib/python3.11/site-packages/websocket/_core.py:437\u001b[0m, in \u001b[0;36mWebSocket.recv_data_frame\u001b[0;34m(self, control_frame)\u001b[0m\n\u001b[1;32m    420\u001b[0m \u001b[38;5;250m\u001b[39m\u001b[38;5;124;03m\"\"\"\u001b[39;00m\n\u001b[1;32m    421\u001b[0m \u001b[38;5;124;03mReceive data with operation code.\u001b[39;00m\n\u001b[1;32m    422\u001b[0m \n\u001b[0;32m   (...)\u001b[0m\n\u001b[1;32m    434\u001b[0m \u001b[38;5;124;03m    tuple of operation code and string(byte array) value.\u001b[39;00m\n\u001b[1;32m    435\u001b[0m \u001b[38;5;124;03m\"\"\"\u001b[39;00m\n\u001b[1;32m    436\u001b[0m \u001b[38;5;28;01mwhile\u001b[39;00m \u001b[38;5;28;01mTrue\u001b[39;00m:\n\u001b[0;32m--> 437\u001b[0m     frame \u001b[38;5;241m=\u001b[39m \u001b[38;5;28;43mself\u001b[39;49m\u001b[38;5;241;43m.\u001b[39;49m\u001b[43mrecv_frame\u001b[49m\u001b[43m(\u001b[49m\u001b[43m)\u001b[49m\n\u001b[1;32m    438\u001b[0m     \u001b[38;5;28;01mif\u001b[39;00m isEnabledForTrace():\n\u001b[1;32m    439\u001b[0m         trace(\u001b[38;5;124mf\u001b[39m\u001b[38;5;124m\"\u001b[39m\u001b[38;5;124m++Rcv raw: \u001b[39m\u001b[38;5;132;01m{\u001b[39;00m\u001b[38;5;28mrepr\u001b[39m(frame\u001b[38;5;241m.\u001b[39mformat())\u001b[38;5;132;01m}\u001b[39;00m\u001b[38;5;124m\"\u001b[39m)\n",
      "File \u001b[0;32m~/Dystopic_Investment_AIgents/.venv/lib/python3.11/site-packages/websocket/_core.py:478\u001b[0m, in \u001b[0;36mWebSocket.recv_frame\u001b[0;34m(self)\u001b[0m\n\u001b[1;32m    470\u001b[0m \u001b[38;5;28;01mdef\u001b[39;00m \u001b[38;5;21mrecv_frame\u001b[39m(\u001b[38;5;28mself\u001b[39m):\n\u001b[1;32m    471\u001b[0m \u001b[38;5;250m    \u001b[39m\u001b[38;5;124;03m\"\"\"\u001b[39;00m\n\u001b[1;32m    472\u001b[0m \u001b[38;5;124;03m    Receive data as frame from server.\u001b[39;00m\n\u001b[1;32m    473\u001b[0m \n\u001b[0;32m   (...)\u001b[0m\n\u001b[1;32m    476\u001b[0m \u001b[38;5;124;03m    self.frame_buffer.recv_frame(): ABNF frame object\u001b[39;00m\n\u001b[1;32m    477\u001b[0m \u001b[38;5;124;03m    \"\"\"\u001b[39;00m\n\u001b[0;32m--> 478\u001b[0m     \u001b[38;5;28;01mreturn\u001b[39;00m \u001b[38;5;28;43mself\u001b[39;49m\u001b[38;5;241;43m.\u001b[39;49m\u001b[43mframe_buffer\u001b[49m\u001b[38;5;241;43m.\u001b[39;49m\u001b[43mrecv_frame\u001b[49m\u001b[43m(\u001b[49m\u001b[43m)\u001b[49m\n",
      "File \u001b[0;32m~/Dystopic_Investment_AIgents/.venv/lib/python3.11/site-packages/websocket/_abnf.py:363\u001b[0m, in \u001b[0;36mframe_buffer.recv_frame\u001b[0;34m(self)\u001b[0m\n\u001b[1;32m    360\u001b[0m \u001b[38;5;28;01mwith\u001b[39;00m \u001b[38;5;28mself\u001b[39m\u001b[38;5;241m.\u001b[39mlock:\n\u001b[1;32m    361\u001b[0m     \u001b[38;5;66;03m# Header\u001b[39;00m\n\u001b[1;32m    362\u001b[0m     \u001b[38;5;28;01mif\u001b[39;00m \u001b[38;5;28mself\u001b[39m\u001b[38;5;241m.\u001b[39mhas_received_header():\n\u001b[0;32m--> 363\u001b[0m         \u001b[38;5;28;43mself\u001b[39;49m\u001b[38;5;241;43m.\u001b[39;49m\u001b[43mrecv_header\u001b[49m\u001b[43m(\u001b[49m\u001b[43m)\u001b[49m\n\u001b[1;32m    364\u001b[0m     (fin, rsv1, rsv2, rsv3, opcode, has_mask, _) \u001b[38;5;241m=\u001b[39m \u001b[38;5;28mself\u001b[39m\u001b[38;5;241m.\u001b[39mheader\n\u001b[1;32m    366\u001b[0m     \u001b[38;5;66;03m# Frame length\u001b[39;00m\n",
      "File \u001b[0;32m~/Dystopic_Investment_AIgents/.venv/lib/python3.11/site-packages/websocket/_abnf.py:319\u001b[0m, in \u001b[0;36mframe_buffer.recv_header\u001b[0;34m(self)\u001b[0m\n\u001b[1;32m    318\u001b[0m \u001b[38;5;28;01mdef\u001b[39;00m \u001b[38;5;21mrecv_header\u001b[39m(\u001b[38;5;28mself\u001b[39m) \u001b[38;5;241m-\u001b[39m\u001b[38;5;241m>\u001b[39m \u001b[38;5;28;01mNone\u001b[39;00m:\n\u001b[0;32m--> 319\u001b[0m     header \u001b[38;5;241m=\u001b[39m \u001b[38;5;28;43mself\u001b[39;49m\u001b[38;5;241;43m.\u001b[39;49m\u001b[43mrecv_strict\u001b[49m\u001b[43m(\u001b[49m\u001b[38;5;241;43m2\u001b[39;49m\u001b[43m)\u001b[49m\n\u001b[1;32m    320\u001b[0m     b1 \u001b[38;5;241m=\u001b[39m header[\u001b[38;5;241m0\u001b[39m]\n\u001b[1;32m    321\u001b[0m     fin \u001b[38;5;241m=\u001b[39m b1 \u001b[38;5;241m>>\u001b[39m \u001b[38;5;241m7\u001b[39m \u001b[38;5;241m&\u001b[39m \u001b[38;5;241m1\u001b[39m\n",
      "File \u001b[0;32m~/Dystopic_Investment_AIgents/.venv/lib/python3.11/site-packages/websocket/_abnf.py:398\u001b[0m, in \u001b[0;36mframe_buffer.recv_strict\u001b[0;34m(self, bufsize)\u001b[0m\n\u001b[1;32m    390\u001b[0m shortage \u001b[38;5;241m=\u001b[39m bufsize \u001b[38;5;241m-\u001b[39m \u001b[38;5;28msum\u001b[39m(\u001b[38;5;28mmap\u001b[39m(\u001b[38;5;28mlen\u001b[39m, \u001b[38;5;28mself\u001b[39m\u001b[38;5;241m.\u001b[39mrecv_buffer))\n\u001b[1;32m    391\u001b[0m \u001b[38;5;28;01mwhile\u001b[39;00m shortage \u001b[38;5;241m>\u001b[39m \u001b[38;5;241m0\u001b[39m:\n\u001b[1;32m    392\u001b[0m     \u001b[38;5;66;03m# Limit buffer size that we pass to socket.recv() to avoid\u001b[39;00m\n\u001b[1;32m    393\u001b[0m     \u001b[38;5;66;03m# fragmenting the heap -- the number of bytes recv() actually\u001b[39;00m\n\u001b[0;32m   (...)\u001b[0m\n\u001b[1;32m    396\u001b[0m     \u001b[38;5;66;03m# buffers allocated and then shrunk, which results in\u001b[39;00m\n\u001b[1;32m    397\u001b[0m     \u001b[38;5;66;03m# fragmentation.\u001b[39;00m\n\u001b[0;32m--> 398\u001b[0m     bytes_ \u001b[38;5;241m=\u001b[39m \u001b[38;5;28;43mself\u001b[39;49m\u001b[38;5;241;43m.\u001b[39;49m\u001b[43mrecv\u001b[49m\u001b[43m(\u001b[49m\u001b[38;5;28;43mmin\u001b[39;49m\u001b[43m(\u001b[49m\u001b[38;5;241;43m16384\u001b[39;49m\u001b[43m,\u001b[49m\u001b[43m \u001b[49m\u001b[43mshortage\u001b[49m\u001b[43m)\u001b[49m\u001b[43m)\u001b[49m\n\u001b[1;32m    399\u001b[0m     \u001b[38;5;28mself\u001b[39m\u001b[38;5;241m.\u001b[39mrecv_buffer\u001b[38;5;241m.\u001b[39mappend(bytes_)\n\u001b[1;32m    400\u001b[0m     shortage \u001b[38;5;241m-\u001b[39m\u001b[38;5;241m=\u001b[39m \u001b[38;5;28mlen\u001b[39m(bytes_)\n",
      "File \u001b[0;32m~/Dystopic_Investment_AIgents/.venv/lib/python3.11/site-packages/websocket/_core.py:563\u001b[0m, in \u001b[0;36mWebSocket._recv\u001b[0;34m(self, bufsize)\u001b[0m\n\u001b[1;32m    561\u001b[0m \u001b[38;5;28;01mdef\u001b[39;00m \u001b[38;5;21m_recv\u001b[39m(\u001b[38;5;28mself\u001b[39m, bufsize):\n\u001b[1;32m    562\u001b[0m     \u001b[38;5;28;01mtry\u001b[39;00m:\n\u001b[0;32m--> 563\u001b[0m         \u001b[38;5;28;01mreturn\u001b[39;00m \u001b[43mrecv\u001b[49m\u001b[43m(\u001b[49m\u001b[38;5;28;43mself\u001b[39;49m\u001b[38;5;241;43m.\u001b[39;49m\u001b[43msock\u001b[49m\u001b[43m,\u001b[49m\u001b[43m \u001b[49m\u001b[43mbufsize\u001b[49m\u001b[43m)\u001b[49m\n\u001b[1;32m    564\u001b[0m     \u001b[38;5;28;01mexcept\u001b[39;00m WebSocketConnectionClosedException:\n\u001b[1;32m    565\u001b[0m         \u001b[38;5;28;01mif\u001b[39;00m \u001b[38;5;28mself\u001b[39m\u001b[38;5;241m.\u001b[39msock:\n",
      "File \u001b[0;32m~/Dystopic_Investment_AIgents/.venv/lib/python3.11/site-packages/websocket/_socket.py:115\u001b[0m, in \u001b[0;36mrecv\u001b[0;34m(sock, bufsize)\u001b[0m\n\u001b[1;32m    113\u001b[0m         bytes_ \u001b[38;5;241m=\u001b[39m sock\u001b[38;5;241m.\u001b[39mrecv(bufsize)\n\u001b[1;32m    114\u001b[0m     \u001b[38;5;28;01melse\u001b[39;00m:\n\u001b[0;32m--> 115\u001b[0m         bytes_ \u001b[38;5;241m=\u001b[39m \u001b[43m_recv\u001b[49m\u001b[43m(\u001b[49m\u001b[43m)\u001b[49m\n\u001b[1;32m    116\u001b[0m \u001b[38;5;28;01mexcept\u001b[39;00m \u001b[38;5;167;01mTimeoutError\u001b[39;00m:\n\u001b[1;32m    117\u001b[0m     \u001b[38;5;28;01mraise\u001b[39;00m WebSocketTimeoutException(\u001b[38;5;124m\"\u001b[39m\u001b[38;5;124mConnection timed out\u001b[39m\u001b[38;5;124m\"\u001b[39m)\n",
      "File \u001b[0;32m~/Dystopic_Investment_AIgents/.venv/lib/python3.11/site-packages/websocket/_socket.py:94\u001b[0m, in \u001b[0;36mrecv.<locals>._recv\u001b[0;34m()\u001b[0m\n\u001b[1;32m     92\u001b[0m \u001b[38;5;28;01mdef\u001b[39;00m \u001b[38;5;21m_recv\u001b[39m():\n\u001b[1;32m     93\u001b[0m     \u001b[38;5;28;01mtry\u001b[39;00m:\n\u001b[0;32m---> 94\u001b[0m         \u001b[38;5;28;01mreturn\u001b[39;00m \u001b[43msock\u001b[49m\u001b[38;5;241;43m.\u001b[39;49m\u001b[43mrecv\u001b[49m\u001b[43m(\u001b[49m\u001b[43mbufsize\u001b[49m\u001b[43m)\u001b[49m\n\u001b[1;32m     95\u001b[0m     \u001b[38;5;28;01mexcept\u001b[39;00m SSLWantReadError:\n\u001b[1;32m     96\u001b[0m         \u001b[38;5;28;01mpass\u001b[39;00m\n",
      "File \u001b[0;32m/opt/homebrew/Cellar/python@3.11/3.11.6_1/Frameworks/Python.framework/Versions/3.11/lib/python3.11/ssl.py:1296\u001b[0m, in \u001b[0;36mSSLSocket.recv\u001b[0;34m(self, buflen, flags)\u001b[0m\n\u001b[1;32m   1292\u001b[0m     \u001b[38;5;28;01mif\u001b[39;00m flags \u001b[38;5;241m!=\u001b[39m \u001b[38;5;241m0\u001b[39m:\n\u001b[1;32m   1293\u001b[0m         \u001b[38;5;28;01mraise\u001b[39;00m \u001b[38;5;167;01mValueError\u001b[39;00m(\n\u001b[1;32m   1294\u001b[0m             \u001b[38;5;124m\"\u001b[39m\u001b[38;5;124mnon-zero flags not allowed in calls to recv() on \u001b[39m\u001b[38;5;132;01m%s\u001b[39;00m\u001b[38;5;124m\"\u001b[39m \u001b[38;5;241m%\u001b[39m\n\u001b[1;32m   1295\u001b[0m             \u001b[38;5;28mself\u001b[39m\u001b[38;5;241m.\u001b[39m\u001b[38;5;18m__class__\u001b[39m)\n\u001b[0;32m-> 1296\u001b[0m     \u001b[38;5;28;01mreturn\u001b[39;00m \u001b[38;5;28;43mself\u001b[39;49m\u001b[38;5;241;43m.\u001b[39;49m\u001b[43mread\u001b[49m\u001b[43m(\u001b[49m\u001b[43mbuflen\u001b[49m\u001b[43m)\u001b[49m\n\u001b[1;32m   1297\u001b[0m \u001b[38;5;28;01melse\u001b[39;00m:\n\u001b[1;32m   1298\u001b[0m     \u001b[38;5;28;01mreturn\u001b[39;00m \u001b[38;5;28msuper\u001b[39m()\u001b[38;5;241m.\u001b[39mrecv(buflen, flags)\n",
      "File \u001b[0;32m/opt/homebrew/Cellar/python@3.11/3.11.6_1/Frameworks/Python.framework/Versions/3.11/lib/python3.11/ssl.py:1169\u001b[0m, in \u001b[0;36mSSLSocket.read\u001b[0;34m(self, len, buffer)\u001b[0m\n\u001b[1;32m   1167\u001b[0m         \u001b[38;5;28;01mreturn\u001b[39;00m \u001b[38;5;28mself\u001b[39m\u001b[38;5;241m.\u001b[39m_sslobj\u001b[38;5;241m.\u001b[39mread(\u001b[38;5;28mlen\u001b[39m, buffer)\n\u001b[1;32m   1168\u001b[0m     \u001b[38;5;28;01melse\u001b[39;00m:\n\u001b[0;32m-> 1169\u001b[0m         \u001b[38;5;28;01mreturn\u001b[39;00m \u001b[38;5;28;43mself\u001b[39;49m\u001b[38;5;241;43m.\u001b[39;49m\u001b[43m_sslobj\u001b[49m\u001b[38;5;241;43m.\u001b[39;49m\u001b[43mread\u001b[49m\u001b[43m(\u001b[49m\u001b[38;5;28;43mlen\u001b[39;49m\u001b[43m)\u001b[49m\n\u001b[1;32m   1170\u001b[0m \u001b[38;5;28;01mexcept\u001b[39;00m SSLError \u001b[38;5;28;01mas\u001b[39;00m x:\n\u001b[1;32m   1171\u001b[0m     \u001b[38;5;28;01mif\u001b[39;00m x\u001b[38;5;241m.\u001b[39margs[\u001b[38;5;241m0\u001b[39m] \u001b[38;5;241m==\u001b[39m SSL_ERROR_EOF \u001b[38;5;129;01mand\u001b[39;00m \u001b[38;5;28mself\u001b[39m\u001b[38;5;241m.\u001b[39msuppress_ragged_eofs:\n",
      "\u001b[0;31mKeyboardInterrupt\u001b[0m: "
     ]
    }
   ],
   "source": [
    "ws.recv()"
   ]
  },
  {
   "cell_type": "markdown",
   "metadata": {},
   "source": [
    "## Get last news and send to Kafka topic"
   ]
  },
  {
   "cell_type": "code",
   "execution_count": null,
   "metadata": {},
   "outputs": [],
   "source": [
    "import pandas as pd\n",
    "import requests\n",
    "import json \n",
    "\n",
    "\n",
    "url = \"https://data.alpaca.markets/v1beta1/news\"#?symbols=COIN,BTCUSD\"\n",
    "\n",
    "headers = {\n",
    "    \"accept\": \"application/json\",\n",
    "    \"APCA-API-KEY-ID\": \"PKVUS0LW2MYNR51ID5ZS\",\n",
    "    \"APCA-API-SECRET-KEY\": \"AUuz3zFpHVisDsfhUKeBkMUeUEXOjOXX9BRSUilE\"\n",
    "}\n",
    "\n",
    "response = requests.get(url, headers=headers)\n",
    "\n",
    "news_response = json.loads(response.text)"
   ]
  },
  {
   "cell_type": "code",
   "execution_count": null,
   "metadata": {},
   "outputs": [],
   "source": [
    "news_response_df = pd.DataFrame(news_response[\"news\"])\n",
    "news_response_df"
   ]
  },
  {
   "cell_type": "code",
   "execution_count": null,
   "metadata": {},
   "outputs": [],
   "source": [
    "from src.data_ingestion.listen_news import send_new\n",
    "\n",
    "for i in news_response_df.to_dict(orient='records'):\n",
    "    send_new(i)"
   ]
  },
  {
   "cell_type": "code",
   "execution_count": null,
   "metadata": {},
   "outputs": [],
   "source": []
  },
  {
   "cell_type": "code",
   "execution_count": null,
   "metadata": {},
   "outputs": [],
   "source": []
  },
  {
   "cell_type": "markdown",
   "metadata": {},
   "source": []
  }
 ],
 "metadata": {
  "kernelspec": {
   "display_name": ".venv",
   "language": "python",
   "name": "python3"
  },
  "language_info": {
   "codemirror_mode": {
    "name": "ipython",
    "version": 3
   },
   "file_extension": ".py",
   "mimetype": "text/x-python",
   "name": "python",
   "nbconvert_exporter": "python",
   "pygments_lexer": "ipython3",
   "version": "3.11.6"
  }
 },
 "nbformat": 4,
 "nbformat_minor": 2
}
