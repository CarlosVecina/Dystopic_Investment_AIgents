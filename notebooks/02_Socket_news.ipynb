{
 "cells": [
  {
   "cell_type": "markdown",
   "metadata": {},
   "source": [
    "## Open Websocket and produce Kafka msg"
   ]
  },
  {
   "cell_type": "code",
   "execution_count": null,
   "metadata": {},
   "outputs": [],
   "source": [
    "from websockets.client import connect\n",
    "import json\n",
    "import os\n",
    "import dotenv\n",
    "\n",
    "from src.data_ingestion.kafka.base_producer import BaseProducer\n",
    "\n",
    "\n",
    "dotenv.load_dotenv()\n",
    "\n",
    "auth_msg = {\n",
    "  \"action\": \"auth\",\n",
    "  \"key\": os.environ[\"APCA_API_KEY_ID\"],\n",
    "  \"secret\": os.environ[\"APCA_API_SECRET_KEY\"]\n",
    "}\n",
    "start_listen_msg= {\n",
    "      \"action\": \"listen\",\n",
    "      \"data\": {\n",
    "        \"streams\": [\"trade_updates\"]\n",
    "      }\n",
    "    }\n",
    "async with connect(\"wss://paper-api.alpaca.markets/stream\") as websocket:\n",
    "    await websocket.send(json.dumps(auth_msg))\n",
    "    await websocket.send(json.dumps(start_listen_msg))\n",
    "    data = await websocket.recv()\n",
    "\n",
    "    async for message in websocket:\n",
    "      print(data)\n",
    "      BaseProducer(bootstrap_servers=os.environ[\"LOCAL_BOOSTRAP_SERVER\"], sasl_mechanism=\"PLAIN\").produce(json.loads(data))\n"
   ]
  },
  {
   "cell_type": "code",
   "execution_count": 9,
   "metadata": {},
   "outputs": [
    {
     "name": "stdout",
     "output_type": "stream",
     "text": [
      "Result: b'{\"stream\":\"authorization\",\"data\":{\"action\":\"authenticate\",\"status\":\"authorized\"}}'\n"
     ]
    }
   ],
   "source": [
    "import json\n",
    "from websocket import create_connection\n",
    "import websocket \n",
    "\n",
    "m = {\n",
    "  \"action\": \"listen\",\n",
    "  \"data\": {\n",
    "    \"streams\": [\"trade_updates\"]\n",
    "  }\n",
    "}\n",
    "\n",
    "websocket.enableTrace(False)\n",
    "ws = create_connection(\"wss://paper-api.alpaca.markets/stream\")\n",
    "ws.send(json.dumps(auth_msg))\n",
    "ws.send(json.dumps(m))\n",
    "\n",
    "result = ws.recv()\n",
    "print('Result: {}'.format(result))"
   ]
  },
  {
   "cell_type": "markdown",
   "metadata": {},
   "source": [
    "## Get last news API and send to Kafka topic"
   ]
  },
  {
   "cell_type": "code",
   "execution_count": 10,
   "metadata": {},
   "outputs": [],
   "source": [
    "import pandas as pd\n",
    "import requests\n",
    "import json \n",
    "\n",
    "\n",
    "url = \"https://data.alpaca.markets/v1beta1/news\"#?symbols=COIN,BTCUSD\"\n",
    "\n",
    "headers = {\n",
    "    \"accept\": \"application/json\",\n",
    "    \"APCA-API-KEY-ID\": os.environ[\"APCA_API_KEY_ID\"],\n",
    "    \"APCA-API-SECRET-KEY\": os.environ[\"APCA_API_SECRET_KEY\"]\n",
    "}\n",
    "\n",
    "response = requests.get(url, headers=headers)\n",
    "\n",
    "news_response = json.loads(response.text)"
   ]
  },
  {
   "cell_type": "code",
   "execution_count": 11,
   "metadata": {},
   "outputs": [
    {
     "data": {
      "text/html": [
       "<div>\n",
       "<style scoped>\n",
       "    .dataframe tbody tr th:only-of-type {\n",
       "        vertical-align: middle;\n",
       "    }\n",
       "\n",
       "    .dataframe tbody tr th {\n",
       "        vertical-align: top;\n",
       "    }\n",
       "\n",
       "    .dataframe thead th {\n",
       "        text-align: right;\n",
       "    }\n",
       "</style>\n",
       "<table border=\"1\" class=\"dataframe\">\n",
       "  <thead>\n",
       "    <tr style=\"text-align: right;\">\n",
       "      <th></th>\n",
       "      <th>author</th>\n",
       "      <th>content</th>\n",
       "      <th>created_at</th>\n",
       "      <th>headline</th>\n",
       "      <th>id</th>\n",
       "      <th>images</th>\n",
       "      <th>source</th>\n",
       "      <th>summary</th>\n",
       "      <th>symbols</th>\n",
       "      <th>updated_at</th>\n",
       "      <th>url</th>\n",
       "    </tr>\n",
       "  </thead>\n",
       "  <tbody>\n",
       "    <tr>\n",
       "      <th>0</th>\n",
       "      <td>Benzinga Neuro</td>\n",
       "      <td></td>\n",
       "      <td>2024-04-18T12:17:53Z</td>\n",
       "      <td>Analysts Forecast 22% Surge For This 'Dividend...</td>\n",
       "      <td>38312273</td>\n",
       "      <td>[{'size': 'large', 'url': 'https://cdn.benzing...</td>\n",
       "      <td>benzinga</td>\n",
       "      <td>With geopolitical tensions and high inflation ...</td>\n",
       "      <td>[CAT]</td>\n",
       "      <td>2024-04-18T12:17:54Z</td>\n",
       "      <td>https://www.benzinga.com/markets/equities/24/0...</td>\n",
       "    </tr>\n",
       "    <tr>\n",
       "      <th>1</th>\n",
       "      <td>Benzinga Newsdesk</td>\n",
       "      <td></td>\n",
       "      <td>2024-04-18T12:17:37Z</td>\n",
       "      <td>Home BancShares Q1 Adj EPS $0.49 Beats $0.46 E...</td>\n",
       "      <td>38312271</td>\n",
       "      <td>[]</td>\n",
       "      <td>benzinga</td>\n",
       "      <td></td>\n",
       "      <td>[HOMB]</td>\n",
       "      <td>2024-04-18T12:17:37Z</td>\n",
       "      <td>https://www.benzinga.com/news/earnings/24/04/3...</td>\n",
       "    </tr>\n",
       "  </tbody>\n",
       "</table>\n",
       "</div>"
      ],
      "text/plain": [
       "              author content            created_at  \\\n",
       "0     Benzinga Neuro          2024-04-18T12:17:53Z   \n",
       "1  Benzinga Newsdesk          2024-04-18T12:17:37Z   \n",
       "\n",
       "                                            headline        id  \\\n",
       "0  Analysts Forecast 22% Surge For This 'Dividend...  38312273   \n",
       "1  Home BancShares Q1 Adj EPS $0.49 Beats $0.46 E...  38312271   \n",
       "\n",
       "                                              images    source  \\\n",
       "0  [{'size': 'large', 'url': 'https://cdn.benzing...  benzinga   \n",
       "1                                                 []  benzinga   \n",
       "\n",
       "                                             summary symbols  \\\n",
       "0  With geopolitical tensions and high inflation ...   [CAT]   \n",
       "1                                                     [HOMB]   \n",
       "\n",
       "             updated_at                                                url  \n",
       "0  2024-04-18T12:17:54Z  https://www.benzinga.com/markets/equities/24/0...  \n",
       "1  2024-04-18T12:17:37Z  https://www.benzinga.com/news/earnings/24/04/3...  "
      ]
     },
     "execution_count": 11,
     "metadata": {},
     "output_type": "execute_result"
    }
   ],
   "source": [
    "news_response_df = pd.DataFrame(news_response[\"news\"])\n",
    "news_response_df.head(2)"
   ]
  },
  {
   "cell_type": "code",
   "execution_count": null,
   "metadata": {},
   "outputs": [],
   "source": [
    "import dotenv\n",
    "import os\n",
    "\n",
    "from src.data_ingestion.kafka.base_producer import BaseProducer\n",
    "\n",
    "dotenv.load_dotenv()\n",
    "\n",
    "producer = BaseProducer(bootstrap_servers=os.environ[\"LOCAL_BOOSTRAP_SERVER\"], sasl_mechanism=\"PLAIN\")"
   ]
  },
  {
   "cell_type": "code",
   "execution_count": null,
   "metadata": {},
   "outputs": [],
   "source": [
    "producer.produce(\"a\", \"a\", \"a\")\n",
    "\n",
    "for i in news_response_df.to_dict(orient='records'):\n",
    "    producer.produce(\"news-topic\", \"a\", i)"
   ]
  },
  {
   "cell_type": "code",
   "execution_count": null,
   "metadata": {},
   "outputs": [],
   "source": [
    "from kafka import KafkaConsumer\n",
    "\n",
    "consumer = KafkaConsumer('a', consumer_timeout_ms=1, auto_offset_reset='earliest', group_id='news-persit-data-lake', bootstrap_servers=os.environ[\"LOCAL_BOOSTRAP_SERVER\"])"
   ]
  },
  {
   "cell_type": "code",
   "execution_count": null,
   "metadata": {},
   "outputs": [],
   "source": [
    "for i in consumer:\n",
    "    print(i)"
   ]
  },
  {
   "cell_type": "code",
   "execution_count": null,
   "metadata": {},
   "outputs": [],
   "source": [
    "from src.data_ingestion.kafka.base_consumer import BaseConsumer\n",
    "\n",
    "\n",
    "consumer = BaseConsumer()"
   ]
  },
  {
   "cell_type": "code",
   "execution_count": null,
   "metadata": {},
   "outputs": [],
   "source": [
    "consumer.consume_next()"
   ]
  },
  {
   "cell_type": "markdown",
   "metadata": {},
   "source": []
  }
 ],
 "metadata": {
  "kernelspec": {
   "display_name": ".venv",
   "language": "python",
   "name": "python3"
  },
  "language_info": {
   "codemirror_mode": {
    "name": "ipython",
    "version": 3
   },
   "file_extension": ".py",
   "mimetype": "text/x-python",
   "name": "python",
   "nbconvert_exporter": "python",
   "pygments_lexer": "ipython3",
   "version": "3.10.13"
  }
 },
 "nbformat": 4,
 "nbformat_minor": 2
}
