{
 "cells": [
  {
   "cell_type": "code",
   "execution_count": 2,
   "metadata": {},
   "outputs": [],
   "source": [
    "from websockets.client import connect\n",
    "import os\n",
    "import dotenv\n",
    "\n",
    "from src.data_ingestion.listen_news import send_new\n",
    "\n",
    "dotenv.load_dotenv()\n",
    "\n",
    "auth = {\n",
    "  \"action\": \"auth\",\n",
    "  \"key\": os.environ[\"APCA_API_KEY_ID\"],\n",
    "  \"secret\": os.environ[\"APCA_API_SECRET_KEY\"]\n",
    "}\n",
    "async with connect(\"wss://paper-api.alpaca.markets/stream\", extra_headers=auth) as websocket:\n",
    "    greeting = await websocket.recv()\n",
    "    async for message in websocket:\n",
    "      print(message)\n",
    "      send_new(message)\n",
    "    print(f\"<<< {greeting}\")\n",
    "\n"
   ]
  },
  {
   "cell_type": "markdown",
   "metadata": {},
   "source": [
    "## Get last news and send to Kafka topic"
   ]
  },
  {
   "cell_type": "code",
   "execution_count": null,
   "metadata": {},
   "outputs": [],
   "source": [
    "import pandas as pd\n",
    "import requests\n",
    "import json \n",
    "\n",
    "\n",
    "url = \"https://data.alpaca.markets/v1beta1/news\"#?symbols=COIN,BTCUSD\"\n",
    "\n",
    "headers = {\n",
    "    \"accept\": \"application/json\",\n",
    "    \"APCA-API-KEY-ID\": \"PKVUS0LW2MYNR51ID5ZS\",\n",
    "    \"APCA-API-SECRET-KEY\": \"AUuz3zFpHVisDsfhUKeBkMUeUEXOjOXX9BRSUilE\"\n",
    "}\n",
    "\n",
    "response = requests.get(url, headers=headers)\n",
    "\n",
    "news_response = json.loads(response.text)"
   ]
  },
  {
   "cell_type": "code",
   "execution_count": null,
   "metadata": {},
   "outputs": [],
   "source": [
    "news_response_df = pd.DataFrame(news_response[\"news\"])\n",
    "news_response_df"
   ]
  },
  {
   "cell_type": "code",
   "execution_count": null,
   "metadata": {},
   "outputs": [],
   "source": [
    "from src.data_ingestion.listen_news import send_new\n",
    "\n",
    "for i in news_response_df.to_dict(orient='records'):\n",
    "    send_new(i)"
   ]
  },
  {
   "cell_type": "code",
   "execution_count": null,
   "metadata": {},
   "outputs": [],
   "source": []
  },
  {
   "cell_type": "code",
   "execution_count": null,
   "metadata": {},
   "outputs": [],
   "source": []
  },
  {
   "cell_type": "markdown",
   "metadata": {},
   "source": []
  }
 ],
 "metadata": {
  "kernelspec": {
   "display_name": ".venv",
   "language": "python",
   "name": "python3"
  },
  "language_info": {
   "codemirror_mode": {
    "name": "ipython",
    "version": 3
   },
   "file_extension": ".py",
   "mimetype": "text/x-python",
   "name": "python",
   "nbconvert_exporter": "python",
   "pygments_lexer": "ipython3",
   "version": "3.11.6"
  }
 },
 "nbformat": 4,
 "nbformat_minor": 2
}
