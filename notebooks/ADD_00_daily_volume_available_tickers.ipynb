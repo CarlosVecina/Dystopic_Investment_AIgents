{
 "cells": [
  {
   "cell_type": "code",
   "execution_count": 1,
   "metadata": {},
   "outputs": [
    {
     "name": "stdout",
     "output_type": "stream",
     "text": [
      "Downloading data for date 2024-08-07 00:00:00\n",
      "Ticker list lenght 601\n"
     ]
    }
   ],
   "source": [
    "import datetime\n",
    "import os\n",
    "import pandas as pd\n",
    "\n",
    "from src.data_ingestion.db.postgres_db import FinancialDB, PostgresConfig, PostgresDB\n",
    "from src.data_ingestion.downloader.tiingo_ticker_downloader import TiingoDownloader\n",
    "\n",
    "COMPUTE_DATE = '2024-08-07'\n",
    "\n",
    "db_config = PostgresConfig(\n",
    "    host=os.environ[\"SB_DDBB_HOST\"],\n",
    "    port=os.environ[\"SB_DDBB_PORT\"],\n",
    "    database=os.environ[\"SB_DDBB_DATABASE\"],\n",
    "    user=os.environ[\"SB_DDBB_USER\"],\n",
    "    password=os.environ[\"SB_DDBB_PWD\"],\n",
    ")\n",
    "db = FinancialDB(config=db_config)\n",
    "\n",
    "tickers = db.get_available_tickers(date=None) # TODO: Change this to top_n tickers, as it is taking so much time\n",
    "\n",
    "dwn = TiingoDownloader(db=db)\n",
    "\n",
    "#TODO: Remove this chunk of code as it is required for daily volume/ market cap\n",
    "downloaded_tickers = pd.read_sql(\"SELECT distinct(ticker) FROM ticker_prices\", db.engine)[\"ticker\"].to_list()\n",
    "tickers = [i for i in tickers if i not in downloaded_tickers]\n",
    "##\n",
    "\n",
    "date = datetime.datetime.now() - datetime.timedelta(days=1)\n",
    "if COMPUTE_DATE:\n",
    "    date = datetime.datetime.strptime(COMPUTE_DATE, \"%Y-%m-%d\")\n",
    "\n",
    "print(f\"Downloading data for date {date}\")\n",
    "print(f\"Ticker list lenght {len(tickers)}\")"
   ]
  },
  {
   "cell_type": "code",
   "execution_count": 33,
   "metadata": {},
   "outputs": [],
   "source": [
    "def get_top_volume_tickers(top_n: int | None = 100) -> pd.DataFrame:\n",
    "    limit = \"\"\n",
    "    if top_n:\n",
    "        limit = f\"LIMIT {top_n}\"\n",
    "\n",
    "    return pd.read_sql(\n",
    "        f\"\"\"\n",
    "        SELECT *, Row_number()OVER() as top_n\n",
    "        FROM (\n",
    "            SELECT ticker, max(close * volume) as daily_volume FROM ticker_prices WHERE close is not null GROUP BY 1 ORDER BY daily_volume DESC {limit}\n",
    "        ) a\n",
    "        \"\"\",\n",
    "        db.engine,\n",
    "    )"
   ]
  },
  {
   "cell_type": "code",
   "execution_count": 34,
   "metadata": {},
   "outputs": [
    {
     "data": {
      "text/html": [
       "<div>\n",
       "<style scoped>\n",
       "    .dataframe tbody tr th:only-of-type {\n",
       "        vertical-align: middle;\n",
       "    }\n",
       "\n",
       "    .dataframe tbody tr th {\n",
       "        vertical-align: top;\n",
       "    }\n",
       "\n",
       "    .dataframe thead th {\n",
       "        text-align: right;\n",
       "    }\n",
       "</style>\n",
       "<table border=\"1\" class=\"dataframe\">\n",
       "  <thead>\n",
       "    <tr style=\"text-align: right;\">\n",
       "      <th></th>\n",
       "      <th>ticker</th>\n",
       "      <th>daily_volume</th>\n",
       "      <th>top_n</th>\n",
       "    </tr>\n",
       "  </thead>\n",
       "  <tbody>\n",
       "    <tr>\n",
       "      <th>0</th>\n",
       "      <td>nvda</td>\n",
       "      <td>4.069557e+10</td>\n",
       "      <td>1</td>\n",
       "    </tr>\n",
       "    <tr>\n",
       "      <th>1</th>\n",
       "      <td>qqq</td>\n",
       "      <td>2.388155e+10</td>\n",
       "      <td>2</td>\n",
       "    </tr>\n",
       "    <tr>\n",
       "      <th>2</th>\n",
       "      <td>tsla</td>\n",
       "      <td>1.364560e+10</td>\n",
       "      <td>3</td>\n",
       "    </tr>\n",
       "    <tr>\n",
       "      <th>3</th>\n",
       "      <td>aapl</td>\n",
       "      <td>1.332701e+10</td>\n",
       "      <td>4</td>\n",
       "    </tr>\n",
       "    <tr>\n",
       "      <th>4</th>\n",
       "      <td>meta</td>\n",
       "      <td>9.829887e+09</td>\n",
       "      <td>5</td>\n",
       "    </tr>\n",
       "    <tr>\n",
       "      <th>5</th>\n",
       "      <td>smci</td>\n",
       "      <td>8.927984e+09</td>\n",
       "      <td>6</td>\n",
       "    </tr>\n",
       "    <tr>\n",
       "      <th>6</th>\n",
       "      <td>msft</td>\n",
       "      <td>8.227940e+09</td>\n",
       "      <td>7</td>\n",
       "    </tr>\n",
       "    <tr>\n",
       "      <th>7</th>\n",
       "      <td>amzn</td>\n",
       "      <td>7.879409e+09</td>\n",
       "      <td>8</td>\n",
       "    </tr>\n",
       "    <tr>\n",
       "      <th>8</th>\n",
       "      <td>amd</td>\n",
       "      <td>7.035224e+09</td>\n",
       "      <td>9</td>\n",
       "    </tr>\n",
       "    <tr>\n",
       "      <th>9</th>\n",
       "      <td>avgo</td>\n",
       "      <td>4.053999e+09</td>\n",
       "      <td>10</td>\n",
       "    </tr>\n",
       "  </tbody>\n",
       "</table>\n",
       "</div>"
      ],
      "text/plain": [
       "  ticker  daily_volume  top_n\n",
       "0   nvda  4.069557e+10      1\n",
       "1    qqq  2.388155e+10      2\n",
       "2   tsla  1.364560e+10      3\n",
       "3   aapl  1.332701e+10      4\n",
       "4   meta  9.829887e+09      5\n",
       "5   smci  8.927984e+09      6\n",
       "6   msft  8.227940e+09      7\n",
       "7   amzn  7.879409e+09      8\n",
       "8    amd  7.035224e+09      9\n",
       "9   avgo  4.053999e+09     10"
      ]
     },
     "execution_count": 34,
     "metadata": {},
     "output_type": "execute_result"
    }
   ],
   "source": [
    "get_top_volume_tickers(10)"
   ]
  },
  {
   "cell_type": "code",
   "execution_count": 2,
   "metadata": {},
   "outputs": [
    {
     "data": {
      "text/plain": [
       "['nvda', 'qqq', 'tsla', 'aapl', 'meta', 'smci', 'msft', 'amzn', 'amd', 'avgo']"
      ]
     },
     "execution_count": 2,
     "metadata": {},
     "output_type": "execute_result"
    }
   ],
   "source": [
    "FinancialDB(config=db_config).get_top_volume_tickers(10)"
   ]
  }
 ],
 "metadata": {
  "kernelspec": {
   "display_name": ".venv",
   "language": "python",
   "name": "python3"
  },
  "language_info": {
   "codemirror_mode": {
    "name": "ipython",
    "version": 3
   },
   "file_extension": ".py",
   "mimetype": "text/x-python",
   "name": "python",
   "nbconvert_exporter": "python",
   "pygments_lexer": "ipython3",
   "version": "3.11.9"
  }
 },
 "nbformat": 4,
 "nbformat_minor": 2
}
