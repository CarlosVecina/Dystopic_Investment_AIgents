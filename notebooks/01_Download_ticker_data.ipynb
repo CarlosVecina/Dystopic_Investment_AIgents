{
 "cells": [
  {
   "cell_type": "code",
   "execution_count": null,
   "metadata": {},
   "outputs": [],
   "source": [
    "import datetime\n",
    "from src.data_ingestion.download_ticker_data import download_ticker_data\n",
    "import json\n",
    "\n",
    "download_ticker_data(\"AMC\", datetime.datetime(2024,4,1), datetime.datetime(2024,4,3))"
   ]
  },
  {
   "cell_type": "code",
   "execution_count": null,
   "metadata": {},
   "outputs": [],
   "source": [
    "download_ticker_data([\"AMC\",\"BYND\"], datetime.datetime(2024,4,1), datetime.datetime(2024,4,3))"
   ]
  },
  {
   "cell_type": "code",
   "execution_count": null,
   "metadata": {},
   "outputs": [],
   "source": [
    "download_ticker_data([\"NXTT\"], datetime.datetime(2024,4,1), datetime.datetime(2024,4,3))"
   ]
  },
  {
   "cell_type": "code",
   "execution_count": null,
   "metadata": {},
   "outputs": [],
   "source": [
    "import requests\n",
    "\n",
    "url = \"https://paper-api.alpaca.markets/v2/assets?status=active&exchange=NASDAQ&attributes=\"\n",
    "\n",
    "headers = {\n",
    "    \"accept\": \"application/json\",\n",
    "    \"APCA-API-KEY-ID\": \"PKVUS0LW2MYNR51ID5ZS\",\n",
    "    \"APCA-API-SECRET-KEY\": \"AUuz3zFpHVisDsfhUKeBkMUeUEXOjOXX9BRSUilE\"\n",
    "}\n",
    "\n",
    "response = requests.get(url, headers=headers)\n",
    "\n",
    "print(response.text)"
   ]
  },
  {
   "cell_type": "code",
   "execution_count": null,
   "metadata": {},
   "outputs": [],
   "source": [
    "assets_response = json.loads(response.text)\n",
    "symbol_list = list()\n",
    "\n",
    "for i in assets_response:\n",
    "    symbol_list.append(i[\"symbol\"])\n",
    "symbol_list[0:20]"
   ]
  }
 ],
 "metadata": {
  "kernelspec": {
   "display_name": ".venv",
   "language": "python",
   "name": "python3"
  },
  "language_info": {
   "codemirror_mode": {
    "name": "ipython",
    "version": 3
   },
   "file_extension": ".py",
   "mimetype": "text/x-python",
   "name": "python",
   "nbconvert_exporter": "python",
   "pygments_lexer": "ipython3",
   "version": "3.11.6"
  }
 },
 "nbformat": 4,
 "nbformat_minor": 2
}
