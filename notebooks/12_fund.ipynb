{
 "cells": [
  {
   "cell_type": "code",
   "execution_count": 5,
   "metadata": {},
   "outputs": [],
   "source": [
    "from adalflow import OpenAIClient\n",
    "from sqlalchemy import create_engine\n",
    "import os\n",
    "\n",
    "from dystopic_investment_aigents.agents.base_agents.analyst_base import AnalystAdal\n",
    "from dystopic_investment_aigents.agents.base_agents.fund_manager_base import FundManagerAdal\n",
    "from dystopic_investment_aigents.agents.base_agents.quant_trader_base import QuantTraderNaiveAdal\n",
    "from dystopic_investment_aigents.agents.fund import Fund\n",
    "from dystopic_investment_aigents.data_ingestion.db.postgres_db import PostgresConfig\n",
    "\n",
    "\n",
    "the_boss = FundManagerAdal(\n",
    "    personality={\"mood\": \"optimistic\", \"risk_tolerance\": 0.5},\n",
    "    seniority=OpenAIClient(),\n",
    "    seniority_args={\n",
    "        \"model\": \"gpt-4o-mini\",\n",
    "        \"temperature\": 0.0,\n",
    "    },\n",
    ")\n",
    "the_analyst01 = AnalystAdal(\n",
    "    personality={\"mood\": \"optimistic\", \"risk_tolerance\": 0.5},\n",
    "    seniority=OpenAIClient(),\n",
    "    seniority_args={\n",
    "        \"model\": \"gpt-4o-mini\",\n",
    "        \"temperature\": 0.0,\n",
    "    },\n",
    ")\n",
    "the_trader01 = QuantTraderNaiveAdal(\n",
    "    personality={\"mood\": \"optimistic\", \"risk_tolerance\": 0.5},\n",
    "    seniority=OpenAIClient(),\n",
    "    seniority_args={\n",
    "        \"model\": \"gpt-4o-mini\",\n",
    "        \"temperature\": 0.9,\n",
    "    },\n",
    ")\n",
    "db_uri = PostgresConfig(\n",
    "    host=os.environ[\"SB_DDBB_HOST\"],\n",
    "    port=os.environ[\"SB_DDBB_PORT\"],\n",
    "    database=os.environ[\"SB_DDBB_DATABASE\"],\n",
    "    user=os.environ[\"SB_DDBB_USER\"],\n",
    "    password=os.environ[\"SB_DDBB_PWD\"],\n",
    ").get_connection_string()\n",
    "\n",
    "engine = create_engine(db_uri)\n",
    "\n",
    "fund = Fund(\n",
    "    name=\"Dystopic Fund\",\n",
    "    description=\"A fund that invests in the future\",\n",
    "    manager=the_boss,\n",
    "    analyst=[the_analyst01],\n",
    "    trader=the_trader01,\n",
    "    possible_assets=[\"stocks\"],\n",
    "    engine=engine,\n",
    ")\n",
    "    #fund.run()"
   ]
  }
 ],
 "metadata": {
  "kernelspec": {
   "display_name": "dystopic-investment-aigents-nFobpI-k-py3.11",
   "language": "python",
   "name": "python3"
  },
  "language_info": {
   "codemirror_mode": {
    "name": "ipython",
    "version": 3
   },
   "file_extension": ".py",
   "mimetype": "text/x-python",
   "name": "python",
   "nbconvert_exporter": "python",
   "pygments_lexer": "ipython3",
   "version": "3.11.0"
  }
 },
 "nbformat": 4,
 "nbformat_minor": 2
}
