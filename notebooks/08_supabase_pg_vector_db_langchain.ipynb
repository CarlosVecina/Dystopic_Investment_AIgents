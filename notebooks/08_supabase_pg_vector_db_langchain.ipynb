{
 "cells": [
  {
   "cell_type": "code",
   "execution_count": null,
   "metadata": {},
   "outputs": [],
   "source": [
    "from src.data_ingestion.db.postgres_db import PostgresConfig\n",
    "import vecs\n",
    "import os\n",
    "from dotenv import load_dotenv\n",
    "\n",
    "load_dotenv()\n",
    "\n",
    "db_config = PostgresConfig(\n",
    "    host=os.environ[\"SB_DDBB_HOST\"],\n",
    "    port=os.environ[\"SB_DDBB_PORT\"],\n",
    "    database=os.environ[\"SB_DDBB_DATABASE\"],\n",
    "    user=os.environ[\"SB_DDBB_USER\"],\n",
    "    password=os.environ[\"SB_DDBB_PWD\"]\n",
    ")\n",
    "\n",
    "db_config.get_connection_string()"
   ]
  },
  {
   "cell_type": "code",
   "execution_count": null,
   "metadata": {},
   "outputs": [],
   "source": [
    "from sqlalchemy import create_engine\n",
    "\n",
    "\n",
    "create_engine(db_config.get_connection_string())"
   ]
  },
  {
   "cell_type": "code",
   "execution_count": null,
   "metadata": {},
   "outputs": [],
   "source": [
    "vx = vecs.create_client(db_config.get_connection_string())"
   ]
  },
  {
   "cell_type": "code",
   "execution_count": null,
   "metadata": {},
   "outputs": [],
   "source": [
    "db_config.get_connection_string()"
   ]
  },
  {
   "cell_type": "markdown",
   "metadata": {},
   "source": [
    "## LangChain vector store + Supabase client"
   ]
  },
  {
   "cell_type": "code",
   "execution_count": 40,
   "metadata": {},
   "outputs": [],
   "source": [
    "import os\n",
    "from dotenv import load_dotenv\n",
    "\n",
    "from langchain_community.embeddings.openai import OpenAIEmbeddings\n",
    "from langchain_core.documents import Document\n",
    "from langchain_community.vectorstores import SupabaseVectorStore\n",
    "from supabase.client import create_client\n",
    "\n",
    "load_dotenv()\n",
    "\n",
    "SCHEMA_NAME = \"vecs\"\n",
    "NEWS_TABLE_NAME = \"sp500_news\""
   ]
  },
  {
   "cell_type": "code",
   "execution_count": 46,
   "metadata": {},
   "outputs": [],
   "source": [
    "docs = [\n",
    "    Document(page_content=\"Monsters of Rock: Northern Star defends hedges as gold prices spike; Metals Acquisition bats off M&A talk\", metadata={\"id\": \"vec3\"}),\n",
    "]\n",
    "embeddings = OpenAIEmbeddings()\n",
    "supabase_client = create_client(os.environ[\"SB_URL\"], os.environ[\"SB_API_KEY\"]).schema(SCHEMA_NAME)"
   ]
  },
  {
   "cell_type": "code",
   "execution_count": null,
   "metadata": {},
   "outputs": [],
   "source": [
    "vector_store = SupabaseVectorStore.from_documents(\n",
    "    docs,\n",
    "    embeddings,\n",
    "    client=supabase_client,\n",
    "    table_name=NEWS_TABLE_NAME,\n",
    "    #query_name=\"match_documents\",\n",
    "    chunk_size=50,\n",
    ")"
   ]
  },
  {
   "cell_type": "markdown",
   "metadata": {},
   "source": [
    "### Documents Batch insertion"
   ]
  },
  {
   "cell_type": "code",
   "execution_count": 66,
   "metadata": {},
   "outputs": [],
   "source": [
    "## Batch insertion\n",
    "import pandas as pd\n",
    "DATA_PATH = \"../src/data_ingestion/downloader/data\"\n",
    "\n",
    "file = \"news_2024_07_01_2024_07_22.csv\"\n",
    "\n",
    "df_news = pd.read_csv(os.path.join(DATA_PATH, file)).drop_duplicates(subset=[\"id\"]).drop_duplicates(subset=[\"description\"])"
   ]
  },
  {
   "cell_type": "code",
   "execution_count": 82,
   "metadata": {},
   "outputs": [],
   "source": [
    "list_docs = df_news.apply(\n",
    "    lambda x: Document(\n",
    "        page_content=f\"{x['title']}: {x['description']}\",\n",
    "        metadata={\n",
    "            \"external_id\": x[\"id\"],\n",
    "            \"source\": x[\"source\"],\n",
    "            \"tags\": x[\"tags\"],\n",
    "            \"tickers\": x[\"tickers\"],\n",
    "            \"publish_date\": x[\"publishedDate\"],\n",
    "        },\n",
    "    ),\n",
    "    axis=1,\n",
    ").to_list()"
   ]
  },
  {
   "cell_type": "code",
   "execution_count": null,
   "metadata": {},
   "outputs": [],
   "source": [
    "vector_store = SupabaseVectorStore.from_documents(\n",
    "    list_docs,\n",
    "    embeddings,\n",
    "    client=supabase_client,\n",
    "    table_name=\"sp500_news\",\n",
    "    query_name=\"match_documents\",\n",
    "    chunk_size=500,\n",
    ")"
   ]
  },
  {
   "cell_type": "code",
   "execution_count": null,
   "metadata": {},
   "outputs": [],
   "source": [
    "# supabase function vecs.match_documents. Expects query_embeding, as the limit and scrore threshold is being managed by the LangChain vector_store python code\n",
    "\n",
    "question = \"Bad news with prices lowering\"\n",
    "docs = vector_store.similarity_search(question, k=5, score_threshold=0.5)\n",
    "docs"
   ]
  },
  {
   "cell_type": "code",
   "execution_count": null,
   "metadata": {},
   "outputs": [],
   "source": [
    "question = \"What are the latest gold news?\"\n",
    "docs = vector_store.similarity_search(question, k=5, score_threshold=0.5)\n",
    "docs"
   ]
  },
  {
   "cell_type": "code",
   "execution_count": null,
   "metadata": {},
   "outputs": [],
   "source": [
    "question = \"Most dystopic news\"\n",
    "docs = vector_store.similarity_search(question, k=5, score_threshold=0.5)\n",
    "docs"
   ]
  }
 ],
 "metadata": {
  "kernelspec": {
   "display_name": ".venv",
   "language": "python",
   "name": "python3"
  },
  "language_info": {
   "codemirror_mode": {
    "name": "ipython",
    "version": 3
   },
   "file_extension": ".py",
   "mimetype": "text/x-python",
   "name": "python",
   "nbconvert_exporter": "python",
   "pygments_lexer": "ipython3",
   "version": "3.10.14"
  }
 },
 "nbformat": 4,
 "nbformat_minor": 2
}
