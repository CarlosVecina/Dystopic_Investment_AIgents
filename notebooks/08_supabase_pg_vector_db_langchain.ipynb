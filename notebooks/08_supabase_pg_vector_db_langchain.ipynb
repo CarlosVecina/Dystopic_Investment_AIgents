{
 "cells": [
  {
   "cell_type": "code",
   "execution_count": null,
   "metadata": {},
   "outputs": [],
   "source": [
    "from src.data_ingestion.db.postgres_db import PostgresConfig\n",
    "import vecs\n",
    "import os\n",
    "from dotenv import load_dotenv\n",
    "\n",
    "load_dotenv()\n",
    "\n",
    "db_config = PostgresConfig(\n",
    "    host=os.environ[\"SB_DDBB_HOST\"],\n",
    "    port=os.environ[\"SB_DDBB_PORT\"],\n",
    "    database=os.environ[\"SB_DDBB_DATABASE\"],\n",
    "    user=os.environ[\"SB_DDBB_USER\"],\n",
    "    password=os.environ[\"SB_DDBB_PWD\"]\n",
    ")\n",
    "\n",
    "db_config.get_connection_string()"
   ]
  },
  {
   "cell_type": "code",
   "execution_count": null,
   "metadata": {},
   "outputs": [],
   "source": [
    "from sqlalchemy import create_engine\n",
    "\n",
    "\n",
    "create_engine(db_config.get_connection_string())"
   ]
  },
  {
   "cell_type": "code",
   "execution_count": null,
   "metadata": {},
   "outputs": [],
   "source": [
    "vx = vecs.create_client(db_config.get_connection_string())"
   ]
  },
  {
   "cell_type": "code",
   "execution_count": null,
   "metadata": {},
   "outputs": [],
   "source": [
    "db_config.get_connection_string()"
   ]
  },
  {
   "cell_type": "markdown",
   "metadata": {},
   "source": [
    "## LangChain vector store + Supabase client"
   ]
  },
  {
   "cell_type": "code",
   "execution_count": 40,
   "metadata": {},
   "outputs": [],
   "source": [
    "import os\n",
    "from dotenv import load_dotenv\n",
    "\n",
    "from langchain_community.embeddings.openai import OpenAIEmbeddings\n",
    "from langchain_core.documents import Document\n",
    "from langchain_community.vectorstores import SupabaseVectorStore\n",
    "from supabase.client import create_client\n",
    "\n",
    "load_dotenv()\n",
    "\n",
    "SCHEMA_NAME = \"vecs\"\n",
    "NEWS_TABLE_NAME = \"sp500_news\""
   ]
  },
  {
   "cell_type": "code",
   "execution_count": 46,
   "metadata": {},
   "outputs": [],
   "source": [
    "docs = [\n",
    "    Document(page_content=\"Monsters of Rock: Northern Star defends hedges as gold prices spike; Metals Acquisition bats off M&A talk\", metadata={\"id\": \"vec3\"}),\n",
    "]\n",
    "embeddings = OpenAIEmbeddings()\n",
    "supabase_client = create_client(os.environ[\"SB_URL\"], os.environ[\"SB_API_KEY\"]).schema(SCHEMA_NAME)"
   ]
  },
  {
   "cell_type": "code",
   "execution_count": null,
   "metadata": {},
   "outputs": [],
   "source": [
    "vector_store = SupabaseVectorStore.from_documents(\n",
    "    docs,\n",
    "    embeddings,\n",
    "    client=supabase_client,\n",
    "    table_name=NEWS_TABLE_NAME,\n",
    "    #query_name=\"match_documents\",\n",
    "    chunk_size=50,\n",
    ")"
   ]
  },
  {
   "cell_type": "markdown",
   "metadata": {},
   "source": [
    "### Documents Batch insertion"
   ]
  },
  {
   "cell_type": "code",
   "execution_count": 66,
   "metadata": {},
   "outputs": [],
   "source": [
    "## Batch insertion\n",
    "import pandas as pd\n",
    "DATA_PATH = \"../src/data_ingestion/downloader/data\"\n",
    "\n",
    "file = \"news_2024_07_01_2024_07_22.csv\"\n",
    "\n",
    "df_news = pd.read_csv(os.path.join(DATA_PATH, file)).drop_duplicates(subset=[\"id\"]).drop_duplicates(subset=[\"description\"]).head(1000)"
   ]
  },
  {
   "cell_type": "code",
   "execution_count": 67,
   "metadata": {},
   "outputs": [],
   "source": [
    "list_docs = df_news.apply(\n",
    "    lambda x: Document(\n",
    "        page_content=f\"{x['title']}: {x['description']}\",\n",
    "        metadata={\n",
    "            \"external_id\": x[\"id\"],\n",
    "            \"source\": x[\"source\"],\n",
    "            \"tags\": x[\"tags\"],\n",
    "            \"tickers\": x[\"tickers\"],\n",
    "            \"publish_date\": x[\"publishedDate\"],\n",
    "        },\n",
    "    ),\n",
    "    axis=1,\n",
    ").to_list()"
   ]
  },
  {
   "cell_type": "code",
   "execution_count": null,
   "metadata": {},
   "outputs": [],
   "source": [
    "vector_store = SupabaseVectorStore.from_documents(\n",
    "    list_docs,\n",
    "    embeddings,\n",
    "    client=supabase_client,\n",
    "    table_name=\"sp500_news\",\n",
    "    query_name=\"match_documents\",\n",
    "    chunk_size=200,\n",
    ")"
   ]
  },
  {
   "cell_type": "code",
   "execution_count": 69,
   "metadata": {},
   "outputs": [
    {
     "name": "stderr",
     "output_type": "stream",
     "text": [
      "2024-07-24 11:30:55,063:INFO - HTTP Request: POST https://api.openai.com/v1/embeddings \"HTTP/1.1 200 OK\"\n",
      "2024-07-24 11:31:01,053:INFO - HTTP Request: POST https://ntcmnflewcnxcafoslkj.supabase.co/rest/v1/rpc/match_documents?limit=5 \"HTTP/2 200 OK\"\n"
     ]
    },
    {
     "data": {
      "text/plain": [
       "[Document(page_content='Markets Sell the News After Satisfying CPI: The Inflation Rate came in better than expected for a soft landing, but the S&P and Nasdaq posted their worst trading day in two months.'),\n",
       " Document(page_content='Markets Sell The News After Satisfying CPI: Even as this morning’s much-anticipated inflation data came in better than expected, the S&P 500 and the Nasdaq managed to log their worst trading days in more than two months.'),\n",
       " Document(page_content=\"Has Nike Stock Become Too Cheap to Pass Up?: The company's recent earnings results weren't impressive, and they led to a steep sell-off.\"),\n",
       " Document(page_content='2 Stocks Down 74% and 57.5% to Buy Right Now: Taking a buy-and-hold approach with these beaten-down stocks could reward investors with market-crushing returns.'),\n",
       " Document(page_content='3 Beaten-Down Stocks Ready for a Jaw-Dropping Rebound: Investors should see a buying opportunity in these beaten-down stocks with their share prices hovering at or near 52-week lows.')]"
      ]
     },
     "execution_count": 69,
     "metadata": {},
     "output_type": "execute_result"
    }
   ],
   "source": [
    "# supabase function vecs.match_documents. Expects query_embeding, as the limit and scrore threshold is being managed by the LangChain vector_store python code\n",
    "\n",
    "question = \"Bad news with prices lowering\"\n",
    "docs = vector_store.similarity_search(question, k=5, score_threshold=0.5)\n",
    "docs"
   ]
  },
  {
   "cell_type": "code",
   "execution_count": 70,
   "metadata": {},
   "outputs": [
    {
     "name": "stderr",
     "output_type": "stream",
     "text": [
      "2024-07-24 11:31:03,373:INFO - HTTP Request: POST https://api.openai.com/v1/embeddings \"HTTP/1.1 200 OK\"\n",
      "2024-07-24 11:31:03,738:INFO - HTTP Request: POST https://ntcmnflewcnxcafoslkj.supabase.co/rest/v1/rpc/match_documents?limit=5 \"HTTP/2 200 OK\"\n"
     ]
    },
    {
     "data": {
      "text/plain": [
       "[Document(page_content='Commodity Roundup: Gold near fresh record high, China demand concerns weigh on oil: Oselote/iStock via Getty Images Gold prices extended their rally to Tuesday, trading close to an -all-time high\\xa0amid rising hopes that the\\xa0Federal...'),\n",
       " Document(page_content=\"2 ASX gold shares going gangbusters (and one crashing 11%!): There's a lot going on in the gold sector today.\"),\n",
       " Document(page_content='Gold Digger: State Street and ANZ bring golden days to Aussie investors: With bullion remaining around record highs, investors are seeing an increasing number of products leveraged to the success of the gold price.'),\n",
       " Document(page_content=\"Gold Miners Hit 27-Month Peak, Bullion Breaks Record As Traders Decide September Rate Cut As Good As Done: Gold reaches new all-time high above $2,460/oz amid heightened investor confidence in Fed rate cut in Sept. Jerome Powell's remarks support market expectations.\"),\n",
       " Document(page_content='3 Top Stocks to Buy as Gold Prices Rise in July 2024: Discover top stocks to buy as gold prices surge in July 2024, featuring insights on Barrick Gold, Alamos Gold, and Newmont.')]"
      ]
     },
     "execution_count": 70,
     "metadata": {},
     "output_type": "execute_result"
    }
   ],
   "source": [
    "question = \"What are the latest gold news?\"\n",
    "docs = vector_store.similarity_search(question, k=5, score_threshold=0.5)\n",
    "docs"
   ]
  },
  {
   "cell_type": "code",
   "execution_count": 72,
   "metadata": {},
   "outputs": [
    {
     "name": "stderr",
     "output_type": "stream",
     "text": [
      "2024-07-24 11:36:56,382:INFO - HTTP Request: POST https://api.openai.com/v1/embeddings \"HTTP/1.1 200 OK\"\n",
      "2024-07-24 11:37:00,906:INFO - HTTP Request: POST https://ntcmnflewcnxcafoslkj.supabase.co/rest/v1/rpc/match_documents?limit=5 \"HTTP/2 200 OK\"\n"
     ]
    },
    {
     "data": {
      "text/plain": [
       "[Document(page_content='Stock Market News From Amazon, Nike, McCormick, and More: We also talk with author Nicola Twilley about her new book, \"Frostbite: How Refrigeration Changed Our Food, Our Planet, and Ourselves.\"'),\n",
       " Document(page_content=\"Trump Pours Cold Water On Industry, Tesla Falls Ahead Of Earnings Week, Ford's Step-back In EV Plans And More: Biggest EV Stories Of The Week: Even as EV companies struggle to find a footing, they could be in for more trouble amid the developments on the geopolitical front.\"),\n",
       " Document(page_content=\"Diary: 22 Jul 2024 - A big week lies ahead for the markets, with US inflation, the global fallout from Friday's major computer outage, the Trump comeback, Biden’s fade-out, investor nervousness about big techs (with the start of some significant earnings reports), and the endless speculation about a looming rate cut, which seems to be firming up at long last.\"),\n",
       " Document(page_content=\"Here Are The Markets Moving Higher As Trump's Election Odds Rise: ZeroHedge - On a long enough timeline, the survival rate for everyone drops to zero\"),\n",
       " Document(page_content='Markets Sell The News After Satisfying CPI: Even as this morning’s much-anticipated inflation data came in better than expected, the S&P 500 and the Nasdaq managed to log their worst trading days in more than two months.')]"
      ]
     },
     "execution_count": 72,
     "metadata": {},
     "output_type": "execute_result"
    }
   ],
   "source": [
    "question = \"Most dystopic news\"\n",
    "docs = vector_store.similarity_search(question, k=5, score_threshold=0.5)\n",
    "docs"
   ]
  }
 ],
 "metadata": {
  "kernelspec": {
   "display_name": ".venv",
   "language": "python",
   "name": "python3"
  },
  "language_info": {
   "codemirror_mode": {
    "name": "ipython",
    "version": 3
   },
   "file_extension": ".py",
   "mimetype": "text/x-python",
   "name": "python",
   "nbconvert_exporter": "python",
   "pygments_lexer": "ipython3",
   "version": "3.10.14"
  }
 },
 "nbformat": 4,
 "nbformat_minor": 2
}
