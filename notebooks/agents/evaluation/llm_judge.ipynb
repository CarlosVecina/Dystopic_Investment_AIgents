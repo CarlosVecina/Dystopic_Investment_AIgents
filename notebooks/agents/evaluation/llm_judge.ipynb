{
 "cells": [
  {
   "cell_type": "code",
   "execution_count": 1,
   "metadata": {},
   "outputs": [],
   "source": [
    "from dystopic_investment_aigents.agents.evaluation.llm_judge import LLMJudge\n",
    "from dystopic_investment_aigents.agents.evaluation.metrics import Metrics\n",
    "\n",
    "\n",
    "predictions = [\"The cat is sleeping on the mat\", \"Greetings, world\", \"Today is Monday\"]\n",
    "references = [\"The cat is on the mat\", \"Hello world\", \"Today is Friday\"]"
   ]
  },
  {
   "cell_type": "code",
   "execution_count": 2,
   "metadata": {},
   "outputs": [
    {
     "name": "stdout",
     "output_type": "stream",
     "text": [
      "75.58615803718567\n"
     ]
    }
   ],
   "source": [
    "metrics = Metrics()\n",
    "print(metrics.contextual_relevance(predictions, references))"
   ]
  },
  {
   "cell_type": "code",
   "execution_count": 3,
   "metadata": {},
   "outputs": [
    {
     "name": "stdout",
     "output_type": "stream",
     "text": [
      "root=[JudgeResponse(score=8.0, rationale=\"The prediction is closely related to the reference, as it maintains the main subject ('the cat') and the location ('the mat'). However, it introduces additional information ('is sleeping') which changes the original meaning slightly. Thus, it is a good match but not a perfect one.\"), JudgeResponse(score=7.0, rationale=\"The prediction, 'Greetings, world,' conveys a similar sentiment to the reference 'Hello world,' maintaining the context of a greeting, but it uses different wording. While it captures the essence of the message well, it is not an exact match, which prevents it from receiving a perfect score.\"), JudgeResponse(score=1.0, rationale='The prediction is completely incorrect as it states that today is Monday, while the reference clearly states that today is Friday. There is no relevance or accuracy in the prediction.')]\n"
     ]
    }
   ],
   "source": [
    "response = LLMJudge().evaluate(predictions, references, incl_rationale=True)\n",
    "print(response)\n"
   ]
  },
  {
   "cell_type": "code",
   "execution_count": 4,
   "metadata": {},
   "outputs": [
    {
     "data": {
      "text/plain": [
       "5.333333333333333"
      ]
     },
     "execution_count": 4,
     "metadata": {},
     "output_type": "execute_result"
    }
   ],
   "source": [
    "response.agg_score()"
   ]
  },
  {
   "cell_type": "code",
   "execution_count": 5,
   "metadata": {},
   "outputs": [
    {
     "data": {
      "text/plain": [
       "[8.0, 7.0, 1.0]"
      ]
     },
     "execution_count": 5,
     "metadata": {},
     "output_type": "execute_result"
    }
   ],
   "source": [
    "response.get_scores()\n"
   ]
  }
 ],
 "metadata": {
  "kernelspec": {
   "display_name": "dystopic-investment-aigents-nFobpI-k-py3.11",
   "language": "python",
   "name": "python3"
  },
  "language_info": {
   "codemirror_mode": {
    "name": "ipython",
    "version": 3
   },
   "file_extension": ".py",
   "mimetype": "text/x-python",
   "name": "python",
   "nbconvert_exporter": "python",
   "pygments_lexer": "ipython3",
   "version": "3.11.0"
  }
 },
 "nbformat": 4,
 "nbformat_minor": 2
}
