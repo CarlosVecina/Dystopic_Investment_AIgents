{
 "cells": [
  {
   "cell_type": "code",
   "execution_count": 1,
   "metadata": {},
   "outputs": [],
   "source": [
    "import os\n",
    "import dotenv\n",
    "\n",
    "dotenv.load_dotenv()\n",
    "\n",
    "os.environ[\"LANGCHAIN_ENDPOINT\"] = \"https://api.smith.langchain.com\"\n",
    "# LANGCHAIN_API_KEY from env\n",
    "os.environ[\"LANGCHAIN_TRACING_V2\"] = \"true\"\n",
    "os.environ[\"LANGCHAIN_PROJECT\"] = \"default\" \n"
   ]
  },
  {
   "cell_type": "code",
   "execution_count": 2,
   "metadata": {},
   "outputs": [],
   "source": [
    "from langsmith import traceable\n",
    "\n",
    "from adalflow import Generator\n",
    "\n",
    "from abc import ABC, abstractmethod\n",
    "from typing import Any\n",
    "from pydantic import BaseModel\n",
    "\n",
    "\n",
    "class BaseDigestor(BaseModel, ABC):\n",
    "    llm_client: Any | None\n",
    "    llm_kwargs: dict | None = {\"model\": \"gpt-4o\"}\n",
    "\n",
    "    _template: str = r\"\"\"\n",
    "    <SYS>{{task_desc_str}}</SYS>\n",
    "    {# output format #}\n",
    "    {% if output_format_str %}\n",
    "    {{output_format_str}}\n",
    "    {% endif %}\n",
    "    User: {{input_str}}\n",
    "    You:\"\"\"\n",
    "\n",
    "    @abstractmethod\n",
    "    def run(self, text: str) -> str: ...\n",
    "    \n",
    "class NewsletterGenerator(BaseDigestor):\n",
    "    _task_desc_str: str = \"\"\"\n",
    "    You need to generate a newsletter based on the bookmarks of the user.\n",
    "    It should be properly structured and formatted.\n",
    "    The concepts that fall under the same topic or category should be grouped together.\n",
    "    Each topic or category need to have a proper headline.\n",
    "    \"\"\"\n",
    "\n",
    "    @traceable(run_type=\"llm\")\n",
    "    def run(self, text: str) -> str:\n",
    "        generator = Generator(\n",
    "            model_client=self.llm_client,\n",
    "            model_kwargs=self.llm_kwargs,\n",
    "            prompt_kwargs={\"task_desc_str\": self._task_desc_str},\n",
    "            template=self._template,\n",
    "        )\n",
    "\n",
    "        return generator(prompt_kwargs={\"input_str\": text})\n"
   ]
  },
  {
   "cell_type": "code",
   "execution_count": 3,
   "metadata": {},
   "outputs": [],
   "source": [
    "from adalflow.components.model_client.openai_client import OpenAIClient\n",
    "from dotenv import load_dotenv\n",
    "from langsmith.wrappers import wrap_openai\n",
    "import openai\n",
    "\n",
    "load_dotenv()\n",
    "class OpenAIClientTraceable(OpenAIClient):\n",
    "    def init_sync_client(self):\n",
    "        api_key = self._api_key or os.getenv(\"OPENAI_API_KEY\")\n",
    "        if not api_key:\n",
    "            raise ValueError(\"Environment variable OPENAI_API_KEY must be set\")\n",
    "        return wrap_openai(openai.OpenAI(api_key=api_key))\n",
    "    \n",
    "\n",
    "\n",
    "smart_newsletter = NewsletterGenerator(llm_client=OpenAIClientTraceable(), llm_kwargs={\"model\": \"gpt-4o\", \"temperature\": 0.5})"
   ]
  },
  {
   "cell_type": "code",
   "execution_count": 16,
   "metadata": {},
   "outputs": [
    {
     "name": "stdout",
     "output_type": "stream",
     "text": [
      "cache_path: C:\\Users\\Carlos\\AppData\\Roaming\\adalflow\\cache_OpenAIClientTraceable_gpt-4o.db\n"
     ]
    }
   ],
   "source": [
    "output = smart_newsletter.run(\"\"\" \n",
    "Startup funding news 💸\n",
    "Sateliot, a Barcelona-based nanosatellite telecommunications company extending connectivity where telecom operators lack coverage, received a €10M investment from Global Portfolio Investments, the family office of the Domínguez family, owners of Mayoral. More info here\n",
    "\n",
    "Hotelverse, a Palma de Mallorca-based startup that developed a platform allowing hotel guests to select their exact room through digital twins, raised €5M in a Series A round led by GED Conexo Ventures\n",
    "\n",
    "Homedoctor, a Madrid-based telemedicine provider, raised €4.5M in a funding round led by Q-Impact and Clave Capital. After the transaction, the founders of the company will own 25% of the company\n",
    "\n",
    "XRF, a startup developing defense AI technology, secured €6M from JME Ventures, Kfund, and GoHub. We wrote about the investment here\n",
    "\n",
    "Holaglow, a Barcelona-based beauty and wellness platform, raised €1.5M from business angels and family offices\n",
    "\n",
    "Webel, a Madrid-based on-demand services app, secured €1.4M in funding from Goodwater Capital and Decelera\n",
    "\n",
    "Danna, a Madrid-based pioneer in producing biomaterials as plastic substitutes, raised €800k from BeAble Capital\n",
    "\n",
    "Colibid, a Valencia-based mortgage auction platform, closed a €400k funding round and announced the launch of Extracto.io\n",
    "\"\"\")"
   ]
  },
  {
   "cell_type": "code",
   "execution_count": 17,
   "metadata": {},
   "outputs": [
    {
     "data": {
      "text/plain": [
       "GeneratorOutput(id=None, data='## Startup Funding News 💸\\n\\n### Telecommunications and Connectivity\\n**Sateliot**  \\nSateliot, a Barcelona-based nanosatellite telecommunications company, has secured a €10M investment from Global Portfolio Investments, the family office of the Domínguez family, owners of Mayoral. Sateliot aims to extend connectivity to areas where telecom operators lack coverage. [More info here](#)\\n\\n### Hospitality and Travel Tech\\n**Hotelverse**  \\nHotelverse, based in Palma de Mallorca, has developed a platform allowing hotel guests to select their exact room through digital twins. The startup raised €5M in a Series A round led by GED Conexo Ventures.\\n\\n### Telemedicine and Health Tech\\n**Homedoctor**  \\nHomedoctor, a telemedicine provider from Madrid, raised €4.5M in a funding round led by Q-Impact and Clave Capital. After the transaction, the founders of Homedoctor will retain 25% ownership of the company.\\n\\n### Defense and AI Technology\\n**XRF**  \\nXRF, a startup focused on developing defense AI technology, secured €6M from JME Ventures, Kfund, and GoHub. [Read more about the investment here](#).\\n\\n### Beauty and Wellness\\n**Holaglow**  \\nHolaglow, a Barcelona-based beauty and wellness platform, raised €1.5M from business angels and family offices.\\n\\n### On-Demand Services\\n**Webel**  \\nMadrid-based Webel, an on-demand services app, secured €1.4M in funding from Goodwater Capital and Decelera.\\n\\n### Sustainable Materials\\n**Danna**  \\nDanna, a pioneer in producing biomaterials as plastic substitutes based in Madrid, raised €800k from BeAble Capital.\\n\\n### Real Estate and Fintech\\n**Colibid**  \\nColibid, a Valencia-based mortgage auction platform, closed a €400k funding round and announced the launch of Extracto.io.', error=None, usage=CompletionUsage(completion_tokens=396, prompt_tokens=356, total_tokens=752), raw_response='## Startup Funding News 💸\\n\\n### Telecommunications and Connectivity\\n**Sateliot**  \\nSateliot, a Barcelona-based nanosatellite telecommunications company, has secured a €10M investment from Global Portfolio Investments, the family office of the Domínguez family, owners of Mayoral. Sateliot aims to extend connectivity to areas where telecom operators lack coverage. [More info here](#)\\n\\n### Hospitality and Travel Tech\\n**Hotelverse**  \\nHotelverse, based in Palma de Mallorca, has developed a platform allowing hotel guests to select their exact room through digital twins. The startup raised €5M in a Series A round led by GED Conexo Ventures.\\n\\n### Telemedicine and Health Tech\\n**Homedoctor**  \\nHomedoctor, a telemedicine provider from Madrid, raised €4.5M in a funding round led by Q-Impact and Clave Capital. After the transaction, the founders of Homedoctor will retain 25% ownership of the company.\\n\\n### Defense and AI Technology\\n**XRF**  \\nXRF, a startup focused on developing defense AI technology, secured €6M from JME Ventures, Kfund, and GoHub. [Read more about the investment here](#).\\n\\n### Beauty and Wellness\\n**Holaglow**  \\nHolaglow, a Barcelona-based beauty and wellness platform, raised €1.5M from business angels and family offices.\\n\\n### On-Demand Services\\n**Webel**  \\nMadrid-based Webel, an on-demand services app, secured €1.4M in funding from Goodwater Capital and Decelera.\\n\\n### Sustainable Materials\\n**Danna**  \\nDanna, a pioneer in producing biomaterials as plastic substitutes based in Madrid, raised €800k from BeAble Capital.\\n\\n### Real Estate and Fintech\\n**Colibid**  \\nColibid, a Valencia-based mortgage auction platform, closed a €400k funding round and announced the launch of Extracto.io.', metadata=None)"
      ]
     },
     "execution_count": 17,
     "metadata": {},
     "output_type": "execute_result"
    }
   ],
   "source": [
    "output"
   ]
  }
 ],
 "metadata": {
  "kernelspec": {
   "display_name": "dystopic-investment-aigents-nFobpI-k-py3.11",
   "language": "python",
   "name": "python3"
  },
  "language_info": {
   "codemirror_mode": {
    "name": "ipython",
    "version": 3
   },
   "file_extension": ".py",
   "mimetype": "text/x-python",
   "name": "python",
   "nbconvert_exporter": "python",
   "pygments_lexer": "ipython3",
   "version": "3.11.0"
  }
 },
 "nbformat": 4,
 "nbformat_minor": 2
}
