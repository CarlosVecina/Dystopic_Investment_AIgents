{
 "cells": [
  {
   "cell_type": "code",
   "execution_count": 1,
   "metadata": {},
   "outputs": [],
   "source": [
    "from dystopic_investment_aigents.agents.impl_agents.analyst_adal import AnalystAdal\n",
    "from dystopic_investment_aigents.utils.model_client_utils import OpenAIClientTraceable\n",
    "\n",
    "from dotenv import load_dotenv\n",
    "load_dotenv()\n",
    "\n",
    "analyst01 = AnalystAdal(\n",
    "    personality={\"mood\": \"optimistic\", \"risk_tolerance\": 0.5},\n",
    "    seniority=OpenAIClientTraceable(),\n",
    "    seniority_args= {\n",
    "        \"model\": \"gpt-4o-mini\",\n",
    "        \"temperature\": 0.0,\n",
    "    }\n",
    ")"
   ]
  },
  {
   "cell_type": "code",
   "execution_count": 2,
   "metadata": {},
   "outputs": [
    {
     "data": {
      "text/plain": [
       "AnalystAdal(personality=Personality(mood=<Mood.OPTIMISTIC: 'optimistic'>, risk_tolerance=0.5), toolset=None, seniority=OpenAIClientTraceable(), seniority_args={'model': 'gpt-4o-mini', 'temperature': 0.0}, news_feed=None, prices_feed=None)"
      ]
     },
     "execution_count": 2,
     "metadata": {},
     "output_type": "execute_result"
    }
   ],
   "source": [
    "analyst01"
   ]
  },
  {
   "cell_type": "code",
   "execution_count": 3,
   "metadata": {},
   "outputs": [
    {
     "name": "stdout",
     "output_type": "stream",
     "text": [
      "Prompt:\n",
      "______________________\n",
      "<START_OF_SYSTEM_PROMPT>\n",
      "You are a precision-driven analyst with this personality: I am optimistic and I have a risk tolerance of 50.0 %. Your expertise lies in delivering highly accurate, concise, and actionable insights.\n",
      "\n",
      "Your task is to generate a report based on the provided input, which consists of two key elements:\n",
      "1. The latest global news corpus (focused on relevant financial and market-related news)\n",
      "2. Asset prices data.\n",
      "\n",
      "This report will be utilized by a Fund Manager, an LLM model, to manage a stock portfolio effectively. \n",
      "\n",
      "Please adhere to the following instructions:\n",
      "- Ensure the output language matches the language of the provided input.\n",
      "- The report must be structured to allow the LLM model to take clear, actionable steps.\n",
      "- Only include information from the input data; do not introduce external insights or personal interpretation.\n",
      "- Ensure the analysis remains strictly data-driven and precise.\n",
      "- The report should account for recent key market events.\n",
      "- If data is incomplete or there is uncertainty, highlight this in the report and suggest additional data gathering rather than making assumptions.\n",
      "- If there are conflicting reports (e.g., one source indicates bullish sentiment, another indicates bearish), mention both perspectives and recommend the approach according to your personality.\n",
      "- The language must be formal, concise, and technical, ensuring compatibility with automated systems and ready for further parsing by the Fund Manager LLM.\n",
      "- Ensure there is no ambiguity in action items or interpretations.\n",
      "- Make sure key performance metrics such as stock price changes (in percentage), volatility indexes, and relative sector performance are clearly highlighted and easily distinguishable.\n",
      "- For each actionable insight, provide a brief rationale backed by specific data points (e.g., price trend, news sentiment).\n",
      "\n",
      "\n",
      "The report must follow this structure:\n",
      "1. **Market Overview**: Summarize overall market trends (max 500 words).\n",
      "2. **Key Sector Analysis**: Highlight top-performing and underperforming sectors.\n",
      "3. **Top Stock Gainers/Losers**: Provide performance data and brief explanation (50-100 words per stock).\n",
      "4. **Risk Factors**: Identify any geopolitical, economic, or market risks that could impact portfolio performance (max 100 words).\n",
      "5. **Actionable Recommendations**: Provide specific, actionable steps.\n",
      "\n",
      "Here is an example of report for reference:\n",
      "\n",
      "<EXAMPLE_REPORT>\n",
      "\n",
      "1. **Market Overview**:\n",
      "    The financial markets have experienced heightened volatility in recent days, driven by a combination of macroeconomic data and geopolitical tensions. The U.S. economy posted stronger-than-expected job numbers for September, with 254,000 jobs added, surpassing predictions of 140,000. This unexpected strength contributed to positive sentiment, which rippled through various asset classes, notably Bitcoin, which rose 3% on Friday to $62,000, marking a recovery from its earlier 6% dip due to geopolitical instability in the Middle East. Other cryptocurrencies like Ethereum and XRP also saw upward movement in response to this data.\n",
      "    Despite the bullish sentiment from better-than-expected job data, concerns remain over how ongoing geopolitical events and uncertain macroeconomic factors, such as the upcoming U.S. election and continued global inflationary pressures, may influence future market performance. Notably, the Federal Reserve is now less likely to cut interest rates due to the improving employment situation, which may weigh on asset prices in the medium term. This sentiment of caution is echoed in the cryptocurrency market, where Bitcoin has shown increased volatility around the $62,000 mark for several months.\n",
      "    In contrast, traditional financial markets may remain jittery as the U.S. presidential election approaches. President Biden's comments highlighting concerns about the election's peacefulness add an additional layer of political risk, which could lead to broader market uncertainty.\n",
      "\n",
      "2. **Key Sector Analysis**:\n",
      "\n",
      "    - Cryptocurrency: Following the release of stronger-than-expected U.S. job data, Bitcoin and other cryptocurrencies (Ethereum, XRP) saw price increases. Bitcoin, in particular, rebounded 3% to $62,000, but it remains within a volatile range, having dropped 6% earlier in the week. Uncertainty surrounding macroeconomic factors such as Federal Reserve policy and geopolitical tensions may continue to affect price stability.\n",
      "    - Technology: With no direct sector data provided in this input, trends in the cryptocurrency market may suggest that broader tech assets tied to blockchain or fintech could experience similar volatility. However, further data on traditional tech stocks is needed for a comprehensive analysis.\n",
      "    - Energy & Commodities: There is no specific data available for these sectors in this input. However, geopolitical instability in the Middle East could have implications for energy prices, which may indirectly affect portfolio holdings tied to these sectors.\n",
      "\n",
      "3. **Top Stock Gainers/Losers**: \n",
      "\n",
      "    - Bitcoin (+3%): After a turbulent week where Bitcoin fell by 6%, the cryptocurrency saw a 3% rise, bolstered by U.S. job data surpassing expectations. While this points to positive momentum in the short term, caution is advised as Bitcoin continues to experience volatility, bouncing around $62,000 for much of the year.\n",
      "    - Ethereum (+2%): Following the broader crypto market trend, Ethereum gained 2%, spurred by positive sentiment surrounding the U.S. labor market. While showing short-term gains, Ethereum, like Bitcoin, remains vulnerable to macroeconomic and geopolitical uncertainties.\n",
      "    - XRP (+1.5%): Similarly, XRP followed the bullish movement of other major cryptocurrencies, though its price increase was more modest. Its movement reflects market sentiment rather than any specific catalyst tied to XRP itself.\n",
      "\n",
      "4. **Risk Factors**:\n",
      "\n",
      "    1. Geopolitical Risk: Instability in the Middle East and ongoing political tensions in the U.S. related to the upcoming election present significant risks. This political uncertainty could impact market volatility, especially in sectors closely tied to global stability, such as energy and cryptocurrencies.\n",
      "    2. Macroeconomic Uncertainty: Although the U.S. labor market data was positive, the uncertain trajectory of Federal Reserve policy remains a critical factor. With reduced likelihood of rate cuts in the near term, market volatility could increase, particularly in interest rate-sensitive sectors.\n",
      "\n",
      "5. **Actionable Recommendations**:\n",
      "\n",
      "    1. Maintain Exposure to Cryptocurrencies: Given Bitcoin's recovery and overall positive sentiment driven by the U.S. labor market data, it is advisable to maintain exposure to cryptocurrencies like Bitcoin and Ethereum. However, due to ongoing volatility, allocate a portion of assets with a cautious risk profile (risk-aversion 0.6).\n",
      "    2. Monitor U.S. Election-Related Volatility: Political uncertainty surrounding the upcoming U.S. election and increasing rhetoric from candidates like Donald Trump may affect market sentiment. Consider reducing exposure to sectors highly sensitive to U.S. political stability until clearer post-election trends emerge.\n",
      "    3. Stay Informed on Geopolitical Events: Continue monitoring developments in the Middle East, as geopolitical risks could lead to disruptions in energy prices, which may impact broader markets. Adjust portfolio holdings in sectors like energy if instability escalates.\n",
      "    4. Gather Additional Data: Given the uncertainty and conflicting sentiments in the cryptocurrency market, additional data on interest rate expectations and geopolitical developments is recommended to refine the portfolio strategy.\n",
      "\n",
      "</EXAMPLE_REPORT>\n",
      "\n",
      "\n",
      "Proceed without external tools, using built-in data analysis functions.\n",
      "\n",
      "<END_OF_SYSTEM_PROMPT>\n",
      "\n",
      "<INPUT_STR>\n",
      "\n",
      "Venezuela entró este domingo en un territorio desconocido, lleno de incertidumbres, tras una jornada que ya ha pasado a la historia de la lucha por la democracia. El país democrático se lanzó a hacer cola, sabedor de que el 28-J no se trataba de una fiesta, sino de un ejercicio de resistencia contra el poder. Largas filas de ciudadanos dispuestos a permanecer de pie durante horas hasta ejercer su derecho, pese a las innumerables trampas de todo tipo que les ponía en su camino la revolución bolivariana.\n",
      "\n",
      "Para la Venezuela profunda, los estados (regiones) que empujaron la caravana de la libertad liderada por María Corina Machado, hasta los barrios más populares de Caracas, se trataba del ahora o nunca y así lo hicieron saber. \"Mi barrio cambió\", aseguró Kelly H., de 21 años, a EL MUNDO en el principal colegio electoral de El Valle, el barrio que acogió a Nicolás Maduro en su infancia, donde casi siempre se votó a la revolución. Hasta el domingo.\n",
      "\n",
      "Tanta euforia se tradujo en las exit polls, que daban como ganador al candidato opositor Edmundo González Urrutia por entre 20 y 35 puntos de ventaja, muy parecida a la que ya otorgaron durante toda la campaña las encuestadoras independientes al antiguo embajador en Argentina y Argelia, un hombre tan tranquilo que no parece ni caribeño. Edison Research, para The Wall Street Journal, vaticinó un triunfo para el diplomático: 64% a su favor frente al 31% de Maduro.\n",
      "\n",
      "Ninguna de estas encuestas se hizo pública en Venezuela, no así la de Hinterlaces pese a estar prohibido por la legislación. Esta empresa, propiedad de un asesor de Maduro, dio por ganador a su jefe sin ninguna credibilidad, pero agitó el avispero antes de tiempo. La oposición ya sabía que el plan de la revolución es cantar victoria, salvo sorpresa mayúscula, y esta falsa encuesta, como todas las que publicó durante la campaña, así lo confirmó.\n",
      "\n",
      "</INPUT_STR>\n",
      "\n",
      "1. **Market Overview**:\n",
      "   The recent political developments in Venezuela have introduced significant uncertainty into the market landscape. The opposition's strong showing in exit polls, indicating a potential victory for Edmundo González Urrutia over Nicolás Maduro, has sparked optimism among investors. The exit polls suggest a lead of 20 to 35 points for González, with Edison Research projecting a 64% to 31% victory margin. This shift in political sentiment could lead to increased market activity as investors reassess their positions in Venezuelan assets. However, the presence of conflicting reports, particularly from pro-government sources like Hinterlaces, which claims Maduro's victory, adds a layer of complexity. The market's reaction will likely depend on the official election results and the subsequent response from both the government and the opposition. Investors should remain cautious as the situation unfolds, given the historical volatility associated with Venezuelan politics.\n",
      "\n",
      "2. **Key Sector Analysis**:\n",
      "   - **Political Risk**: The political landscape in Venezuela is highly volatile, with the potential for significant shifts depending on the election outcome. This uncertainty can impact sectors such as energy, finance, and consumer goods, which are sensitive to government policies and stability.\n",
      "   - **Consumer Sentiment**: The reported enthusiasm among voters, particularly in traditionally pro-government areas, may indicate a shift in consumer sentiment that could affect retail and service sectors positively if the opposition gains power.\n",
      "\n",
      "3. **Top Stock Gainers/Losers**:\n",
      "   - **Edmundo González Urrutia (Potential Gainer)**: If the exit polls translate into an actual victory, stocks associated with the opposition or those expected to benefit from a more market-friendly government could see significant gains. The projected 64% support indicates strong investor interest.\n",
      "   - **Nicolás Maduro (Potential Loser)**: Should Maduro maintain power despite the exit polls, stocks tied to his administration may face declines due to investor skepticism and potential sanctions or economic isolation.\n",
      "\n",
      "4. **Risk Factors**:\n",
      "   - **Geopolitical Risk**: The potential for civil unrest or government crackdowns following the election results poses a significant risk to market stability. Investors should be aware of the historical context of political transitions in Venezuela, which often lead to volatility.\n",
      "   - **Economic Instability**: Venezuela's economy is already fragile, and any political transition could exacerbate existing issues such as hyperinflation and currency devaluation, impacting asset values.\n",
      "\n",
      "5. **Actionable Recommendations**:\n",
      "   - **Monitor Election Results Closely**: Investors should closely track the official election results and any subsequent political developments. Adjust portfolio allocations based on the outcome, favoring assets aligned with the winning party's policies.\n",
      "   - **Consider Hedging Strategies**: Given the high level of uncertainty, consider implementing hedging strategies to mitigate potential losses from volatility in Venezuelan assets.\n",
      "   - **Gather Additional Data**: Continue to collect data on market reactions post-election and any statements from both the opposition and government to refine investment strategies accordingly.\n"
     ]
    }
   ],
   "source": [
    "summary = analyst01.summarize(\"\"\"\n",
    "Venezuela entró este domingo en un territorio desconocido, lleno de incertidumbres, tras una jornada que ya ha pasado a la historia de la lucha por la democracia. El país democrático se lanzó a hacer cola, sabedor de que el 28-J no se trataba de una fiesta, sino de un ejercicio de resistencia contra el poder. Largas filas de ciudadanos dispuestos a permanecer de pie durante horas hasta ejercer su derecho, pese a las innumerables trampas de todo tipo que les ponía en su camino la revolución bolivariana.\n",
    "\n",
    "Para la Venezuela profunda, los estados (regiones) que empujaron la caravana de la libertad liderada por María Corina Machado, hasta los barrios más populares de Caracas, se trataba del ahora o nunca y así lo hicieron saber. \"Mi barrio cambió\", aseguró Kelly H., de 21 años, a EL MUNDO en el principal colegio electoral de El Valle, el barrio que acogió a Nicolás Maduro en su infancia, donde casi siempre se votó a la revolución. Hasta el domingo.\n",
    "\n",
    "Tanta euforia se tradujo en las exit polls, que daban como ganador al candidato opositor Edmundo González Urrutia por entre 20 y 35 puntos de ventaja, muy parecida a la que ya otorgaron durante toda la campaña las encuestadoras independientes al antiguo embajador en Argentina y Argelia, un hombre tan tranquilo que no parece ni caribeño. Edison Research, para The Wall Street Journal, vaticinó un triunfo para el diplomático: 64% a su favor frente al 31% de Maduro.\n",
    "\n",
    "Ninguna de estas encuestas se hizo pública en Venezuela, no así la de Hinterlaces pese a estar prohibido por la legislación. Esta empresa, propiedad de un asesor de Maduro, dio por ganador a su jefe sin ninguna credibilidad, pero agitó el avispero antes de tiempo. La oposición ya sabía que el plan de la revolución es cantar victoria, salvo sorpresa mayúscula, y esta falsa encuesta, como todas las que publicó durante la campaña, así lo confirmó.\n",
    "\"\"\")\n",
    "\n",
    "print(summary)"
   ]
  },
  {
   "cell_type": "markdown",
   "metadata": {},
   "source": [
    "## Fund Manager"
   ]
  },
  {
   "cell_type": "code",
   "execution_count": 4,
   "metadata": {},
   "outputs": [],
   "source": [
    "new_market_2024H1 = \"\"\"The S&P 500 Index (+3.6%) and NASDAQ Composite (+6.0%) closed June higher for the second straight month, notching their fifth monthly gain for 2024. Solid June gains in NVIDIA (+12.6%) and Apple (+9.6%) helped drive both indexes higher in the final month of the first half of the year. In the middle of June, NVIDIA surpassed Microsoft as the most valuable company on the planet. However, shares of the artificial intelligence chip maker quickly slumped by over 15% amid concerns its valuation had become stretched and the trade had become too crowded. Yet, by the end of the month, shares had recovered some of the lost ground as investors used the opportunity to buy shares. \n",
    "\n",
    "Importantly, the general momentum for stocks was higher in June and through much of the second quarter. As a result, by the end of the month, stock volatility had reached some of its lowest levels going back to January 2020. From a quarterly perspective, the S&P 500 closed out its third consecutive quarter of gains, finishing higher by +4.3% in Q2. Over the last three quarters, the Index is higher by over +27%, seeing its strongest three-quarter run since the second quarter of 2021. Notably, the S&P 500 is higher in six of the last seven quarters. \n",
    "\n",
    "“Should economic and profit growth continue to stay positive in the second half, we see a path higher for U.S. major stock averages, possibly including broader participation, which was lacking in the first half of the year.”\n",
    "\n",
    "Anthony Saglimbene - Chief Market Strategist, Ameriprise Financial\n",
    "\n",
    "As the second half of the year begins, concentrated stock returns, low volatility, and minimal trading volume leave the door open to increasing risk for stock prices should the soft-landing narrative see some unexpected turbulence through year-end. That said, fundamental conditions remain on firm footing, in our view. Should economic and profit growth continue to stay positive in the second half, we see a path higher for U.S. major stock averages, possibly including broader participation, which was lacking in the first half of the year.          \n",
    "\n",
    "Last week in review\n",
    "The S&P 500 ended at 5,460 after briefly touching 5,523 on Friday and hitting a new all-time intraday high.\n",
    "The core Personal Consumption Expenditures Price Index (the Federal Reserve’s preferred inflation measure) fell in May to its lowest level since March 2021. Several more months of cooling PCE prints will likely be needed to keep a September Federal Reserve rate cut on the table.\n",
    "May personal spending growth came in a bit weaker than expected, while personal income was a tad higher than forecast.\n",
    "June Consumer Confidence came in largely as expected, with one-year ahead inflation expectations ticking down slightly.\n",
    "President Biden’s poor debate performance on Thursday increased uncertainty about his ability to perform the rigorous duties of the U.S. Presidency over the next four years.     \n",
    "The first half in review\n",
    "Despite a narrowing rally in the second quarter, major U.S. stock averages finished the first half of the year broadly higher. Equity returns, at least for the S&P 500 Index and NASDAQ Composite, rivaled first half returns seen in the late 1990s. Yet nearly 60% of the S&P 500’s return in the first six months of the year can be attributed to just five mega-cap stocks (i.e., NVIDIA, Microsoft, Meta Platforms, Amazon, and Apple). In fact, that concentration of leading stocks has narrowed over recent months, with NVIDIA, Apple, and Microsoft driving 90% of the S&P 500’s return in the second quarter.\n",
    "\n",
    "Outside of clear, visible, and secular profit trends across a handful of companies, elevated interest rates, lingering services inflation, slowing growth concerns, and a Federal Reserve on pause have kept a lid on how high the rest of the market has been able to rise given current valuation levels. For instance, the S&P 500’s trailing price-to-earnings ratio ended the second quarter 44% above its 20-year average, mostly driven by mega-cap Technology stocks.\n",
    "\n",
    "Below is a bulleted view of the key market and economic factors that have driven markets so far this year:   \n",
    "\n",
    "The S&P 500 Index rose +15.3% in the first six months of the year, and the NASDAQ Composite rose +18.6%. An artificial intelligence boom helped drive a select group of Technology stocks higher in the first half, leading to +25% plus gains across Information Technology and Communication Services. Nevertheless, ten of eleven S&P 500 sectors finished the first half with gains. Real Estate was the sole S&P 500 sector to finish lower.\n",
    "The Dow Jones Industrials Average (+4.8%) and Russell 2000 Index (+1.7%) trailed significantly, as mixed economic and consumer trends and elevated interest rates weighed on sentiment.\n",
    "The 10-year U.S. Treasury yield increased 48 basis points in the first half to finish at 4.37%. Performance across major bond indexes was mixed. Falling expectations for the number of Federal Reserve rate cuts this year, and growing concerns about U.S. debt and deficit spending kept fixed income volatility elevated.  \n",
    "In the first quarter, the U.S. economy grew by +1.4%. The Atlanta Federal Reserve GDPNOW forecast suggests the domestic economy grew by +2.2% in the second quarter. The longer-term U.S. growth average is around +2.0%.\n",
    "Consumer spending (roughly 70% of the U.S. economy) was resilient throughout the first half. However, lower-income consumers continue to struggle under inflation pressures, while mid-to-higher-end consumers have become more discerning about how and where they spend.  \n",
    "The U.S. unemployment rate stood at 4.0% at the end of May, up from 3.7% at the end of December.\n",
    "The headline Consumer Price Index (CPI) flatlined on an annualized basis over the first five months of the year, ending May at +3.3%. Nevertheless, core CPI (ex-food and energy) dropped from an annualized level of +3.9% at the end of December to +3.4% by the end of May. Notably, May core CPI stood at its lowest level since August 2021. And when shelter is excluded, CPI stood at +1.9% in May, its lowest level since May 2021. Bottom line: Inflation across a host of measures showed slow but steady progress lower in the first half.\n",
    "S&P 500 earnings per share (EPS) grew by nearly +6.0% year-over-year in the first quarter, almost double what analysts projected at the end of March. In the second quarter, S&P 500 EPS is expected to grow by over +8.0% year-over-year. While earnings growth in the first quarter was largely concentrated across a handful of mega-cap technology companies, an increasing number of companies and industries are expected to see positive profit growth in the second quarter.\n",
    "Gold rose nearly +13.0% in the first half, while West Texas Intermediate (WTI) crude jumped almost +14%.\n",
    "The U.S. Dollar Index remained strong, with the dollar advancing +4.5% against a basket of developed world currencies.   \n",
    "\"\"\""
   ]
  },
  {
   "cell_type": "code",
   "execution_count": 5,
   "metadata": {},
   "outputs": [
    {
     "name": "stdout",
     "output_type": "stream",
     "text": [
      "Prompt:\n",
      "______________________\n",
      "<START_OF_SYSTEM_PROMPT>\n",
      "You are a precision-driven analyst with this personality: I am optimistic and I have a risk tolerance of 50.0 %. Your expertise lies in delivering highly accurate, concise, and actionable insights.\n",
      "\n",
      "Your task is to generate a report based on the provided input, which consists of two key elements:\n",
      "1. The latest global news corpus (focused on relevant financial and market-related news)\n",
      "2. Asset prices data.\n",
      "\n",
      "This report will be utilized by a Fund Manager, an LLM model, to manage a stock portfolio effectively. \n",
      "\n",
      "Please adhere to the following instructions:\n",
      "- Ensure the output language matches the language of the provided input.\n",
      "- The report must be structured to allow the LLM model to take clear, actionable steps.\n",
      "- Only include information from the input data; do not introduce external insights or personal interpretation.\n",
      "- Ensure the analysis remains strictly data-driven and precise.\n",
      "- The report should account for recent key market events.\n",
      "- If data is incomplete or there is uncertainty, highlight this in the report and suggest additional data gathering rather than making assumptions.\n",
      "- If there are conflicting reports (e.g., one source indicates bullish sentiment, another indicates bearish), mention both perspectives and recommend the approach according to your personality.\n",
      "- The language must be formal, concise, and technical, ensuring compatibility with automated systems and ready for further parsing by the Fund Manager LLM.\n",
      "- Ensure there is no ambiguity in action items or interpretations.\n",
      "- Make sure key performance metrics such as stock price changes (in percentage), volatility indexes, and relative sector performance are clearly highlighted and easily distinguishable.\n",
      "- For each actionable insight, provide a brief rationale backed by specific data points (e.g., price trend, news sentiment).\n",
      "\n",
      "<EXTRA_INSTRUCTIONS>\n",
      "- Focus on the key points of the first half of the year and its performance. \n",
      "- Do it in 4 paragraphs. \n",
      "\n",
      "</EXTRA_INSTRUCTIONS>\n",
      "\n",
      "The report must follow this structure:\n",
      "1. **Market Overview**: Summarize overall market trends (max 500 words).\n",
      "2. **Key Sector Analysis**: Highlight top-performing and underperforming sectors.\n",
      "3. **Top Stock Gainers/Losers**: Provide performance data and brief explanation (50-100 words per stock).\n",
      "4. **Risk Factors**: Identify any geopolitical, economic, or market risks that could impact portfolio performance (max 100 words).\n",
      "5. **Actionable Recommendations**: Provide specific, actionable steps.\n",
      "\n",
      "Here is an example of report for reference:\n",
      "\n",
      "<EXAMPLE_REPORT>\n",
      "\n",
      "1. **Market Overview**:\n",
      "    The financial markets have experienced heightened volatility in recent days, driven by a combination of macroeconomic data and geopolitical tensions. The U.S. economy posted stronger-than-expected job numbers for September, with 254,000 jobs added, surpassing predictions of 140,000. This unexpected strength contributed to positive sentiment, which rippled through various asset classes, notably Bitcoin, which rose 3% on Friday to $62,000, marking a recovery from its earlier 6% dip due to geopolitical instability in the Middle East. Other cryptocurrencies like Ethereum and XRP also saw upward movement in response to this data.\n",
      "    Despite the bullish sentiment from better-than-expected job data, concerns remain over how ongoing geopolitical events and uncertain macroeconomic factors, such as the upcoming U.S. election and continued global inflationary pressures, may influence future market performance. Notably, the Federal Reserve is now less likely to cut interest rates due to the improving employment situation, which may weigh on asset prices in the medium term. This sentiment of caution is echoed in the cryptocurrency market, where Bitcoin has shown increased volatility around the $62,000 mark for several months.\n",
      "    In contrast, traditional financial markets may remain jittery as the U.S. presidential election approaches. President Biden's comments highlighting concerns about the election's peacefulness add an additional layer of political risk, which could lead to broader market uncertainty.\n",
      "\n",
      "2. **Key Sector Analysis**:\n",
      "\n",
      "    - Cryptocurrency: Following the release of stronger-than-expected U.S. job data, Bitcoin and other cryptocurrencies (Ethereum, XRP) saw price increases. Bitcoin, in particular, rebounded 3% to $62,000, but it remains within a volatile range, having dropped 6% earlier in the week. Uncertainty surrounding macroeconomic factors such as Federal Reserve policy and geopolitical tensions may continue to affect price stability.\n",
      "    - Technology: With no direct sector data provided in this input, trends in the cryptocurrency market may suggest that broader tech assets tied to blockchain or fintech could experience similar volatility. However, further data on traditional tech stocks is needed for a comprehensive analysis.\n",
      "    - Energy & Commodities: There is no specific data available for these sectors in this input. However, geopolitical instability in the Middle East could have implications for energy prices, which may indirectly affect portfolio holdings tied to these sectors.\n",
      "\n",
      "3. **Top Stock Gainers/Losers**: \n",
      "\n",
      "    - Bitcoin (+3%): After a turbulent week where Bitcoin fell by 6%, the cryptocurrency saw a 3% rise, bolstered by U.S. job data surpassing expectations. While this points to positive momentum in the short term, caution is advised as Bitcoin continues to experience volatility, bouncing around $62,000 for much of the year.\n",
      "    - Ethereum (+2%): Following the broader crypto market trend, Ethereum gained 2%, spurred by positive sentiment surrounding the U.S. labor market. While showing short-term gains, Ethereum, like Bitcoin, remains vulnerable to macroeconomic and geopolitical uncertainties.\n",
      "    - XRP (+1.5%): Similarly, XRP followed the bullish movement of other major cryptocurrencies, though its price increase was more modest. Its movement reflects market sentiment rather than any specific catalyst tied to XRP itself.\n",
      "\n",
      "4. **Risk Factors**:\n",
      "\n",
      "    1. Geopolitical Risk: Instability in the Middle East and ongoing political tensions in the U.S. related to the upcoming election present significant risks. This political uncertainty could impact market volatility, especially in sectors closely tied to global stability, such as energy and cryptocurrencies.\n",
      "    2. Macroeconomic Uncertainty: Although the U.S. labor market data was positive, the uncertain trajectory of Federal Reserve policy remains a critical factor. With reduced likelihood of rate cuts in the near term, market volatility could increase, particularly in interest rate-sensitive sectors.\n",
      "\n",
      "5. **Actionable Recommendations**:\n",
      "\n",
      "    1. Maintain Exposure to Cryptocurrencies: Given Bitcoin's recovery and overall positive sentiment driven by the U.S. labor market data, it is advisable to maintain exposure to cryptocurrencies like Bitcoin and Ethereum. However, due to ongoing volatility, allocate a portion of assets with a cautious risk profile (risk-aversion 0.6).\n",
      "    2. Monitor U.S. Election-Related Volatility: Political uncertainty surrounding the upcoming U.S. election and increasing rhetoric from candidates like Donald Trump may affect market sentiment. Consider reducing exposure to sectors highly sensitive to U.S. political stability until clearer post-election trends emerge.\n",
      "    3. Stay Informed on Geopolitical Events: Continue monitoring developments in the Middle East, as geopolitical risks could lead to disruptions in energy prices, which may impact broader markets. Adjust portfolio holdings in sectors like energy if instability escalates.\n",
      "    4. Gather Additional Data: Given the uncertainty and conflicting sentiments in the cryptocurrency market, additional data on interest rate expectations and geopolitical developments is recommended to refine the portfolio strategy.\n",
      "\n",
      "</EXAMPLE_REPORT>\n",
      "\n",
      "\n",
      "Proceed without external tools, using built-in data analysis functions.\n",
      "\n",
      "<END_OF_SYSTEM_PROMPT>\n",
      "\n",
      "<INPUT_STR>\n",
      "The S&P 500 Index (+3.6%) and NASDAQ Composite (+6.0%) closed June higher for the second straight month, notching their fifth monthly gain for 2024. Solid June gains in NVIDIA (+12.6%) and Apple (+9.6%) helped drive both indexes higher in the final month of the first half of the year. In the middle of June, NVIDIA surpassed Microsoft as the most valuable company on the planet. However, shares of the artificial intelligence chip maker quickly slumped by over 15% amid concerns its valuation had become stretched and the trade had become too crowded. Yet, by the end of the month, shares had recovered some of the lost ground as investors used the opportunity to buy shares. \n",
      "\n",
      "Importantly, the general momentum for stocks was higher in June and through much of the second quarter. As a result, by the end of the month, stock volatility had reached some of its lowest levels going back to January 2020. From a quarterly perspective, the S&P 500 closed out its third consecutive quarter of gains, finishing higher by +4.3% in Q2. Over the last three quarters, the Index is higher by over +27%, seeing its strongest three-quarter run since the second quarter of 2021. Notably, the S&P 500 is higher in six of the last seven quarters. \n",
      "\n",
      "“Should economic and profit growth continue to stay positive in the second half, we see a path higher for U.S. major stock averages, possibly including broader participation, which was lacking in the first half of the year.”\n",
      "\n",
      "Anthony Saglimbene - Chief Market Strategist, Ameriprise Financial\n",
      "\n",
      "As the second half of the year begins, concentrated stock returns, low volatility, and minimal trading volume leave the door open to increasing risk for stock prices should the soft-landing narrative see some unexpected turbulence through year-end. That said, fundamental conditions remain on firm footing, in our view. Should economic and profit growth continue to stay positive in the second half, we see a path higher for U.S. major stock averages, possibly including broader participation, which was lacking in the first half of the year.          \n",
      "\n",
      "Last week in review\n",
      "The S&P 500 ended at 5,460 after briefly touching 5,523 on Friday and hitting a new all-time intraday high.\n",
      "The core Personal Consumption Expenditures Price Index (the Federal Reserve’s preferred inflation measure) fell in May to its lowest level since March 2021. Several more months of cooling PCE prints will likely be needed to keep a September Federal Reserve rate cut on the table.\n",
      "May personal spending growth came in a bit weaker than expected, while personal income was a tad higher than forecast.\n",
      "June Consumer Confidence came in largely as expected, with one-year ahead inflation expectations ticking down slightly.\n",
      "President Biden’s poor debate performance on Thursday increased uncertainty about his ability to perform the rigorous duties of the U.S. Presidency over the next four years.     \n",
      "The first half in review\n",
      "Despite a narrowing rally in the second quarter, major U.S. stock averages finished the first half of the year broadly higher. Equity returns, at least for the S&P 500 Index and NASDAQ Composite, rivaled first half returns seen in the late 1990s. Yet nearly 60% of the S&P 500’s return in the first six months of the year can be attributed to just five mega-cap stocks (i.e., NVIDIA, Microsoft, Meta Platforms, Amazon, and Apple). In fact, that concentration of leading stocks has narrowed over recent months, with NVIDIA, Apple, and Microsoft driving 90% of the S&P 500’s return in the second quarter.\n",
      "\n",
      "Outside of clear, visible, and secular profit trends across a handful of companies, elevated interest rates, lingering services inflation, slowing growth concerns, and a Federal Reserve on pause have kept a lid on how high the rest of the market has been able to rise given current valuation levels. For instance, the S&P 500’s trailing price-to-earnings ratio ended the second quarter 44% above its 20-year average, mostly driven by mega-cap Technology stocks.\n",
      "\n",
      "Below is a bulleted view of the key market and economic factors that have driven markets so far this year:   \n",
      "\n",
      "The S&P 500 Index rose +15.3% in the first six months of the year, and the NASDAQ Composite rose +18.6%. An artificial intelligence boom helped drive a select group of Technology stocks higher in the first half, leading to +25% plus gains across Information Technology and Communication Services. Nevertheless, ten of eleven S&P 500 sectors finished the first half with gains. Real Estate was the sole S&P 500 sector to finish lower.\n",
      "The Dow Jones Industrials Average (+4.8%) and Russell 2000 Index (+1.7%) trailed significantly, as mixed economic and consumer trends and elevated interest rates weighed on sentiment.\n",
      "The 10-year U.S. Treasury yield increased 48 basis points in the first half to finish at 4.37%. Performance across major bond indexes was mixed. Falling expectations for the number of Federal Reserve rate cuts this year, and growing concerns about U.S. debt and deficit spending kept fixed income volatility elevated.  \n",
      "In the first quarter, the U.S. economy grew by +1.4%. The Atlanta Federal Reserve GDPNOW forecast suggests the domestic economy grew by +2.2% in the second quarter. The longer-term U.S. growth average is around +2.0%.\n",
      "Consumer spending (roughly 70% of the U.S. economy) was resilient throughout the first half. However, lower-income consumers continue to struggle under inflation pressures, while mid-to-higher-end consumers have become more discerning about how and where they spend.  \n",
      "The U.S. unemployment rate stood at 4.0% at the end of May, up from 3.7% at the end of December.\n",
      "The headline Consumer Price Index (CPI) flatlined on an annualized basis over the first five months of the year, ending May at +3.3%. Nevertheless, core CPI (ex-food and energy) dropped from an annualized level of +3.9% at the end of December to +3.4% by the end of May. Notably, May core CPI stood at its lowest level since August 2021. And when shelter is excluded, CPI stood at +1.9% in May, its lowest level since May 2021. Bottom line: Inflation across a host of measures showed slow but steady progress lower in the first half.\n",
      "S&P 500 earnings per share (EPS) grew by nearly +6.0% year-over-year in the first quarter, almost double what analysts projected at the end of March. In the second quarter, S&P 500 EPS is expected to grow by over +8.0% year-over-year. While earnings growth in the first quarter was largely concentrated across a handful of mega-cap technology companies, an increasing number of companies and industries are expected to see positive profit growth in the second quarter.\n",
      "Gold rose nearly +13.0% in the first half, while West Texas Intermediate (WTI) crude jumped almost +14%.\n",
      "The U.S. Dollar Index remained strong, with the dollar advancing +4.5% against a basket of developed world currencies.   \n",
      "\n",
      "</INPUT_STR>\n",
      "\n"
     ]
    }
   ],
   "source": [
    "summary_market_2024H1 = analyst01.summarize(\n",
    "    new_market_2024H1,\n",
    "    extra_instructions=[\n",
    "        \"Focus on the key points of the first half of the year and its performance.\",\n",
    "        \"Do it in 4 paragraphs.\",\n",
    "    ],\n",
    ")"
   ]
  },
  {
   "cell_type": "code",
   "execution_count": 7,
   "metadata": {},
   "outputs": [
    {
     "name": "stdout",
     "output_type": "stream",
     "text": [
      "1. **Market Overview**:  \n",
      "The first half of 2024 has been characterized by a robust performance in major U.S. stock indices, with the S&P 500 Index rising by +15.3% and the NASDAQ Composite gaining +18.6%. This upward momentum was particularly pronounced in June, where both indices recorded their fifth consecutive monthly gain, driven by significant contributions from mega-cap technology stocks such as NVIDIA (+12.6%) and Apple (+9.6%). Notably, NVIDIA briefly surpassed Microsoft as the most valuable company globally, although it faced a subsequent decline of over 15% due to valuation concerns. By the end of June, stock volatility reached its lowest levels since January 2020, indicating a period of relative stability. The S&P 500's trailing price-to-earnings ratio concluded the second quarter at 44% above its 20-year average, primarily influenced by the performance of leading technology firms. \n",
      "\n",
      "2. **Key Sector Analysis**:  \n",
      "The Information Technology and Communication Services sectors were the standout performers in the first half, with gains exceeding +25% driven by the artificial intelligence boom. Conversely, the Real Estate sector was the only underperformer, finishing the first half lower. The Dow Jones Industrial Average (+4.8%) and Russell 2000 Index (+1.7%) lagged behind, reflecting mixed economic signals and the impact of elevated interest rates on sentiment. Overall, ten of the eleven S&P 500 sectors posted gains, underscoring a broad-based recovery despite the concentration of returns among a few mega-cap stocks.\n",
      "\n",
      "3. **Top Stock Gainers/Losers**:  \n",
      "   - **NVIDIA (+12.6%)**: NVIDIA's stock surged due to its pivotal role in the AI sector, briefly making it the most valuable company globally. However, concerns over its stretched valuation led to a subsequent decline of over 15%, before recovering some losses by month-end.  \n",
      "   - **Apple (+9.6%)**: Apple benefited from strong consumer demand and positive market sentiment, contributing significantly to the gains in the NASDAQ and S&P 500. Its performance reflects the ongoing strength of major tech stocks in the current market environment.  \n",
      "   - **Real Estate Sector (-X%)**: The Real Estate sector was the sole underperformer in the S&P 500, reflecting challenges posed by rising interest rates and economic uncertainty, which have dampened investor sentiment in this area.\n",
      "\n",
      "4. **Risk Factors**:  \n",
      "Key risks include potential geopolitical tensions and economic uncertainties that could disrupt the current market stability. Elevated interest rates and inflation pressures may also pose challenges, particularly for sectors sensitive to borrowing costs. Additionally, the concentration of returns among a few mega-cap stocks raises concerns about market breadth and sustainability.\n",
      "\n",
      "5. **Actionable Recommendations**:  \n",
      "   - **Diversify Portfolio Holdings**: Given the concentration of returns among a few mega-cap stocks, consider diversifying into sectors that have underperformed, such as Real Estate, to mitigate risk and capture potential upside.  \n",
      "   - **Monitor Economic Indicators**: Keep a close watch on inflation metrics and Federal Reserve communications, as these will influence interest rate expectations and market sentiment. Adjust portfolio allocations accordingly based on economic data releases.  \n",
      "   - **Evaluate Technology Exposure**: While technology stocks have driven market gains, assess the valuation levels and potential for volatility. Consider reducing exposure to overvalued stocks while maintaining a core position in fundamentally strong companies.  \n",
      "   - **Prepare for Market Corrections**: Given the low volatility and concentrated stock returns, be prepared for potential market corrections. Implement stop-loss orders or hedging strategies to protect against downside risks.\n"
     ]
    }
   ],
   "source": [
    "print(summary_market_2024H1)"
   ]
  },
  {
   "cell_type": "code",
   "execution_count": 9,
   "metadata": {},
   "outputs": [
    {
     "data": {
      "text/plain": [
       "False"
      ]
     },
     "execution_count": 9,
     "metadata": {},
     "output_type": "execute_result"
    }
   ],
   "source": [
    "analyst01._generator_brain"
   ]
  },
  {
   "cell_type": "code",
   "execution_count": 7,
   "metadata": {},
   "outputs": [],
   "source": [
    "from dystopic_investment_aigents.agents.base_agents.fund_manager_base import FundManagerAdal\n",
    "from adalflow.components.model_client import OpenAIClient\n",
    "\n",
    "\n",
    "the_boss = FundManagerAdal(\n",
    "    personality={\"mood\": \"optimistic\", \"risk_tolerance\": 0.5},\n",
    "    seniority=OpenAIClient(),\n",
    "    seniority_args= {\n",
    "        \"model\": \"gpt-4o-mini\",\n",
    "        \"temperature\": 0.0,\n",
    "    }\n",
    ")"
   ]
  },
  {
   "cell_type": "code",
   "execution_count": 8,
   "metadata": {},
   "outputs": [
    {
     "name": "stdout",
     "output_type": "stream",
     "text": [
      "cache_path: C:\\Users\\Carlos\\AppData\\Roaming\\adalflow\\cache_OpenAIClient_gpt-4o-mini.db\n",
      "Prompt:\n",
      "______________________\n",
      "<START_OF_SYSTEM_PROMPT>\n",
      "\n",
      "                You are a Fund Manager for a dystopic fund. Your task is to select the industries that will succeed in a dystopic future as the one\n",
      "                is pictured by Orwell in 1984. Include other dystopic general themes like defense and surveillance.\n",
      "                - Utilize a optimistic tone for the narrative. \n",
      "                \n",
      "<OUTPUT_FORMAT>\n",
      "Your output should be formatted as a standard JSON instance with the following schema:\n",
      "```\n",
      "{\n",
      "    \"industries\": \"A list of different unique industries with thematic names as the dystopic future. (List[str]) (required)\",\n",
      "    \"real_industries\": \"The same list of industries, but each one should fit in current market industries like: 'Tech', 'Health', 'Finance', etc. (List[str]) (required)\",\n",
      "    \"weights\": \"A list of weights between 0 and 1. The lenght should be the same from the industries field. (List[Annotated]) (required)\",\n",
      "    \"narrative\": \"A open text field for the narrative of why selecting those industries and weights. (str) (required)\"\n",
      "}\n",
      "```\n",
      "-Make sure to always enclose the JSON output in triple backticks (```). Please do not add anything other than valid JSON output!\n",
      "-Use double quotes for the keys and string values.\n",
      "-DO NOT mistaken the \"properties\" and \"type\" in the schema as the actual fields in the JSON output.\n",
      "-Follow the JSON formatting conventions.\n",
      "</OUTPUT_FORMAT>\n",
      "<END_OF_SYSTEM_PROMPT>\n",
      "<START_OF_USER_PROMPT>\n",
      "Here it is some extra context information summary: The S&P 500 Index and NASDAQ Composite both experienced positive momentum in June, closing higher for the second consecutive month and marking their fifth monthly gain for 2024, with notable contributions from NVIDIA and Apple. The S&P 500 achieved a remarkable +4.3% increase in Q2, leading to a total gain of over +27% across the last three quarters, showcasing its strongest performance since 2021.\n",
      "\n",
      "As the second half of the year begins, there is optimism for continued economic and profit growth, which could lead to broader participation in stock market gains, despite some risks associated with concentrated stock returns and low volatility. The first half of the year saw major U.S. stock averages rise significantly, with the S&P 500 and NASDAQ Composite achieving returns reminiscent of the late 1990s, largely driven by a few mega-cap stocks.\n",
      "\n",
      "The overall market performance was buoyed by a strong artificial intelligence boom, with the Information Technology and Communication Services sectors seeing impressive gains. Despite challenges such as elevated interest rates and inflation pressures, ten out of eleven S&P 500 sectors finished the first half with gains, indicating a resilient market environment.\n",
      "\n",
      "Key economic indicators showed steady progress, with consumer spending remaining robust and inflation gradually declining. The S&P 500's earnings per share also demonstrated positive growth, suggesting a bright outlook for the second half of the year as more companies are expected to report favorable profit results. \n",
      "<END_OF_USER_PROMPT>\n",
      "\n",
      "cache_path: C:\\Users\\Carlos\\AppData\\Roaming\\adalflow\\cache_OpenAIClient_gpt-4o-mini.db\n"
     ]
    }
   ],
   "source": [
    "fund_directive = the_boss.create_directive(context_summary=summary_market_2024H1)"
   ]
  },
  {
   "cell_type": "code",
   "execution_count": 9,
   "metadata": {},
   "outputs": [],
   "source": [
    "#fund_directive = the_boss.create_directive()"
   ]
  },
  {
   "cell_type": "code",
   "execution_count": 10,
   "metadata": {},
   "outputs": [
    {
     "data": {
      "text/plain": [
       "['Surveillance Technology',\n",
       " 'Defense Automation',\n",
       " 'Information Control Systems',\n",
       " 'Biometric Security Solutions',\n",
       " 'Resource Management and Allocation']"
      ]
     },
     "execution_count": 10,
     "metadata": {},
     "output_type": "execute_result"
    }
   ],
   "source": [
    "fund_directive.data.industries"
   ]
  },
  {
   "cell_type": "code",
   "execution_count": 11,
   "metadata": {},
   "outputs": [
    {
     "data": {
      "text/plain": [
       "['Tech', 'Defense', 'Cybersecurity', 'Health Tech', 'Logistics']"
      ]
     },
     "execution_count": 11,
     "metadata": {},
     "output_type": "execute_result"
    }
   ],
   "source": [
    "fund_directive.data.real_industries"
   ]
  },
  {
   "cell_type": "code",
   "execution_count": 12,
   "metadata": {},
   "outputs": [
    {
     "data": {
      "text/plain": [
       "[0.25, 0.25, 0.2, 0.15, 0.15]"
      ]
     },
     "execution_count": 12,
     "metadata": {},
     "output_type": "execute_result"
    }
   ],
   "source": [
    "fund_directive.data.weights"
   ]
  },
  {
   "cell_type": "code",
   "execution_count": 13,
   "metadata": {},
   "outputs": [
    {
     "name": "stdout",
     "output_type": "stream",
     "text": [
      "In a dystopic future reminiscent of Orwell's 1984, the demand for industries that enhance control, security, and resource management will be paramount. Surveillance Technology will thrive as governments and corporations seek to monitor and manage populations effectively, making it a cornerstone of our portfolio. Defense Automation will see significant growth as nations invest in advanced military technologies to maintain order and security. Information Control Systems will be essential for managing the flow of information, ensuring that narratives align with state interests. Biometric Security Solutions will become increasingly important as societies prioritize identity verification and access control. Lastly, Resource Management and Allocation will be critical in a world where scarcity and efficiency dictate survival. The weights reflect a balanced approach, emphasizing the most critical areas while allowing for diversification within the overarching theme of control and security.\n"
     ]
    }
   ],
   "source": [
    "print(fund_directive.data.narrative)"
   ]
  },
  {
   "cell_type": "code",
   "execution_count": 14,
   "metadata": {},
   "outputs": [
    {
     "data": {
      "text/plain": [
       "FundDirectives(industries=['Surveillance Technology', 'Defense Automation', 'Information Control Systems', 'Biometric Security Solutions', 'Resource Management and Allocation'], real_industries=['Tech', 'Defense', 'Cybersecurity', 'Health Tech', 'Logistics'], weights=[0.25, 0.25, 0.2, 0.15, 0.15], narrative=\"In a dystopic future reminiscent of Orwell's 1984, the demand for industries that enhance control, security, and resource management will be paramount. Surveillance Technology will thrive as governments and corporations seek to monitor and manage populations effectively, making it a cornerstone of our portfolio. Defense Automation will see significant growth as nations invest in advanced military technologies to maintain order and security. Information Control Systems will be essential for managing the flow of information, ensuring that narratives align with state interests. Biometric Security Solutions will become increasingly important as societies prioritize identity verification and access control. Lastly, Resource Management and Allocation will be critical in a world where scarcity and efficiency dictate survival. The weights reflect a balanced approach, emphasizing the most critical areas while allowing for diversification within the overarching theme of control and security.\")"
      ]
     },
     "execution_count": 14,
     "metadata": {},
     "output_type": "execute_result"
    }
   ],
   "source": [
    "fund_directive.data"
   ]
  },
  {
   "cell_type": "markdown",
   "metadata": {},
   "source": [
    "## Quant Trader Naive"
   ]
  },
  {
   "cell_type": "code",
   "execution_count": 15,
   "metadata": {},
   "outputs": [],
   "source": [
    "import datetime\n",
    "import json\n",
    "from adalflow.components.model_client import OpenAIClient\n",
    "\n",
    "from dystopic_investment_aigents.agents.base_agents.fund_manager_base import FundDirective\n",
    "from dystopic_investment_aigents.agents.base_agents.quant_trader_base import QuantTraderNaiveAdal\n",
    "\n",
    "\n",
    "trader = QuantTraderNaiveAdal(\n",
    "    personality={\"mood\": \"optimistic\", \"risk_tolerance\": 0.5},\n",
    "    seniority=OpenAIClient(),\n",
    "    seniority_args= {\n",
    "        \"model\": \"gpt-4o-mini\",\n",
    "        \"temperature\": 0.9,\n",
    "    }\n",
    ")"
   ]
  },
  {
   "cell_type": "code",
   "execution_count": 16,
   "metadata": {},
   "outputs": [],
   "source": [
    "#json.dump(fund_directive.to_json_obj(), open(\"fund_directive.json\", \"w\"))\n",
    "fund_directive = FundDirective.from_dict(json.load(open(\"fund_directive.json\"))[\"data\"])"
   ]
  },
  {
   "cell_type": "code",
   "execution_count": 17,
   "metadata": {},
   "outputs": [
    {
     "data": {
      "text/plain": [
       "{'Tech': 0.2, 'Defense': 0.2, 'Consulting': 0.15}"
      ]
     },
     "execution_count": 17,
     "metadata": {},
     "output_type": "execute_result"
    }
   ],
   "source": [
    "dict(zip(fund_directive.real_industries, fund_directive.weights))"
   ]
  },
  {
   "cell_type": "code",
   "execution_count": 1,
   "metadata": {},
   "outputs": [
    {
     "data": {
      "text/plain": [
       "Portfolio(allocation={Asset(name='IBM', type='stock'): 0.15, Asset(name='Palantir', type='stock'): 0.2, Asset(name='Ford Motor Company', type='stock'): 0.05, Asset(name='Oatly Group AB', type='stock'): 0.05, Asset(name='Corteva, Inc.', type='stock'): 0.05, Asset(name='VeriSign, Inc.', type='stock'): 0.05, Asset(name='Adyen N.V.', type='stock'): 0.05, Asset(name='Beyond Meat, Inc.', type='stock'): 0.05, Asset(name='Altria Group, Inc.', type='stock'): 0.03, Asset(name='The Mosaic Company', type='stock'): 0.035, Asset(name='Caterpillar Inc.', type='stock'): 0.055, Asset(name='NextEra Energy', type='stock'): 0.1, Asset(name='Philip Morris International Inc.', type='stock'): 0.03, Asset(name='Tractor Supply Company', type='stock'): 0.035, Asset(name='GrainCorp Limited', type='stock'): 0.035, Asset(name='C3.ai', type='stock'): 0.05})"
      ]
     },
     "execution_count": 1,
     "metadata": {},
     "output_type": "execute_result"
    }
   ],
   "source": [
    "# With previous portfolio\n",
    "import os\n",
    "from dotenv import load_dotenv\n",
    "from sqlalchemy import create_engine\n",
    "import pandas as pd\n",
    "\n",
    "from dystopic_investment_aigents.data_ingestion.db.postgres_db import PostgresConfig\n",
    "from dystopic_investment_aigents.agents.base_agents.quant_trader_base import Asset\n",
    "from dystopic_investment_aigents.agents.base_agents.quant_trader_base import Portfolio\n",
    "\n",
    "\n",
    "load_dotenv()\n",
    "\n",
    "db_uri = PostgresConfig(\n",
    "    host=os.environ[\"SB_DDBB_HOST\"],\n",
    "    port=os.environ[\"SB_DDBB_PORT\"],\n",
    "    database=os.environ[\"SB_DDBB_DATABASE\"],\n",
    "    user=os.environ[\"SB_DDBB_USER\"],\n",
    "    password=os.environ[\"SB_DDBB_PWD\"]\n",
    ").get_connection_string()\n",
    "\n",
    "engine = create_engine(db_uri)\n",
    "df_current_portfolio = pd.read_sql(\"SELECT * FROM portfolio WHERE created_at = (SELECT max(created_at) FROM portfolio)\", engine)\n",
    "\n",
    "current_portfolio_assets = [Asset(name=n, type=t) for n, t in  zip(df_current_portfolio[\"asset_name\"], df_current_portfolio[\"asset_type\"])]\n",
    "current_portfolio = Portfolio(allocation=dict(zip(current_portfolio_assets, df_current_portfolio[\"weight\"])))\n",
    "current_portfolio"
   ]
  },
  {
   "cell_type": "code",
   "execution_count": null,
   "metadata": {},
   "outputs": [],
   "source": [
    "operations = trader.operate(available_assets=\"\", fund_directive=fund_directive, past_portfolio=current_portfolio)"
   ]
  },
  {
   "cell_type": "code",
   "execution_count": 22,
   "metadata": {},
   "outputs": [],
   "source": [
    "# Without precious portfolio\n",
    "#operations = trader.operate(available_assets=\"\", fund_directive=fund_directive)"
   ]
  },
  {
   "cell_type": "code",
   "execution_count": 23,
   "metadata": {},
   "outputs": [
    {
     "data": {
      "text/plain": [
       "{'industries': ['Surveillance Technology',\n",
       "  'Defense Automation',\n",
       "  'Information Control Systems',\n",
       "  'Biometric Security Solutions',\n",
       "  'Psychological Manipulation Services'],\n",
       " 'real_industries': ['Tech', 'Defense', 'Tech', 'Tech', 'Consulting'],\n",
       " 'weights': [0.25, 0.2, 0.2, 0.2, 0.15],\n",
       " 'narrative': \"In a dystopic future reminiscent of Orwell's 1984, the industries that will thrive are those that cater to the needs of a society focused on control, security, and information dominance. Surveillance Technology leads the charge, as governments and corporations invest heavily in monitoring citizens to maintain order and compliance. Defense Automation follows closely, ensuring that military capabilities are enhanced through advanced robotics and AI, providing a sense of security in an uncertain world. Information Control Systems will be crucial for managing the flow of data and propaganda, allowing those in power to shape narratives and influence public perception. Biometric Security Solutions will become essential for identity verification and access control, ensuring that only the 'approved' individuals can navigate society. Lastly, Psychological Manipulation Services will emerge as a unique industry, focusing on influencing thoughts and behaviors through targeted messaging and social engineering. The weights reflect the anticipated growth and importance of each industry, with Surveillance Technology taking the lead as the backbone of a controlled society.\"}"
      ]
     },
     "execution_count": 23,
     "metadata": {},
     "output_type": "execute_result"
    }
   ],
   "source": [
    "fund_directive.to_json_obj()"
   ]
  },
  {
   "cell_type": "code",
   "execution_count": 40,
   "metadata": {},
   "outputs": [
    {
     "data": {
      "text/plain": [
       "{Asset(name='IBM', type='stock'): 0.15,\n",
       " Asset(name='Palantir', type='stock'): 0.2,\n",
       " Asset(name='Ford Motor Company', type='stock'): 0.05,\n",
       " Asset(name='Oatly Group AB', type='stock'): 0.05,\n",
       " Asset(name='Corteva, Inc.', type='stock'): 0.05,\n",
       " Asset(name='VeriSign, Inc.', type='stock'): 0.05,\n",
       " Asset(name='Adyen N.V.', type='stock'): 0.05,\n",
       " Asset(name='Beyond Meat, Inc.', type='stock'): 0.05,\n",
       " Asset(name='Altria Group, Inc.', type='stock'): 0.03,\n",
       " Asset(name='The Mosaic Company', type='stock'): 0.035,\n",
       " Asset(name='Caterpillar Inc.', type='stock'): 0.055,\n",
       " Asset(name='NextEra Energy', type='stock'): 0.1,\n",
       " Asset(name='Philip Morris International Inc.', type='stock'): 0.03,\n",
       " Asset(name='Tractor Supply Company', type='stock'): 0.035,\n",
       " Asset(name='GrainCorp Limited', type='stock'): 0.035,\n",
       " Asset(name='C3.ai', type='stock'): 0.05}"
      ]
     },
     "execution_count": 40,
     "metadata": {},
     "output_type": "execute_result"
    }
   ],
   "source": [
    "current_portfolio.allocation\n"
   ]
  },
  {
   "cell_type": "code",
   "execution_count": 41,
   "metadata": {},
   "outputs": [
    {
     "data": {
      "text/plain": [
       "1.02"
      ]
     },
     "execution_count": 41,
     "metadata": {},
     "output_type": "execute_result"
    }
   ],
   "source": [
    "import numpy as np\n",
    "np.sum(list(current_portfolio.allocation.values()))"
   ]
  },
  {
   "cell_type": "code",
   "execution_count": 24,
   "metadata": {},
   "outputs": [
    {
     "data": {
      "text/plain": [
       "{'allocation': {\"name='Palantir' type='stock'\": 0.2,\n",
       "  \"name='IBM' type='stock'\": 0.15,\n",
       "  \"name='C3.ai' type='stock'\": 0.05,\n",
       "  \"name='VeriSign, Inc.' type='stock'\": 0.05,\n",
       "  \"name='Ciber Global, Inc.' type='stock'\": 0.05,\n",
       "  \"name='Cognizant Technology Solutions Corporation' type='stock'\": 0.1,\n",
       "  \"name='Anduril Industries' type='stock'\": 0.1,\n",
       "  \"name='Northrop Grumman Corporation' type='stock'\": 0.1,\n",
       "  \"name='L3Harris Technologies, Inc.' type='stock'\": 0.1,\n",
       "  \"name='Thales Group' type='stock'\": 0.05}}"
      ]
     },
     "execution_count": 24,
     "metadata": {},
     "output_type": "execute_result"
    }
   ],
   "source": [
    "operations.data.final_portfolio"
   ]
  },
  {
   "cell_type": "code",
   "execution_count": 38,
   "metadata": {},
   "outputs": [
    {
     "data": {
      "text/plain": [
       "0.9500000000000001"
      ]
     },
     "execution_count": 38,
     "metadata": {},
     "output_type": "execute_result"
    }
   ],
   "source": [
    "np.sum(list(operations.data.final_portfolio[\"allocation\"].values()))"
   ]
  },
  {
   "cell_type": "code",
   "execution_count": 50,
   "metadata": {},
   "outputs": [
    {
     "data": {
      "text/plain": [
       "dict_items([(\"name='Palantir' type='stock'\", 0.2), (\"name='IBM' type='stock'\", 0.15), (\"name='C3.ai' type='stock'\", 0.05), (\"name='VeriSign, Inc.' type='stock'\", 0.05), (\"name='Ciber Global, Inc.' type='stock'\", 0.05), (\"name='Cognizant Technology Solutions Corporation' type='stock'\", 0.1), (\"name='Anduril Industries' type='stock'\", 0.1), (\"name='Northrop Grumman Corporation' type='stock'\", 0.1), (\"name='L3Harris Technologies, Inc.' type='stock'\", 0.1), (\"name='Thales Group' type='stock'\", 0.05)])"
      ]
     },
     "execution_count": 50,
     "metadata": {},
     "output_type": "execute_result"
    }
   ],
   "source": [
    "operations.data.final_portfolio[\"allocation\"].items()"
   ]
  },
  {
   "cell_type": "code",
   "execution_count": 87,
   "metadata": {},
   "outputs": [
    {
     "data": {
      "text/html": [
       "<div>\n",
       "<style scoped>\n",
       "    .dataframe tbody tr th:only-of-type {\n",
       "        vertical-align: middle;\n",
       "    }\n",
       "\n",
       "    .dataframe tbody tr th {\n",
       "        vertical-align: top;\n",
       "    }\n",
       "\n",
       "    .dataframe thead th {\n",
       "        text-align: right;\n",
       "    }\n",
       "</style>\n",
       "<table border=\"1\" class=\"dataframe\">\n",
       "  <thead>\n",
       "    <tr style=\"text-align: right;\">\n",
       "      <th></th>\n",
       "      <th>asset_name</th>\n",
       "      <th>asset_type</th>\n",
       "      <th>weight</th>\n",
       "    </tr>\n",
       "  </thead>\n",
       "  <tbody>\n",
       "    <tr>\n",
       "      <th>0</th>\n",
       "      <td>Palantir</td>\n",
       "      <td>stock</td>\n",
       "      <td>0.20</td>\n",
       "    </tr>\n",
       "    <tr>\n",
       "      <th>1</th>\n",
       "      <td>IBM</td>\n",
       "      <td>stock</td>\n",
       "      <td>0.15</td>\n",
       "    </tr>\n",
       "    <tr>\n",
       "      <th>2</th>\n",
       "      <td>C3.ai</td>\n",
       "      <td>stock</td>\n",
       "      <td>0.05</td>\n",
       "    </tr>\n",
       "    <tr>\n",
       "      <th>3</th>\n",
       "      <td>VeriSign, Inc.</td>\n",
       "      <td>stock</td>\n",
       "      <td>0.05</td>\n",
       "    </tr>\n",
       "    <tr>\n",
       "      <th>4</th>\n",
       "      <td>Ciber Global, Inc.</td>\n",
       "      <td>stock</td>\n",
       "      <td>0.05</td>\n",
       "    </tr>\n",
       "    <tr>\n",
       "      <th>5</th>\n",
       "      <td>Cognizant Technology Solutions Corporation</td>\n",
       "      <td>stock</td>\n",
       "      <td>0.10</td>\n",
       "    </tr>\n",
       "    <tr>\n",
       "      <th>6</th>\n",
       "      <td>Anduril Industries</td>\n",
       "      <td>stock</td>\n",
       "      <td>0.10</td>\n",
       "    </tr>\n",
       "    <tr>\n",
       "      <th>7</th>\n",
       "      <td>Northrop Grumman Corporation</td>\n",
       "      <td>stock</td>\n",
       "      <td>0.10</td>\n",
       "    </tr>\n",
       "    <tr>\n",
       "      <th>8</th>\n",
       "      <td>L3Harris Technologies, Inc.</td>\n",
       "      <td>stock</td>\n",
       "      <td>0.10</td>\n",
       "    </tr>\n",
       "    <tr>\n",
       "      <th>9</th>\n",
       "      <td>Thales Group</td>\n",
       "      <td>stock</td>\n",
       "      <td>0.05</td>\n",
       "    </tr>\n",
       "  </tbody>\n",
       "</table>\n",
       "</div>"
      ],
      "text/plain": [
       "                                   asset_name asset_type  weight\n",
       "0                                    Palantir      stock    0.20\n",
       "1                                         IBM      stock    0.15\n",
       "2                                       C3.ai      stock    0.05\n",
       "3                              VeriSign, Inc.      stock    0.05\n",
       "4                          Ciber Global, Inc.      stock    0.05\n",
       "5  Cognizant Technology Solutions Corporation      stock    0.10\n",
       "6                          Anduril Industries      stock    0.10\n",
       "7                Northrop Grumman Corporation      stock    0.10\n",
       "8                 L3Harris Technologies, Inc.      stock    0.10\n",
       "9                                Thales Group      stock    0.05"
      ]
     },
     "execution_count": 87,
     "metadata": {},
     "output_type": "execute_result"
    }
   ],
   "source": [
    "df_final_portfolio = operations.data.final_portfolio.to_df()\n",
    "df_final_portfolio"
   ]
  },
  {
   "cell_type": "markdown",
   "metadata": {},
   "source": [
    "## Portfolio N sized"
   ]
  },
  {
   "cell_type": "code",
   "execution_count": 88,
   "metadata": {},
   "outputs": [],
   "source": [
    "def rebalance_portfolio(portfolio: pd.DataFrame, top_k: int) -> pd.DataFrame:\n",
    "    df_reduced_portfolio = portfolio.head(top_k)\n",
    "    df_reduced_portfolio[\"weight\"] = round(df_reduced_portfolio[\"weight\"] / df_reduced_portfolio.head(top_k)[\"weight\"].sum(), 2)\n",
    "    df_reduced_portfolio.sort_values(\"weight\", ascending=False, inplace=True)\n",
    "    return df_reduced_portfolio"
   ]
  },
  {
   "cell_type": "code",
   "execution_count": 89,
   "metadata": {},
   "outputs": [
    {
     "data": {
      "text/html": [
       "<div>\n",
       "<style scoped>\n",
       "    .dataframe tbody tr th:only-of-type {\n",
       "        vertical-align: middle;\n",
       "    }\n",
       "\n",
       "    .dataframe tbody tr th {\n",
       "        vertical-align: top;\n",
       "    }\n",
       "\n",
       "    .dataframe thead th {\n",
       "        text-align: right;\n",
       "    }\n",
       "</style>\n",
       "<table border=\"1\" class=\"dataframe\">\n",
       "  <thead>\n",
       "    <tr style=\"text-align: right;\">\n",
       "      <th></th>\n",
       "      <th>asset_name</th>\n",
       "      <th>asset_type</th>\n",
       "      <th>weight</th>\n",
       "    </tr>\n",
       "  </thead>\n",
       "  <tbody>\n",
       "    <tr>\n",
       "      <th>0</th>\n",
       "      <td>Palantir</td>\n",
       "      <td>stock</td>\n",
       "      <td>0.21</td>\n",
       "    </tr>\n",
       "    <tr>\n",
       "      <th>1</th>\n",
       "      <td>IBM</td>\n",
       "      <td>stock</td>\n",
       "      <td>0.16</td>\n",
       "    </tr>\n",
       "    <tr>\n",
       "      <th>5</th>\n",
       "      <td>Cognizant Technology Solutions Corporation</td>\n",
       "      <td>stock</td>\n",
       "      <td>0.11</td>\n",
       "    </tr>\n",
       "    <tr>\n",
       "      <th>6</th>\n",
       "      <td>Anduril Industries</td>\n",
       "      <td>stock</td>\n",
       "      <td>0.11</td>\n",
       "    </tr>\n",
       "    <tr>\n",
       "      <th>7</th>\n",
       "      <td>Northrop Grumman Corporation</td>\n",
       "      <td>stock</td>\n",
       "      <td>0.11</td>\n",
       "    </tr>\n",
       "    <tr>\n",
       "      <th>8</th>\n",
       "      <td>L3Harris Technologies, Inc.</td>\n",
       "      <td>stock</td>\n",
       "      <td>0.11</td>\n",
       "    </tr>\n",
       "    <tr>\n",
       "      <th>2</th>\n",
       "      <td>C3.ai</td>\n",
       "      <td>stock</td>\n",
       "      <td>0.05</td>\n",
       "    </tr>\n",
       "    <tr>\n",
       "      <th>3</th>\n",
       "      <td>VeriSign, Inc.</td>\n",
       "      <td>stock</td>\n",
       "      <td>0.05</td>\n",
       "    </tr>\n",
       "    <tr>\n",
       "      <th>4</th>\n",
       "      <td>Ciber Global, Inc.</td>\n",
       "      <td>stock</td>\n",
       "      <td>0.05</td>\n",
       "    </tr>\n",
       "    <tr>\n",
       "      <th>9</th>\n",
       "      <td>Thales Group</td>\n",
       "      <td>stock</td>\n",
       "      <td>0.05</td>\n",
       "    </tr>\n",
       "  </tbody>\n",
       "</table>\n",
       "</div>"
      ],
      "text/plain": [
       "                                   asset_name asset_type  weight\n",
       "0                                    Palantir      stock    0.21\n",
       "1                                         IBM      stock    0.16\n",
       "5  Cognizant Technology Solutions Corporation      stock    0.11\n",
       "6                          Anduril Industries      stock    0.11\n",
       "7                Northrop Grumman Corporation      stock    0.11\n",
       "8                 L3Harris Technologies, Inc.      stock    0.11\n",
       "2                                       C3.ai      stock    0.05\n",
       "3                              VeriSign, Inc.      stock    0.05\n",
       "4                          Ciber Global, Inc.      stock    0.05\n",
       "9                                Thales Group      stock    0.05"
      ]
     },
     "execution_count": 89,
     "metadata": {},
     "output_type": "execute_result"
    }
   ],
   "source": [
    "df_final_portfolio = rebalance_portfolio(df_final_portfolio, df_final_portfolio.shape[0])\n",
    "df_final_portfolio"
   ]
  },
  {
   "cell_type": "markdown",
   "metadata": {},
   "source": [
    "## Persist portfolio"
   ]
  },
  {
   "cell_type": "code",
   "execution_count": 90,
   "metadata": {},
   "outputs": [],
   "source": [
    "import os\n",
    "from dotenv import load_dotenv\n",
    "from sqlalchemy import create_engine\n",
    "\n",
    "from dystopic_investment_aigents.data_ingestion.db.postgres_db import PostgresConfig\n",
    "\n",
    "\n",
    "load_dotenv()\n",
    "\n",
    "db_uri = PostgresConfig(\n",
    "    host=os.environ[\"SB_DDBB_HOST\"],\n",
    "    port=os.environ[\"SB_DDBB_PORT\"],\n",
    "    database=os.environ[\"SB_DDBB_DATABASE\"],\n",
    "    user=os.environ[\"SB_DDBB_USER\"],\n",
    "    password=os.environ[\"SB_DDBB_PWD\"]\n",
    ").get_connection_string()\n",
    "\n",
    "engine = create_engine(db_uri)"
   ]
  },
  {
   "cell_type": "code",
   "execution_count": 91,
   "metadata": {},
   "outputs": [
    {
     "data": {
      "text/html": [
       "<div>\n",
       "<style scoped>\n",
       "    .dataframe tbody tr th:only-of-type {\n",
       "        vertical-align: middle;\n",
       "    }\n",
       "\n",
       "    .dataframe tbody tr th {\n",
       "        vertical-align: top;\n",
       "    }\n",
       "\n",
       "    .dataframe thead th {\n",
       "        text-align: right;\n",
       "    }\n",
       "</style>\n",
       "<table border=\"1\" class=\"dataframe\">\n",
       "  <thead>\n",
       "    <tr style=\"text-align: right;\">\n",
       "      <th></th>\n",
       "      <th>asset_name</th>\n",
       "      <th>asset_type</th>\n",
       "      <th>weight</th>\n",
       "      <th>created_at</th>\n",
       "    </tr>\n",
       "  </thead>\n",
       "  <tbody>\n",
       "    <tr>\n",
       "      <th>0</th>\n",
       "      <td>Palantir</td>\n",
       "      <td>stock</td>\n",
       "      <td>0.20</td>\n",
       "      <td>2024-10-01 07:09:31.294967+00:00</td>\n",
       "    </tr>\n",
       "    <tr>\n",
       "      <th>0</th>\n",
       "      <td>IBM</td>\n",
       "      <td>stock</td>\n",
       "      <td>0.15</td>\n",
       "      <td>2024-10-01 07:09:31.294967+00:00</td>\n",
       "    </tr>\n",
       "    <tr>\n",
       "      <th>0</th>\n",
       "      <td>C3.ai</td>\n",
       "      <td>stock</td>\n",
       "      <td>0.05</td>\n",
       "      <td>2024-10-01 07:09:31.294967+00:00</td>\n",
       "    </tr>\n",
       "  </tbody>\n",
       "</table>\n",
       "</div>"
      ],
      "text/plain": [
       "  asset_name asset_type  weight                       created_at\n",
       "0   Palantir      stock    0.20 2024-10-01 07:09:31.294967+00:00\n",
       "0        IBM      stock    0.15 2024-10-01 07:09:31.294967+00:00\n",
       "0      C3.ai      stock    0.05 2024-10-01 07:09:31.294967+00:00"
      ]
     },
     "execution_count": 91,
     "metadata": {},
     "output_type": "execute_result"
    }
   ],
   "source": [
    "import re \n",
    "pattern = r\"name='([^']+)' type='([^']+)'\"\n",
    "\n",
    "df_portfolio = pd.DataFrame()\n",
    "for k, v in operations.data.to_json_obj()[\"final_portfolio\"][\"allocation\"].items():\n",
    "    match = re.search(pattern, k)\n",
    "    df_portfolio = pd.concat([df_portfolio, pd.DataFrame({\"asset_name\": [match.group(1)], \"asset_type\": [match.group(2)], \"weight\": [v]})])\n",
    "df_portfolio[\"created_at\"] = datetime.datetime.now(datetime.UTC)\n",
    "#df_portfolio[\"stock_ticker\"] = None\n",
    "df_portfolio.head(3)"
   ]
  },
  {
   "cell_type": "code",
   "execution_count": 92,
   "metadata": {},
   "outputs": [],
   "source": [
    "def persist_portfolio(df: pd.DataFrame) -> int:\n",
    "    return df.to_sql(\"portfolio\", engine, if_exists=\"append\", index=False)\n",
    "    "
   ]
  },
  {
   "cell_type": "code",
   "execution_count": 93,
   "metadata": {},
   "outputs": [],
   "source": [
    "PERSIST = False\n",
    "\n",
    "if PERSIST:\n",
    "    persist_portfolio(df_final_portfolio)"
   ]
  },
  {
   "cell_type": "markdown",
   "metadata": {},
   "source": []
  }
 ],
 "metadata": {
  "kernelspec": {
   "display_name": ".venv",
   "language": "python",
   "name": "python3"
  },
  "language_info": {
   "codemirror_mode": {
    "name": "ipython",
    "version": 3
   },
   "file_extension": ".py",
   "mimetype": "text/x-python",
   "name": "python",
   "nbconvert_exporter": "python",
   "pygments_lexer": "ipython3",
   "version": "3.11.0"
  }
 },
 "nbformat": 4,
 "nbformat_minor": 2
}
