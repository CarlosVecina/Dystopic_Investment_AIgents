{
 "cells": [
  {
   "cell_type": "code",
   "execution_count": 19,
   "metadata": {},
   "outputs": [],
   "source": [
    "from dystopic_investment_aigents.agents.base_agents.analyst_base import AnalystAdal\n",
    "from adalflow.components.model_client import OpenAIClient\n",
    "\n",
    "\n",
    "analyst01 = AnalystAdal(\n",
    "    personality={\"mood\": \"optimistic\", \"risk_tolerance\": 0.5},\n",
    "    seniority=OpenAIClient(),\n",
    "    seniority_args= {\n",
    "        \"model\": \"gpt-4o-mini\",\n",
    "        \"temperature\": 0.0,\n",
    "    }\n",
    ")"
   ]
  },
  {
   "cell_type": "code",
   "execution_count": 2,
   "metadata": {},
   "outputs": [
    {
     "data": {
      "text/plain": [
       "AnalystAdal(personality=Personality(mood=<Mood.OPTIMISTIC: 'optimistic'>, risk_tolerance=0.5), toolset=None, seniority=OpenAIClient(), seniority_args={'model': 'gpt-4o-mini', 'temperature': 0.0}, news_feed=None, prices_feed=None)"
      ]
     },
     "execution_count": 2,
     "metadata": {},
     "output_type": "execute_result"
    }
   ],
   "source": [
    "analyst01"
   ]
  },
  {
   "cell_type": "code",
   "execution_count": 3,
   "metadata": {},
   "outputs": [
    {
     "name": "stdout",
     "output_type": "stream",
     "text": [
      "cache_path: C:\\Users\\Carlos\\AppData\\Roaming\\adalflow\\cache_OpenAIClient_gpt-4o-mini.db\n",
      "Prompt:\n",
      "______________________\n",
      "<START_OF_SYSTEM_PROMPT>\n",
      "You are a helpful analyst. Your task is to summarize the following text. If there is no extra instruction regarding lenght, do it in one or two sentences.\n",
      "Instructions:\n",
      "- Please, follow the input language for the output.\n",
      "- Do not add any information that is not present in the input.\n",
      "- Do not include your opinion or interpretation.\n",
      "- Utilize a optimistic tone.\n",
      "<END_OF_SYSTEM_PROMPT>\n",
      "<START_OF_USER_PROMPT>\n",
      "\n",
      "Venezuela entró este domingo en un territorio desconocido, lleno de incertidumbres, tras una jornada que ya ha pasado a la historia de la lucha por la democracia. El país democrático se lanzó a hacer cola, sabedor de que el 28-J no se trataba de una fiesta, sino de un ejercicio de resistencia contra el poder. Largas filas de ciudadanos dispuestos a permanecer de pie durante horas hasta ejercer su derecho, pese a las innumerables trampas de todo tipo que les ponía en su camino la revolución bolivariana.\n",
      "\n",
      "Para la Venezuela profunda, los estados (regiones) que empujaron la caravana de la libertad liderada por María Corina Machado, hasta los barrios más populares de Caracas, se trataba del ahora o nunca y así lo hicieron saber. \"Mi barrio cambió\", aseguró Kelly H., de 21 años, a EL MUNDO en el principal colegio electoral de El Valle, el barrio que acogió a Nicolás Maduro en su infancia, donde casi siempre se votó a la revolución. Hasta el domingo.\n",
      "\n",
      "Tanta euforia se tradujo en las exit polls, que daban como ganador al candidato opositor Edmundo González Urrutia por entre 20 y 35 puntos de ventaja, muy parecida a la que ya otorgaron durante toda la campaña las encuestadoras independientes al antiguo embajador en Argentina y Argelia, un hombre tan tranquilo que no parece ni caribeño. Edison Research, para The Wall Street Journal, vaticinó un triunfo para el diplomático: 64% a su favor frente al 31% de Maduro.\n",
      "\n",
      "Ninguna de estas encuestas se hizo pública en Venezuela, no así la de Hinterlaces pese a estar prohibido por la legislación. Esta empresa, propiedad de un asesor de Maduro, dio por ganador a su jefe sin ninguna credibilidad, pero agitó el avispero antes de tiempo. La oposición ya sabía que el plan de la revolución es cantar victoria, salvo sorpresa mayúscula, y esta falsa encuesta, como todas las que publicó durante la campaña, así lo confirmó.\n",
      "\n",
      "<END_OF_USER_PROMPT>\n",
      "\n",
      "cache_path: C:\\Users\\Carlos\\AppData\\Roaming\\adalflow\\cache_OpenAIClient_gpt-4o-mini.db\n"
     ]
    },
    {
     "name": "stdout",
     "output_type": "stream",
     "text": [
      "Venezuela ha vivido un momento histórico en su lucha por la democracia, con ciudadanos haciendo largas filas para ejercer su derecho al voto en un contexto de resistencia contra el poder. Las encuestas de salida indican una posible victoria del candidato opositor Edmundo González Urrutia, lo que genera un ambiente de esperanza y cambio en el país.\n"
     ]
    }
   ],
   "source": [
    "summary = analyst01.summarize(\"\"\"\n",
    "Venezuela entró este domingo en un territorio desconocido, lleno de incertidumbres, tras una jornada que ya ha pasado a la historia de la lucha por la democracia. El país democrático se lanzó a hacer cola, sabedor de que el 28-J no se trataba de una fiesta, sino de un ejercicio de resistencia contra el poder. Largas filas de ciudadanos dispuestos a permanecer de pie durante horas hasta ejercer su derecho, pese a las innumerables trampas de todo tipo que les ponía en su camino la revolución bolivariana.\n",
    "\n",
    "Para la Venezuela profunda, los estados (regiones) que empujaron la caravana de la libertad liderada por María Corina Machado, hasta los barrios más populares de Caracas, se trataba del ahora o nunca y así lo hicieron saber. \"Mi barrio cambió\", aseguró Kelly H., de 21 años, a EL MUNDO en el principal colegio electoral de El Valle, el barrio que acogió a Nicolás Maduro en su infancia, donde casi siempre se votó a la revolución. Hasta el domingo.\n",
    "\n",
    "Tanta euforia se tradujo en las exit polls, que daban como ganador al candidato opositor Edmundo González Urrutia por entre 20 y 35 puntos de ventaja, muy parecida a la que ya otorgaron durante toda la campaña las encuestadoras independientes al antiguo embajador en Argentina y Argelia, un hombre tan tranquilo que no parece ni caribeño. Edison Research, para The Wall Street Journal, vaticinó un triunfo para el diplomático: 64% a su favor frente al 31% de Maduro.\n",
    "\n",
    "Ninguna de estas encuestas se hizo pública en Venezuela, no así la de Hinterlaces pese a estar prohibido por la legislación. Esta empresa, propiedad de un asesor de Maduro, dio por ganador a su jefe sin ninguna credibilidad, pero agitó el avispero antes de tiempo. La oposición ya sabía que el plan de la revolución es cantar victoria, salvo sorpresa mayúscula, y esta falsa encuesta, como todas las que publicó durante la campaña, así lo confirmó.\n",
    "\"\"\")\n",
    "\n",
    "print(summary)"
   ]
  },
  {
   "cell_type": "markdown",
   "metadata": {},
   "source": [
    "## Fund Manager"
   ]
  },
  {
   "cell_type": "code",
   "execution_count": 4,
   "metadata": {},
   "outputs": [],
   "source": [
    "new_market_2024H1 = \"\"\"The S&P 500 Index (+3.6%) and NASDAQ Composite (+6.0%) closed June higher for the second straight month, notching their fifth monthly gain for 2024. Solid June gains in NVIDIA (+12.6%) and Apple (+9.6%) helped drive both indexes higher in the final month of the first half of the year. In the middle of June, NVIDIA surpassed Microsoft as the most valuable company on the planet. However, shares of the artificial intelligence chip maker quickly slumped by over 15% amid concerns its valuation had become stretched and the trade had become too crowded. Yet, by the end of the month, shares had recovered some of the lost ground as investors used the opportunity to buy shares. \n",
    "\n",
    "Importantly, the general momentum for stocks was higher in June and through much of the second quarter. As a result, by the end of the month, stock volatility had reached some of its lowest levels going back to January 2020. From a quarterly perspective, the S&P 500 closed out its third consecutive quarter of gains, finishing higher by +4.3% in Q2. Over the last three quarters, the Index is higher by over +27%, seeing its strongest three-quarter run since the second quarter of 2021. Notably, the S&P 500 is higher in six of the last seven quarters. \n",
    "\n",
    "“Should economic and profit growth continue to stay positive in the second half, we see a path higher for U.S. major stock averages, possibly including broader participation, which was lacking in the first half of the year.”\n",
    "\n",
    "Anthony Saglimbene - Chief Market Strategist, Ameriprise Financial\n",
    "\n",
    "As the second half of the year begins, concentrated stock returns, low volatility, and minimal trading volume leave the door open to increasing risk for stock prices should the soft-landing narrative see some unexpected turbulence through year-end. That said, fundamental conditions remain on firm footing, in our view. Should economic and profit growth continue to stay positive in the second half, we see a path higher for U.S. major stock averages, possibly including broader participation, which was lacking in the first half of the year.          \n",
    "\n",
    "Last week in review\n",
    "The S&P 500 ended at 5,460 after briefly touching 5,523 on Friday and hitting a new all-time intraday high.\n",
    "The core Personal Consumption Expenditures Price Index (the Federal Reserve’s preferred inflation measure) fell in May to its lowest level since March 2021. Several more months of cooling PCE prints will likely be needed to keep a September Federal Reserve rate cut on the table.\n",
    "May personal spending growth came in a bit weaker than expected, while personal income was a tad higher than forecast.\n",
    "June Consumer Confidence came in largely as expected, with one-year ahead inflation expectations ticking down slightly.\n",
    "President Biden’s poor debate performance on Thursday increased uncertainty about his ability to perform the rigorous duties of the U.S. Presidency over the next four years.     \n",
    "The first half in review\n",
    "Despite a narrowing rally in the second quarter, major U.S. stock averages finished the first half of the year broadly higher. Equity returns, at least for the S&P 500 Index and NASDAQ Composite, rivaled first half returns seen in the late 1990s. Yet nearly 60% of the S&P 500’s return in the first six months of the year can be attributed to just five mega-cap stocks (i.e., NVIDIA, Microsoft, Meta Platforms, Amazon, and Apple). In fact, that concentration of leading stocks has narrowed over recent months, with NVIDIA, Apple, and Microsoft driving 90% of the S&P 500’s return in the second quarter.\n",
    "\n",
    "Outside of clear, visible, and secular profit trends across a handful of companies, elevated interest rates, lingering services inflation, slowing growth concerns, and a Federal Reserve on pause have kept a lid on how high the rest of the market has been able to rise given current valuation levels. For instance, the S&P 500’s trailing price-to-earnings ratio ended the second quarter 44% above its 20-year average, mostly driven by mega-cap Technology stocks.\n",
    "\n",
    "Below is a bulleted view of the key market and economic factors that have driven markets so far this year:   \n",
    "\n",
    "The S&P 500 Index rose +15.3% in the first six months of the year, and the NASDAQ Composite rose +18.6%. An artificial intelligence boom helped drive a select group of Technology stocks higher in the first half, leading to +25% plus gains across Information Technology and Communication Services. Nevertheless, ten of eleven S&P 500 sectors finished the first half with gains. Real Estate was the sole S&P 500 sector to finish lower.\n",
    "The Dow Jones Industrials Average (+4.8%) and Russell 2000 Index (+1.7%) trailed significantly, as mixed economic and consumer trends and elevated interest rates weighed on sentiment.\n",
    "The 10-year U.S. Treasury yield increased 48 basis points in the first half to finish at 4.37%. Performance across major bond indexes was mixed. Falling expectations for the number of Federal Reserve rate cuts this year, and growing concerns about U.S. debt and deficit spending kept fixed income volatility elevated.  \n",
    "In the first quarter, the U.S. economy grew by +1.4%. The Atlanta Federal Reserve GDPNOW forecast suggests the domestic economy grew by +2.2% in the second quarter. The longer-term U.S. growth average is around +2.0%.\n",
    "Consumer spending (roughly 70% of the U.S. economy) was resilient throughout the first half. However, lower-income consumers continue to struggle under inflation pressures, while mid-to-higher-end consumers have become more discerning about how and where they spend.  \n",
    "The U.S. unemployment rate stood at 4.0% at the end of May, up from 3.7% at the end of December.\n",
    "The headline Consumer Price Index (CPI) flatlined on an annualized basis over the first five months of the year, ending May at +3.3%. Nevertheless, core CPI (ex-food and energy) dropped from an annualized level of +3.9% at the end of December to +3.4% by the end of May. Notably, May core CPI stood at its lowest level since August 2021. And when shelter is excluded, CPI stood at +1.9% in May, its lowest level since May 2021. Bottom line: Inflation across a host of measures showed slow but steady progress lower in the first half.\n",
    "S&P 500 earnings per share (EPS) grew by nearly +6.0% year-over-year in the first quarter, almost double what analysts projected at the end of March. In the second quarter, S&P 500 EPS is expected to grow by over +8.0% year-over-year. While earnings growth in the first quarter was largely concentrated across a handful of mega-cap technology companies, an increasing number of companies and industries are expected to see positive profit growth in the second quarter.\n",
    "Gold rose nearly +13.0% in the first half, while West Texas Intermediate (WTI) crude jumped almost +14%.\n",
    "The U.S. Dollar Index remained strong, with the dollar advancing +4.5% against a basket of developed world currencies.   \n",
    "\"\"\""
   ]
  },
  {
   "cell_type": "code",
   "execution_count": 5,
   "metadata": {},
   "outputs": [
    {
     "name": "stdout",
     "output_type": "stream",
     "text": [
      "cache_path: C:\\Users\\Carlos\\AppData\\Roaming\\adalflow\\cache_OpenAIClient_gpt-4o-mini.db\n",
      "cache_path: C:\\Users\\Carlos\\AppData\\Roaming\\adalflow\\cache_OpenAIClient_gpt-4o-mini.db\n",
      "Prompt:\n",
      "______________________\n",
      "<START_OF_SYSTEM_PROMPT>\n",
      "You are a helpful analyst. Your task is to summarize the following text. If there is no extra instruction regarding lenght, do it in one or two sentences.\n",
      "Instructions:\n",
      "- Please, follow the input language for the output.\n",
      "- Do not add any information that is not present in the input.\n",
      "- Do not include your opinion or interpretation.\n",
      "- Utilize a optimistic tone.\n",
      "- Focus on the key points of the first half of the year and its performance.\n",
      "- Do it in 4 paragraphs.\n",
      "<END_OF_SYSTEM_PROMPT>\n",
      "<START_OF_USER_PROMPT>\n",
      "The S&P 500 Index (+3.6%) and NASDAQ Composite (+6.0%) closed June higher for the second straight month, notching their fifth monthly gain for 2024. Solid June gains in NVIDIA (+12.6%) and Apple (+9.6%) helped drive both indexes higher in the final month of the first half of the year. In the middle of June, NVIDIA surpassed Microsoft as the most valuable company on the planet. However, shares of the artificial intelligence chip maker quickly slumped by over 15% amid concerns its valuation had become stretched and the trade had become too crowded. Yet, by the end of the month, shares had recovered some of the lost ground as investors used the opportunity to buy shares. \n",
      "\n",
      "Importantly, the general momentum for stocks was higher in June and through much of the second quarter. As a result, by the end of the month, stock volatility had reached some of its lowest levels going back to January 2020. From a quarterly perspective, the S&P 500 closed out its third consecutive quarter of gains, finishing higher by +4.3% in Q2. Over the last three quarters, the Index is higher by over +27%, seeing its strongest three-quarter run since the second quarter of 2021. Notably, the S&P 500 is higher in six of the last seven quarters. \n",
      "\n",
      "“Should economic and profit growth continue to stay positive in the second half, we see a path higher for U.S. major stock averages, possibly including broader participation, which was lacking in the first half of the year.”\n",
      "\n",
      "Anthony Saglimbene - Chief Market Strategist, Ameriprise Financial\n",
      "\n",
      "As the second half of the year begins, concentrated stock returns, low volatility, and minimal trading volume leave the door open to increasing risk for stock prices should the soft-landing narrative see some unexpected turbulence through year-end. That said, fundamental conditions remain on firm footing, in our view. Should economic and profit growth continue to stay positive in the second half, we see a path higher for U.S. major stock averages, possibly including broader participation, which was lacking in the first half of the year.          \n",
      "\n",
      "Last week in review\n",
      "The S&P 500 ended at 5,460 after briefly touching 5,523 on Friday and hitting a new all-time intraday high.\n",
      "The core Personal Consumption Expenditures Price Index (the Federal Reserve’s preferred inflation measure) fell in May to its lowest level since March 2021. Several more months of cooling PCE prints will likely be needed to keep a September Federal Reserve rate cut on the table.\n",
      "May personal spending growth came in a bit weaker than expected, while personal income was a tad higher than forecast.\n",
      "June Consumer Confidence came in largely as expected, with one-year ahead inflation expectations ticking down slightly.\n",
      "President Biden’s poor debate performance on Thursday increased uncertainty about his ability to perform the rigorous duties of the U.S. Presidency over the next four years.     \n",
      "The first half in review\n",
      "Despite a narrowing rally in the second quarter, major U.S. stock averages finished the first half of the year broadly higher. Equity returns, at least for the S&P 500 Index and NASDAQ Composite, rivaled first half returns seen in the late 1990s. Yet nearly 60% of the S&P 500’s return in the first six months of the year can be attributed to just five mega-cap stocks (i.e., NVIDIA, Microsoft, Meta Platforms, Amazon, and Apple). In fact, that concentration of leading stocks has narrowed over recent months, with NVIDIA, Apple, and Microsoft driving 90% of the S&P 500’s return in the second quarter.\n",
      "\n",
      "Outside of clear, visible, and secular profit trends across a handful of companies, elevated interest rates, lingering services inflation, slowing growth concerns, and a Federal Reserve on pause have kept a lid on how high the rest of the market has been able to rise given current valuation levels. For instance, the S&P 500’s trailing price-to-earnings ratio ended the second quarter 44% above its 20-year average, mostly driven by mega-cap Technology stocks.\n",
      "\n",
      "Below is a bulleted view of the key market and economic factors that have driven markets so far this year:   \n",
      "\n",
      "The S&P 500 Index rose +15.3% in the first six months of the year, and the NASDAQ Composite rose +18.6%. An artificial intelligence boom helped drive a select group of Technology stocks higher in the first half, leading to +25% plus gains across Information Technology and Communication Services. Nevertheless, ten of eleven S&P 500 sectors finished the first half with gains. Real Estate was the sole S&P 500 sector to finish lower.\n",
      "The Dow Jones Industrials Average (+4.8%) and Russell 2000 Index (+1.7%) trailed significantly, as mixed economic and consumer trends and elevated interest rates weighed on sentiment.\n",
      "The 10-year U.S. Treasury yield increased 48 basis points in the first half to finish at 4.37%. Performance across major bond indexes was mixed. Falling expectations for the number of Federal Reserve rate cuts this year, and growing concerns about U.S. debt and deficit spending kept fixed income volatility elevated.  \n",
      "In the first quarter, the U.S. economy grew by +1.4%. The Atlanta Federal Reserve GDPNOW forecast suggests the domestic economy grew by +2.2% in the second quarter. The longer-term U.S. growth average is around +2.0%.\n",
      "Consumer spending (roughly 70% of the U.S. economy) was resilient throughout the first half. However, lower-income consumers continue to struggle under inflation pressures, while mid-to-higher-end consumers have become more discerning about how and where they spend.  \n",
      "The U.S. unemployment rate stood at 4.0% at the end of May, up from 3.7% at the end of December.\n",
      "The headline Consumer Price Index (CPI) flatlined on an annualized basis over the first five months of the year, ending May at +3.3%. Nevertheless, core CPI (ex-food and energy) dropped from an annualized level of +3.9% at the end of December to +3.4% by the end of May. Notably, May core CPI stood at its lowest level since August 2021. And when shelter is excluded, CPI stood at +1.9% in May, its lowest level since May 2021. Bottom line: Inflation across a host of measures showed slow but steady progress lower in the first half.\n",
      "S&P 500 earnings per share (EPS) grew by nearly +6.0% year-over-year in the first quarter, almost double what analysts projected at the end of March. In the second quarter, S&P 500 EPS is expected to grow by over +8.0% year-over-year. While earnings growth in the first quarter was largely concentrated across a handful of mega-cap technology companies, an increasing number of companies and industries are expected to see positive profit growth in the second quarter.\n",
      "Gold rose nearly +13.0% in the first half, while West Texas Intermediate (WTI) crude jumped almost +14%.\n",
      "The U.S. Dollar Index remained strong, with the dollar advancing +4.5% against a basket of developed world currencies.   \n",
      "\n",
      "<END_OF_USER_PROMPT>\n",
      "\n",
      "cache_path: C:\\Users\\Carlos\\AppData\\Roaming\\adalflow\\cache_OpenAIClient_gpt-4o-mini.db\n"
     ]
    }
   ],
   "source": [
    "summary_market_2024H1 = analyst01.summarize(\n",
    "    new_market_2024H1,\n",
    "    extra_instructions=[\n",
    "        \"Focus on the key points of the first half of the year and its performance.\",\n",
    "        \"Do it in 4 paragraphs.\",\n",
    "    ],\n",
    ")"
   ]
  },
  {
   "cell_type": "code",
   "execution_count": 6,
   "metadata": {},
   "outputs": [
    {
     "name": "stdout",
     "output_type": "stream",
     "text": [
      "The S&P 500 Index and NASDAQ Composite both experienced positive momentum in June, closing higher for the second consecutive month and marking their fifth monthly gain for 2024, with notable contributions from NVIDIA and Apple. The S&P 500 achieved a remarkable +4.3% increase in Q2, leading to a total gain of over +27% across the last three quarters, showcasing its strongest performance since 2021.\n",
      "\n",
      "As the second half of the year begins, there is optimism for continued economic and profit growth, which could lead to broader participation in stock market gains, despite some risks associated with concentrated stock returns and low volatility. The first half of the year saw major U.S. stock averages rise significantly, with the S&P 500 and NASDAQ Composite achieving returns reminiscent of the late 1990s, largely driven by a few mega-cap stocks.\n",
      "\n",
      "The overall market performance was buoyed by a strong artificial intelligence boom, with the Information Technology and Communication Services sectors seeing impressive gains. Despite challenges such as elevated interest rates and inflation pressures, ten out of eleven S&P 500 sectors finished the first half with gains, indicating a resilient market environment.\n",
      "\n",
      "Key economic indicators showed steady progress, with consumer spending remaining robust and inflation gradually declining. The S&P 500's earnings per share also demonstrated positive growth, suggesting a bright outlook for the second half of the year as more companies are expected to report favorable profit results.\n"
     ]
    }
   ],
   "source": [
    "print(summary_market_2024H1)"
   ]
  },
  {
   "cell_type": "code",
   "execution_count": 7,
   "metadata": {},
   "outputs": [],
   "source": [
    "from dystopic_investment_aigents.agents.base_agents.fund_manager_base import FundManagerAdal\n",
    "from adalflow.components.model_client import OpenAIClient\n",
    "\n",
    "\n",
    "the_boss = FundManagerAdal(\n",
    "    personality={\"mood\": \"optimistic\", \"risk_tolerance\": 0.5},\n",
    "    seniority=OpenAIClient(),\n",
    "    seniority_args= {\n",
    "        \"model\": \"gpt-4o-mini\",\n",
    "        \"temperature\": 0.0,\n",
    "    }\n",
    ")"
   ]
  },
  {
   "cell_type": "code",
   "execution_count": 8,
   "metadata": {},
   "outputs": [
    {
     "name": "stdout",
     "output_type": "stream",
     "text": [
      "cache_path: C:\\Users\\Carlos\\AppData\\Roaming\\adalflow\\cache_OpenAIClient_gpt-4o-mini.db\n",
      "Prompt:\n",
      "______________________\n",
      "<START_OF_SYSTEM_PROMPT>\n",
      "\n",
      "                You are a Fund Manager for a dystopic fund. Your task is to select the industries that will succeed in a dystopic future as the one\n",
      "                is pictured by Orwell in 1984. Include other dystopic general themes like defense and surveillance.\n",
      "                - Utilize a optimistic tone for the narrative. \n",
      "                \n",
      "<OUTPUT_FORMAT>\n",
      "Your output should be formatted as a standard JSON instance with the following schema:\n",
      "```\n",
      "{\n",
      "    \"industries\": \"A list of different unique industries with thematic names as the dystopic future. (List[str]) (required)\",\n",
      "    \"real_industries\": \"The same list of industries, but each one should fit in current market industries like: 'Tech', 'Health', 'Finance', etc. (List[str]) (required)\",\n",
      "    \"weights\": \"A list of weights between 0 and 1. The lenght should be the same from the industries field. (List[Annotated]) (required)\",\n",
      "    \"narrative\": \"A open text field for the narrative of why selecting those industries and weights. (str) (required)\"\n",
      "}\n",
      "```\n",
      "-Make sure to always enclose the JSON output in triple backticks (```). Please do not add anything other than valid JSON output!\n",
      "-Use double quotes for the keys and string values.\n",
      "-DO NOT mistaken the \"properties\" and \"type\" in the schema as the actual fields in the JSON output.\n",
      "-Follow the JSON formatting conventions.\n",
      "</OUTPUT_FORMAT>\n",
      "<END_OF_SYSTEM_PROMPT>\n",
      "<START_OF_USER_PROMPT>\n",
      "Here it is some extra context information summary: The S&P 500 Index and NASDAQ Composite both experienced positive momentum in June, closing higher for the second consecutive month and marking their fifth monthly gain for 2024, with notable contributions from NVIDIA and Apple. The S&P 500 achieved a remarkable +4.3% increase in Q2, leading to a total gain of over +27% across the last three quarters, showcasing its strongest performance since 2021.\n",
      "\n",
      "As the second half of the year begins, there is optimism for continued economic and profit growth, which could lead to broader participation in stock market gains, despite some risks associated with concentrated stock returns and low volatility. The first half of the year saw major U.S. stock averages rise significantly, with the S&P 500 and NASDAQ Composite achieving returns reminiscent of the late 1990s, largely driven by a few mega-cap stocks.\n",
      "\n",
      "The overall market performance was buoyed by a strong artificial intelligence boom, with the Information Technology and Communication Services sectors seeing impressive gains. Despite challenges such as elevated interest rates and inflation pressures, ten out of eleven S&P 500 sectors finished the first half with gains, indicating a resilient market environment.\n",
      "\n",
      "Key economic indicators showed steady progress, with consumer spending remaining robust and inflation gradually declining. The S&P 500's earnings per share also demonstrated positive growth, suggesting a bright outlook for the second half of the year as more companies are expected to report favorable profit results. \n",
      "<END_OF_USER_PROMPT>\n",
      "\n",
      "cache_path: C:\\Users\\Carlos\\AppData\\Roaming\\adalflow\\cache_OpenAIClient_gpt-4o-mini.db\n"
     ]
    }
   ],
   "source": [
    "fund_directive = the_boss.create_directive(context_summary=summary_market_2024H1)"
   ]
  },
  {
   "cell_type": "code",
   "execution_count": 9,
   "metadata": {},
   "outputs": [],
   "source": [
    "#fund_directive = the_boss.create_directive()"
   ]
  },
  {
   "cell_type": "code",
   "execution_count": 10,
   "metadata": {},
   "outputs": [
    {
     "data": {
      "text/plain": [
       "['Surveillance Technology',\n",
       " 'Defense Automation',\n",
       " 'Information Control Systems',\n",
       " 'Biometric Security Solutions',\n",
       " 'Resource Management and Allocation']"
      ]
     },
     "execution_count": 10,
     "metadata": {},
     "output_type": "execute_result"
    }
   ],
   "source": [
    "fund_directive.data.industries"
   ]
  },
  {
   "cell_type": "code",
   "execution_count": 11,
   "metadata": {},
   "outputs": [
    {
     "data": {
      "text/plain": [
       "['Tech', 'Defense', 'Cybersecurity', 'Health Tech', 'Logistics']"
      ]
     },
     "execution_count": 11,
     "metadata": {},
     "output_type": "execute_result"
    }
   ],
   "source": [
    "fund_directive.data.real_industries"
   ]
  },
  {
   "cell_type": "code",
   "execution_count": 12,
   "metadata": {},
   "outputs": [
    {
     "data": {
      "text/plain": [
       "[0.25, 0.25, 0.2, 0.15, 0.15]"
      ]
     },
     "execution_count": 12,
     "metadata": {},
     "output_type": "execute_result"
    }
   ],
   "source": [
    "fund_directive.data.weights"
   ]
  },
  {
   "cell_type": "code",
   "execution_count": 13,
   "metadata": {},
   "outputs": [
    {
     "name": "stdout",
     "output_type": "stream",
     "text": [
      "In a dystopic future reminiscent of Orwell's 1984, the demand for industries that enhance control, security, and resource management will be paramount. Surveillance Technology will thrive as governments and corporations seek to monitor and manage populations effectively, making it a cornerstone of our portfolio. Defense Automation will see significant growth as nations invest in advanced military technologies to maintain order and security. Information Control Systems will be essential for managing the flow of information, ensuring that narratives align with state interests. Biometric Security Solutions will become increasingly important as societies prioritize identity verification and access control. Lastly, Resource Management and Allocation will be critical in a world where scarcity and efficiency dictate survival. The weights reflect a balanced approach, emphasizing the most critical areas while allowing for diversification within the overarching theme of control and security.\n"
     ]
    }
   ],
   "source": [
    "print(fund_directive.data.narrative)"
   ]
  },
  {
   "cell_type": "code",
   "execution_count": 14,
   "metadata": {},
   "outputs": [
    {
     "data": {
      "text/plain": [
       "FundDirectives(industries=['Surveillance Technology', 'Defense Automation', 'Information Control Systems', 'Biometric Security Solutions', 'Resource Management and Allocation'], real_industries=['Tech', 'Defense', 'Cybersecurity', 'Health Tech', 'Logistics'], weights=[0.25, 0.25, 0.2, 0.15, 0.15], narrative=\"In a dystopic future reminiscent of Orwell's 1984, the demand for industries that enhance control, security, and resource management will be paramount. Surveillance Technology will thrive as governments and corporations seek to monitor and manage populations effectively, making it a cornerstone of our portfolio. Defense Automation will see significant growth as nations invest in advanced military technologies to maintain order and security. Information Control Systems will be essential for managing the flow of information, ensuring that narratives align with state interests. Biometric Security Solutions will become increasingly important as societies prioritize identity verification and access control. Lastly, Resource Management and Allocation will be critical in a world where scarcity and efficiency dictate survival. The weights reflect a balanced approach, emphasizing the most critical areas while allowing for diversification within the overarching theme of control and security.\")"
      ]
     },
     "execution_count": 14,
     "metadata": {},
     "output_type": "execute_result"
    }
   ],
   "source": [
    "fund_directive.data"
   ]
  },
  {
   "cell_type": "markdown",
   "metadata": {},
   "source": [
    "## Quant Trader Naive"
   ]
  },
  {
   "cell_type": "code",
   "execution_count": 15,
   "metadata": {},
   "outputs": [],
   "source": [
    "import datetime\n",
    "import json\n",
    "from adalflow.components.model_client import OpenAIClient\n",
    "\n",
    "from dystopic_investment_aigents.agents.base_agents.fund_manager_base import FundDirective\n",
    "from dystopic_investment_aigents.agents.base_agents.quant_trader_base import QuantTraderNaiveAdal\n",
    "\n",
    "\n",
    "trader = QuantTraderNaiveAdal(\n",
    "    personality={\"mood\": \"optimistic\", \"risk_tolerance\": 0.5},\n",
    "    seniority=OpenAIClient(),\n",
    "    seniority_args= {\n",
    "        \"model\": \"gpt-4o-mini\",\n",
    "        \"temperature\": 0.9,\n",
    "    }\n",
    ")"
   ]
  },
  {
   "cell_type": "code",
   "execution_count": 16,
   "metadata": {},
   "outputs": [],
   "source": [
    "#json.dump(fund_directive.to_json_obj(), open(\"fund_directive.json\", \"w\"))\n",
    "fund_directive = FundDirective.from_dict(json.load(open(\"fund_directive.json\"))[\"data\"])"
   ]
  },
  {
   "cell_type": "code",
   "execution_count": 17,
   "metadata": {},
   "outputs": [
    {
     "data": {
      "text/plain": [
       "{'Tech': 0.2, 'Defense': 0.2, 'Consulting': 0.15}"
      ]
     },
     "execution_count": 17,
     "metadata": {},
     "output_type": "execute_result"
    }
   ],
   "source": [
    "dict(zip(fund_directive.real_industries, fund_directive.weights))"
   ]
  },
  {
   "cell_type": "code",
   "execution_count": 1,
   "metadata": {},
   "outputs": [
    {
     "data": {
      "text/plain": [
       "Portfolio(allocation={Asset(name='IBM', type='stock'): 0.15, Asset(name='Palantir', type='stock'): 0.2, Asset(name='Ford Motor Company', type='stock'): 0.05, Asset(name='Oatly Group AB', type='stock'): 0.05, Asset(name='Corteva, Inc.', type='stock'): 0.05, Asset(name='VeriSign, Inc.', type='stock'): 0.05, Asset(name='Adyen N.V.', type='stock'): 0.05, Asset(name='Beyond Meat, Inc.', type='stock'): 0.05, Asset(name='Altria Group, Inc.', type='stock'): 0.03, Asset(name='The Mosaic Company', type='stock'): 0.035, Asset(name='Caterpillar Inc.', type='stock'): 0.055, Asset(name='NextEra Energy', type='stock'): 0.1, Asset(name='Philip Morris International Inc.', type='stock'): 0.03, Asset(name='Tractor Supply Company', type='stock'): 0.035, Asset(name='GrainCorp Limited', type='stock'): 0.035, Asset(name='C3.ai', type='stock'): 0.05})"
      ]
     },
     "execution_count": 1,
     "metadata": {},
     "output_type": "execute_result"
    }
   ],
   "source": [
    "# With previous portfolio\n",
    "import os\n",
    "from dotenv import load_dotenv\n",
    "from sqlalchemy import create_engine\n",
    "import pandas as pd\n",
    "\n",
    "from dystopic_investment_aigents.data_ingestion.db.postgres_db import PostgresConfig\n",
    "from dystopic_investment_aigents.agents.base_agents.quant_trader_base import Asset\n",
    "from dystopic_investment_aigents.agents.base_agents.quant_trader_base import Portfolio\n",
    "\n",
    "\n",
    "load_dotenv()\n",
    "\n",
    "db_uri = PostgresConfig(\n",
    "    host=os.environ[\"SB_DDBB_HOST\"],\n",
    "    port=os.environ[\"SB_DDBB_PORT\"],\n",
    "    database=os.environ[\"SB_DDBB_DATABASE\"],\n",
    "    user=os.environ[\"SB_DDBB_USER\"],\n",
    "    password=os.environ[\"SB_DDBB_PWD\"]\n",
    ").get_connection_string()\n",
    "\n",
    "engine = create_engine(db_uri)\n",
    "df_current_portfolio = pd.read_sql(\"SELECT * FROM portfolio WHERE created_at = (SELECT max(created_at) FROM portfolio)\", engine)\n",
    "\n",
    "current_portfolio_assets = [Asset(name=n, type=t) for n, t in  zip(df_current_portfolio[\"asset_name\"], df_current_portfolio[\"asset_type\"])]\n",
    "current_portfolio = Portfolio(allocation=dict(zip(current_portfolio_assets, df_current_portfolio[\"weight\"])))\n",
    "current_portfolio"
   ]
  },
  {
   "cell_type": "code",
   "execution_count": null,
   "metadata": {},
   "outputs": [],
   "source": [
    "operations = trader.operate(available_assets=\"\", fund_directive=fund_directive, past_portfolio=current_portfolio)"
   ]
  },
  {
   "cell_type": "code",
   "execution_count": 22,
   "metadata": {},
   "outputs": [],
   "source": [
    "# Without precious portfolio\n",
    "#operations = trader.operate(available_assets=\"\", fund_directive=fund_directive)"
   ]
  },
  {
   "cell_type": "code",
   "execution_count": 23,
   "metadata": {},
   "outputs": [
    {
     "data": {
      "text/plain": [
       "{'industries': ['Surveillance Technology',\n",
       "  'Defense Automation',\n",
       "  'Information Control Systems',\n",
       "  'Biometric Security Solutions',\n",
       "  'Psychological Manipulation Services'],\n",
       " 'real_industries': ['Tech', 'Defense', 'Tech', 'Tech', 'Consulting'],\n",
       " 'weights': [0.25, 0.2, 0.2, 0.2, 0.15],\n",
       " 'narrative': \"In a dystopic future reminiscent of Orwell's 1984, the industries that will thrive are those that cater to the needs of a society focused on control, security, and information dominance. Surveillance Technology leads the charge, as governments and corporations invest heavily in monitoring citizens to maintain order and compliance. Defense Automation follows closely, ensuring that military capabilities are enhanced through advanced robotics and AI, providing a sense of security in an uncertain world. Information Control Systems will be crucial for managing the flow of data and propaganda, allowing those in power to shape narratives and influence public perception. Biometric Security Solutions will become essential for identity verification and access control, ensuring that only the 'approved' individuals can navigate society. Lastly, Psychological Manipulation Services will emerge as a unique industry, focusing on influencing thoughts and behaviors through targeted messaging and social engineering. The weights reflect the anticipated growth and importance of each industry, with Surveillance Technology taking the lead as the backbone of a controlled society.\"}"
      ]
     },
     "execution_count": 23,
     "metadata": {},
     "output_type": "execute_result"
    }
   ],
   "source": [
    "fund_directive.to_json_obj()"
   ]
  },
  {
   "cell_type": "code",
   "execution_count": 40,
   "metadata": {},
   "outputs": [
    {
     "data": {
      "text/plain": [
       "{Asset(name='IBM', type='stock'): 0.15,\n",
       " Asset(name='Palantir', type='stock'): 0.2,\n",
       " Asset(name='Ford Motor Company', type='stock'): 0.05,\n",
       " Asset(name='Oatly Group AB', type='stock'): 0.05,\n",
       " Asset(name='Corteva, Inc.', type='stock'): 0.05,\n",
       " Asset(name='VeriSign, Inc.', type='stock'): 0.05,\n",
       " Asset(name='Adyen N.V.', type='stock'): 0.05,\n",
       " Asset(name='Beyond Meat, Inc.', type='stock'): 0.05,\n",
       " Asset(name='Altria Group, Inc.', type='stock'): 0.03,\n",
       " Asset(name='The Mosaic Company', type='stock'): 0.035,\n",
       " Asset(name='Caterpillar Inc.', type='stock'): 0.055,\n",
       " Asset(name='NextEra Energy', type='stock'): 0.1,\n",
       " Asset(name='Philip Morris International Inc.', type='stock'): 0.03,\n",
       " Asset(name='Tractor Supply Company', type='stock'): 0.035,\n",
       " Asset(name='GrainCorp Limited', type='stock'): 0.035,\n",
       " Asset(name='C3.ai', type='stock'): 0.05}"
      ]
     },
     "execution_count": 40,
     "metadata": {},
     "output_type": "execute_result"
    }
   ],
   "source": [
    "current_portfolio.allocation\n"
   ]
  },
  {
   "cell_type": "code",
   "execution_count": 41,
   "metadata": {},
   "outputs": [
    {
     "data": {
      "text/plain": [
       "1.02"
      ]
     },
     "execution_count": 41,
     "metadata": {},
     "output_type": "execute_result"
    }
   ],
   "source": [
    "import numpy as np\n",
    "np.sum(list(current_portfolio.allocation.values()))"
   ]
  },
  {
   "cell_type": "code",
   "execution_count": 24,
   "metadata": {},
   "outputs": [
    {
     "data": {
      "text/plain": [
       "{'allocation': {\"name='Palantir' type='stock'\": 0.2,\n",
       "  \"name='IBM' type='stock'\": 0.15,\n",
       "  \"name='C3.ai' type='stock'\": 0.05,\n",
       "  \"name='VeriSign, Inc.' type='stock'\": 0.05,\n",
       "  \"name='Ciber Global, Inc.' type='stock'\": 0.05,\n",
       "  \"name='Cognizant Technology Solutions Corporation' type='stock'\": 0.1,\n",
       "  \"name='Anduril Industries' type='stock'\": 0.1,\n",
       "  \"name='Northrop Grumman Corporation' type='stock'\": 0.1,\n",
       "  \"name='L3Harris Technologies, Inc.' type='stock'\": 0.1,\n",
       "  \"name='Thales Group' type='stock'\": 0.05}}"
      ]
     },
     "execution_count": 24,
     "metadata": {},
     "output_type": "execute_result"
    }
   ],
   "source": [
    "operations.data.final_portfolio"
   ]
  },
  {
   "cell_type": "code",
   "execution_count": 38,
   "metadata": {},
   "outputs": [
    {
     "data": {
      "text/plain": [
       "0.9500000000000001"
      ]
     },
     "execution_count": 38,
     "metadata": {},
     "output_type": "execute_result"
    }
   ],
   "source": [
    "np.sum(list(operations.data.final_portfolio[\"allocation\"].values()))"
   ]
  },
  {
   "cell_type": "code",
   "execution_count": 50,
   "metadata": {},
   "outputs": [
    {
     "data": {
      "text/plain": [
       "dict_items([(\"name='Palantir' type='stock'\", 0.2), (\"name='IBM' type='stock'\", 0.15), (\"name='C3.ai' type='stock'\", 0.05), (\"name='VeriSign, Inc.' type='stock'\", 0.05), (\"name='Ciber Global, Inc.' type='stock'\", 0.05), (\"name='Cognizant Technology Solutions Corporation' type='stock'\", 0.1), (\"name='Anduril Industries' type='stock'\", 0.1), (\"name='Northrop Grumman Corporation' type='stock'\", 0.1), (\"name='L3Harris Technologies, Inc.' type='stock'\", 0.1), (\"name='Thales Group' type='stock'\", 0.05)])"
      ]
     },
     "execution_count": 50,
     "metadata": {},
     "output_type": "execute_result"
    }
   ],
   "source": [
    "operations.data.final_portfolio[\"allocation\"].items()"
   ]
  },
  {
   "cell_type": "code",
   "execution_count": 87,
   "metadata": {},
   "outputs": [
    {
     "data": {
      "text/html": [
       "<div>\n",
       "<style scoped>\n",
       "    .dataframe tbody tr th:only-of-type {\n",
       "        vertical-align: middle;\n",
       "    }\n",
       "\n",
       "    .dataframe tbody tr th {\n",
       "        vertical-align: top;\n",
       "    }\n",
       "\n",
       "    .dataframe thead th {\n",
       "        text-align: right;\n",
       "    }\n",
       "</style>\n",
       "<table border=\"1\" class=\"dataframe\">\n",
       "  <thead>\n",
       "    <tr style=\"text-align: right;\">\n",
       "      <th></th>\n",
       "      <th>asset_name</th>\n",
       "      <th>asset_type</th>\n",
       "      <th>weight</th>\n",
       "    </tr>\n",
       "  </thead>\n",
       "  <tbody>\n",
       "    <tr>\n",
       "      <th>0</th>\n",
       "      <td>Palantir</td>\n",
       "      <td>stock</td>\n",
       "      <td>0.20</td>\n",
       "    </tr>\n",
       "    <tr>\n",
       "      <th>1</th>\n",
       "      <td>IBM</td>\n",
       "      <td>stock</td>\n",
       "      <td>0.15</td>\n",
       "    </tr>\n",
       "    <tr>\n",
       "      <th>2</th>\n",
       "      <td>C3.ai</td>\n",
       "      <td>stock</td>\n",
       "      <td>0.05</td>\n",
       "    </tr>\n",
       "    <tr>\n",
       "      <th>3</th>\n",
       "      <td>VeriSign, Inc.</td>\n",
       "      <td>stock</td>\n",
       "      <td>0.05</td>\n",
       "    </tr>\n",
       "    <tr>\n",
       "      <th>4</th>\n",
       "      <td>Ciber Global, Inc.</td>\n",
       "      <td>stock</td>\n",
       "      <td>0.05</td>\n",
       "    </tr>\n",
       "    <tr>\n",
       "      <th>5</th>\n",
       "      <td>Cognizant Technology Solutions Corporation</td>\n",
       "      <td>stock</td>\n",
       "      <td>0.10</td>\n",
       "    </tr>\n",
       "    <tr>\n",
       "      <th>6</th>\n",
       "      <td>Anduril Industries</td>\n",
       "      <td>stock</td>\n",
       "      <td>0.10</td>\n",
       "    </tr>\n",
       "    <tr>\n",
       "      <th>7</th>\n",
       "      <td>Northrop Grumman Corporation</td>\n",
       "      <td>stock</td>\n",
       "      <td>0.10</td>\n",
       "    </tr>\n",
       "    <tr>\n",
       "      <th>8</th>\n",
       "      <td>L3Harris Technologies, Inc.</td>\n",
       "      <td>stock</td>\n",
       "      <td>0.10</td>\n",
       "    </tr>\n",
       "    <tr>\n",
       "      <th>9</th>\n",
       "      <td>Thales Group</td>\n",
       "      <td>stock</td>\n",
       "      <td>0.05</td>\n",
       "    </tr>\n",
       "  </tbody>\n",
       "</table>\n",
       "</div>"
      ],
      "text/plain": [
       "                                   asset_name asset_type  weight\n",
       "0                                    Palantir      stock    0.20\n",
       "1                                         IBM      stock    0.15\n",
       "2                                       C3.ai      stock    0.05\n",
       "3                              VeriSign, Inc.      stock    0.05\n",
       "4                          Ciber Global, Inc.      stock    0.05\n",
       "5  Cognizant Technology Solutions Corporation      stock    0.10\n",
       "6                          Anduril Industries      stock    0.10\n",
       "7                Northrop Grumman Corporation      stock    0.10\n",
       "8                 L3Harris Technologies, Inc.      stock    0.10\n",
       "9                                Thales Group      stock    0.05"
      ]
     },
     "execution_count": 87,
     "metadata": {},
     "output_type": "execute_result"
    }
   ],
   "source": [
    "df_final_portfolio = operations.data.final_portfolio.to_df()\n",
    "df_final_portfolio"
   ]
  },
  {
   "cell_type": "markdown",
   "metadata": {},
   "source": [
    "## Portfolio N sized"
   ]
  },
  {
   "cell_type": "code",
   "execution_count": 88,
   "metadata": {},
   "outputs": [],
   "source": [
    "def rebalance_portfolio(portfolio: pd.DataFrame, top_k: int) -> pd.DataFrame:\n",
    "    df_reduced_portfolio = portfolio.head(top_k)\n",
    "    df_reduced_portfolio[\"weight\"] = round(df_reduced_portfolio[\"weight\"] / df_reduced_portfolio.head(top_k)[\"weight\"].sum(), 2)\n",
    "    df_reduced_portfolio.sort_values(\"weight\", ascending=False, inplace=True)\n",
    "    return df_reduced_portfolio"
   ]
  },
  {
   "cell_type": "code",
   "execution_count": 89,
   "metadata": {},
   "outputs": [
    {
     "data": {
      "text/html": [
       "<div>\n",
       "<style scoped>\n",
       "    .dataframe tbody tr th:only-of-type {\n",
       "        vertical-align: middle;\n",
       "    }\n",
       "\n",
       "    .dataframe tbody tr th {\n",
       "        vertical-align: top;\n",
       "    }\n",
       "\n",
       "    .dataframe thead th {\n",
       "        text-align: right;\n",
       "    }\n",
       "</style>\n",
       "<table border=\"1\" class=\"dataframe\">\n",
       "  <thead>\n",
       "    <tr style=\"text-align: right;\">\n",
       "      <th></th>\n",
       "      <th>asset_name</th>\n",
       "      <th>asset_type</th>\n",
       "      <th>weight</th>\n",
       "    </tr>\n",
       "  </thead>\n",
       "  <tbody>\n",
       "    <tr>\n",
       "      <th>0</th>\n",
       "      <td>Palantir</td>\n",
       "      <td>stock</td>\n",
       "      <td>0.21</td>\n",
       "    </tr>\n",
       "    <tr>\n",
       "      <th>1</th>\n",
       "      <td>IBM</td>\n",
       "      <td>stock</td>\n",
       "      <td>0.16</td>\n",
       "    </tr>\n",
       "    <tr>\n",
       "      <th>5</th>\n",
       "      <td>Cognizant Technology Solutions Corporation</td>\n",
       "      <td>stock</td>\n",
       "      <td>0.11</td>\n",
       "    </tr>\n",
       "    <tr>\n",
       "      <th>6</th>\n",
       "      <td>Anduril Industries</td>\n",
       "      <td>stock</td>\n",
       "      <td>0.11</td>\n",
       "    </tr>\n",
       "    <tr>\n",
       "      <th>7</th>\n",
       "      <td>Northrop Grumman Corporation</td>\n",
       "      <td>stock</td>\n",
       "      <td>0.11</td>\n",
       "    </tr>\n",
       "    <tr>\n",
       "      <th>8</th>\n",
       "      <td>L3Harris Technologies, Inc.</td>\n",
       "      <td>stock</td>\n",
       "      <td>0.11</td>\n",
       "    </tr>\n",
       "    <tr>\n",
       "      <th>2</th>\n",
       "      <td>C3.ai</td>\n",
       "      <td>stock</td>\n",
       "      <td>0.05</td>\n",
       "    </tr>\n",
       "    <tr>\n",
       "      <th>3</th>\n",
       "      <td>VeriSign, Inc.</td>\n",
       "      <td>stock</td>\n",
       "      <td>0.05</td>\n",
       "    </tr>\n",
       "    <tr>\n",
       "      <th>4</th>\n",
       "      <td>Ciber Global, Inc.</td>\n",
       "      <td>stock</td>\n",
       "      <td>0.05</td>\n",
       "    </tr>\n",
       "    <tr>\n",
       "      <th>9</th>\n",
       "      <td>Thales Group</td>\n",
       "      <td>stock</td>\n",
       "      <td>0.05</td>\n",
       "    </tr>\n",
       "  </tbody>\n",
       "</table>\n",
       "</div>"
      ],
      "text/plain": [
       "                                   asset_name asset_type  weight\n",
       "0                                    Palantir      stock    0.21\n",
       "1                                         IBM      stock    0.16\n",
       "5  Cognizant Technology Solutions Corporation      stock    0.11\n",
       "6                          Anduril Industries      stock    0.11\n",
       "7                Northrop Grumman Corporation      stock    0.11\n",
       "8                 L3Harris Technologies, Inc.      stock    0.11\n",
       "2                                       C3.ai      stock    0.05\n",
       "3                              VeriSign, Inc.      stock    0.05\n",
       "4                          Ciber Global, Inc.      stock    0.05\n",
       "9                                Thales Group      stock    0.05"
      ]
     },
     "execution_count": 89,
     "metadata": {},
     "output_type": "execute_result"
    }
   ],
   "source": [
    "df_final_portfolio = rebalance_portfolio(df_final_portfolio, df_final_portfolio.shape[0])\n",
    "df_final_portfolio"
   ]
  },
  {
   "cell_type": "markdown",
   "metadata": {},
   "source": [
    "## Persist portfolio"
   ]
  },
  {
   "cell_type": "code",
   "execution_count": 90,
   "metadata": {},
   "outputs": [],
   "source": [
    "import os\n",
    "from dotenv import load_dotenv\n",
    "from sqlalchemy import create_engine\n",
    "\n",
    "from dystopic_investment_aigents.data_ingestion.db.postgres_db import PostgresConfig\n",
    "\n",
    "\n",
    "load_dotenv()\n",
    "\n",
    "db_uri = PostgresConfig(\n",
    "    host=os.environ[\"SB_DDBB_HOST\"],\n",
    "    port=os.environ[\"SB_DDBB_PORT\"],\n",
    "    database=os.environ[\"SB_DDBB_DATABASE\"],\n",
    "    user=os.environ[\"SB_DDBB_USER\"],\n",
    "    password=os.environ[\"SB_DDBB_PWD\"]\n",
    ").get_connection_string()\n",
    "\n",
    "engine = create_engine(db_uri)"
   ]
  },
  {
   "cell_type": "code",
   "execution_count": 91,
   "metadata": {},
   "outputs": [
    {
     "data": {
      "text/html": [
       "<div>\n",
       "<style scoped>\n",
       "    .dataframe tbody tr th:only-of-type {\n",
       "        vertical-align: middle;\n",
       "    }\n",
       "\n",
       "    .dataframe tbody tr th {\n",
       "        vertical-align: top;\n",
       "    }\n",
       "\n",
       "    .dataframe thead th {\n",
       "        text-align: right;\n",
       "    }\n",
       "</style>\n",
       "<table border=\"1\" class=\"dataframe\">\n",
       "  <thead>\n",
       "    <tr style=\"text-align: right;\">\n",
       "      <th></th>\n",
       "      <th>asset_name</th>\n",
       "      <th>asset_type</th>\n",
       "      <th>weight</th>\n",
       "      <th>created_at</th>\n",
       "    </tr>\n",
       "  </thead>\n",
       "  <tbody>\n",
       "    <tr>\n",
       "      <th>0</th>\n",
       "      <td>Palantir</td>\n",
       "      <td>stock</td>\n",
       "      <td>0.20</td>\n",
       "      <td>2024-10-01 07:09:31.294967+00:00</td>\n",
       "    </tr>\n",
       "    <tr>\n",
       "      <th>0</th>\n",
       "      <td>IBM</td>\n",
       "      <td>stock</td>\n",
       "      <td>0.15</td>\n",
       "      <td>2024-10-01 07:09:31.294967+00:00</td>\n",
       "    </tr>\n",
       "    <tr>\n",
       "      <th>0</th>\n",
       "      <td>C3.ai</td>\n",
       "      <td>stock</td>\n",
       "      <td>0.05</td>\n",
       "      <td>2024-10-01 07:09:31.294967+00:00</td>\n",
       "    </tr>\n",
       "  </tbody>\n",
       "</table>\n",
       "</div>"
      ],
      "text/plain": [
       "  asset_name asset_type  weight                       created_at\n",
       "0   Palantir      stock    0.20 2024-10-01 07:09:31.294967+00:00\n",
       "0        IBM      stock    0.15 2024-10-01 07:09:31.294967+00:00\n",
       "0      C3.ai      stock    0.05 2024-10-01 07:09:31.294967+00:00"
      ]
     },
     "execution_count": 91,
     "metadata": {},
     "output_type": "execute_result"
    }
   ],
   "source": [
    "import re \n",
    "pattern = r\"name='([^']+)' type='([^']+)'\"\n",
    "\n",
    "df_portfolio = pd.DataFrame()\n",
    "for k, v in operations.data.to_json_obj()[\"final_portfolio\"][\"allocation\"].items():\n",
    "    match = re.search(pattern, k)\n",
    "    df_portfolio = pd.concat([df_portfolio, pd.DataFrame({\"asset_name\": [match.group(1)], \"asset_type\": [match.group(2)], \"weight\": [v]})])\n",
    "df_portfolio[\"created_at\"] = datetime.datetime.now(datetime.UTC)\n",
    "#df_portfolio[\"stock_ticker\"] = None\n",
    "df_portfolio.head(3)"
   ]
  },
  {
   "cell_type": "code",
   "execution_count": 92,
   "metadata": {},
   "outputs": [],
   "source": [
    "def persist_portfolio(df: pd.DataFrame) -> int:\n",
    "    return df.to_sql(\"portfolio\", engine, if_exists=\"append\", index=False)\n",
    "    "
   ]
  },
  {
   "cell_type": "code",
   "execution_count": 93,
   "metadata": {},
   "outputs": [],
   "source": [
    "PERSIST = False\n",
    "\n",
    "if PERSIST:\n",
    "    persist_portfolio(df_final_portfolio)"
   ]
  },
  {
   "cell_type": "markdown",
   "metadata": {},
   "source": []
  }
 ],
 "metadata": {
  "kernelspec": {
   "display_name": ".venv",
   "language": "python",
   "name": "python3"
  },
  "language_info": {
   "codemirror_mode": {
    "name": "ipython",
    "version": 3
   },
   "file_extension": ".py",
   "mimetype": "text/x-python",
   "name": "python",
   "nbconvert_exporter": "python",
   "pygments_lexer": "ipython3",
   "version": "3.11.0"
  }
 },
 "nbformat": 4,
 "nbformat_minor": 2
}
