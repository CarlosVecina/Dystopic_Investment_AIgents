{
 "cells": [
  {
   "cell_type": "code",
   "execution_count": 2,
   "metadata": {},
   "outputs": [],
   "source": [
    "from src.agents.newsletter_base import NewsletterAdal\n",
    "from lightrag.components.model_client import OpenAIClient\n",
    "\n",
    "newsletter_agent = NewsletterAdal(\n",
    "    personality={\"mood\": \"optimistic\", \"risk_tolerance\": 0.5},\n",
    "    seniority=OpenAIClient(),\n",
    "    seniority_args= {\n",
    "        \"model\": \"gpt-4o-mini\",\n",
    "        \"temperature\": 0.9,\n",
    "    }\n",
    ")"
   ]
  },
  {
   "cell_type": "code",
   "execution_count": 3,
   "metadata": {},
   "outputs": [],
   "source": [
    "from src.data_ingestion.db.postgres_db import PostgresConfig\n",
    "import os\n",
    "from dotenv import load_dotenv\n",
    "from sqlalchemy import create_engine\n",
    "import pandas as pd\n",
    "import datetime \n",
    "\n",
    "load_dotenv()\n",
    "\n",
    "db_uri = PostgresConfig(\n",
    "    host=os.environ[\"SB_DDBB_HOST\"],\n",
    "    port=os.environ[\"SB_DDBB_PORT\"],\n",
    "    database=os.environ[\"SB_DDBB_DATABASE\"],\n",
    "    user=os.environ[\"SB_DDBB_USER\"],\n",
    "    password=os.environ[\"SB_DDBB_PWD\"]\n",
    ").get_connection_string()\n",
    "\n",
    "engine = create_engine(db_uri)\n",
    "\n",
    "df_current_portfolio = pd.read_sql(\"SELECT * FROM portfolio WHERE created_at = (SELECT max(created_at) FROM portfolio)\", engine)"
   ]
  },
  {
   "cell_type": "code",
   "execution_count": null,
   "metadata": {},
   "outputs": [],
   "source": [
    "df_current_portfolio = pd.read_sql(\"SELECT * FROM vecs.sp500_news WHERE created_at = (SELECT max(created_at) FROM vecs.sp500_news)\", engine)"
   ]
  },
  {
   "cell_type": "code",
   "execution_count": null,
   "metadata": {},
   "outputs": [],
   "source": [
    "newsletter_agent.create_newsletter(\n",
    "    context=f\"\"\"\n",
    "    Last week the porfolio has been created, so we have included the following assets, in the form (asset, weight):\n",
    "    {dict(zip(df_current_portfolio[\"stock_name\"], df_current_portfolio[\"weight\"]))}\n",
    "\n",
    "    The main news of the week are:\n",
    "    - The Fed has announced a new round of stimulus\n",
    "    - The ECB has announced a new round of stimulus\n",
    "    - The Bank of England has announced a new act\n",
    "\n",
    "    \"\"\"\n",
    ")"
   ]
  }
 ],
 "metadata": {
  "kernelspec": {
   "display_name": ".venv",
   "language": "python",
   "name": "python3"
  },
  "language_info": {
   "codemirror_mode": {
    "name": "ipython",
    "version": 3
   },
   "file_extension": ".py",
   "mimetype": "text/x-python",
   "name": "python",
   "nbconvert_exporter": "python",
   "pygments_lexer": "ipython3",
   "version": "3.11.9"
  }
 },
 "nbformat": 4,
 "nbformat_minor": 2
}
