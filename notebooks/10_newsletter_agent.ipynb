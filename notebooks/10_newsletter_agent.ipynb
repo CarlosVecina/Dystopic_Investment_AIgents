{
 "cells": [
  {
   "cell_type": "code",
   "execution_count": 1,
   "metadata": {},
   "outputs": [],
   "source": [
    "from adalflow.components.model_client import OpenAIClient\n",
    "from dotenv import load_dotenv\n",
    "\n",
    "from dystopic_investment_aigents.agents.base_agents.newsletter_base import NewsletterAdal\n",
    "\n",
    "\n",
    "load_dotenv()\n",
    "\n",
    "newsletter_agent = NewsletterAdal(\n",
    "    personality={\"mood\": \"optimistic\", \"risk_tolerance\": 0.5},\n",
    "    seniority=OpenAIClient(),\n",
    "    seniority_args= {\n",
    "        \"model\": \"gpt-4o-mini\",\n",
    "        \"temperature\": 0.5,\n",
    "    }\n",
    ")"
   ]
  },
  {
   "cell_type": "code",
   "execution_count": 2,
   "metadata": {},
   "outputs": [],
   "source": [
    "import os\n",
    "from sqlalchemy import create_engine\n",
    "import pandas as pd\n",
    "\n",
    "from dystopic_investment_aigents.data_ingestion.db.postgres_db import PostgresConfig\n",
    "from dystopic_investment_aigents.agents.base_agents.newsletter_base import Newsletter\n",
    "from dystopic_investment_aigents.agents.base_agents.quant_trader_base import Asset\n",
    "from dystopic_investment_aigents.agents.base_agents.quant_trader_base import Portfolio\n",
    "\n",
    "db_uri = PostgresConfig(\n",
    "    host=os.environ[\"SB_DDBB_HOST\"],\n",
    "    port=os.environ[\"SB_DDBB_PORT\"],\n",
    "    database=os.environ[\"SB_DDBB_DATABASE\"],\n",
    "    user=os.environ[\"SB_DDBB_USER\"],\n",
    "    password=os.environ[\"SB_DDBB_PWD\"]\n",
    ").get_connection_string()\n",
    "\n",
    "engine = create_engine(db_uri)\n",
    "\n",
    "df_current_portfolio = pd.read_sql(\"SELECT * FROM portfolio WHERE created_at = (SELECT max(created_at) FROM portfolio)\", engine)"
   ]
  },
  {
   "cell_type": "code",
   "execution_count": 3,
   "metadata": {},
   "outputs": [
    {
     "data": {
      "text/html": [
       "<div>\n",
       "<style scoped>\n",
       "    .dataframe tbody tr th:only-of-type {\n",
       "        vertical-align: middle;\n",
       "    }\n",
       "\n",
       "    .dataframe tbody tr th {\n",
       "        vertical-align: top;\n",
       "    }\n",
       "\n",
       "    .dataframe thead th {\n",
       "        text-align: right;\n",
       "    }\n",
       "</style>\n",
       "<table border=\"1\" class=\"dataframe\">\n",
       "  <thead>\n",
       "    <tr style=\"text-align: right;\">\n",
       "      <th></th>\n",
       "      <th>asset_name</th>\n",
       "      <th>asset_type</th>\n",
       "      <th>weight</th>\n",
       "      <th>created_at</th>\n",
       "      <th>asset_short_name</th>\n",
       "      <th>portfolio_trader</th>\n",
       "    </tr>\n",
       "  </thead>\n",
       "  <tbody>\n",
       "    <tr>\n",
       "      <th>0</th>\n",
       "      <td>IBM</td>\n",
       "      <td>stock</td>\n",
       "      <td>0.15</td>\n",
       "      <td>2024-08-05 12:08:41.332903+00:00</td>\n",
       "      <td>IBM</td>\n",
       "      <td>QuantTraderNaiveAdal</td>\n",
       "    </tr>\n",
       "    <tr>\n",
       "      <th>1</th>\n",
       "      <td>Palantir</td>\n",
       "      <td>stock</td>\n",
       "      <td>0.20</td>\n",
       "      <td>2024-08-05 12:08:41.332903+00:00</td>\n",
       "      <td>PLTR</td>\n",
       "      <td>QuantTraderNaiveAdal</td>\n",
       "    </tr>\n",
       "  </tbody>\n",
       "</table>\n",
       "</div>"
      ],
      "text/plain": [
       "  asset_name asset_type  weight                       created_at  \\\n",
       "0        IBM      stock    0.15 2024-08-05 12:08:41.332903+00:00   \n",
       "1   Palantir      stock    0.20 2024-08-05 12:08:41.332903+00:00   \n",
       "\n",
       "  asset_short_name      portfolio_trader  \n",
       "0              IBM  QuantTraderNaiveAdal  \n",
       "1             PLTR  QuantTraderNaiveAdal  "
      ]
     },
     "execution_count": 3,
     "metadata": {},
     "output_type": "execute_result"
    }
   ],
   "source": [
    "df_current_portfolio.head(2)"
   ]
  },
  {
   "cell_type": "code",
   "execution_count": 4,
   "metadata": {},
   "outputs": [
    {
     "data": {
      "text/plain": [
       "Portfolio(allocation={Asset(name='IBM', type='stock'): 0.15, Asset(name='Palantir', type='stock'): 0.2, Asset(name='Ford Motor Company', type='stock'): 0.05, Asset(name='Oatly Group AB', type='stock'): 0.05, Asset(name='Corteva, Inc.', type='stock'): 0.05, Asset(name='VeriSign, Inc.', type='stock'): 0.05, Asset(name='Adyen N.V.', type='stock'): 0.05, Asset(name='Beyond Meat, Inc.', type='stock'): 0.05, Asset(name='Altria Group, Inc.', type='stock'): 0.03, Asset(name='The Mosaic Company', type='stock'): 0.035, Asset(name='Caterpillar Inc.', type='stock'): 0.055, Asset(name='NextEra Energy', type='stock'): 0.1, Asset(name='Philip Morris International Inc.', type='stock'): 0.03, Asset(name='Tractor Supply Company', type='stock'): 0.035, Asset(name='GrainCorp Limited', type='stock'): 0.035, Asset(name='C3.ai', type='stock'): 0.05})"
      ]
     },
     "execution_count": 4,
     "metadata": {},
     "output_type": "execute_result"
    }
   ],
   "source": [
    "current_portfolio_assets = [Asset(name=n, type=t) for n, t in  zip(df_current_portfolio[\"asset_name\"], df_current_portfolio[\"asset_type\"])]\n",
    "current_portfolio = Portfolio(allocation=dict(zip(current_portfolio_assets, df_current_portfolio[\"weight\"])))\n",
    "current_portfolio"
   ]
  },
  {
   "cell_type": "code",
   "execution_count": 5,
   "metadata": {},
   "outputs": [],
   "source": [
    "df_last_news = pd.read_sql(\n",
    "    \"SELECT * FROM vecs.sp500_news limit 100\",\n",
    "    engine,\n",
    ")"
   ]
  },
  {
   "cell_type": "code",
   "execution_count": 6,
   "metadata": {},
   "outputs": [
    {
     "data": {
      "text/html": [
       "<div>\n",
       "<style scoped>\n",
       "    .dataframe tbody tr th:only-of-type {\n",
       "        vertical-align: middle;\n",
       "    }\n",
       "\n",
       "    .dataframe tbody tr th {\n",
       "        vertical-align: top;\n",
       "    }\n",
       "\n",
       "    .dataframe thead th {\n",
       "        text-align: right;\n",
       "    }\n",
       "</style>\n",
       "<table border=\"1\" class=\"dataframe\">\n",
       "  <thead>\n",
       "    <tr style=\"text-align: right;\">\n",
       "      <th></th>\n",
       "      <th>id</th>\n",
       "      <th>metadata</th>\n",
       "      <th>content</th>\n",
       "      <th>embedding</th>\n",
       "    </tr>\n",
       "  </thead>\n",
       "  <tbody>\n",
       "    <tr>\n",
       "      <th>0</th>\n",
       "      <td>8319246f-ad11-4836-95a4-069d8c7b9780</td>\n",
       "      <td>{'tags': '['Kessler Topaz Meltzer &amp; Check', 'L...</td>\n",
       "      <td>NET Investigation Reminder: Kessler Topaz Melt...</td>\n",
       "      <td>[0.01551223,-0.017488744,0.016970761,-0.057686...</td>\n",
       "    </tr>\n",
       "    <tr>\n",
       "      <th>1</th>\n",
       "      <td>2fccd1b3-4090-4950-b9a9-346904e215fe</td>\n",
       "      <td>{'tags': '['Australia', 'Basic Materials', 'Bu...</td>\n",
       "      <td>US earnings: 22 Jul 2024 - America’s June 30 q...</td>\n",
       "      <td>[-0.023108553,-0.02260535,0.007122234,-0.03734...</td>\n",
       "    </tr>\n",
       "  </tbody>\n",
       "</table>\n",
       "</div>"
      ],
      "text/plain": [
       "                                     id  \\\n",
       "0  8319246f-ad11-4836-95a4-069d8c7b9780   \n",
       "1  2fccd1b3-4090-4950-b9a9-346904e215fe   \n",
       "\n",
       "                                            metadata  \\\n",
       "0  {'tags': '['Kessler Topaz Meltzer & Check', 'L...   \n",
       "1  {'tags': '['Australia', 'Basic Materials', 'Bu...   \n",
       "\n",
       "                                             content  \\\n",
       "0  NET Investigation Reminder: Kessler Topaz Melt...   \n",
       "1  US earnings: 22 Jul 2024 - America’s June 30 q...   \n",
       "\n",
       "                                           embedding  \n",
       "0  [0.01551223,-0.017488744,0.016970761,-0.057686...  \n",
       "1  [-0.023108553,-0.02260535,0.007122234,-0.03734...  "
      ]
     },
     "execution_count": 6,
     "metadata": {},
     "output_type": "execute_result"
    }
   ],
   "source": [
    "df_last_news.head(2)"
   ]
  },
  {
   "cell_type": "code",
   "execution_count": 8,
   "metadata": {},
   "outputs": [
    {
     "name": "stdout",
     "output_type": "stream",
     "text": [
      "cache_path: C:\\Users\\Carlos\\AppData\\Roaming\\adalflow\\cache_OpenAIClient_gpt-4o-mini.db\n",
      "Prompt:\n",
      "______________________\n",
      "<START_OF_SYSTEM_PROMPT>\n",
      "\n",
      "You are a professional Newsletter creator that excell at narrative and catchy pieces.\n",
      "Objective: Generate a high-quality weekly newsletter that includes updates, price movements, and portfolio operations.\n",
      "Writing Guidelines:\n",
      "- Tone and Style: Professional, informative, and engaging. Use a conversational tone to keep the reader interested.\n",
      "- Language: Clear, concise, and free of jargon. Ensure complex terms are explained.\n",
      "- Accuracy: Ensure all data and information are accurate and up-to-date.\n",
      "- Visuals: Incorporate relevant visuals (charts, graphs, images) to enhance understanding.\n",
      "- Length: Aim for a length of 1000-1500 words, ensuring content is comprehensive yet digestible.\n",
      "- Utilize a optimistic tone for the narrative.\n",
      "- Add the disclaimer about informational purposes only and does not constitute financial advice. \n",
      "\n",
      "You will be provider with those last week inputs, and you should generate a newsletter with the main topics and the newsletter content.\n",
      "                \n",
      "<OUTPUT_FORMAT>\n",
      "Your output should be formatted as a standard JSON instance with the following schema:\n",
      "```\n",
      "{\n",
      "    \"title\": \" (str) (required)\",\n",
      "    \"main_topics\": \" (str) (required)\",\n",
      "    \"body\": \" (str) (required)\"\n",
      "}\n",
      "```\n",
      "-Make sure to always enclose the JSON output in triple backticks (```). Please do not add anything other than valid JSON output!\n",
      "-Use double quotes for the keys and string values.\n",
      "-DO NOT mistaken the \"properties\" and \"type\" in the schema as the actual fields in the JSON output.\n",
      "-Follow the JSON formatting conventions.\n",
      "</OUTPUT_FORMAT>\n",
      "<END_OF_SYSTEM_PROMPT>\n",
      "<START_OF_USER_PROMPT>\n",
      "\n",
      "    Last week the porfolio has been created, so we have included the following assets, in the form (asset, weight):\n",
      "    {Asset(name='IBM', type='stock'): 0.15, Asset(name='Palantir', type='stock'): 0.2, Asset(name='Ford Motor Company', type='stock'): 0.05, Asset(name='Oatly Group AB', type='stock'): 0.05, Asset(name='Corteva, Inc.', type='stock'): 0.05, Asset(name='VeriSign, Inc.', type='stock'): 0.05, Asset(name='Adyen N.V.', type='stock'): 0.05, Asset(name='Beyond Meat, Inc.', type='stock'): 0.05, Asset(name='Altria Group, Inc.', type='stock'): 0.03, Asset(name='The Mosaic Company', type='stock'): 0.035, Asset(name='Caterpillar Inc.', type='stock'): 0.055, Asset(name='NextEra Energy', type='stock'): 0.1, Asset(name='Philip Morris International Inc.', type='stock'): 0.03, Asset(name='Tractor Supply Company', type='stock'): 0.035, Asset(name='GrainCorp Limited', type='stock'): 0.035, Asset(name='C3.ai', type='stock'): 0.05}\n",
      "\n",
      "    The main news of the week are:\n",
      "    NET Investigation Reminder: Kessler Topaz Meltzer & Check, LLP Encourages Cloudflare, Inc. (NYSE: NET) Investors to Contact the Firm: /PRNewswire/ -- The law firm of Kessler Topaz Meltzer & Check, LLP (www.ktmc.com) is currently investigating potential violations of the federal securities...  New: US earnings: 22 Jul 2024 - America’s June 30 quarterly reporting season accelerates this week with 138 S&P 500 companies (including seven Dow 30 components) scheduled to release results.  New: Diary: 22 Jul 2024 - A big week lies ahead for the markets, with US inflation, the global fallout from Friday's major computer outage, the Trump comeback, Biden’s fade-out, investor nervousness about big techs (with the start of some significant earnings reports), and the endless speculation about a looming rate cut, which seems to be firming up at long last.  New: Five Key Charts to Watch in Global Commodity Markets This Week: nan  New: Five Key Charts to Watch in Global Commodity Markets This Week: (Bloomberg) -- A record maple syrup bounty in Canada is ready to be tapped by global markets. Earnings season for gold companies kicks off when Newmont Corp. unveils its quarterly results. And Europe’s biggest chemicals producing nation is languishing.Most Read from BloombergBiden Exits Race, Endorses Harris After Weeks of PressureBiden Is Out: What’s Next for Democrats, ExplainedBiden Exit Leaves Markets Asking What’s Next for Trump TradeTrump’s Remarks Spark Rebuke From Mexico’s President-Elec  New: 5 things to watch on the ASX 200 on Monday: South32 Ltd (ASX: S32) and Woodside Energy Group Ltd (ASX: WDS) shares will be on watch on the ASX 200 on Monday...  New: Institutional investors in Cloudflare, Inc. (NYSE:NET) see US$1.2b decrease in market cap last week, although long-term gains have benefitted them.: Key Insights Given the large stake in the stock by institutions, Cloudflare's stock price might be vulnerable to their...  New: Earnings week ahead: TSLA, GOOG, IBM, AAL, GM, F, VZ, T, and more (NASDAQ:TSLA): As market participants gear up for another busy week in the stock market, a diverse array of companies across multiple sectors are set to report their quarterly  New: Cloud providers in AI, data named 'top picks' as earnings approach: Oppenheimer: Microsoft, Cloudflare and C3.ai stand as Top Picks heading into earnings season according to a cloud preview by Oppenheimer. Read more here.  New: 3 No-Brainer Stocks to Buy and Hold for the Rest of 2024 and Beyond: These stocks appear poised to produce strong total returns in the coming months.  New: NET Investigation Alert: Kessler Topaz Meltzer & Check, LLP Encourages Cloudflare, Inc. (NYSE: NET) Investors to Contact the Firm: The law firm of Kessler Topaz Meltzer & Check, LLP (www.ktmc.com) is currently investigating potential violations of the federal securities laws o  New: Lululemon 'We Made Too Much' finds — 11 items I’m shopping that beat Prime Day: Shop the best Lululemon gear  New: 10 policies if Trump wins and stock implications: Jefferies: 10 policies if Trump wins and stock implications: Jefferies  New: Should You Buy the Second-Highest Yielding Vanguard S&P 500 Sector ETF?: Utility stocks are a good value, especially if you're looking to boost your passive income.  New: Australia holds $1.34 trillion worth of copper reserves, more than the value of untapped gold: There are tens of trillions of dollars worth of mineral wealth yet to be unlocked in Australia, according to a new global report.  New: Is NeoGenomics, Inc. (NEO) the Most Profitable Stock of the Last 20 Years?: We recently compiled a list of the 20 Most Profitable Stocks of the Last 20 Years. In this article, we are going to take a look at where NeoGenomics, Inc. (NASDAQ:NEO) stands against the other profitable stocks. The stock market has a long history of generating wealth for investors. While past performance doesn’t guarantee future […]  New: Wheaton Precious Metals Corp. (WPM): The Best Gold Stock According to Reddit and Robinhood?: We recently compiled a list of the 10 Best Gold Stocks to Buy According to Reddit and Robinhood. In this article, we are going to take a look at where Wheaton Precious Metals Corp. (NYSE:WPM) stands against the other gold stocks. Regarded as a safe investment option, hedging investors against inflation, Gold has been a highly […]  New: Newmont Corporation (NEM): Are Wall Street Analysts Bullish on This Gold Stock Now?: We recently compiled a list of the 10 Best Gold Stocks to Buy According to Reddit and Robinhood. In this article, we are going to take a look at where Newmont Corporation (NYSE:NEM) stands against the...  New: Newmont Corporation (NEM): Are Wall Street Analysts Bullish on This Gold Stock Now?: We recently compiled a list of the 10 Best Gold Stocks to Buy According to Reddit and Robinhood. In this article, we are going to take a look at where Newmont Corporation (NYSE:NEM) stands against the other gold stocks. Regarded as a safe investment option, hedging investors against inflation, Gold has been a highly demanded precious […]  New: Pepsi Is a Rock-Solid Dividend King, but So Is This High-Yield Value Stock That Paid $3 Billion in Dividends Over the Past Year: Southern Company is a proven winner with an attractive dividend.  New: Forget NextEra Energy: Buy This Magnificent High-Yield Stock Instead.: NextEra Energy had a great first half and has a rapidly growing dividend. But WEC Energy is offering a better mix of yield and growth today.  New: Newmont Corporation (NEM) Dips More Than Broader Market: What You Should Know: Newmont Corporation (NEM) closed at $47 in the latest trading session, marking a -1.07% move from the prior day.  New: Cloudflare Inc Is Under Investigation By The Schall Law Firm For Possible Securities Breaches And Investors With Losses Are Urged To Initiate Dialogues: LOS ANGELES, CA / ACCESSWIRE / July 19, 2024 / The Schall Law Firm, a national shareholder rights litigation firm, announces that it is investigating claims on behalf of investors of Cloudflare, Inc.   New: Earnings call: Blackstone reports net income reaching $948 million: Earnings call: Blackstone reports net income reaching $948 million  New: Should You Be Fully Positioned in the Junior Resource Space?: Source: Michael Ballanger 07/17/2024 Michael Ballanger of GGM Advisory Inc. shares his thoughts on the junior resource space and some stocks he believes should be on your radar.  New: 2 Stocks to watch following massive global IT outage: Following massive global IT outage, Finbold analyzed the ongoing trends and tracked the two best stocks to watch for in the upcoming days.  New: ONEOK (OKE) Reveals Plans to Expand Pipeline, To Connect Denver: ONEOK (OKE) reveals plans to expand its pipeline capacity, thus indicating growing demand for refined products and renewable fuels in Denver.  New: 2 Defensive Dividend Stocks To Buy Now: Guest Post by Tom Hutchinson, Chief Analyst, Cabot Dividend Investor The stock market has favored growth stocks, and has not been kind to defensive stocks in the first half of the year. Utilities, Health Care, Consumer Staples, and Energy have been mediocre at best. But there are still risks to consider. Inflation could be stickier, and […]  New: CRWD Stock Plunges as CrowdStrike Triggers Massive Global Outage. What to Know.: A failed software update at CrowdStrike caused worldwide outages, and CRWD stock fell sharply in pre-market trading.  New: Wall Street Bulls Look Optimistic About Newmont (NEM): Should You Buy?: According to the average brokerage recommendation (ABR), one should invest in Newmont (NEM). It is debatable whether this highly sought-after metric is effective because Wall Street analysts' recommendations tend to be overly optimistic. Would it be worth investing in the stock?  New: Factors to Note Ahead of Seagate's (STX) Q4 Earnings Release: Seagate's (STX) fiscal Q4 performance is likely to have gained from incremental improvements in mass capacity demand driven by nearline cloud products.   New: Factors to Note Ahead of Seagate's (STX) Q4 Earnings Release: Seagate's (STX) fiscal Q4 performance is likely to have gained from incremental improvements in mass capacity demand driven by nearline cloud products.  New: Closing Bell: Local markets fell on Friday with ASX 200 down 64 pts: The Australian sharemarket fell on Friday, with all sectors lower. The S&P/ASX 200 Index was down 64 points points, or 0.81%, to 7979.1.  New: IBD Rating Upgrades: NextEra Energy Shows Improved Relative Price Strength: NextEra Energy shows improving price performance, earning an upgrade to its IBD Relative Strength Rating  New: GDX: A Great Way To Play Seasonal Strength In Gold And Silver Miners: Three new sector seasonalities begin in the month of July. One is for gold and silver mining stocks. The VanEck Gold Miners ETF (GDX) is our preferred ETF to take advantage of seasonal strength.  New: ASX nosedives after Wall Street tech sell-off sends stocks skidding: The Australian sharemarket tumbled, with miners leading the decline, after several big technology stocks in the US continued their slide to drag Wall Street equities lower for a second consecutive trading session.  New: Bright future: Bullish expert tips gold price to top $3,950 per ounce: The gold price notched up a new all-time high this week. Morgan Stanley is still bullish on gold. Let's see what the broker said.  New: ASX down 1.23% near noon: Commodity prices for iron ore, gold, and copper falls: 19 Jul 2024 - At noon, the S&P/ASX 200 is 1.23 per cent lower at 7,938.90, due to losses in the banking, mining, and technology sectors.  New: Newmont Corporation (NEM) Suffers a Larger Drop Than the General Market: Key Insights: In the latest trading session, Newmont Corporation (NEM) closed at $47.51, marking a -1.57% move from the previous day.  New: The Schall Law Firm Is Probing Cloudflare Inc For Potential Securities Violations And Encourages Investors Who Have Incurred Losses To Start Conversations: LOS ANGELES, CA / ACCESSWIRE / July 18, 2024 / The Schall Law Firm, a national shareholder rights litigation firm, announces that it is investigating claims on behalf of investors of Cloudflare, Inc.   New: 3 Stocks to Buy Now: Q3 Edition: If you’re looking for some of the best stocks to buy now, check out gold. After testing $2,480.75, the metal could easily test $3,000.  New: A Closer Look at NextEra Energy's Options Market Dynamics:    New: Newmont Corporation (NEM): Is this Materials Stock a Strong Buy Right Now?: We recently compiled a list of the 10 Best Materials Stocks to Buy According to Hedge Funds.  New: Newmont Corporation (NEM): Is this Materials Stock a Strong Buy Right Now?: We recently compiled a list of the 10 Best Materials Stocks to Buy According to Hedge Funds. In this article, we are going to take a look at where Newmont Corporation (NYSE:NEM) stands against the other materials stocks. When compared to high growth technology stocks, materials stocks are among the most stable ones on the […]  New: Chesapeake Utilities Cleared to Build Three More RNG Plants in Florida: Chesapeake Utilities received approval from Florida's utility regulator to build three more RNG plants that will add 13,100 Dthpd of capacity to the company's waste-to-energy production.  New: Blackstone (BX) Q2 2024 Earnings Call Transcript: BX earnings call for the period ending June 30, 2024.  New: Headwater Gold Commences Drilling at Spring Peak Project, Nevada: VANCOUVER, BC - (NewMediaWire) - July 18, 2024 - Headwater Gold Inc. (CSE: HWG) (OTCQB: HWAUF) (the \"Company\" or \"Headwater\") is pleased to announce the commencement of drilling at the Spring Peak project in Nevada. The program is designed to follow-...  New: 3 High-Growth Tech Stocks to Buy Now for Massive Gains: Seize the moment with these three high-growth tech stocks which continue to flourish amid favorable rate cut forecasts.  New: CMS Energy (CMS) Expected to Beat Earnings Estimates: Can the Stock Move Higher?: CMS Energy (CMS) possesses the right combination of the two key ingredients for a likely earnings beat in its upcoming report. Get prepared with the key expectations.  New: Why NextEra Energy (NEE) is a Top Growth Stock for the Long-Term: Whether you're a value, growth, or momentum investor, finding strong stocks becomes easier with the Zacks Style Scores, a top feature of the Zacks Premium research service.  New: SRC Announces 2024 Exploration on Ballarat Gold Project, Yukon: TSX Venture ExchangeShares Outstanding: 17,766,412Symbol: SRCToronto, Ontario--(Newsfile Corp. - July 18, 2024) - Stakeholder Gold Corp. (TSXV: SRC) (\"Stakeholder\" or the \"Company\") is pleased to announce commencement of the 2024 exploration program on the Company's 100% owned Ballarat Gold Project covering 18,741 Ha in the Heart of the White Gold District of the Yukon Territory, Canada.The 2024 summer exploration program on Ballarat is designed to provide further information on gold and copper  New: Agnico Eagle (AEM) Rallies 18% in 3 Months: Time to Buy the Stock?: With a strong pipeline of growth projects, solid financial health, rising earnings estimates and a healthy growth trajectory, Agnico Eagle (AEM) presents a compelling investment case for those seeking exposure to the gold mining space.  New: KEYCORP REPORTS SECOND QUARTER 2024 NET INCOME OF $237 MILLION, OR $.25 PER DILUTED COMMON SHARE: /PRNewswire/ -- KeyCorp (NYSE: KEY) today announced net income from continuing operations attributable to Key common shareholders of $237 million, or $.25 per...  New: Q1 Results Lifted Newmont Corporation (NEM) Stock Price Higher: L1 Capital, an investment management firm, released its “L1 Long Short Fund” second quarter 2024 investor letter. A copy of the letter can be downloaded here.  New: Q1 Results Lifted Newmont Corporation (NEM) Stock Price Higher: L1 Capital, an investment management firm, released its “L1 Long Short Fund” second quarter 2024 investor letter. A copy of the letter can be downloaded here. Over the quarter, global markets were mixed, with several themes impacting important markets. The portfolio returned 0.7% for the quarter compared to (1.1%) for S&P/ASX 200 AI. Year-to-date the […]  New: NextEra Energy Partners (NEP) Sees a More Significant Dip Than Broader Market: Some Facts to Know: NextEra Energy Partners (NEP) closed at $27.64 in the latest trading session, marking a -1.43% move from the prior day.  New: NextEra Energy (NEE) Stock Moves -1.39%: What You Should Know: The latest trading day saw NextEra Energy (NEE) settling at $70.90, representing a -1.39% change from its previous close.  New: Quebec Precious Metals Announces Results of Annual Shareholders Meeting, Grants Deferred Share Units and Stock Options: MONTREAL, QC / ACCESSWIRE / July 17, 2024 / Quebec Precious Metals Corporation (TSXV:CJC)(FSE:YXEP)(OTCQB:CJCFF) (\" QPM \" or the \" Corporation \") announces that at its annual shareholders' meeting hel  New: Quebec Precious Metals Announces Results of Annual Shareholders Meeting, Grants Deferred Share Units and Stock Options: MONTREAL, QC / ACCESSWIRE / July 17, 2024 /Quebec Precious Metals Corporation (TSXV:CJC)(FSE:YXEP)(OTCQB:CJCFF) (\" QPM \" or the \" Corporation \") announces that at its annual shareholders' meeting held on July 16, 2024, shareholders of the Company ...  New: 5 things to watch on the ASX 200 on Thursday: BHP Group Ltd (ASX: BHP) and Fortescue Ltd (ASX: FMG) shares will be on watch on the ASX 200 on Thursday...  New: Cloudflare Inc Is Under Investigation For Possible Securities Breaches By The Schall Law Firm, Investors Who Have Suffered Losses Are Urged To Begin Conversations: LOS ANGELES, CA / ACCESSWIRE / July 17, 2024 / The Schall Law Firm, a national shareholder rights litigation firm, announces that it is investigating claims on behalf of investors of Cloudflare, Inc.   New: Volta Finance Limited NET ASSET VALUE AS AT 30 JUNE 2024: Volta Finance Limited (VTA / VTAS) – June 2024 monthly report  NOT FOR RELEASE, DISTRIBUTION, OR PUBLICATION, IN WHOLE OR PART, IN OR INTO THE UNITED...  New: CMS vs. NEE: Which Stock Is the Better Value Option?: CMS vs. NEE: Which Stock Is the Better Value Option?  New: NextEra Energy Partners (NEP) Earnings Expected to Grow: Should You Buy?: NextEra Energy Partners (NEP) possesses the right combination of the two key ingredients for a likely earnings beat in its upcoming report. Get prepared with the key expectations.  New: NextEra Energy (NEE) Earnings Expected to Grow: What to Know Ahead of Next Week's Release: NextEra (NEE) doesn't possess the right combination of the two key ingredients for a likely earnings beat in its upcoming report. Get prepared with the key expectations.  New: Newmont Corporation (NEM) Reports Next Week: Wall Street Expects Earnings Growth: Newmont (NEM) possesses the right combination of the two key ingredients for a likely earnings beat in its upcoming report. Get prepared with the key expectations.  New: NEO Semiconductor to Present its 3D X-AI, Game-changing 3D Memory with AI Processing, in Keynote Address at FMS 2024: the Future of Memory and Storage: NEO Semiconductor, a leading developer of innovative technologies for 3D NAND flash and DRAM memory, today announced its participation at FMS 2024: the Future of Memory and Storage, taking place in person in Santa Clara, California, on August 6-8. CEO, Andy Hsu, will deliver a keynote address titled \"New 3D AI Chip Technology Accelerates Generative AI\" on August 6th at 11:45 a.m. Pacific Time.  New: NEO Semiconductor to Present its 3D X-AI, Game-changing 3D Memory with AI Processing, in Keynote Address at FMS 2024: the Future of Memory and Storage: /PRNewswire/ -- NEO Semiconductor, a leading developer of innovative technologies for 3D NAND flash and DRAM memory, today announced its participation at FMS...  New: Review of existing and historical data on Feni Island reinforces significant Cu-Au discovery potential: Adyton Resources Corporation (TSX: ADY) is pleased to provide an update of the Company's ongoing review of an extensive historical data set at its 100% owned Feni Island project. The review has identified a number of prospective copper-gold mineralized targets which have never been drill tested.  New: Cloudflare (NET) Up 6% in a Month: How Should You Play Now?: While Cloudflare's (NET) recent stock surge and strong market position are encouraging, significant volatility and high valuation warrant caution.  New: Luminate, NEO Home Loan Accelerate First-Time Home Buyer Success in \"Winning the Deal\" with a Cash Offer: More homes are being purchased today with cash — nearly one in three — than at any time in the last decade, according to the National Association of Realtors, adding to the enormous challenges first-time buyers face in today's market.  New: Luminate, NEO Home Loan Accelerate First-Time Home Buyer Success in \"Winning the Deal\" with a Cash Offer: /PRNewswire/ -- More homes are being purchased today with cash — nearly one in three — than at any time in the last decade, according to the National...  New: Nowhere to sell: As local bans proliferate, renewable energy companies must prioritize politics: The polluters who want to kill the energy transition have created political headwinds that are grinding the transition to a halt for everyone else, including the companies that really do want to move away from dirty fuels.  New: Sponsorship and Beyond: Neo Partners with English Football Club Wolves: Neo, the cross-border payments and foreign exchange (FX) fintech, has entered the sports industry by inking a partnership deal with the English football club, Wolverhampton Wanderers FC (Wolves).  New: Wolverhampton Wanderers FC selects Neo as itsOfficial Foreign Currency Exchange Partner: As Official Foreign Currency Exchange Partner of Wolves, Neo will help the club save on its currency FX transaction costs  New: Stocks Generating Improved Relative Strength: Neogen: A Relative Strength Rating upgrade for Neogen shows improving technical performance. Will it continue?  New: Rukmini Banerji: It’s a strong foundation of primary education that will take India forward: NEP 2020 points out that building basic foundational literacy and numeracy for primary school children are essential and urgent national priorities. As citizens, it is up to all of us to ensure that policy becomes practice  New: ASX gold shares race higher after gold price hits record high: These ASX gold shares are having a strong session. Here's what is making them glitter on Wednesday...  New: Cloudflare (NET) Rises Yet Lags Behind Market: Some Facts Worth Knowing: In the closing of the recent trading day, Cloudflare (NET) stood at $83.95, denoting a +0.62% change from the preceding trading day.  New: Gold Miners Hit 27-Month Peak, Bullion Breaks Record As Traders Decide September Rate Cut As Good As Done: Gold reaches new all-time high above $2,460/oz amid heightened investor confidence in Fed rate cut in Sept. Jerome Powell's remarks support market expectations.  New: The Schall Law Firm Encourages Investors With Losses To Initiate Dialogue, Cloudflare Inc Is Under Investigation For Potential Securities Breaches: LOS ANGELES, CA / ACCESSWIRE / July 16, 2024 / The Schall Law Firm, a national shareholder rights litigation firm, announces that it is investigating claims on behalf of investors of Cloudflare, Inc.   New: Charles Schwab falls; Match Group, UnitedHealth rise, Tuesday, 7/16/2024: Stocks that traded heavily or had substantial price changes on Tuesday: Charles Schwab Corp. SCHW), down $6.69 to $68.38. The financial services firm met earnings forecasts but came up short in other metrics closely watched by Wall Street.  New: CrowdStrike (CRWD) Unveils Falcon Complete Next-Gen MDR: CrowdStrike (CRWD) unveils Falcon Complete Next-Gen Managed Detection and Response to prevent cyber breaches through rapid and precise response.  New: Newmont Corporation (NEM) Is a Trending Stock: Facts to Know Before Betting on It: Zacks.com users have recently been watching Newmont (NEM) quite a bit. Thus, it is worth knowing the facts that could determine the stock's prospects.  New: Cloudflare may see 'durable growth' for years thanks to AI, security spending: Wolfe: Cloudflare (NET) was in focus on Tuesday as Wolfe Research started coverage on the cybersecurity firm with a Peer Perform rating. Shares were up 0.6% in premark  New: SCOTTIE RESOURCES ANNOUNCES COMMENCEMENT OF 2024 DRILL CAMPAIGN: Scottie Resources Corp. (\"Scottie\" or the \"Company\") (TSXV: SCOT) (OTCQB: SCTSF) (FSE: SR8) is pleased to announce the commencement of its 2024 drill program on the Scottie Gold Mine Project, located in BC's Golden Triangle. Following the detailed exploration plan outlined in May 2024, the $4.5 million dollar program aims to advance multiple areas, including the Scottie Gold Mine, Blueberry Contact Zone, and D-Zone targets, while initiating drilling on new showings and historic sites.  New: Marjorie Taylor Greene Just Loaded Up on Stocks: 6 Companies She Just Bought: Tracing the reasons to be optimistic about the Georgia representative's recent purchases.  New: Commodity Roundup: Gold near fresh record high, China demand concerns weigh on oil: Oselote/iStock via Getty Images Gold prices extended their rally to Tuesday, trading close to an -all-time high amid rising hopes that the Federal...  New: This Utility Stock Beat the S&P 500 in the First Half of 2024. Is It Still a Buy?: NextEra Energy had a big first half, beating the broader S&P 500. But there are some things to understand before you buy it.  New: Australian miners look to cash in on high gold prices: While Australian gold production will be sluggish in 2024, it is set to pick up from 2025 through to 2030.  New: Resources Top 5: Is this ASX junior your invitation to a copper M&A party?: SolGold deal all but puts a target on the back of company maker and ASX junior DGR Global; explorers pop in Central Africa and the Pilbara.  New: Market Highlights: Wall Street factors in a Trump win; and 5 ASX small caps to watch today: Trump Media surged +31pc after Trump's assassination attempt. Fed Chair Powell hints at potential rate cuts from September.  New: Third Federal Receives Satisfactory Rating on Community Reinvestment Act Exam: Third Federal Savings and Loan Association of Cleveland (the “Association”), the wholly-owned subsidiary of TFS Financial Corporation (NASDAQ: TFSL) (  New: Third Federal Receives Satisfactory Rating on Community Reinvestment Act Exam: CLEVELAND, July 15, 2024--Third Federal Savings and Loan Association of Cleveland (the \"Association\"), the wholly-owned subsidiary of TFS Financial Corporation (NASDAQ: TFSL) (the \"Company\"), is pleased to announce that it received a rating of \"Satisfactory\" from the Office of the Comptroller of the Currency (the \"OCC\") on the Association's Community Reinvestment Act (\"CRA\") exam for the period January 1, 2020 through December 31, 2022.  New: Merger Mania Hits the Mining Sector: Rising demand for raw materials and limited new supply could spark a surge in mining takeover deals and acquisitions, presenting growth opportunities through mergers and acquisitions.  New: Does anyone still remember how to play the ASX IPO game?: Despite the current macroeconomic and geopolitical fireworks, the ASX IPO pipeline points to an increase in activity in H2, 2024.  New: Canada and B.C. Invest in Infrastructure Upgrades to Support Critical Minerals Development in Northwest B.C. and Create Jobs Across the Province: Today, the Honourable Jonathan Wilkinson, Minister of Energy and Natural Resources, with the Honourable Josie Osborne, B.C.'s Minister of Energy, Mines and Low Carbon Innovation and the Honourable Rob Fleming, B.C.'s Minister of Transportation and Infrastructure, announced a joint investment of $195 million to upgrade key highway infrastructure in B.C.'s northwest needed to support critical minerals development in the region, improve community access and safety, and create good mining jobs acros  New: Cloudflare Inc Under Scrutiny By The Schall Law Firm For Possible Securities Violations Urging Investors With Losses To Start Conversation: LOS ANGELES, CA / ACCESSWIRE / July 15, 2024 / The Schall Law Firm, a national shareholder rights litigation firm, announces that it is investigating claims on behalf of investors of Cloudflare, Inc.   New: Albemarle most shorted S&P 500 materials stock in June; Ecolab least shorted (NYSEARCA:XLB): Bets against materials' stocks fell at the end of June compared to the end of May, with lithium giant Albemarle (ALB) being the most shorted stock in the sector  New: Is NeoGenomics (NASDAQ:NEO) A Risky Investment?: Warren Buffett famously said, 'Volatility is far from synonymous with risk.' So it seems the smart money knows that...\n",
      "    \n",
      "<END_OF_USER_PROMPT>\n",
      "\n",
      "cache_path: C:\\Users\\Carlos\\AppData\\Roaming\\adalflow\\cache_OpenAIClient_gpt-4o-mini.db\n"
     ]
    }
   ],
   "source": [
    "newsletter_edition = newsletter_agent.create_newsletter(\n",
    "    context=f\"\"\"\n",
    "    Last week the porfolio has been created, so we have included the following assets, in the form (asset, weight):\n",
    "    {str(current_portfolio.allocation)}\n",
    "\n",
    "    The main news of the week are:\n",
    "    {'  New: '.join(df_last_news[\"content\"].tolist())}\n",
    "    \"\"\"\n",
    ")"
   ]
  },
  {
   "cell_type": "code",
   "execution_count": 9,
   "metadata": {},
   "outputs": [],
   "source": [
    "newsletter: Newsletter = newsletter_edition.data\n"
   ]
  },
  {
   "cell_type": "code",
   "execution_count": 10,
   "metadata": {},
   "outputs": [],
   "source": [
    "with open(\"./newsleter.txt\", \"+w\") as io:\n",
    "    io.write(newsletter.title)\n",
    "    io.write(newsletter.body)"
   ]
  }
 ],
 "metadata": {
  "kernelspec": {
   "display_name": ".venv",
   "language": "python",
   "name": "python3"
  },
  "language_info": {
   "codemirror_mode": {
    "name": "ipython",
    "version": 3
   },
   "file_extension": ".py",
   "mimetype": "text/x-python",
   "name": "python",
   "nbconvert_exporter": "python",
   "pygments_lexer": "ipython3",
   "version": "3.11.0"
  }
 },
 "nbformat": 4,
 "nbformat_minor": 2
}
