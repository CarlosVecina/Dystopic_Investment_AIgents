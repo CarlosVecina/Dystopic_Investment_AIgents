{
 "cells": [
  {
   "cell_type": "code",
   "execution_count": 1,
   "metadata": {},
   "outputs": [],
   "source": [
    "import dotenv\n",
    "import requests\n",
    "import os\n",
    "\n",
    "dotenv.load_dotenv()\n",
    "\n",
    "PHUNT_API_TOKEN = os.environ[\"PHUNT_API_TOKEN\"]\n",
    "\n",
    "def fetch_posts(n_posts: int):\n",
    "    url = \"https://api.producthunt.com/v2/api/graphql\"\n",
    "    headers = {'Authorization': 'Bearer {}'.format(PHUNT_API_TOKEN)}\n",
    "    data = {\n",
    "        \"query\":\n",
    "            \"\"\"{\n",
    "              posts(first: %d) {\n",
    "                edges {\n",
    "                  node {\n",
    "                    id\n",
    "                    name\n",
    "                    description\n",
    "                    url\n",
    "                    votesCount\n",
    "                    topics {\n",
    "                      edges {\n",
    "                        node {\n",
    "                          name\n",
    "                        }\n",
    "                      }\n",
    "                    }\n",
    "                  }\n",
    "                }\n",
    "              }\n",
    "            }\"\"\" % n_posts\n",
    "        }\n",
    "    r = requests.post(url, json = data, headers=headers)\n",
    "    result = r.json()\n",
    "    return result"
   ]
  },
  {
   "cell_type": "code",
   "execution_count": 2,
   "metadata": {},
   "outputs": [],
   "source": [
    "response = fetch_posts(10)"
   ]
  },
  {
   "cell_type": "code",
   "execution_count": 3,
   "metadata": {},
   "outputs": [
    {
     "data": {
      "text/plain": [
       "{'data': {'posts': {'edges': [{'node': {'id': '452266',\n",
       "      'name': 'Grimo AI (Alpha)',\n",
       "      'description': 'Grimo is not just another notebook. It is built for crazy learners and creators. It is where you get access to serious and valuable knowledge, without leaving the notebook. Less time on searching and organizing knowledge. More on learning.',\n",
       "      'url': 'https://www.producthunt.com/posts/grimo-ai-alpha?utm_campaign=producthunt-api&utm_medium=api-v2&utm_source=Application%3A+dystopian_index+%28ID%3A+122213%29',\n",
       "      'votesCount': 65,\n",
       "      'topics': {'edges': [{'node': {'name': 'Productivity'}},\n",
       "        {'node': {'name': 'Notes'}},\n",
       "        {'node': {'name': 'Artificial Intelligence'}}]}}},\n",
       "    {'node': {'id': '453029',\n",
       "      'name': 'Parny',\n",
       "      'description': 'Parny is the all-in-one solution for on-call management and monitoring alert services. It leverages a social media-style experience and AI-powered solutions.',\n",
       "      'url': 'https://www.producthunt.com/posts/parny?utm_campaign=producthunt-api&utm_medium=api-v2&utm_source=Application%3A+dystopian_index+%28ID%3A+122213%29',\n",
       "      'votesCount': 63,\n",
       "      'topics': {'edges': [{'node': {'name': 'Productivity'}},\n",
       "        {'node': {'name': 'Developer Tools'}},\n",
       "        {'node': {'name': 'Tech'}}]}}},\n",
       "    {'node': {'id': '450036',\n",
       "      'name': 'Stevie AI',\n",
       "      'description': 'Stevie AI is an SEO Assistant that helps any non-marketers to rank their website in minutes by offering quality data, SEO report analysis, and providing user with contents and strategies that gets their website ranked for the keywords they are missing out on.',\n",
       "      'url': 'https://www.producthunt.com/posts/stevie-ai?utm_campaign=producthunt-api&utm_medium=api-v2&utm_source=Application%3A+dystopian_index+%28ID%3A+122213%29',\n",
       "      'votesCount': 53,\n",
       "      'topics': {'edges': [{'node': {'name': 'SEO'}}]}}},\n",
       "    {'node': {'id': '449283',\n",
       "      'name': 'Promomix',\n",
       "      'description': \"Don't know what to say after shooting a UGC video or product demo video? Use Promomix Generate Voice Over For Your Short Video.\",\n",
       "      'url': 'https://www.producthunt.com/posts/promomix?utm_campaign=producthunt-api&utm_medium=api-v2&utm_source=Application%3A+dystopian_index+%28ID%3A+122213%29',\n",
       "      'votesCount': 45,\n",
       "      'topics': {'edges': [{'node': {'name': 'Social Media'}},\n",
       "        {'node': {'name': 'Artificial Intelligence'}},\n",
       "        {'node': {'name': 'Audio'}}]}}},\n",
       "    {'node': {'id': '452339',\n",
       "      'name': 'SnapSign',\n",
       "      'description': 'SnapSign provides a simple and affordable solution for creating and signing model releases and other contracts related to image and video rights, directly from your mobile devices.',\n",
       "      'url': 'https://www.producthunt.com/posts/snapsign?utm_campaign=producthunt-api&utm_medium=api-v2&utm_source=Application%3A+dystopian_index+%28ID%3A+122213%29',\n",
       "      'votesCount': 38,\n",
       "      'topics': {'edges': [{'node': {'name': 'Productivity'}},\n",
       "        {'node': {'name': 'Photography'}},\n",
       "        {'node': {'name': 'Video'}}]}}},\n",
       "    {'node': {'id': '453073',\n",
       "      'name': 'KickRender',\n",
       "      'description': 'KickRender is a 3D rendering tool powered by AI technology. It transforms your untextured 3D models into stunning, lifelike visualizations with unparalleled ease, delivering results in minutes instead of hours.',\n",
       "      'url': 'https://www.producthunt.com/posts/kickrender?utm_campaign=producthunt-api&utm_medium=api-v2&utm_source=Application%3A+dystopian_index+%28ID%3A+122213%29',\n",
       "      'votesCount': 45,\n",
       "      'topics': {'edges': [{'node': {'name': 'Design Tools'}},\n",
       "        {'node': {'name': '3D Modeling'}},\n",
       "        {'node': {'name': 'Interior design'}}]}}},\n",
       "    {'node': {'id': '452546',\n",
       "      'name': 'Sphēra: Emotion Tracker',\n",
       "      'description': \"We don't believe in labeling emotions as right or wrong. We also believe that for better results, you need to dig deeper. That's why Sphēra is not just a mood tracker; it's your guide into the world of emotions, the real cause of your mood and feelings.\",\n",
       "      'url': 'https://www.producthunt.com/posts/sphera-emotion-tracker?utm_campaign=producthunt-api&utm_medium=api-v2&utm_source=Application%3A+dystopian_index+%28ID%3A+122213%29',\n",
       "      'votesCount': 41,\n",
       "      'topics': {'edges': [{'node': {'name': 'Health & Fitness'}}]}}},\n",
       "    {'node': {'id': '452961',\n",
       "      'name': 'Vidnoz AI 2.8',\n",
       "      'description': '①600+ AI avatars, 470+AI voices, 700+ video templates are 100% FREE to use. ②A dual-avatar conversation mode was launched now! ③13M+ stickers & 50M+ Freepik images are available now.',\n",
       "      'url': 'https://www.producthunt.com/posts/vidnoz-ai-2-8?utm_campaign=producthunt-api&utm_medium=api-v2&utm_source=Application%3A+dystopian_index+%28ID%3A+122213%29',\n",
       "      'votesCount': 40,\n",
       "      'topics': {'edges': [{'node': {'name': 'Artificial Intelligence'}},\n",
       "        {'node': {'name': 'Video'}}]}}},\n",
       "    {'node': {'id': '452935',\n",
       "      'name': 'Album Cleaner: SwipeClea',\n",
       "      'description': 'SwipeClean is the ultimate solution for organizing your camera roll effortlessly. Gone are the days of cluttered photo collections – with SwipeClean, you can reminisce while tidying up your memories.',\n",
       "      'url': 'https://www.producthunt.com/posts/album-cleaner-swipeclea?utm_campaign=producthunt-api&utm_medium=api-v2&utm_source=Application%3A+dystopian_index+%28ID%3A+122213%29',\n",
       "      'votesCount': 39,\n",
       "      'topics': {'edges': [{'node': {'name': 'Apple'}},\n",
       "        {'node': {'name': 'Video'}},\n",
       "        {'node': {'name': 'Photo editing'}}]}}},\n",
       "    {'node': {'id': '443760',\n",
       "      'name': 'WebCurate',\n",
       "      'description': 'An advanced directory where you can showcase your product to gain more exposure and discover the best tools and resources in one place. Find out highly useful tools & resources with details and save vast amounts of time searching for them.',\n",
       "      'url': 'https://www.producthunt.com/posts/webcurate?utm_campaign=producthunt-api&utm_medium=api-v2&utm_source=Application%3A+dystopian_index+%28ID%3A+122213%29',\n",
       "      'votesCount': 29,\n",
       "      'topics': {'edges': [{'node': {'name': 'Design Tools'}},\n",
       "        {'node': {'name': 'Developer Tools'}},\n",
       "        {'node': {'name': 'Maker Tools'}}]}}}]}}}"
      ]
     },
     "execution_count": 3,
     "metadata": {},
     "output_type": "execute_result"
    }
   ],
   "source": [
    "response"
   ]
  },
  {
   "cell_type": "code",
   "execution_count": 4,
   "metadata": {},
   "outputs": [
    {
     "data": {
      "text/plain": [
       "[{'node': {'id': '452266',\n",
       "   'name': 'Grimo AI (Alpha)',\n",
       "   'description': 'Grimo is not just another notebook. It is built for crazy learners and creators. It is where you get access to serious and valuable knowledge, without leaving the notebook. Less time on searching and organizing knowledge. More on learning.',\n",
       "   'url': 'https://www.producthunt.com/posts/grimo-ai-alpha?utm_campaign=producthunt-api&utm_medium=api-v2&utm_source=Application%3A+dystopian_index+%28ID%3A+122213%29',\n",
       "   'votesCount': 65,\n",
       "   'topics': {'edges': [{'node': {'name': 'Productivity'}},\n",
       "     {'node': {'name': 'Notes'}},\n",
       "     {'node': {'name': 'Artificial Intelligence'}}]}}},\n",
       " {'node': {'id': '453029',\n",
       "   'name': 'Parny',\n",
       "   'description': 'Parny is the all-in-one solution for on-call management and monitoring alert services. It leverages a social media-style experience and AI-powered solutions.',\n",
       "   'url': 'https://www.producthunt.com/posts/parny?utm_campaign=producthunt-api&utm_medium=api-v2&utm_source=Application%3A+dystopian_index+%28ID%3A+122213%29',\n",
       "   'votesCount': 63,\n",
       "   'topics': {'edges': [{'node': {'name': 'Productivity'}},\n",
       "     {'node': {'name': 'Developer Tools'}},\n",
       "     {'node': {'name': 'Tech'}}]}}},\n",
       " {'node': {'id': '450036',\n",
       "   'name': 'Stevie AI',\n",
       "   'description': 'Stevie AI is an SEO Assistant that helps any non-marketers to rank their website in minutes by offering quality data, SEO report analysis, and providing user with contents and strategies that gets their website ranked for the keywords they are missing out on.',\n",
       "   'url': 'https://www.producthunt.com/posts/stevie-ai?utm_campaign=producthunt-api&utm_medium=api-v2&utm_source=Application%3A+dystopian_index+%28ID%3A+122213%29',\n",
       "   'votesCount': 53,\n",
       "   'topics': {'edges': [{'node': {'name': 'SEO'}}]}}},\n",
       " {'node': {'id': '449283',\n",
       "   'name': 'Promomix',\n",
       "   'description': \"Don't know what to say after shooting a UGC video or product demo video? Use Promomix Generate Voice Over For Your Short Video.\",\n",
       "   'url': 'https://www.producthunt.com/posts/promomix?utm_campaign=producthunt-api&utm_medium=api-v2&utm_source=Application%3A+dystopian_index+%28ID%3A+122213%29',\n",
       "   'votesCount': 45,\n",
       "   'topics': {'edges': [{'node': {'name': 'Social Media'}},\n",
       "     {'node': {'name': 'Artificial Intelligence'}},\n",
       "     {'node': {'name': 'Audio'}}]}}},\n",
       " {'node': {'id': '452339',\n",
       "   'name': 'SnapSign',\n",
       "   'description': 'SnapSign provides a simple and affordable solution for creating and signing model releases and other contracts related to image and video rights, directly from your mobile devices.',\n",
       "   'url': 'https://www.producthunt.com/posts/snapsign?utm_campaign=producthunt-api&utm_medium=api-v2&utm_source=Application%3A+dystopian_index+%28ID%3A+122213%29',\n",
       "   'votesCount': 38,\n",
       "   'topics': {'edges': [{'node': {'name': 'Productivity'}},\n",
       "     {'node': {'name': 'Photography'}},\n",
       "     {'node': {'name': 'Video'}}]}}},\n",
       " {'node': {'id': '453073',\n",
       "   'name': 'KickRender',\n",
       "   'description': 'KickRender is a 3D rendering tool powered by AI technology. It transforms your untextured 3D models into stunning, lifelike visualizations with unparalleled ease, delivering results in minutes instead of hours.',\n",
       "   'url': 'https://www.producthunt.com/posts/kickrender?utm_campaign=producthunt-api&utm_medium=api-v2&utm_source=Application%3A+dystopian_index+%28ID%3A+122213%29',\n",
       "   'votesCount': 45,\n",
       "   'topics': {'edges': [{'node': {'name': 'Design Tools'}},\n",
       "     {'node': {'name': '3D Modeling'}},\n",
       "     {'node': {'name': 'Interior design'}}]}}},\n",
       " {'node': {'id': '452546',\n",
       "   'name': 'Sphēra: Emotion Tracker',\n",
       "   'description': \"We don't believe in labeling emotions as right or wrong. We also believe that for better results, you need to dig deeper. That's why Sphēra is not just a mood tracker; it's your guide into the world of emotions, the real cause of your mood and feelings.\",\n",
       "   'url': 'https://www.producthunt.com/posts/sphera-emotion-tracker?utm_campaign=producthunt-api&utm_medium=api-v2&utm_source=Application%3A+dystopian_index+%28ID%3A+122213%29',\n",
       "   'votesCount': 41,\n",
       "   'topics': {'edges': [{'node': {'name': 'Health & Fitness'}}]}}},\n",
       " {'node': {'id': '452961',\n",
       "   'name': 'Vidnoz AI 2.8',\n",
       "   'description': '①600+ AI avatars, 470+AI voices, 700+ video templates are 100% FREE to use. ②A dual-avatar conversation mode was launched now! ③13M+ stickers & 50M+ Freepik images are available now.',\n",
       "   'url': 'https://www.producthunt.com/posts/vidnoz-ai-2-8?utm_campaign=producthunt-api&utm_medium=api-v2&utm_source=Application%3A+dystopian_index+%28ID%3A+122213%29',\n",
       "   'votesCount': 40,\n",
       "   'topics': {'edges': [{'node': {'name': 'Artificial Intelligence'}},\n",
       "     {'node': {'name': 'Video'}}]}}},\n",
       " {'node': {'id': '452935',\n",
       "   'name': 'Album Cleaner: SwipeClea',\n",
       "   'description': 'SwipeClean is the ultimate solution for organizing your camera roll effortlessly. Gone are the days of cluttered photo collections – with SwipeClean, you can reminisce while tidying up your memories.',\n",
       "   'url': 'https://www.producthunt.com/posts/album-cleaner-swipeclea?utm_campaign=producthunt-api&utm_medium=api-v2&utm_source=Application%3A+dystopian_index+%28ID%3A+122213%29',\n",
       "   'votesCount': 39,\n",
       "   'topics': {'edges': [{'node': {'name': 'Apple'}},\n",
       "     {'node': {'name': 'Video'}},\n",
       "     {'node': {'name': 'Photo editing'}}]}}},\n",
       " {'node': {'id': '443760',\n",
       "   'name': 'WebCurate',\n",
       "   'description': 'An advanced directory where you can showcase your product to gain more exposure and discover the best tools and resources in one place. Find out highly useful tools & resources with details and save vast amounts of time searching for them.',\n",
       "   'url': 'https://www.producthunt.com/posts/webcurate?utm_campaign=producthunt-api&utm_medium=api-v2&utm_source=Application%3A+dystopian_index+%28ID%3A+122213%29',\n",
       "   'votesCount': 29,\n",
       "   'topics': {'edges': [{'node': {'name': 'Design Tools'}},\n",
       "     {'node': {'name': 'Developer Tools'}},\n",
       "     {'node': {'name': 'Maker Tools'}}]}}}]"
      ]
     },
     "execution_count": 4,
     "metadata": {},
     "output_type": "execute_result"
    }
   ],
   "source": [
    "product_list = response[\"data\"][\"posts\"][\"edges\"]\n",
    "product_list"
   ]
  },
  {
   "cell_type": "code",
   "execution_count": 5,
   "metadata": {},
   "outputs": [],
   "source": [
    "from pydantic import BaseModel\n",
    "\n",
    "class PHuntProduct(BaseModel):\n",
    "    id: str\n",
    "    name: str\n",
    "    description: str\n",
    "    url: str\n",
    "    n_votes: int\n",
    "    prod_topics: str"
   ]
  },
  {
   "cell_type": "code",
   "execution_count": 6,
   "metadata": {},
   "outputs": [],
   "source": [
    "product_dict = product_list[0][\"node\"]\n",
    "product_dict[\"n_votes\"] = product_dict[\"votesCount\"]\n",
    "product_dict[\"prod_topics\"] = \", \".join([i[\"node\"][\"name\"] for i in product_dict[\"topics\"][\"edges\"]])"
   ]
  },
  {
   "cell_type": "code",
   "execution_count": 7,
   "metadata": {},
   "outputs": [
    {
     "data": {
      "text/plain": [
       "PHuntProduct(id='452266', name='Grimo AI (Alpha)', description='Grimo is not just another notebook. It is built for crazy learners and creators. It is where you get access to serious and valuable knowledge, without leaving the notebook. Less time on searching and organizing knowledge. More on learning.', url='https://www.producthunt.com/posts/grimo-ai-alpha?utm_campaign=producthunt-api&utm_medium=api-v2&utm_source=Application%3A+dystopian_index+%28ID%3A+122213%29', n_votes=65, prod_topics='Productivity, Notes, Artificial Intelligence')"
      ]
     },
     "execution_count": 7,
     "metadata": {},
     "output_type": "execute_result"
    }
   ],
   "source": [
    "PHuntProduct.model_validate(product_dict)"
   ]
  },
  {
   "cell_type": "code",
   "execution_count": 8,
   "metadata": {},
   "outputs": [
    {
     "name": "stdout",
     "output_type": "stream",
     "text": [
      "id='452266' name='Grimo AI (Alpha)' description='Grimo is not just another notebook. It is built for crazy learners and creators. It is where you get access to serious and valuable knowledge, without leaving the notebook. Less time on searching and organizing knowledge. More on learning.' url='https://www.producthunt.com/posts/grimo-ai-alpha?utm_campaign=producthunt-api&utm_medium=api-v2&utm_source=Application%3A+dystopian_index+%28ID%3A+122213%29' n_votes=65 prod_topics='Productivity, Notes, Artificial Intelligence'\n",
      "id='453029' name='Parny' description='Parny is the all-in-one solution for on-call management and monitoring alert services. It leverages a social media-style experience and AI-powered solutions.' url='https://www.producthunt.com/posts/parny?utm_campaign=producthunt-api&utm_medium=api-v2&utm_source=Application%3A+dystopian_index+%28ID%3A+122213%29' n_votes=63 prod_topics='Productivity, Developer Tools, Tech'\n",
      "id='450036' name='Stevie AI' description='Stevie AI is an SEO Assistant that helps any non-marketers to rank their website in minutes by offering quality data, SEO report analysis, and providing user with contents and strategies that gets their website ranked for the keywords they are missing out on.' url='https://www.producthunt.com/posts/stevie-ai?utm_campaign=producthunt-api&utm_medium=api-v2&utm_source=Application%3A+dystopian_index+%28ID%3A+122213%29' n_votes=53 prod_topics='SEO'\n",
      "id='449283' name='Promomix' description=\"Don't know what to say after shooting a UGC video or product demo video? Use Promomix Generate Voice Over For Your Short Video.\" url='https://www.producthunt.com/posts/promomix?utm_campaign=producthunt-api&utm_medium=api-v2&utm_source=Application%3A+dystopian_index+%28ID%3A+122213%29' n_votes=45 prod_topics='Social Media, Artificial Intelligence, Audio'\n",
      "id='452339' name='SnapSign' description='SnapSign provides a simple and affordable solution for creating and signing model releases and other contracts related to image and video rights, directly from your mobile devices.' url='https://www.producthunt.com/posts/snapsign?utm_campaign=producthunt-api&utm_medium=api-v2&utm_source=Application%3A+dystopian_index+%28ID%3A+122213%29' n_votes=38 prod_topics='Productivity, Photography, Video'\n",
      "id='453073' name='KickRender' description='KickRender is a 3D rendering tool powered by AI technology. It transforms your untextured 3D models into stunning, lifelike visualizations with unparalleled ease, delivering results in minutes instead of hours.' url='https://www.producthunt.com/posts/kickrender?utm_campaign=producthunt-api&utm_medium=api-v2&utm_source=Application%3A+dystopian_index+%28ID%3A+122213%29' n_votes=45 prod_topics='Design Tools, 3D Modeling, Interior design'\n",
      "id='452546' name='Sphēra: Emotion Tracker' description=\"We don't believe in labeling emotions as right or wrong. We also believe that for better results, you need to dig deeper. That's why Sphēra is not just a mood tracker; it's your guide into the world of emotions, the real cause of your mood and feelings.\" url='https://www.producthunt.com/posts/sphera-emotion-tracker?utm_campaign=producthunt-api&utm_medium=api-v2&utm_source=Application%3A+dystopian_index+%28ID%3A+122213%29' n_votes=41 prod_topics='Health & Fitness'\n",
      "id='452961' name='Vidnoz AI 2.8' description='①600+ AI avatars, 470+AI voices, 700+ video templates are 100% FREE to use. ②A dual-avatar conversation mode was launched now! ③13M+ stickers & 50M+ Freepik images are available now.' url='https://www.producthunt.com/posts/vidnoz-ai-2-8?utm_campaign=producthunt-api&utm_medium=api-v2&utm_source=Application%3A+dystopian_index+%28ID%3A+122213%29' n_votes=40 prod_topics='Artificial Intelligence, Video'\n",
      "id='452935' name='Album Cleaner: SwipeClea' description='SwipeClean is the ultimate solution for organizing your camera roll effortlessly. Gone are the days of cluttered photo collections – with SwipeClean, you can reminisce while tidying up your memories.' url='https://www.producthunt.com/posts/album-cleaner-swipeclea?utm_campaign=producthunt-api&utm_medium=api-v2&utm_source=Application%3A+dystopian_index+%28ID%3A+122213%29' n_votes=39 prod_topics='Apple, Video, Photo editing'\n",
      "id='443760' name='WebCurate' description='An advanced directory where you can showcase your product to gain more exposure and discover the best tools and resources in one place. Find out highly useful tools & resources with details and save vast amounts of time searching for them.' url='https://www.producthunt.com/posts/webcurate?utm_campaign=producthunt-api&utm_medium=api-v2&utm_source=Application%3A+dystopian_index+%28ID%3A+122213%29' n_votes=29 prod_topics='Design Tools, Developer Tools, Maker Tools'\n"
     ]
    }
   ],
   "source": [
    "for product in product_list:\n",
    "    product_dict = product[\"node\"]\n",
    "    product_dict[\"n_votes\"] = product_dict[\"votesCount\"]\n",
    "    product_dict[\"prod_topics\"] = \", \".join([i[\"node\"][\"name\"] for i in product_dict[\"topics\"][\"edges\"]])\n",
    "    product_model = PHuntProduct.model_validate(product_dict)\n",
    "    print(product_model)"
   ]
  },
  {
   "cell_type": "markdown",
   "metadata": {},
   "source": [
    "### Try download script"
   ]
  },
  {
   "cell_type": "code",
   "execution_count": 9,
   "metadata": {},
   "outputs": [],
   "source": [
    "from src.data_ingestion.download_product_hunt import fetch_ph_posts, parse_ph_response\n",
    "\n",
    "\n",
    "response = fetch_ph_posts(10)\n",
    "product_list = parse_ph_response(response)"
   ]
  },
  {
   "cell_type": "code",
   "execution_count": 10,
   "metadata": {},
   "outputs": [
    {
     "data": {
      "text/plain": [
       "[PHuntProduct(id='453029', name='Parny', description='Parny is the all-in-one solution for on-call management and monitoring alert services. It leverages a social media-style experience and AI-powered solutions.', url='https://www.producthunt.com/posts/parny?utm_campaign=producthunt-api&utm_medium=api-v2&utm_source=Application%3A+dystopian_index+%28ID%3A+122213%29', n_votes=69, prod_topics='Productivity, Developer Tools, Tech'),\n",
       " PHuntProduct(id='452266', name='Grimo AI (Alpha)', description='Grimo is not just another notebook. It is built for crazy learners and creators. It is where you get access to serious and valuable knowledge, without leaving the notebook. Less time on searching and organizing knowledge. More on learning.', url='https://www.producthunt.com/posts/grimo-ai-alpha?utm_campaign=producthunt-api&utm_medium=api-v2&utm_source=Application%3A+dystopian_index+%28ID%3A+122213%29', n_votes=68, prod_topics='Productivity, Notes, Artificial Intelligence'),\n",
       " PHuntProduct(id='450036', name='Stevie AI', description='Stevie AI is an SEO Assistant that helps any non-marketers to rank their website in minutes by offering quality data, SEO report analysis, and providing user with contents and strategies that gets their website ranked for the keywords they are missing out on.', url='https://www.producthunt.com/posts/stevie-ai?utm_campaign=producthunt-api&utm_medium=api-v2&utm_source=Application%3A+dystopian_index+%28ID%3A+122213%29', n_votes=56, prod_topics='SEO'),\n",
       " PHuntProduct(id='449283', name='Promomix', description=\"Don't know what to say after shooting a UGC video or product demo video? Use Promomix Generate Voice Over For Your Short Video.\", url='https://www.producthunt.com/posts/promomix?utm_campaign=producthunt-api&utm_medium=api-v2&utm_source=Application%3A+dystopian_index+%28ID%3A+122213%29', n_votes=47, prod_topics='Social Media, Artificial Intelligence, Audio'),\n",
       " PHuntProduct(id='452339', name='SnapSign', description='SnapSign provides a simple and affordable solution for creating and signing model releases and other contracts related to image and video rights, directly from your mobile devices.', url='https://www.producthunt.com/posts/snapsign?utm_campaign=producthunt-api&utm_medium=api-v2&utm_source=Application%3A+dystopian_index+%28ID%3A+122213%29', n_votes=41, prod_topics='Productivity, Photography, Video'),\n",
       " PHuntProduct(id='453073', name='KickRender', description='KickRender is a 3D rendering tool powered by AI technology. It transforms your untextured 3D models into stunning, lifelike visualizations with unparalleled ease, delivering results in minutes instead of hours.', url='https://www.producthunt.com/posts/kickrender?utm_campaign=producthunt-api&utm_medium=api-v2&utm_source=Application%3A+dystopian_index+%28ID%3A+122213%29', n_votes=47, prod_topics='Design Tools, 3D Modeling, Interior design'),\n",
       " PHuntProduct(id='452546', name='Sphēra: Emotion Tracker', description=\"We don't believe in labeling emotions as right or wrong. We also believe that for better results, you need to dig deeper. That's why Sphēra is not just a mood tracker; it's your guide into the world of emotions, the real cause of your mood and feelings.\", url='https://www.producthunt.com/posts/sphera-emotion-tracker?utm_campaign=producthunt-api&utm_medium=api-v2&utm_source=Application%3A+dystopian_index+%28ID%3A+122213%29', n_votes=43, prod_topics='Health & Fitness'),\n",
       " PHuntProduct(id='452961', name='Vidnoz AI 2.8', description='①600+ AI avatars, 470+AI voices, 700+ video templates are 100% FREE to use. ②A dual-avatar conversation mode was launched now! ③13M+ stickers & 50M+ Freepik images are available now.', url='https://www.producthunt.com/posts/vidnoz-ai-2-8?utm_campaign=producthunt-api&utm_medium=api-v2&utm_source=Application%3A+dystopian_index+%28ID%3A+122213%29', n_votes=42, prod_topics='Artificial Intelligence, Video'),\n",
       " PHuntProduct(id='452935', name='Album Cleaner: SwipeClea', description='SwipeClean is the ultimate solution for organizing your camera roll effortlessly. Gone are the days of cluttered photo collections – with SwipeClean, you can reminisce while tidying up your memories.', url='https://www.producthunt.com/posts/album-cleaner-swipeclea?utm_campaign=producthunt-api&utm_medium=api-v2&utm_source=Application%3A+dystopian_index+%28ID%3A+122213%29', n_votes=41, prod_topics='Apple, Video, Photo editing'),\n",
       " PHuntProduct(id='443760', name='WebCurate', description='An advanced directory where you can showcase your product to gain more exposure and discover the best tools and resources in one place. Find out highly useful tools & resources with details and save vast amounts of time searching for them.', url='https://www.producthunt.com/posts/webcurate?utm_campaign=producthunt-api&utm_medium=api-v2&utm_source=Application%3A+dystopian_index+%28ID%3A+122213%29', n_votes=32, prod_topics='Design Tools, Developer Tools, Maker Tools')]"
      ]
     },
     "execution_count": 10,
     "metadata": {},
     "output_type": "execute_result"
    }
   ],
   "source": [
    "product_list"
   ]
  }
 ],
 "metadata": {
  "kernelspec": {
   "display_name": ".venv",
   "language": "python",
   "name": "python3"
  },
  "language_info": {
   "codemirror_mode": {
    "name": "ipython",
    "version": 3
   },
   "file_extension": ".py",
   "mimetype": "text/x-python",
   "name": "python",
   "nbconvert_exporter": "python",
   "pygments_lexer": "ipython3",
   "version": "3.10.13"
  }
 },
 "nbformat": 4,
 "nbformat_minor": 2
}
