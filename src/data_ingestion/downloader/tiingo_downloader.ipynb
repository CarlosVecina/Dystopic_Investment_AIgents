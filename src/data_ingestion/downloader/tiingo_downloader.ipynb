{
 "cells": [
  {
   "cell_type": "markdown",
   "metadata": {},
   "source": [
    "## Available stocks"
   ]
  },
  {
   "cell_type": "code",
   "execution_count": 17,
   "metadata": {},
   "outputs": [],
   "source": [
    "from dotenv import load_dotenv\n",
    "import pandas as pd\n",
    "import requests\n",
    "import datetime\n",
    "import os\n",
    "\n",
    "from sqlalchemy import text\n",
    "\n",
    "load_dotenv()\n",
    "\n",
    "TIINGO_API = os.environ[\"TIINGO_API\"]"
   ]
  },
  {
   "cell_type": "code",
   "execution_count": null,
   "metadata": {},
   "outputs": [],
   "source": [
    "headers = {\n",
    "    'Content-Type': 'application/json'\n",
    "}\n",
    "response = requests.get(f\"https://api.tiingo.com/tiingo/daily/meta?token={TIINGO_API}&columns=permaTicker,ticker,exchange,isActive\", headers=headers).json()"
   ]
  },
  {
   "cell_type": "code",
   "execution_count": null,
   "metadata": {},
   "outputs": [],
   "source": [
    "all_tickers = pd.DataFrame(response)\n",
    "\n",
    "today = datetime.datetime.now()\n",
    "all_tickers[\"created_at\"] = today"
   ]
  },
  {
   "cell_type": "code",
   "execution_count": null,
   "metadata": {},
   "outputs": [],
   "source": [
    "all_tickers.to_csv(f\"config/supported_tickers_{today}.csv\", index=False)"
   ]
  },
  {
   "cell_type": "markdown",
   "metadata": {},
   "source": [
    "### Export NSYE and NASDAQ tickers"
   ]
  },
  {
   "cell_type": "code",
   "execution_count": 1,
   "metadata": {},
   "outputs": [],
   "source": [
    "import os\n",
    "from src.data_ingestion.db.postgres_db import PostgresConfig, PostgresDB\n",
    "\n",
    "\n",
    "db_config = PostgresConfig(\n",
    "    host=os.environ[\"SB_DDBB_HOST\"],\n",
    "    port=os.environ[\"SB_DDBB_PORT\"],\n",
    "    database=os.environ[\"SB_DDBB_DATABASE\"],\n",
    "    user=os.environ[\"SB_DDBB_USER\"],\n",
    "    password=os.environ[\"SB_DDBB_PWD\"]\n",
    ")\n",
    "db = PostgresDB(config=db_config)\n"
   ]
  },
  {
   "cell_type": "code",
   "execution_count": null,
   "metadata": {},
   "outputs": [],
   "source": [
    "all_tickers[all_tickers[\"exchange\"].isin([\"NASDAQ\", \"NYSE\"]) & all_tickers[\"isActive\"]].to_sql(\"active_tickers\", db.engine, if_exists='append', index=False)"
   ]
  },
  {
   "cell_type": "markdown",
   "metadata": {},
   "source": [
    "Check database insertion"
   ]
  },
  {
   "cell_type": "code",
   "execution_count": 18,
   "metadata": {},
   "outputs": [],
   "source": [
    "# Query based\n",
    "df_all_tickers = pd.read_sql(text(\"SELECT ticker FROM active_tickers WHERE created_at = :date_filter\"), db.engine, params={\"date_filter\": pd.read_sql(text(\"SELECT max(created_at) FROM active_tickers\"), db.engine)[\"max\"].to_list()[0]})"
   ]
  },
  {
   "cell_type": "code",
   "execution_count": null,
   "metadata": {},
   "outputs": [],
   "source": [
    "# In our object. To be decoupled\n",
    "from src.data_ingestion.downloader.config.tiingo_ticker_downloader import TiingoDownloader\n",
    "\n",
    "dwn = TiingoDownloader(engine=db.engine)  \n",
    "dwn.available_tickers(date=None)"
   ]
  },
  {
   "cell_type": "markdown",
   "metadata": {},
   "source": [
    "## End day OHLC"
   ]
  },
  {
   "cell_type": "code",
   "execution_count": 9,
   "metadata": {},
   "outputs": [],
   "source": [
    "import datetime\n",
    "\n",
    "ticker = \"aapl\"\n",
    "yesteday_close_date = datetime.datetime(2024, 7 ,18)"
   ]
  },
  {
   "cell_type": "code",
   "execution_count": 10,
   "metadata": {},
   "outputs": [],
   "source": [
    "from src.data_ingestion.downloader.config.tiingo_ticker_downloader import TiingoDownloader\n",
    "\n",
    "dwn = TiingoDownloader(engine=db.engine)  \n",
    "tickers = dwn.available_tickers(date=None)[\"ticker\"].to_list()"
   ]
  },
  {
   "cell_type": "code",
   "execution_count": 12,
   "metadata": {},
   "outputs": [
    {
     "name": "stdout",
     "output_type": "stream",
     "text": [
      "[{'date': '2024-07-18T00:00:00.000Z', 'close': 0.15, 'high': 0.15, 'low': 0.15, 'open': 0.15, 'volume': 0, 'adjClose': 0.15, 'adjHigh': 0.15, 'adjLow': 0.15, 'adjOpen': 0.15, 'adjVolume': 0, 'divCash': 0.0, 'splitFactor': 1.0}]\n",
      "[{'date': '2024-07-18T00:00:00.000Z', 'close': 25.28, 'high': 25.32, 'low': 25.239, 'open': 25.2975, 'volume': 14716, 'adjClose': 25.28, 'adjHigh': 25.32, 'adjLow': 25.239, 'adjOpen': 25.2975, 'adjVolume': 14716, 'divCash': 0.0, 'splitFactor': 1.0}]\n",
      "[{'date': '2024-07-18T00:00:00.000Z', 'close': 47.51, 'high': 48.56, 'low': 47.38, 'open': 48.34, 'volume': 7263517, 'adjClose': 47.51, 'adjHigh': 48.56, 'adjLow': 47.38, 'adjOpen': 48.34, 'adjVolume': 7263517, 'divCash': 0.0, 'splitFactor': 1.0}]\n",
      "[{'date': '2024-07-18T00:00:00.000Z', 'close': 13.61, 'high': 13.87, 'low': 13.51, 'open': 13.59, 'volume': 387216, 'adjClose': 13.61, 'adjHigh': 13.87, 'adjLow': 13.51, 'adjOpen': 13.59, 'adjVolume': 387216, 'divCash': 0.0, 'splitFactor': 1.0}]\n",
      "[{'date': '2024-07-18T00:00:00.000Z', 'close': 26.47, 'high': 27.76, 'low': 26.36, 'open': 27.7, 'volume': 1932964, 'adjClose': 26.47, 'adjHigh': 27.76, 'adjLow': 26.36, 'adjOpen': 27.7, 'adjVolume': 1932964, 'divCash': 0.0, 'splitFactor': 1.0}]\n"
     ]
    }
   ],
   "source": [
    "df = dwn.get_prices(tickers[0:5], yesteday_close_date)"
   ]
  },
  {
   "cell_type": "code",
   "execution_count": 13,
   "metadata": {},
   "outputs": [
    {
     "data": {
      "text/html": [
       "<div>\n",
       "<style scoped>\n",
       "    .dataframe tbody tr th:only-of-type {\n",
       "        vertical-align: middle;\n",
       "    }\n",
       "\n",
       "    .dataframe tbody tr th {\n",
       "        vertical-align: top;\n",
       "    }\n",
       "\n",
       "    .dataframe thead th {\n",
       "        text-align: right;\n",
       "    }\n",
       "</style>\n",
       "<table border=\"1\" class=\"dataframe\">\n",
       "  <thead>\n",
       "    <tr style=\"text-align: right;\">\n",
       "      <th></th>\n",
       "      <th>date</th>\n",
       "      <th>close</th>\n",
       "      <th>high</th>\n",
       "      <th>low</th>\n",
       "      <th>open</th>\n",
       "      <th>volume</th>\n",
       "      <th>adjClose</th>\n",
       "      <th>adjHigh</th>\n",
       "      <th>adjLow</th>\n",
       "      <th>adjOpen</th>\n",
       "      <th>adjVolume</th>\n",
       "      <th>divCash</th>\n",
       "      <th>splitFactor</th>\n",
       "    </tr>\n",
       "  </thead>\n",
       "  <tbody>\n",
       "    <tr>\n",
       "      <th>0</th>\n",
       "      <td>2024-07-18T00:00:00.000Z</td>\n",
       "      <td>0.15</td>\n",
       "      <td>0.15</td>\n",
       "      <td>0.150</td>\n",
       "      <td>0.1500</td>\n",
       "      <td>0</td>\n",
       "      <td>0.15</td>\n",
       "      <td>0.15</td>\n",
       "      <td>0.150</td>\n",
       "      <td>0.1500</td>\n",
       "      <td>0</td>\n",
       "      <td>0.0</td>\n",
       "      <td>1.0</td>\n",
       "    </tr>\n",
       "    <tr>\n",
       "      <th>0</th>\n",
       "      <td>2024-07-18T00:00:00.000Z</td>\n",
       "      <td>25.28</td>\n",
       "      <td>25.32</td>\n",
       "      <td>25.239</td>\n",
       "      <td>25.2975</td>\n",
       "      <td>14716</td>\n",
       "      <td>25.28</td>\n",
       "      <td>25.32</td>\n",
       "      <td>25.239</td>\n",
       "      <td>25.2975</td>\n",
       "      <td>14716</td>\n",
       "      <td>0.0</td>\n",
       "      <td>1.0</td>\n",
       "    </tr>\n",
       "    <tr>\n",
       "      <th>0</th>\n",
       "      <td>2024-07-18T00:00:00.000Z</td>\n",
       "      <td>47.51</td>\n",
       "      <td>48.56</td>\n",
       "      <td>47.380</td>\n",
       "      <td>48.3400</td>\n",
       "      <td>7263517</td>\n",
       "      <td>47.51</td>\n",
       "      <td>48.56</td>\n",
       "      <td>47.380</td>\n",
       "      <td>48.3400</td>\n",
       "      <td>7263517</td>\n",
       "      <td>0.0</td>\n",
       "      <td>1.0</td>\n",
       "    </tr>\n",
       "    <tr>\n",
       "      <th>0</th>\n",
       "      <td>2024-07-18T00:00:00.000Z</td>\n",
       "      <td>13.61</td>\n",
       "      <td>13.87</td>\n",
       "      <td>13.510</td>\n",
       "      <td>13.5900</td>\n",
       "      <td>387216</td>\n",
       "      <td>13.61</td>\n",
       "      <td>13.87</td>\n",
       "      <td>13.510</td>\n",
       "      <td>13.5900</td>\n",
       "      <td>387216</td>\n",
       "      <td>0.0</td>\n",
       "      <td>1.0</td>\n",
       "    </tr>\n",
       "    <tr>\n",
       "      <th>0</th>\n",
       "      <td>2024-07-18T00:00:00.000Z</td>\n",
       "      <td>26.47</td>\n",
       "      <td>27.76</td>\n",
       "      <td>26.360</td>\n",
       "      <td>27.7000</td>\n",
       "      <td>1932964</td>\n",
       "      <td>26.47</td>\n",
       "      <td>27.76</td>\n",
       "      <td>26.360</td>\n",
       "      <td>27.7000</td>\n",
       "      <td>1932964</td>\n",
       "      <td>0.0</td>\n",
       "      <td>1.0</td>\n",
       "    </tr>\n",
       "  </tbody>\n",
       "</table>\n",
       "</div>"
      ],
      "text/plain": [
       "                       date  close   high     low     open   volume  adjClose  \\\n",
       "0  2024-07-18T00:00:00.000Z   0.15   0.15   0.150   0.1500        0      0.15   \n",
       "0  2024-07-18T00:00:00.000Z  25.28  25.32  25.239  25.2975    14716     25.28   \n",
       "0  2024-07-18T00:00:00.000Z  47.51  48.56  47.380  48.3400  7263517     47.51   \n",
       "0  2024-07-18T00:00:00.000Z  13.61  13.87  13.510  13.5900   387216     13.61   \n",
       "0  2024-07-18T00:00:00.000Z  26.47  27.76  26.360  27.7000  1932964     26.47   \n",
       "\n",
       "   adjHigh  adjLow  adjOpen  adjVolume  divCash  splitFactor  \n",
       "0     0.15   0.150   0.1500          0      0.0          1.0  \n",
       "0    25.32  25.239  25.2975      14716      0.0          1.0  \n",
       "0    48.56  47.380  48.3400    7263517      0.0          1.0  \n",
       "0    13.87  13.510  13.5900     387216      0.0          1.0  \n",
       "0    27.76  26.360  27.7000    1932964      0.0          1.0  "
      ]
     },
     "execution_count": 13,
     "metadata": {},
     "output_type": "execute_result"
    }
   ],
   "source": [
    "df"
   ]
  },
  {
   "cell_type": "code",
   "execution_count": 15,
   "metadata": {},
   "outputs": [
    {
     "name": "stdout",
     "output_type": "stream",
     "text": [
      "[{'date': '2024-07-18T00:00:00.000Z', 'close': 0.15, 'high': 0.15, 'low': 0.15, 'open': 0.15, 'volume': 0, 'adjClose': 0.15, 'adjHigh': 0.15, 'adjLow': 0.15, 'adjOpen': 0.15, 'adjVolume': 0, 'divCash': 0.0, 'splitFactor': 1.0}]\n",
      "[{'date': '2024-07-18T00:00:00.000Z', 'close': 25.28, 'high': 25.32, 'low': 25.239, 'open': 25.2975, 'volume': 14716, 'adjClose': 25.28, 'adjHigh': 25.32, 'adjLow': 25.239, 'adjOpen': 25.2975, 'adjVolume': 14716, 'divCash': 0.0, 'splitFactor': 1.0}]\n",
      "[{'date': '2024-07-18T00:00:00.000Z', 'close': 47.51, 'high': 48.56, 'low': 47.38, 'open': 48.34, 'volume': 7263517, 'adjClose': 47.51, 'adjHigh': 48.56, 'adjLow': 47.38, 'adjOpen': 48.34, 'adjVolume': 7263517, 'divCash': 0.0, 'splitFactor': 1.0}]\n",
      "[{'date': '2024-07-18T00:00:00.000Z', 'close': 13.61, 'high': 13.87, 'low': 13.51, 'open': 13.59, 'volume': 387216, 'adjClose': 13.61, 'adjHigh': 13.87, 'adjLow': 13.51, 'adjOpen': 13.59, 'adjVolume': 387216, 'divCash': 0.0, 'splitFactor': 1.0}]\n",
      "[{'date': '2024-07-18T00:00:00.000Z', 'close': 26.47, 'high': 27.76, 'low': 26.36, 'open': 27.7, 'volume': 1932964, 'adjClose': 26.47, 'adjHigh': 27.76, 'adjLow': 26.36, 'adjOpen': 27.7, 'adjVolume': 1932964, 'divCash': 0.0, 'splitFactor': 1.0}]\n"
     ]
    }
   ],
   "source": [
    "df = dwn.get_daily_prices(tickers[0:5], yesteday_close_date)"
   ]
  },
  {
   "cell_type": "code",
   "execution_count": 16,
   "metadata": {},
   "outputs": [
    {
     "data": {
      "text/html": [
       "<div>\n",
       "<style scoped>\n",
       "    .dataframe tbody tr th:only-of-type {\n",
       "        vertical-align: middle;\n",
       "    }\n",
       "\n",
       "    .dataframe tbody tr th {\n",
       "        vertical-align: top;\n",
       "    }\n",
       "\n",
       "    .dataframe thead th {\n",
       "        text-align: right;\n",
       "    }\n",
       "</style>\n",
       "<table border=\"1\" class=\"dataframe\">\n",
       "  <thead>\n",
       "    <tr style=\"text-align: right;\">\n",
       "      <th></th>\n",
       "      <th>date</th>\n",
       "      <th>close</th>\n",
       "      <th>high</th>\n",
       "      <th>low</th>\n",
       "      <th>open</th>\n",
       "      <th>volume</th>\n",
       "      <th>adjClose</th>\n",
       "      <th>adjHigh</th>\n",
       "      <th>adjLow</th>\n",
       "      <th>adjOpen</th>\n",
       "      <th>adjVolume</th>\n",
       "      <th>divCash</th>\n",
       "      <th>splitFactor</th>\n",
       "    </tr>\n",
       "  </thead>\n",
       "  <tbody>\n",
       "    <tr>\n",
       "      <th>0</th>\n",
       "      <td>2024-07-18T00:00:00.000Z</td>\n",
       "      <td>0.15</td>\n",
       "      <td>0.15</td>\n",
       "      <td>0.150</td>\n",
       "      <td>0.1500</td>\n",
       "      <td>0</td>\n",
       "      <td>0.15</td>\n",
       "      <td>0.15</td>\n",
       "      <td>0.150</td>\n",
       "      <td>0.1500</td>\n",
       "      <td>0</td>\n",
       "      <td>0.0</td>\n",
       "      <td>1.0</td>\n",
       "    </tr>\n",
       "    <tr>\n",
       "      <th>0</th>\n",
       "      <td>2024-07-18T00:00:00.000Z</td>\n",
       "      <td>25.28</td>\n",
       "      <td>25.32</td>\n",
       "      <td>25.239</td>\n",
       "      <td>25.2975</td>\n",
       "      <td>14716</td>\n",
       "      <td>25.28</td>\n",
       "      <td>25.32</td>\n",
       "      <td>25.239</td>\n",
       "      <td>25.2975</td>\n",
       "      <td>14716</td>\n",
       "      <td>0.0</td>\n",
       "      <td>1.0</td>\n",
       "    </tr>\n",
       "    <tr>\n",
       "      <th>0</th>\n",
       "      <td>2024-07-18T00:00:00.000Z</td>\n",
       "      <td>47.51</td>\n",
       "      <td>48.56</td>\n",
       "      <td>47.380</td>\n",
       "      <td>48.3400</td>\n",
       "      <td>7263517</td>\n",
       "      <td>47.51</td>\n",
       "      <td>48.56</td>\n",
       "      <td>47.380</td>\n",
       "      <td>48.3400</td>\n",
       "      <td>7263517</td>\n",
       "      <td>0.0</td>\n",
       "      <td>1.0</td>\n",
       "    </tr>\n",
       "    <tr>\n",
       "      <th>0</th>\n",
       "      <td>2024-07-18T00:00:00.000Z</td>\n",
       "      <td>13.61</td>\n",
       "      <td>13.87</td>\n",
       "      <td>13.510</td>\n",
       "      <td>13.5900</td>\n",
       "      <td>387216</td>\n",
       "      <td>13.61</td>\n",
       "      <td>13.87</td>\n",
       "      <td>13.510</td>\n",
       "      <td>13.5900</td>\n",
       "      <td>387216</td>\n",
       "      <td>0.0</td>\n",
       "      <td>1.0</td>\n",
       "    </tr>\n",
       "    <tr>\n",
       "      <th>0</th>\n",
       "      <td>2024-07-18T00:00:00.000Z</td>\n",
       "      <td>26.47</td>\n",
       "      <td>27.76</td>\n",
       "      <td>26.360</td>\n",
       "      <td>27.7000</td>\n",
       "      <td>1932964</td>\n",
       "      <td>26.47</td>\n",
       "      <td>27.76</td>\n",
       "      <td>26.360</td>\n",
       "      <td>27.7000</td>\n",
       "      <td>1932964</td>\n",
       "      <td>0.0</td>\n",
       "      <td>1.0</td>\n",
       "    </tr>\n",
       "  </tbody>\n",
       "</table>\n",
       "</div>"
      ],
      "text/plain": [
       "                       date  close   high     low     open   volume  adjClose  \\\n",
       "0  2024-07-18T00:00:00.000Z   0.15   0.15   0.150   0.1500        0      0.15   \n",
       "0  2024-07-18T00:00:00.000Z  25.28  25.32  25.239  25.2975    14716     25.28   \n",
       "0  2024-07-18T00:00:00.000Z  47.51  48.56  47.380  48.3400  7263517     47.51   \n",
       "0  2024-07-18T00:00:00.000Z  13.61  13.87  13.510  13.5900   387216     13.61   \n",
       "0  2024-07-18T00:00:00.000Z  26.47  27.76  26.360  27.7000  1932964     26.47   \n",
       "\n",
       "   adjHigh  adjLow  adjOpen  adjVolume  divCash  splitFactor  \n",
       "0     0.15   0.150   0.1500          0      0.0          1.0  \n",
       "0    25.32  25.239  25.2975      14716      0.0          1.0  \n",
       "0    48.56  47.380  48.3400    7263517      0.0          1.0  \n",
       "0    13.87  13.510  13.5900     387216      0.0          1.0  \n",
       "0    27.76  26.360  27.7000    1932964      0.0          1.0  "
      ]
     },
     "execution_count": 16,
     "metadata": {},
     "output_type": "execute_result"
    }
   ],
   "source": [
    "df"
   ]
  },
  {
   "cell_type": "code",
   "execution_count": null,
   "metadata": {},
   "outputs": [],
   "source": []
  }
 ],
 "metadata": {
  "kernelspec": {
   "display_name": ".venv",
   "language": "python",
   "name": "python3"
  },
  "language_info": {
   "codemirror_mode": {
    "name": "ipython",
    "version": 3
   },
   "file_extension": ".py",
   "mimetype": "text/x-python",
   "name": "python",
   "nbconvert_exporter": "python",
   "pygments_lexer": "ipython3",
   "version": "3.10.14"
  }
 },
 "nbformat": 4,
 "nbformat_minor": 2
}
